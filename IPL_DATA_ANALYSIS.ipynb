{
 "cells": [
  {
   "cell_type": "code",
   "execution_count": 0,
   "metadata": {
    "application/vnd.databricks.v1+cell": {
     "cellMetadata": {
      "byteLimit": 2048000,
      "rowLimit": 10000
     },
     "inputWidgets": {},
     "nuid": "3ae5fc6d-31db-4652-9dff-6861f7ff98ce",
     "showTitle": false,
     "title": ""
    }
   },
   "outputs": [],
   "source": [
    "from pyspark.sql.types import StructField, StructType, IntegerType, StringType, BooleanType, DateType, DecimalType\n",
    "from pyspark.sql.functions import col, when, sum, avg, row_number \n",
    "from pyspark.sql.window import Window"
   ]
  },
  {
   "cell_type": "code",
   "execution_count": 0,
   "metadata": {
    "application/vnd.databricks.v1+cell": {
     "cellMetadata": {
      "byteLimit": 2048000,
      "rowLimit": 10000
     },
     "inputWidgets": {},
     "nuid": "6174f710-ef15-444a-9af0-36ec05d73c89",
     "showTitle": false,
     "title": ""
    }
   },
   "outputs": [],
   "source": [
    "from pyspark.sql import SparkSession \n",
    "\n",
    "#create session\n",
    "spark = SparkSession.builder.appName(\"IPL Data Analysis\").getOrCreate()"
   ]
  },
  {
   "cell_type": "code",
   "execution_count": 0,
   "metadata": {
    "application/vnd.databricks.v1+cell": {
     "cellMetadata": {
      "byteLimit": 2048000,
      "rowLimit": 10000
     },
     "inputWidgets": {},
     "nuid": "1f7444d0-d008-4446-9714-fc47659d7974",
     "showTitle": false,
     "title": ""
    }
   },
   "outputs": [],
   "source": [
    "ball_by_ball_schema = StructType([\n",
    "    StructField(\"match_id\", IntegerType(), True),\n",
    "    StructField(\"over_id\", IntegerType(), True),\n",
    "    StructField(\"ball_id\", IntegerType(), True),\n",
    "    StructField(\"innings_no\", IntegerType(), True),\n",
    "    StructField(\"team_batting\", StringType(), True),\n",
    "    StructField(\"team_bowling\", StringType(), True),\n",
    "    StructField(\"striker_batting_position\", IntegerType(), True),\n",
    "    StructField(\"extra_type\", StringType(), True),\n",
    "    StructField(\"runs_scored\", IntegerType(), True),\n",
    "    StructField(\"extra_runs\", IntegerType(), True),\n",
    "    StructField(\"wides\", IntegerType(), True),\n",
    "    StructField(\"legbyes\", IntegerType(), True),\n",
    "    StructField(\"byes\", IntegerType(), True),\n",
    "    StructField(\"noballs\", IntegerType(), True),\n",
    "    StructField(\"penalty\", IntegerType(), True),\n",
    "    StructField(\"bowler_extras\", IntegerType(), True),\n",
    "    StructField(\"out_type\", StringType(), True),\n",
    "    StructField(\"caught\", BooleanType(), True),\n",
    "    StructField(\"bowled\", BooleanType(), True),\n",
    "    StructField(\"run_out\", BooleanType(), True),\n",
    "    StructField(\"lbw\", BooleanType(), True),\n",
    "    StructField(\"retired_hurt\", BooleanType(), True),\n",
    "    StructField(\"stumped\", BooleanType(), True),\n",
    "    StructField(\"caught_and_bowled\", BooleanType(), True),\n",
    "    StructField(\"hit_wicket\", BooleanType(), True),\n",
    "    StructField(\"obstructingfeild\", BooleanType(), True),\n",
    "    StructField(\"bowler_wicket\", BooleanType(), True),\n",
    "    StructField(\"match_date\", DateType(), True),\n",
    "    StructField(\"season\", IntegerType(), True),\n",
    "    StructField(\"striker\", IntegerType(), True),\n",
    "    StructField(\"non_striker\", IntegerType(), True),\n",
    "    StructField(\"bowler\", IntegerType(), True),\n",
    "    StructField(\"player_out\", IntegerType(), True),\n",
    "    StructField(\"fielders\", IntegerType(), True),\n",
    "    StructField(\"striker_match_sk\", IntegerType(), True),\n",
    "    StructField(\"strikersk\", IntegerType(), True),\n",
    "    StructField(\"nonstriker_match_sk\", IntegerType(), True),\n",
    "    StructField(\"nonstriker_sk\", IntegerType(), True),\n",
    "    StructField(\"fielder_match_sk\", IntegerType(), True),\n",
    "    StructField(\"fielder_sk\", IntegerType(), True),\n",
    "    StructField(\"bowler_match_sk\", IntegerType(), True),\n",
    "    StructField(\"bowler_sk\", IntegerType(), True),\n",
    "    StructField(\"playerout_match_sk\", IntegerType(), True),\n",
    "    StructField(\"battingteam_sk\", IntegerType(), True),\n",
    "    StructField(\"bowlingteam_sk\", IntegerType(), True),\n",
    "    StructField(\"keeper_catch\", BooleanType(), True),\n",
    "    StructField(\"player_out_sk\", IntegerType(), True),\n",
    "    StructField(\"matchdatesk\", DateType(), True)\n",
    "])"
   ]
  },
  {
   "cell_type": "code",
   "execution_count": 0,
   "metadata": {
    "application/vnd.databricks.v1+cell": {
     "cellMetadata": {
      "byteLimit": 2048000,
      "rowLimit": 10000
     },
     "inputWidgets": {},
     "nuid": "0a5574d7-d03b-48ef-aadd-971671cbf1d9",
     "showTitle": false,
     "title": ""
    }
   },
   "outputs": [],
   "source": [
    "ball_by_ball_df = spark.read.schema(ball_by_ball_schema).format(\"csv\").option(\"header\",\"true\").load(\"s3://ipl-data-analysis-project/Ball_By_Ball.csv\")\n",
    "     "
   ]
  },
  {
   "cell_type": "code",
   "execution_count": 0,
   "metadata": {
    "application/vnd.databricks.v1+cell": {
     "cellMetadata": {
      "byteLimit": 2048000,
      "rowLimit": 10000
     },
     "inputWidgets": {},
     "nuid": "820e6ca4-600a-4840-9a4b-79e2acdba604",
     "showTitle": false,
     "title": ""
    }
   },
   "outputs": [],
   "source": [
    "match_schema = StructType([\n",
    "    StructField(\"match_sk\", IntegerType(), True),\n",
    "    StructField(\"match_id\", IntegerType(), True),\n",
    "    StructField(\"team1\", StringType(), True),\n",
    "    StructField(\"team2\", StringType(), True),\n",
    "    StructField(\"match_date\", DateType(), True),\n",
    "    StructField(\"season_year\", IntegerType(), True),\n",
    "    StructField(\"venue_name\", StringType(), True),\n",
    "    StructField(\"city_name\", StringType(), True),\n",
    "    StructField(\"country_name\", StringType(), True),\n",
    "    StructField(\"toss_winner\", StringType(), True),\n",
    "    StructField(\"match_winner\", StringType(), True),\n",
    "    StructField(\"toss_name\", StringType(), True),\n",
    "    StructField(\"win_type\", StringType(), True),\n",
    "    StructField(\"outcome_type\", StringType(), True),\n",
    "    StructField(\"manofmach\", StringType(), True),\n",
    "    StructField(\"win_margin\", IntegerType(), True),\n",
    "    StructField(\"country_id\", IntegerType(), True)\n",
    "])\n",
    "match_df = spark.read.schema(match_schema).format(\"csv\").option(\"header\",\"true\").load(\"s3://ipl-data-analysis-project/Match.csv\")"
   ]
  },
  {
   "cell_type": "code",
   "execution_count": 0,
   "metadata": {
    "application/vnd.databricks.v1+cell": {
     "cellMetadata": {
      "byteLimit": 2048000,
      "rowLimit": 10000
     },
     "inputWidgets": {},
     "nuid": "277d31f8-3acb-45e7-9f22-e4ea2e9080ee",
     "showTitle": false,
     "title": ""
    }
   },
   "outputs": [],
   "source": [
    "player_schema = StructType([\n",
    "    StructField(\"player_sk\", IntegerType(), True),\n",
    "    StructField(\"player_id\", IntegerType(), True),\n",
    "    StructField(\"player_name\", StringType(), True),\n",
    "    StructField(\"dob\", DateType(), True),\n",
    "    StructField(\"batting_hand\", StringType(), True),\n",
    "    StructField(\"bowling_skill\", StringType(), True),\n",
    "    StructField(\"country_name\", StringType(), True)\n",
    "])\n",
    "\n",
    "player_df = spark.read.schema(player_schema).format(\"csv\").option(\"header\",\"true\").load(\"s3://ipl-data-analysis-project/Player.csv\")\n"
   ]
  },
  {
   "cell_type": "code",
   "execution_count": 0,
   "metadata": {
    "application/vnd.databricks.v1+cell": {
     "cellMetadata": {
      "byteLimit": 2048000,
      "rowLimit": 10000
     },
     "inputWidgets": {},
     "nuid": "96dee520-315a-460d-8cc5-ab513eecc2e7",
     "showTitle": false,
     "title": ""
    }
   },
   "outputs": [],
   "source": [
    "player_match_schema = StructType([\n",
    "    StructField(\"player_match_sk\", IntegerType(), True),\n",
    "    StructField(\"playermatch_key\", DecimalType(), True),\n",
    "    StructField(\"match_id\", IntegerType(), True),\n",
    "    StructField(\"player_id\", IntegerType(), True),\n",
    "    StructField(\"player_name\", StringType(), True),\n",
    "    StructField(\"dob\", DateType(), True),\n",
    "    StructField(\"batting_hand\", StringType(), True),\n",
    "    StructField(\"bowling_skill\", StringType(), True),\n",
    "    StructField(\"country_name\", StringType(), True),\n",
    "    StructField(\"role_desc\", StringType(), True),\n",
    "    StructField(\"player_team\", StringType(), True),\n",
    "    StructField(\"opposit_team\", StringType(), True),\n",
    "    StructField(\"season_year\", IntegerType(), True),\n",
    "    StructField(\"is_manofthematch\", BooleanType(), True),\n",
    "    StructField(\"age_as_on_match\", IntegerType(), True),\n",
    "    StructField(\"isplayers_team_won\", BooleanType(), True),\n",
    "    StructField(\"batting_status\", StringType(), True),\n",
    "    StructField(\"bowling_status\", StringType(), True),\n",
    "    StructField(\"player_captain\", StringType(), True),\n",
    "    StructField(\"opposit_captain\", StringType(), True),\n",
    "    StructField(\"player_keeper\", StringType(), True),\n",
    "    StructField(\"opposit_keeper\", StringType(), True)\n",
    "])\n",
    "\n",
    "player_match_df = spark.read.schema(player_match_schema).format(\"csv\").option(\"header\",\"true\").load(\"s3://ipl-data-analysis-project/Player_match.csv\")\n",
    "\n",
    "     "
   ]
  },
  {
   "cell_type": "code",
   "execution_count": 0,
   "metadata": {
    "application/vnd.databricks.v1+cell": {
     "cellMetadata": {
      "byteLimit": 2048000,
      "rowLimit": 10000
     },
     "inputWidgets": {},
     "nuid": "9b901bae-cd54-4d20-a8e3-257319792005",
     "showTitle": false,
     "title": ""
    }
   },
   "outputs": [],
   "source": [
    "team_schema = StructType([\n",
    "    StructField(\"team_sk\", IntegerType(), True),\n",
    "    StructField(\"team_id\", IntegerType(), True),\n",
    "    StructField(\"team_name\", StringType(), True)\n",
    "])\n",
    "\n",
    "team_df = spark.read.schema(team_schema).format(\"csv\").option(\"header\",\"true\").load(\"s3://ipl-data-analysis-project/Team.csv\")"
   ]
  },
  {
   "cell_type": "code",
   "execution_count": 0,
   "metadata": {
    "application/vnd.databricks.v1+cell": {
     "cellMetadata": {
      "byteLimit": 2048000,
      "rowLimit": 10000
     },
     "inputWidgets": {},
     "nuid": "5cdc866a-1523-4ff9-834c-a0c01b496d91",
     "showTitle": false,
     "title": ""
    }
   },
   "outputs": [
    {
     "output_type": "stream",
     "name": "stdout",
     "output_type": "stream",
     "text": [
      "+--------+-------+-------+----------+------------+------------+------------------------+----------+-----------+----------+-----+-------+----+-------+-------+-------------+--------------+------+------+-------+----+------------+-------+-----------------+----------+----------------+-------------+----------+------+-------+-----------+------+----------+--------+----------------+---------+-------------------+-------------+----------------+----------+---------------+---------+------------------+--------------+--------------+------------+-------------+-----------+\n|match_id|over_id|ball_id|innings_no|team_batting|team_bowling|striker_batting_position|extra_type|runs_scored|extra_runs|wides|legbyes|byes|noballs|penalty|bowler_extras|      out_type|caught|bowled|run_out| lbw|retired_hurt|stumped|caught_and_bowled|hit_wicket|obstructingfeild|bowler_wicket|match_date|season|striker|non_striker|bowler|player_out|fielders|striker_match_sk|strikersk|nonstriker_match_sk|nonstriker_sk|fielder_match_sk|fielder_sk|bowler_match_sk|bowler_sk|playerout_match_sk|battingteam_sk|bowlingteam_sk|keeper_catch|player_out_sk|matchdatesk|\n+--------+-------+-------+----------+------------+------------+------------------------+----------+-----------+----------+-----+-------+----+-------+-------+-------------+--------------+------+------+-------+----+------------+-------+-----------------+----------+----------------+-------------+----------+------+-------+-----------+------+----------+--------+----------------+---------+-------------------+-------------+----------------+----------+---------------+---------+------------------+--------------+--------------+------------+-------------+-----------+\n|  598028|     15|      6|         1|           5|           2|                       6| No Extras|          4|         0|    0|      0|   0|      0|      0|            0|Not Applicable|  null|  null|   null|null|        null|   null|             null|      null|            null|         null|      null|  2013|    277|        104|    83|      null|    null|           20336|      276|              20333|          103|              -1|        -1|          20343|       82|                -1|             4|             1|        null|            0|       null|\n|  598028|     14|      1|         1|           5|           2|                       5| No Extras|          1|         0|    0|      0|   0|      0|      0|            0|Not Applicable|  null|  null|   null|null|        null|   null|             null|      null|            null|         null|      null|  2013|    104|          6|   346|      null|    null|           20333|      103|              20328|            5|              -1|        -1|          20348|      345|                -1|             4|             1|        null|            0|       null|\n|  598028|     14|      2|         1|           5|           2|                       3| No Extras|          1|         0|    0|      0|   0|      0|      0|            0|Not Applicable|  null|  null|   null|null|        null|   null|             null|      null|            null|         null|      null|  2013|      6|        104|   346|      null|    null|           20328|        5|              20333|          103|              -1|        -1|          20348|      345|                -1|             4|             1|        null|            0|       null|\n|  598028|     14|      3|         1|           5|           2|                       5| No Extras|          1|         0|    0|      0|   0|      0|      0|            0|Not Applicable|  null|  null|   null|null|        null|   null|             null|      null|            null|         null|      null|  2013|    104|          6|   346|      null|    null|           20333|      103|              20328|            5|              -1|        -1|          20348|      345|                -1|             4|             1|        null|            0|       null|\n|  598028|     14|      4|         1|           5|           2|                       3| No Extras|          0|         0|    0|      0|   0|      0|      0|            0|Not Applicable|  null|  null|   null|null|        null|   null|             null|      null|            null|         null|      null|  2013|      6|        104|   346|      null|    null|           20328|        5|              20333|          103|              -1|        -1|          20348|      345|                -1|             4|             1|        null|            0|       null|\n+--------+-------+-------+----------+------------+------------+------------------------+----------+-----------+----------+-----+-------+----+-------+-------+-------------+--------------+------+------+-------+----+------------+-------+-----------------+----------+----------------+-------------+----------+------+-------+-----------+------+----------+--------+----------------+---------+-------------------+-------------+----------------+----------+---------------+---------+------------------+--------------+--------------+------------+-------------+-----------+\nonly showing top 5 rows\n\n"
     ]
    }
   ],
   "source": [
    "ball_by_ball_df.show(5)"
   ]
  },
  {
   "cell_type": "code",
   "execution_count": 0,
   "metadata": {
    "application/vnd.databricks.v1+cell": {
     "cellMetadata": {
      "byteLimit": 2048000,
      "rowLimit": 10000
     },
     "inputWidgets": {},
     "nuid": "e50df2cc-cfe1-480f-8423-ae8525001fff",
     "showTitle": false,
     "title": ""
    }
   },
   "outputs": [
    {
     "output_type": "stream",
     "name": "stdout",
     "output_type": "stream",
     "text": [
      "+--------+--------+--------------------+--------------------+----------+-----------+--------------------+----------+------------+--------------------+--------------------+---------+--------+------------+-----------+----------+----------+\n|match_sk|match_id|               team1|               team2|match_date|season_year|          venue_name| city_name|country_name|         toss_winner|        match_winner|toss_name|win_type|outcome_type|  manofmach|win_margin|country_id|\n+--------+--------+--------------------+--------------------+----------+-----------+--------------------+----------+------------+--------------------+--------------------+---------+--------+------------+-----------+----------+----------+\n|       0|  335987|Royal Challengers...|Kolkata Knight Ri...|      null|       2008|M Chinnaswamy Sta...| Bangalore|       India|Royal Challengers...|Kolkata Knight Ri...|    field|    runs|      Result|BB McCullum|       140|         1|\n|       1|  335988|     Kings XI Punjab| Chennai Super Kings|      null|       2008|Punjab Cricket As...|Chandigarh|       India| Chennai Super Kings| Chennai Super Kings|      bat|    runs|      Result| MEK Hussey|        33|         1|\n|       2|  335989|    Delhi Daredevils|    Rajasthan Royals|      null|       2008|    Feroz Shah Kotla|     Delhi|       India|    Rajasthan Royals|    Delhi Daredevils|      bat| wickets|      Result|MF Maharoof|         9|         1|\n|       3|  335990|      Mumbai Indians|Royal Challengers...|      null|       2008|    Wankhede Stadium|    Mumbai|       India|      Mumbai Indians|Royal Challengers...|      bat| wickets|      Result| MV Boucher|         5|         1|\n|       4|  335991|Kolkata Knight Ri...|     Deccan Chargers|      null|       2008|        Eden Gardens|   Kolkata|       India|     Deccan Chargers|Kolkata Knight Ri...|      bat| wickets|      Result|  DJ Hussey|         5|         1|\n+--------+--------+--------------------+--------------------+----------+-----------+--------------------+----------+------------+--------------------+--------------------+---------+--------+------------+-----------+----------+----------+\nonly showing top 5 rows\n\n"
     ]
    }
   ],
   "source": [
    "match_df.show(5)"
   ]
  },
  {
   "cell_type": "code",
   "execution_count": 0,
   "metadata": {
    "application/vnd.databricks.v1+cell": {
     "cellMetadata": {
      "byteLimit": 2048000,
      "rowLimit": 10000
     },
     "inputWidgets": {},
     "nuid": "54a7b4e7-2809-48c9-9b3f-6345de7508a6",
     "showTitle": false,
     "title": ""
    }
   },
   "outputs": [
    {
     "output_type": "stream",
     "name": "stdout",
     "output_type": "stream",
     "text": [
      "+---------+---------+---------------+----+--------------+------------------+------------+\n|player_sk|player_id|    player_name| dob|  batting_hand|     bowling_skill|country_name|\n+---------+---------+---------------+----+--------------+------------------+------------+\n|        0|        1|     SC Ganguly|null| Left-hand bat|  Right-arm medium|       India|\n|        1|        2|    BB McCullum|null|Right-hand bat|  Right-arm medium| New Zealand|\n|        2|        3|     RT Ponting|null|Right-hand bat|  Right-arm medium|   Australia|\n|        3|        4|      DJ Hussey|null|Right-hand bat|Right-arm offbreak|   Australia|\n|        4|        5|Mohammad Hafeez|null|Right-hand bat|Right-arm offbreak|    Pakistan|\n+---------+---------+---------------+----+--------------+------------------+------------+\nonly showing top 5 rows\n\n"
     ]
    }
   ],
   "source": [
    "player_df.show(5)"
   ]
  },
  {
   "cell_type": "code",
   "execution_count": 0,
   "metadata": {
    "application/vnd.databricks.v1+cell": {
     "cellMetadata": {
      "byteLimit": 2048000,
      "rowLimit": 10000
     },
     "inputWidgets": {},
     "nuid": "9ef665ad-679e-4da7-8260-83ca59631a77",
     "showTitle": false,
     "title": ""
    }
   },
   "outputs": [
    {
     "output_type": "stream",
     "name": "stdout",
     "output_type": "stream",
     "text": [
      "+---------------+---------------+--------+---------+-----------+----+--------------+--------------------+------------+---------+--------------------+--------------------+-----------+----------------+---------------+------------------+--------------+--------------+--------------+---------------+-------------+--------------+\n|player_match_sk|playermatch_key|match_id|player_id|player_name| dob|  batting_hand|       bowling_skill|country_name|role_desc|         player_team|        opposit_team|season_year|is_manofthematch|age_as_on_match|isplayers_team_won|batting_status|bowling_status|player_captain|opposit_captain|player_keeper|opposit_keeper|\n+---------------+---------------+--------+---------+-----------+----+--------------+--------------------+------------+---------+--------------------+--------------------+-----------+----------------+---------------+------------------+--------------+--------------+--------------+---------------+-------------+--------------+\n|             -1|             -1|      -1|       -1|        N/A|null|          null|                null|        null|     null|                null|                null|       null|            null|           null|              null|          null|          null|          null|           null|         null|          null|\n|          12694|           null|  335987|        6|   R Dravid|null|Right-hand bat|  Right-arm offbreak|       India|  Captain|Royal Challengers...|Kolkata Knight Ri...|       2008|            null|             35|              null|          null|          null|      R Dravid|     SC Ganguly|   MV Boucher|       WP Saha|\n|          12695|           null|  335987|        7|   W Jaffer|null|Right-hand bat|  Right-arm offbreak|       India|   Player|Royal Challengers...|Kolkata Knight Ri...|       2008|            null|             30|              null|          null|          null|      R Dravid|     SC Ganguly|   MV Boucher|       WP Saha|\n|          12696|           null|  335987|        8|    V Kohli|null|Right-hand bat|    Right-arm medium|       India|   Player|Royal Challengers...|Kolkata Knight Ri...|       2008|            null|             20|              null|          null|          null|      R Dravid|     SC Ganguly|   MV Boucher|       WP Saha|\n|          12697|           null|  335987|        9|  JH Kallis|null|Right-hand bat|Right-arm fast-me...|South Africa|   Player|Royal Challengers...|Kolkata Knight Ri...|       2008|            null|             33|              null|          null|          null|      R Dravid|     SC Ganguly|   MV Boucher|       WP Saha|\n+---------------+---------------+--------+---------+-----------+----+--------------+--------------------+------------+---------+--------------------+--------------------+-----------+----------------+---------------+------------------+--------------+--------------+--------------+---------------+-------------+--------------+\nonly showing top 5 rows\n\n"
     ]
    }
   ],
   "source": [
    "player_match_df.show(5)"
   ]
  },
  {
   "cell_type": "code",
   "execution_count": 0,
   "metadata": {
    "application/vnd.databricks.v1+cell": {
     "cellMetadata": {
      "byteLimit": 2048000,
      "rowLimit": 10000
     },
     "inputWidgets": {},
     "nuid": "2932c464-37f4-414e-a438-c0534d00d461",
     "showTitle": false,
     "title": ""
    }
   },
   "outputs": [],
   "source": [
    "# Filter to include only valid deliveries (excluding extras like wides and no balls for specific analyses)\n",
    "ball_by_ball_df = ball_by_ball_df.filter((col(\"wides\") == 0) & (col(\"noballs\")==0))\n",
    "\n",
    "# Aggregation: Calculate the total and average runs scored in each match and inning\n",
    "total_and_avg_runs = ball_by_ball_df.groupBy(\"match_id\", \"innings_no\").agg(\n",
    "    sum(\"runs_scored\").alias(\"total_runs\"),\n",
    "    avg(\"runs_scored\").alias(\"average_runs\")\n",
    ")"
   ]
  },
  {
   "cell_type": "code",
   "execution_count": 0,
   "metadata": {
    "application/vnd.databricks.v1+cell": {
     "cellMetadata": {
      "byteLimit": 2048000,
      "rowLimit": 10000
     },
     "inputWidgets": {},
     "nuid": "63c052bc-2203-4b29-9447-31a088bbc4d3",
     "showTitle": false,
     "title": ""
    }
   },
   "outputs": [
    {
     "output_type": "stream",
     "name": "stdout",
     "output_type": "stream",
     "text": [
      "+--------+-------+-------+----------+------------+------------+------------------------+----------+-----------+----------+-----+-------+----+-------+-------+-------------+--------------+------+------+-------+----+------------+-------+-----------------+----------+----------------+-------------+----------+------+-------+-----------+------+----------+--------+----------------+---------+-------------------+-------------+----------------+----------+---------------+---------+------------------+--------------+--------------+------------+-------------+-----------+------------------+\n|match_id|over_id|ball_id|innings_no|team_batting|team_bowling|striker_batting_position|extra_type|runs_scored|extra_runs|wides|legbyes|byes|noballs|penalty|bowler_extras|      out_type|caught|bowled|run_out| lbw|retired_hurt|stumped|caught_and_bowled|hit_wicket|obstructingfeild|bowler_wicket|match_date|season|striker|non_striker|bowler|player_out|fielders|striker_match_sk|strikersk|nonstriker_match_sk|nonstriker_sk|fielder_match_sk|fielder_sk|bowler_match_sk|bowler_sk|playerout_match_sk|battingteam_sk|bowlingteam_sk|keeper_catch|player_out_sk|matchdatesk|running_total_runs|\n+--------+-------+-------+----------+------------+------------+------------------------+----------+-----------+----------+-----+-------+----+-------+-------+-------------+--------------+------+------+-------+----+------------+-------+-----------------+----------+----------------+-------------+----------+------+-------+-----------+------+----------+--------+----------------+---------+-------------------+-------------+----------------+----------+---------------+---------+------------------+--------------+--------------+------------+-------------+-----------+------------------+\n|  335987|      1|      1|         1|           1|           2|                       1|   legbyes|          0|         1|    0|      1|   0|      0|      0|            0|Not Applicable|  null|  null|   null|null|        null|   null|             null|      null|            null|         null|      null|  2008|      1|          2|    14|      null|    null|           12705|        0|              12706|            1|              -1|        -1|          12702|       13|                -1|             0|             1|        null|            0|       null|                 0|\n|  335987|      1|      2|         1|           1|           2|                       2| No Extras|          0|         0|    0|      0|   0|      0|      0|            0|Not Applicable|  null|  null|   null|null|        null|   null|             null|      null|            null|         null|      null|  2008|      2|          1|    14|      null|    null|           12706|        1|              12705|            0|              -1|        -1|          12702|       13|                -1|             0|             1|        null|            0|       null|                 0|\n|  335987|      1|      4|         1|           1|           2|                       2| No Extras|          0|         0|    0|      0|   0|      0|      0|            0|Not Applicable|  null|  null|   null|null|        null|   null|             null|      null|            null|         null|      null|  2008|      2|          1|    14|      null|    null|           12706|        1|              12705|            0|              -1|        -1|          12702|       13|                -1|             0|             1|        null|            0|       null|                 0|\n|  335987|      1|      5|         1|           1|           2|                       2| No Extras|          0|         0|    0|      0|   0|      0|      0|            0|Not Applicable|  null|  null|   null|null|        null|   null|             null|      null|            null|         null|      null|  2008|      2|          1|    14|      null|    null|           12706|        1|              12705|            0|              -1|        -1|          12702|       13|                -1|             0|             1|        null|            0|       null|                 0|\n|  335987|      1|      6|         1|           1|           2|                       2| No Extras|          0|         0|    0|      0|   0|      0|      0|            0|Not Applicable|  null|  null|   null|null|        null|   null|             null|      null|            null|         null|      null|  2008|      2|          1|    14|      null|    null|           12706|        1|              12705|            0|              -1|        -1|          12702|       13|                -1|             0|             1|        null|            0|       null|                 0|\n+--------+-------+-------+----------+------------+------------+------------------------+----------+-----------+----------+-----+-------+----+-------+-------+-------------+--------------+------+------+-------+----+------------+-------+-----------------+----------+----------------+-------------+----------+------+-------+-----------+------+----------+--------+----------------+---------+-------------------+-------------+----------------+----------+---------------+---------+------------------+--------------+--------------+------------+-------------+-----------+------------------+\nonly showing top 5 rows\n\n"
     ]
    }
   ],
   "source": [
    "# Window Function: Calculate running total of runs in each match for each over\n",
    "windowSpec = Window.partitionBy(\"match_id\",\"innings_no\").orderBy(\"over_id\")\n",
    "\n",
    "ball_by_ball_df = ball_by_ball_df.withColumn(\n",
    "    \"running_total_runs\",\n",
    "    sum(\"runs_scored\").over(windowSpec)\n",
    ")\n",
    "ball_by_ball_df.show(5)"
   ]
  },
  {
   "cell_type": "code",
   "execution_count": 0,
   "metadata": {
    "application/vnd.databricks.v1+cell": {
     "cellMetadata": {
      "byteLimit": 2048000,
      "rowLimit": 10000
     },
     "inputWidgets": {},
     "nuid": "29b981f3-0d9c-4d84-a744-d99e2d912ad9",
     "showTitle": false,
     "title": ""
    }
   },
   "outputs": [],
   "source": [
    "# Conditional Column: Flag for high impact balls (either a wicket or more than 6 runs including extras)\n",
    "ball_by_ball_df = ball_by_ball_df.withColumn(\n",
    "    \"high_impact\",\n",
    "    when((col(\"runs_scored\") + col(\"extra_runs\") > 6) | (col(\"bowler_wicket\") == True), True).otherwise(False)\n",
    ")"
   ]
  },
  {
   "cell_type": "code",
   "execution_count": 0,
   "metadata": {
    "application/vnd.databricks.v1+cell": {
     "cellMetadata": {
      "byteLimit": 2048000,
      "rowLimit": 10000
     },
     "inputWidgets": {},
     "nuid": "00612465-7be5-4a9d-a502-da2c3dc2d321",
     "showTitle": false,
     "title": ""
    }
   },
   "outputs": [
    {
     "output_type": "stream",
     "name": "stdout",
     "output_type": "stream",
     "text": [
      "+--------+--------+--------------------+--------------------+----------+-----------+--------------------+----------+------------+--------------------+--------------------+---------+--------+------------+-----------+----------+----------+----+-----+----+-------------------+-----------------+\n|match_sk|match_id|               team1|               team2|match_date|season_year|          venue_name| city_name|country_name|         toss_winner|        match_winner|toss_name|win_type|outcome_type|  manofmach|win_margin|country_id|year|month| day|win_margin_category|toss_match_winner|\n+--------+--------+--------------------+--------------------+----------+-----------+--------------------+----------+------------+--------------------+--------------------+---------+--------+------------+-----------+----------+----------+----+-----+----+-------------------+-----------------+\n|       0|  335987|Royal Challengers...|Kolkata Knight Ri...|      null|       2008|M Chinnaswamy Sta...| Bangalore|       India|Royal Challengers...|Kolkata Knight Ri...|    field|    runs|      Result|BB McCullum|       140|         1|null| null|null|               High|               No|\n|       1|  335988|     Kings XI Punjab| Chennai Super Kings|      null|       2008|Punjab Cricket As...|Chandigarh|       India| Chennai Super Kings| Chennai Super Kings|      bat|    runs|      Result| MEK Hussey|        33|         1|null| null|null|                Low|              Yes|\n+--------+--------+--------------------+--------------------+----------+-----------+--------------------+----------+------------+--------------------+--------------------+---------+--------+------------+-----------+----------+----------+----+-----+----+-------------------+-----------------+\nonly showing top 2 rows\n\n"
     ]
    }
   ],
   "source": [
    "from pyspark.sql.functions import year, month, dayofmonth, when\n",
    "\n",
    "# Extracting year, month, and day from the match date for more detailed time-based analysis\n",
    "match_df = match_df.withColumn(\"year\", year(\"match_date\"))\n",
    "match_df = match_df.withColumn(\"month\", month(\"match_date\"))\n",
    "match_df = match_df.withColumn(\"day\", dayofmonth(\"match_date\"))\n",
    "\n",
    "# High margin win: categorizing win margins into 'high', 'medium', and 'low'\n",
    "match_df = match_df.withColumn(\n",
    "    \"win_margin_category\",\n",
    "    when(col(\"win_margin\") >= 100, \"High\")\n",
    "    .when((col(\"win_margin\") >= 50) & (col(\"win_margin\") < 100), \"Medium\")\n",
    "    .otherwise(\"Low\")\n",
    ")\n",
    "\n",
    "# Analyze the impact of the toss: who wins the toss and the match\n",
    "match_df = match_df.withColumn(\n",
    "    \"toss_match_winner\",\n",
    "    when(col(\"toss_winner\") == col(\"match_winner\"), \"Yes\").otherwise(\"No\")\n",
    ")\n",
    "\n",
    "# Show the enhanced match DataFrame\n",
    "match_df.show(2)"
   ]
  },
  {
   "cell_type": "code",
   "execution_count": 0,
   "metadata": {
    "application/vnd.databricks.v1+cell": {
     "cellMetadata": {
      "byteLimit": 2048000,
      "rowLimit": 10000
     },
     "inputWidgets": {},
     "nuid": "2709d5a7-34af-4db5-a22f-da504d68dbba",
     "showTitle": false,
     "title": ""
    }
   },
   "outputs": [
    {
     "output_type": "stream",
     "name": "stdout",
     "output_type": "stream",
     "text": [
      "+---------+---------+-----------+----+--------------+----------------+------------+-------------+\n|player_sk|player_id|player_name| dob|  batting_hand|   bowling_skill|country_name|batting_style|\n+---------+---------+-----------+----+--------------+----------------+------------+-------------+\n|        0|        1| sc ganguly|null| Left-hand bat|Right-arm medium|       India| Right-Handed|\n|        1|        2|bb mccullum|null|Right-hand bat|Right-arm medium| New Zealand| Right-Handed|\n+---------+---------+-----------+----+--------------+----------------+------------+-------------+\nonly showing top 2 rows\n\n"
     ]
    }
   ],
   "source": [
    "from pyspark.sql.functions import lower, regexp_replace\n",
    "\n",
    "# Normalize and clean player names\n",
    "player_df = player_df.withColumn(\"player_name\", lower(regexp_replace(\"player_name\", \"[^a-zA-Z0-9 ]\", \"\")))\n",
    "\n",
    "# Handle missing values in 'batting_hand' and 'bowling_skill' with a default 'unknown'\n",
    "player_df = player_df.na.fill({\"batting_hand\": \"unknown\", \"bowling_skill\": \"unknown\"})\n",
    "\n",
    "# Categorizing players based on batting hand\n",
    "player_df = player_df.withColumn(\n",
    "    \"batting_style\",\n",
    "    when(col(\"batting_hand\").contains(\"left\"), \"Left-Handed\").otherwise(\"Right-Handed\")\n",
    ")\n",
    "\n",
    "# Show the modified player DataFrame\n",
    "player_df.show(2)"
   ]
  },
  {
   "cell_type": "code",
   "execution_count": 0,
   "metadata": {
    "application/vnd.databricks.v1+cell": {
     "cellMetadata": {
      "byteLimit": 2048000,
      "rowLimit": 10000
     },
     "inputWidgets": {},
     "nuid": "cd7040b6-e151-4ec1-b451-09f925ecc51e",
     "showTitle": false,
     "title": ""
    }
   },
   "outputs": [
    {
     "output_type": "stream",
     "name": "stdout",
     "output_type": "stream",
     "text": [
      "+---------------+---------------+--------+---------+---------------+----+--------------+--------------------+------------+---------+--------------------+--------------------+-----------+----------------+---------------+------------------+--------------+--------------+--------------+---------------+-------------+--------------+--------------+-----------------+\n|player_match_sk|playermatch_key|match_id|player_id|    player_name| dob|  batting_hand|       bowling_skill|country_name|role_desc|         player_team|        opposit_team|season_year|is_manofthematch|age_as_on_match|isplayers_team_won|batting_status|bowling_status|player_captain|opposit_captain|player_keeper|opposit_keeper|veteran_status|years_since_debut|\n+---------------+---------------+--------+---------+---------------+----+--------------+--------------------+------------+---------+--------------------+--------------------+-----------+----------------+---------------+------------------+--------------+--------------+--------------+---------------+-------------+--------------+--------------+-----------------+\n|             -1|             -1|      -1|       -1|            N/A|null|          null|                null|        null|     null|                null|                null|       null|            null|           null|              null|          null|          null|          null|           null|         null|          null|   Non-Veteran|             null|\n|          12694|           null|  335987|        6|       R Dravid|null|Right-hand bat|  Right-arm offbreak|       India|  Captain|Royal Challengers...|Kolkata Knight Ri...|       2008|            null|             35|              null|          null|          null|      R Dravid|     SC Ganguly|   MV Boucher|       WP Saha|       Veteran|               16|\n|          12695|           null|  335987|        7|       W Jaffer|null|Right-hand bat|  Right-arm offbreak|       India|   Player|Royal Challengers...|Kolkata Knight Ri...|       2008|            null|             30|              null|          null|          null|      R Dravid|     SC Ganguly|   MV Boucher|       WP Saha|   Non-Veteran|               16|\n|          12696|           null|  335987|        8|        V Kohli|null|Right-hand bat|    Right-arm medium|       India|   Player|Royal Challengers...|Kolkata Knight Ri...|       2008|            null|             20|              null|          null|          null|      R Dravid|     SC Ganguly|   MV Boucher|       WP Saha|   Non-Veteran|               16|\n|          12697|           null|  335987|        9|      JH Kallis|null|Right-hand bat|Right-arm fast-me...|South Africa|   Player|Royal Challengers...|Kolkata Knight Ri...|       2008|            null|             33|              null|          null|          null|      R Dravid|     SC Ganguly|   MV Boucher|       WP Saha|   Non-Veteran|               16|\n|          12698|           null|  335987|       10|       CL White|null|Right-hand bat|     Legbreak googly|   Australia|   Player|Royal Challengers...|Kolkata Knight Ri...|       2008|            null|             25|              null|          null|          null|      R Dravid|     SC Ganguly|   MV Boucher|       WP Saha|   Non-Veteran|               16|\n|          12699|           null|  335987|       11|     MV Boucher|null|Right-hand bat|    Right-arm medium|South Africa|   Keeper|Royal Challengers...|Kolkata Knight Ri...|       2008|            null|             32|              null|          null|          null|      R Dravid|     SC Ganguly|   MV Boucher|       WP Saha|   Non-Veteran|               16|\n|          12700|           null|  335987|       12|        B Akhil|null|Right-hand bat|Right-arm medium-...|       India|   Player|Royal Challengers...|Kolkata Knight Ri...|       2008|            null|             31|              null|          null|          null|      R Dravid|     SC Ganguly|   MV Boucher|       WP Saha|   Non-Veteran|               16|\n|          12701|           null|  335987|       13|      AA Noffke|null|Right-hand bat|Right-arm fast-me...|   Australia|   Player|Royal Challengers...|Kolkata Knight Ri...|       2008|            null|             31|              null|          null|          null|      R Dravid|     SC Ganguly|   MV Boucher|       WP Saha|   Non-Veteran|               16|\n|          12702|           null|  335987|       14|        P Kumar|null|Right-hand bat|    Right-arm medium|       India|   Player|Royal Challengers...|Kolkata Knight Ri...|       2008|            null|             22|              null|          null|          null|      R Dravid|     SC Ganguly|   MV Boucher|       WP Saha|   Non-Veteran|               16|\n|          12703|           null|  335987|       15|         Z Khan|null|Right-hand bat|Left-arm fast-medium|       India|   Player|Royal Challengers...|Kolkata Knight Ri...|       2008|            null|             30|              null|          null|          null|      R Dravid|     SC Ganguly|   MV Boucher|       WP Saha|   Non-Veteran|               16|\n|          12704|           null|  335987|       16|       SB Joshi|null| Left-hand bat|Slow left-arm ort...|       India|   Player|Royal Challengers...|Kolkata Knight Ri...|       2008|            null|             38|              null|          null|          null|      R Dravid|     SC Ganguly|   MV Boucher|       WP Saha|       Veteran|               16|\n|          12705|           null|  335987|        1|     SC Ganguly|null| Left-hand bat|    Right-arm medium|       India|  Captain|Kolkata Knight Ri...|Royal Challengers...|       2008|            null|             36|              null|          null|          null|    SC Ganguly|       R Dravid|      WP Saha|    MV Boucher|       Veteran|               16|\n|          12706|           null|  335987|        2|    BB McCullum|null|Right-hand bat|    Right-arm medium| New Zealand|   Player|Kolkata Knight Ri...|Royal Challengers...|       2008|            null|             27|              null|          null|          null|    SC Ganguly|       R Dravid|      WP Saha|    MV Boucher|   Non-Veteran|               16|\n|          12707|           null|  335987|        3|     RT Ponting|null|Right-hand bat|    Right-arm medium|   Australia|   Player|Kolkata Knight Ri...|Royal Challengers...|       2008|            null|             34|              null|          null|          null|    SC Ganguly|       R Dravid|      WP Saha|    MV Boucher|   Non-Veteran|               16|\n|          12708|           null|  335987|        4|      DJ Hussey|null|Right-hand bat|  Right-arm offbreak|   Australia|   Player|Kolkata Knight Ri...|Royal Challengers...|       2008|            null|             31|              null|          null|          null|    SC Ganguly|       R Dravid|      WP Saha|    MV Boucher|   Non-Veteran|               16|\n|          12709|           null|  335987|        5|Mohammad Hafeez|null|Right-hand bat|  Right-arm offbreak|    Pakistan|   Player|Kolkata Knight Ri...|Royal Challengers...|       2008|            null|             28|              null|          null|          null|    SC Ganguly|       R Dravid|      WP Saha|    MV Boucher|   Non-Veteran|               16|\n|          12710|           null|  335987|       62|        WP Saha|null|Right-hand bat|                 N/A|       India|   Keeper|Kolkata Knight Ri...|Royal Challengers...|       2008|            null|             24|              null|          null|          null|    SC Ganguly|       R Dravid|      WP Saha|    MV Boucher|   Non-Veteran|               16|\n|          12711|           null|  335987|       63|      LR Shukla|null|Right-hand bat|    Right-arm medium|       India|   Player|Kolkata Knight Ri...|Royal Challengers...|       2008|            null|             27|              null|          null|          null|    SC Ganguly|       R Dravid|      WP Saha|    MV Boucher|   Non-Veteran|               16|\n|          12712|           null|  335987|       82|     AB Agarkar|null|Right-hand bat|      Right-arm fast|       India|   Player|Kolkata Knight Ri...|Royal Challengers...|       2008|            null|             31|              null|          null|          null|    SC Ganguly|       R Dravid|      WP Saha|    MV Boucher|   Non-Veteran|               16|\n+---------------+---------------+--------+---------+---------------+----+--------------+--------------------+------------+---------+--------------------+--------------------+-----------+----------------+---------------+------------------+--------------+--------------+--------------+---------------+-------------+--------------+--------------+-----------------+\nonly showing top 20 rows\n\n"
     ]
    }
   ],
   "source": [
    "from pyspark.sql.functions import col, when, current_date, expr\n",
    "\n",
    "# Add a 'veteran_status' column based on player age\n",
    "player_match_df = player_match_df.withColumn(\n",
    "    \"veteran_status\",\n",
    "    when(col(\"age_as_on_match\") >= 35, \"Veteran\").otherwise(\"Non-Veteran\")\n",
    ")\n",
    "\n",
    "# Dynamic column to calculate years since debut\n",
    "player_match_df = player_match_df.withColumn(\n",
    "    \"years_since_debut\",\n",
    "    (year(current_date()) - col(\"season_year\"))\n",
    ")\n",
    "\n",
    "# Show the enriched DataFrame\n",
    "player_match_df.show()"
   ]
  },
  {
   "cell_type": "code",
   "execution_count": 0,
   "metadata": {
    "application/vnd.databricks.v1+cell": {
     "cellMetadata": {
      "byteLimit": 2048000,
      "implicitDf": true,
      "rowLimit": 10000
     },
     "inputWidgets": {},
     "nuid": "3d24a93e-b334-4382-b184-10c3b104cf12",
     "showTitle": false,
     "title": ""
    }
   },
   "outputs": [
    {
     "output_type": "display_data",
     "data": {
      "text/html": [
       "<style scoped>\n",
       "  .table-result-container {\n",
       "    max-height: 300px;\n",
       "    overflow: auto;\n",
       "  }\n",
       "  table, th, td {\n",
       "    border: 1px solid black;\n",
       "    border-collapse: collapse;\n",
       "  }\n",
       "  th, td {\n",
       "    padding: 5px;\n",
       "  }\n",
       "  th {\n",
       "    text-align: left;\n",
       "  }\n",
       "</style><div class='table-result-container'><table class='table-result'><thead style='background-color: white'><tr></tr></thead><tbody></tbody></table></div>"
      ]
     },
     "metadata": {
      "application/vnd.databricks.v1+output": {
       "addedWidgets": {},
       "aggData": [],
       "aggError": "",
       "aggOverflow": false,
       "aggSchema": [],
       "aggSeriesLimitReached": false,
       "aggType": "",
       "arguments": {},
       "columnCustomDisplayInfos": {},
       "data": [],
       "datasetInfos": [],
       "dbfsResultPath": null,
       "isJsonSchema": true,
       "metadata": {},
       "overflow": false,
       "plotOptions": {
        "customPlotOptions": {},
        "displayType": "table",
        "pivotAggregation": null,
        "pivotColumns": null,
        "xColumns": null,
        "yColumns": null
       },
       "removedWidgets": [],
       "schema": [],
       "type": "table"
      }
     },
     "output_type": "display_data"
    }
   ],
   "source": [
    "%sql\n",
    "CREATE DATABASE IF NOT EXISTS IPL_DATA_Warehouse;"
   ]
  },
  {
   "cell_type": "code",
   "execution_count": 0,
   "metadata": {
    "application/vnd.databricks.v1+cell": {
     "cellMetadata": {
      "byteLimit": 2048000,
      "implicitDf": true,
      "rowLimit": 10000
     },
     "inputWidgets": {},
     "nuid": "871b252e-bc8d-44cb-a2db-e2dd578574ce",
     "showTitle": false,
     "title": ""
    }
   },
   "outputs": [
    {
     "output_type": "display_data",
     "data": {
      "text/html": [
       "<style scoped>\n",
       "  .table-result-container {\n",
       "    max-height: 300px;\n",
       "    overflow: auto;\n",
       "  }\n",
       "  table, th, td {\n",
       "    border: 1px solid black;\n",
       "    border-collapse: collapse;\n",
       "  }\n",
       "  th, td {\n",
       "    padding: 5px;\n",
       "  }\n",
       "  th {\n",
       "    text-align: left;\n",
       "  }\n",
       "</style><div class='table-result-container'><table class='table-result'><thead style='background-color: white'><tr><th>databaseName</th></tr></thead><tbody><tr><td>default</td></tr><tr><td>ipl_data_warehouse</td></tr></tbody></table></div>"
      ]
     },
     "metadata": {
      "application/vnd.databricks.v1+output": {
       "addedWidgets": {},
       "aggData": [],
       "aggError": "",
       "aggOverflow": false,
       "aggSchema": [],
       "aggSeriesLimitReached": false,
       "aggType": "",
       "arguments": {},
       "columnCustomDisplayInfos": {},
       "data": [
        [
         "default"
        ],
        [
         "ipl_data_warehouse"
        ]
       ],
       "datasetInfos": [],
       "dbfsResultPath": null,
       "isJsonSchema": true,
       "metadata": {},
       "overflow": false,
       "plotOptions": {
        "customPlotOptions": {},
        "displayType": "table",
        "pivotAggregation": null,
        "pivotColumns": null,
        "xColumns": null,
        "yColumns": null
       },
       "removedWidgets": [],
       "schema": [
        {
         "metadata": "{}",
         "name": "databaseName",
         "type": "\"string\""
        }
       ],
       "type": "table"
      }
     },
     "output_type": "display_data"
    }
   ],
   "source": [
    "%sql\n",
    "SHOW DATABASES;"
   ]
  },
  {
   "cell_type": "code",
   "execution_count": 0,
   "metadata": {
    "application/vnd.databricks.v1+cell": {
     "cellMetadata": {
      "byteLimit": 2048000,
      "rowLimit": 10000
     },
     "inputWidgets": {},
     "nuid": "f39acc30-9953-4639-a8fe-686d5d0ac0b9",
     "showTitle": false,
     "title": ""
    }
   },
   "outputs": [],
   "source": [
    "# Save the DataFrame as a table\n",
    "database_name = \"IPL_DATA_Warehouse\"\n",
    "\n",
    "# Write each DataFrame to a table in the database\n",
    "ball_by_ball_df.write.mode(\"overwrite\").saveAsTable(f\"{database_name}.ball_by_ball\")\n",
    "match_df.write.mode(\"overwrite\").saveAsTable(f\"{database_name}.match\")\n",
    "player_df.write.mode(\"overwrite\").saveAsTable(f\"{database_name}.player\")\n",
    "player_match_df.write.mode(\"overwrite\").saveAsTable(f\"{database_name}.player_match\")\n",
    "team_df.write.mode(\"overwrite\").saveAsTable(f\"{database_name}.team\")"
   ]
  },
  {
   "cell_type": "code",
   "execution_count": 0,
   "metadata": {
    "application/vnd.databricks.v1+cell": {
     "cellMetadata": {
      "byteLimit": 2048000,
      "implicitDf": true,
      "rowLimit": 10000
     },
     "inputWidgets": {},
     "nuid": "1fc6fe44-2415-4ef4-a92f-f19aa797e92a",
     "showTitle": false,
     "title": ""
    }
   },
   "outputs": [
    {
     "output_type": "display_data",
     "data": {
      "text/html": [
       "<style scoped>\n",
       "  .table-result-container {\n",
       "    max-height: 300px;\n",
       "    overflow: auto;\n",
       "  }\n",
       "  table, th, td {\n",
       "    border: 1px solid black;\n",
       "    border-collapse: collapse;\n",
       "  }\n",
       "  th, td {\n",
       "    padding: 5px;\n",
       "  }\n",
       "  th {\n",
       "    text-align: left;\n",
       "  }\n",
       "</style><div class='table-result-container'><table class='table-result'><thead style='background-color: white'><tr><th>player_name</th><th>season_year</th><th>total_runs</th></tr></thead><tbody><tr><td>se marsh</td><td>2008</td><td>614</td></tr><tr><td>g gambhir</td><td>2008</td><td>532</td></tr><tr><td>st jayasuriya</td><td>2008</td><td>508</td></tr><tr><td>sr watson</td><td>2008</td><td>463</td></tr><tr><td>gc smith</td><td>2008</td><td>437</td></tr><tr><td>ac gilchrist</td><td>2008</td><td>431</td></tr><tr><td>yk pathan</td><td>2008</td><td>430</td></tr><tr><td>sk raina</td><td>2008</td><td>420</td></tr><tr><td>ms dhoni</td><td>2008</td><td>414</td></tr><tr><td>rg sharma</td><td>2008</td><td>399</td></tr><tr><td>v sehwag</td><td>2008</td><td>399</td></tr><tr><td>r dravid</td><td>2008</td><td>370</td></tr><tr><td>sc ganguly</td><td>2008</td><td>349</td></tr><tr><td>s dhawan</td><td>2008</td><td>340</td></tr><tr><td>kc sangakkara</td><td>2008</td><td>319</td></tr><tr><td>dj hussey</td><td>2008</td><td>318</td></tr><tr><td>rv uthappa</td><td>2008</td><td>316</td></tr><tr><td>sa asnodkar</td><td>2008</td><td>311</td></tr><tr><td>yuvraj singh</td><td>2008</td><td>299</td></tr><tr><td>pa patel</td><td>2008</td><td>297</td></tr><tr><td>y venugopal rao</td><td>2008</td><td>283</td></tr><tr><td>ja morkel</td><td>2008</td><td>235</td></tr><tr><td>mv boucher</td><td>2008</td><td>225</td></tr><tr><td>jr hopes</td><td>2008</td><td>221</td></tr><tr><td>am nayar</td><td>2008</td><td>205</td></tr><tr><td>jh kallis</td><td>2008</td><td>199</td></tr><tr><td>salman butt</td><td>2008</td><td>192</td></tr><tr><td>sp fleming</td><td>2008</td><td>192</td></tr><tr><td>s badrinath</td><td>2008</td><td>192</td></tr><tr><td>bb mccullum</td><td>2008</td><td>188</td></tr><tr><td>sr tendulkar</td><td>2008</td><td>188</td></tr><tr><td>dpmd jayawardene</td><td>2008</td><td>179</td></tr><tr><td>ml hayden</td><td>2008</td><td>179</td></tr><tr><td>m kaif</td><td>2008</td><td>176</td></tr><tr><td>dj bravo</td><td>2008</td><td>175</td></tr><tr><td>mek hussey</td><td>2008</td><td>168</td></tr><tr><td>hh gibbs</td><td>2008</td><td>167</td></tr><tr><td>v kohli</td><td>2008</td><td>165</td></tr><tr><td>a symonds</td><td>2008</td><td>161</td></tr><tr><td>wp saha</td><td>2008</td><td>159</td></tr><tr><td>lr shukla</td><td>2008</td><td>157</td></tr><tr><td>vvs laxman</td><td>2008</td><td>155</td></tr><tr><td>la pomersbach</td><td>2008</td><td>152</td></tr><tr><td>lrpl taylor</td><td>2008</td><td>149</td></tr><tr><td>sm pollock</td><td>2008</td><td>147</td></tr><tr><td>kd karthik</td><td>2008</td><td>145</td></tr><tr><td>s vidyut</td><td>2008</td><td>145</td></tr><tr><td>ra jadeja</td><td>2008</td><td>134</td></tr><tr><td>ik pathan</td><td>2008</td><td>130</td></tr><tr><td>mf maharoof</td><td>2008</td><td>125</td></tr><tr><td>kamran akmal</td><td>2008</td><td>124</td></tr><tr><td>misbahulhaq</td><td>2008</td><td>117</td></tr><tr><td>w jaffer</td><td>2008</td><td>115</td></tr><tr><td>sb styris</td><td>2008</td><td>112</td></tr><tr><td>p kumar</td><td>2008</td><td>112</td></tr><tr><td>cl white</td><td>2008</td><td>109</td></tr><tr><td>db ravi teja</td><td>2008</td><td>108</td></tr><tr><td>mk tiwary</td><td>2008</td><td>104</td></tr><tr><td>db das</td><td>2008</td><td>103</td></tr><tr><td>nk patel</td><td>2008</td><td>103</td></tr><tr><td>tm dilshan</td><td>2008</td><td>102</td></tr><tr><td>ab de villiers</td><td>2008</td><td>95</td></tr><tr><td>sm katich</td><td>2008</td><td>95</td></tr><tr><td>pp chawla</td><td>2008</td><td>89</td></tr><tr><td>sp goswami</td><td>2008</td><td>82</td></tr><tr><td>shahid afridi</td><td>2008</td><td>81</td></tr><tr><td>k goel</td><td>2008</td><td>76</td></tr><tr><td>rr sarwan</td><td>2008</td><td>73</td></tr><tr><td>sk warne</td><td>2008</td><td>69</td></tr><tr><td>yv takawale</td><td>2008</td><td>69</td></tr><tr><td>mohammad hafeez</td><td>2008</td><td>64</td></tr><tr><td>ab agarkar</td><td>2008</td><td>54</td></tr><tr><td>shoaib malik</td><td>2008</td><td>51</td></tr><tr><td>ut yadav</td><td>2008</td><td>49</td></tr><tr><td>sb bangar</td><td>2008</td><td>47</td></tr><tr><td>b akhil</td><td>2008</td><td>46</td></tr><tr><td>dr smith</td><td>2008</td><td>45</td></tr><tr><td>a chopra</td><td>2008</td><td>42</td></tr><tr><td>lpc silva</td><td>2008</td><td>40</td></tr><tr><td>rt ponting</td><td>2008</td><td>39</td></tr><tr><td>umar gul</td><td>2008</td><td>39</td></tr><tr><td>dj thornely</td><td>2008</td><td>39</td></tr><tr><td>a mishra</td><td>2008</td><td>37</td></tr><tr><td>sohail tanvir</td><td>2008</td><td>35</td></tr><tr><td>ms gony</td><td>2008</td><td>35</td></tr><tr><td>m rawat</td><td>2008</td><td>34</td></tr><tr><td>r bhatia</td><td>2008</td><td>34</td></tr><tr><td>l ronchi</td><td>2008</td><td>34</td></tr><tr><td>z khan</td><td>2008</td><td>33</td></tr><tr><td>d salunkhe</td><td>2008</td><td>33</td></tr><tr><td>pr shah</td><td>2008</td><td>32</td></tr><tr><td>t taibu</td><td>2008</td><td>31</td></tr><tr><td>m kartik</td><td>2008</td><td>30</td></tr><tr><td>harbhajan singh</td><td>2008</td><td>30</td></tr><tr><td>rr powar</td><td>2008</td><td>28</td></tr><tr><td>rp singh</td><td>2008</td><td>27</td></tr><tr><td>wa mota</td><td>2008</td><td>26</td></tr><tr><td>ss tiwary</td><td>2008</td><td>26</td></tr><tr><td>s chanderpaul</td><td>2008</td><td>25</td></tr><tr><td>r vinay kumar</td><td>2008</td><td>25</td></tr><tr><td>ma khote</td><td>2008</td><td>24</td></tr><tr><td>j arunkumar</td><td>2008</td><td>23</td></tr><tr><td>b chipli</td><td>2008</td><td>20</td></tr><tr><td>jdp oram</td><td>2008</td><td>18</td></tr><tr><td>ds lehmann</td><td>2008</td><td>18</td></tr><tr><td>b lee</td><td>2008</td><td>17</td></tr><tr><td>joginder sharma</td><td>2008</td><td>16</td></tr><tr><td>ck kapugedera</td><td>2008</td><td>16</td></tr><tr><td>vy mahesh</td><td>2008</td><td>15</td></tr><tr><td>wpujc vaas</td><td>2008</td><td>15</td></tr><tr><td>a kumble</td><td>2008</td><td>13</td></tr><tr><td>dt patil</td><td>2008</td><td>13</td></tr><tr><td>bj hodge</td><td>2008</td><td>12</td></tr><tr><td>sd chitnis</td><td>2008</td><td>12</td></tr><tr><td>m ntini</td><td>2008</td><td>11</td></tr><tr><td>i sharma</td><td>2008</td><td>11</td></tr><tr><td>dnt zoysa</td><td>2008</td><td>11</td></tr><tr><td>t kohli</td><td>2008</td><td>10</td></tr><tr><td>ad mascarenhas</td><td>2008</td><td>9</td></tr><tr><td>aa noffke</td><td>2008</td><td>9</td></tr><tr><td>rr raje</td><td>2008</td><td>8</td></tr><tr><td>tm srivastava</td><td>2008</td><td>8</td></tr><tr><td>sb joshi</td><td>2008</td><td>6</td></tr><tr><td>pankaj singh</td><td>2008</td><td>5</td></tr><tr><td>sk trivedi</td><td>2008</td><td>5</td></tr><tr><td>gd mcgrath</td><td>2008</td><td>4</td></tr><tr><td>am rahane</td><td>2008</td><td>4</td></tr><tr><td>s sohal</td><td>2008</td><td>4</td></tr><tr><td>vrv singh</td><td>2008</td><td>4</td></tr><tr><td>mk pandey</td><td>2008</td><td>3</td></tr><tr><td>mohammad asif</td><td>2008</td><td>3</td></tr><tr><td>younis khan</td><td>2008</td><td>3</td></tr><tr><td>d kalyankrishna</td><td>2008</td><td>3</td></tr><tr><td>pj sangwan</td><td>2008</td><td>2</td></tr><tr><td>ab dinda</td><td>2008</td><td>2</td></tr><tr><td>pp ojha</td><td>2008</td><td>2</td></tr><tr><td>shoaib akhtar</td><td>2008</td><td>2</td></tr><tr><td>dw steyn</td><td>2008</td><td>2</td></tr><tr><td>ds kulkarni</td><td>2008</td><td>2</td></tr><tr><td>crd fernando</td><td>2008</td><td>2</td></tr><tr><td>a nehra</td><td>2008</td><td>2</td></tr><tr><td>vs yeligati</td><td>2008</td><td>2</td></tr><tr><td>h das</td><td>2008</td><td>2</td></tr><tr><td>dp vijaykumar</td><td>2008</td><td>1</td></tr><tr><td>pm sarvesh kumar</td><td>2008</td><td>1</td></tr><tr><td>iqbal abdulla</td><td>2008</td><td>1</td></tr><tr><td>s anirudha</td><td>2008</td><td>1</td></tr><tr><td>m muralitharan</td><td>2008</td><td>0</td></tr><tr><td>mm patel</td><td>2008</td><td>0</td></tr><tr><td>a mukund</td><td>2008</td><td>0</td></tr><tr><td>l balaji</td><td>2008</td><td>0</td></tr><tr><td>abdur razzak</td><td>2008</td><td>0</td></tr><tr><td>s sreesanth</td><td>2008</td><td>0</td></tr><tr><td>u kaul</td><td>2008</td><td>0</td></tr><tr><td>ml hayden</td><td>2009</td><td>571</td></tr><tr><td>ac gilchrist</td><td>2009</td><td>486</td></tr><tr><td>ab de villiers</td><td>2009</td><td>459</td></tr><tr><td>sk raina</td><td>2009</td><td>433</td></tr><tr><td>tm dilshan</td><td>2009</td><td>414</td></tr><tr><td>jp duminy</td><td>2009</td><td>372</td></tr><tr><td>hh gibbs</td><td>2009</td><td>371</td></tr><tr><td>bj hodge</td><td>2009</td><td>365</td></tr><tr><td>sr tendulkar</td><td>2009</td><td>363</td></tr><tr><td>jh kallis</td><td>2009</td><td>360</td></tr><tr><td>rg sharma</td><td>2009</td><td>354</td></tr><tr><td>yuvraj singh</td><td>2009</td><td>340</td></tr><tr><td>ms dhoni</td><td>2009</td><td>332</td></tr><tr><td>kc sangakkara</td><td>2009</td><td>332</td></tr><tr><td>ra jadeja</td><td>2009</td><td>293</td></tr><tr><td>kd karthik</td><td>2009</td><td>288</td></tr><tr><td>g gambhir</td><td>2009</td><td>284</td></tr><tr><td>bb mccullum</td><td>2009</td><td>278</td></tr><tr><td>lrpl taylor</td><td>2009</td><td>274</td></tr><tr><td>r dravid</td><td>2009</td><td>271</td></tr><tr><td>yk pathan</td><td>2009</td><td>261</td></tr><tr><td>a symonds</td><td>2009</td><td>248</td></tr><tr><td>v kohli</td><td>2009</td><td>246</td></tr><tr><td>tl suman</td><td>2009</td><td>237</td></tr><tr><td>st jayasuriya</td><td>2009</td><td>219</td></tr><tr><td>dpmd jayawardene</td><td>2009</td><td>219</td></tr><tr><td>dj bravo</td><td>2009</td><td>217</td></tr><tr><td>dr smith</td><td>2009</td><td>215</td></tr><tr><td>gc smith</td><td>2009</td><td>208</td></tr><tr><td>ik pathan</td><td>2009</td><td>196</td></tr><tr><td>v sehwag</td><td>2009</td><td>195</td></tr><tr><td>am nayar</td><td>2009</td><td>191</td></tr><tr><td>ch gayle</td><td>2009</td><td>184</td></tr><tr><td>sc ganguly</td><td>2009</td><td>183</td></tr><tr><td>s badrinath</td><td>2009</td><td>177</td></tr><tr><td>rv uthappa</td><td>2009</td><td>175</td></tr><tr><td>nv ojha</td><td>2009</td><td>168</td></tr><tr><td>mk pandey</td><td>2009</td><td>167</td></tr><tr><td>da warner</td><td>2009</td><td>163</td></tr><tr><td>mn van wyk</td><td>2009</td><td>163</td></tr><tr><td>am rahane</td><td>2009</td><td>143</td></tr><tr><td>mv boucher</td><td>2009</td><td>143</td></tr><tr><td>pa patel</td><td>2009</td><td>142</td></tr><tr><td>sm katich</td><td>2009</td><td>141</td></tr><tr><td>rs bopara</td><td>2009</td><td>138</td></tr><tr><td>y venugopal rao</td><td>2009</td><td>124</td></tr><tr><td>k goel</td><td>2009</td><td>124</td></tr><tr><td>re van der merwe</td><td>2009</td><td>122</td></tr><tr><td>s sohal</td><td>2009</td><td>115</td></tr><tr><td>sk warne</td><td>2009</td><td>108</td></tr><tr><td>rj quiney</td><td>2009</td><td>103</td></tr><tr><td>sa asnodkar</td><td>2009</td><td>98</td></tr><tr><td>ja morkel</td><td>2009</td><td>97</td></tr><tr><td>dj hussey</td><td>2009</td><td>93</td></tr><tr><td>kp pietersen</td><td>2009</td><td>92</td></tr><tr><td>jdp oram</td><td>2009</td><td>88</td></tr><tr><td>harbhajan singh</td><td>2009</td><td>84</td></tr><tr><td>lr shukla</td><td>2009</td><td>83</td></tr><tr><td>la carseldine</td><td>2009</td><td>80</td></tr><tr><td>as raut</td><td>2009</td><td>78</td></tr><tr><td>m manhas</td><td>2009</td><td>75</td></tr><tr><td>wp saha</td><td>2009</td><td>72</td></tr><tr><td>aa bilakhia</td><td>2009</td><td>67</td></tr><tr><td>ab agarkar</td><td>2009</td><td>66</td></tr><tr><td>db ravi teja</td><td>2009</td><td>65</td></tr><tr><td>p kumar</td><td>2009</td><td>65</td></tr><tr><td>a flintoff</td><td>2009</td><td>62</td></tr><tr><td>m vijay</td><td>2009</td><td>60</td></tr><tr><td>jd ryder</td><td>2009</td><td>56</td></tr><tr><td>pr shah</td><td>2009</td><td>53</td></tr><tr><td>sp goswami</td><td>2009</td><td>53</td></tr><tr><td>yashpal singh</td><td>2009</td><td>47</td></tr><tr><td>r vinay kumar</td><td>2009</td><td>47</td></tr><tr><td>j botha</td><td>2009</td><td>46</td></tr><tr><td>gj bailey</td><td>2009</td><td>45</td></tr><tr><td>s dhawan</td><td>2009</td><td>40</td></tr><tr><td>la pomersbach</td><td>2009</td><td>40</td></tr><tr><td>ad mascarenhas</td><td>2009</td><td>39</td></tr><tr><td>mc henriques</td><td>2009</td><td>38</td></tr><tr><td>dl vettori</td><td>2009</td><td>34</td></tr><tr><td>mm patel</td><td>2009</td><td>33</td></tr><tr><td>pp chawla</td><td>2009</td><td>31</td></tr><tr><td>wa mota</td><td>2009</td><td>30</td></tr><tr><td>wpujc vaas</td><td>2009</td><td>30</td></tr><tr><td>b lee</td><td>2009</td><td>28</td></tr><tr><td>a mishra</td><td>2009</td><td>26</td></tr><tr><td>rr powar</td><td>2009</td><td>23</td></tr><tr><td>m kartik</td><td>2009</td><td>21</td></tr><tr><td>rj harris</td><td>2009</td><td>21</td></tr><tr><td>mf maharoof</td><td>2009</td><td>21</td></tr><tr><td>sb jakati</td><td>2009</td><td>20</td></tr><tr><td>joginder sharma</td><td>2009</td><td>20</td></tr><tr><td>y nagar</td><td>2009</td><td>20</td></tr><tr><td>r bishnoi</td><td>2009</td><td>19</td></tr><tr><td>vvs laxman</td><td>2009</td><td>19</td></tr><tr><td>yv takawale</td><td>2009</td><td>18</td></tr><tr><td>nk patel</td><td>2009</td><td>18</td></tr><tr><td>b akhil</td><td>2009</td><td>17</td></tr><tr><td>a kumble</td><td>2009</td><td>16</td></tr><tr><td>i sharma</td><td>2009</td><td>16</td></tr><tr><td>m rawat</td><td>2009</td><td>16</td></tr><tr><td>ad mathews</td><td>2009</td><td>16</td></tr><tr><td>w jaffer</td><td>2009</td><td>15</td></tr><tr><td>gr napier</td><td>2009</td><td>15</td></tr><tr><td>sb styris</td><td>2009</td><td>14</td></tr><tr><td>ss tiwary</td><td>2009</td><td>13</td></tr><tr><td>ms gony</td><td>2009</td><td>13</td></tr><tr><td>rr raje</td><td>2009</td><td>12</td></tr><tr><td>a chopra</td><td>2009</td><td>11</td></tr><tr><td>t henderson</td><td>2009</td><td>11</td></tr><tr><td>d du preez</td><td>2009</td><td>10</td></tr><tr><td>sk trivedi</td><td>2009</td><td>9</td></tr><tr><td>ds kulkarni</td><td>2009</td><td>9</td></tr><tr><td>mk tiwary</td><td>2009</td><td>9</td></tr><tr><td>r bhatia</td><td>2009</td><td>8</td></tr><tr><td>m muralitharan</td><td>2009</td><td>8</td></tr><tr><td>z khan</td><td>2009</td><td>8</td></tr><tr><td>rp singh</td><td>2009</td><td>8</td></tr><tr><td>sm harwood</td><td>2009</td><td>8</td></tr><tr><td>r ashwin</td><td>2009</td><td>8</td></tr><tr><td>m morkel</td><td>2009</td><td>8</td></tr><tr><td>an ghosh</td><td>2009</td><td>7</td></tr><tr><td>pc valthaty</td><td>2009</td><td>6</td></tr><tr><td>pj sangwan</td><td>2009</td><td>6</td></tr><tr><td>sd chitnis</td><td>2009</td><td>6</td></tr><tr><td>ss shaikh</td><td>2009</td><td>6</td></tr><tr><td>s sreesanth</td><td>2009</td><td>5</td></tr><tr><td>l balaji</td><td>2009</td><td>4</td></tr><tr><td>fh edwards</td><td>2009</td><td>4</td></tr><tr><td>ab mcdonald</td><td>2009</td><td>3</td></tr><tr><td>kamran khan</td><td>2009</td><td>3</td></tr><tr><td>mashrafe mortaza</td><td>2009</td><td>2</td></tr><tr><td>ab dinda</td><td>2009</td><td>2</td></tr><tr><td>sb bangar</td><td>2009</td><td>2</td></tr><tr><td>t thushara</td><td>2009</td><td>2</td></tr><tr><td>mohammad ashraful</td><td>2009</td><td>2</td></tr><tr><td>pp ojha</td><td>2009</td><td>1</td></tr><tr><td>shoaib ahmed</td><td>2009</td><td>1</td></tr><tr><td>a singh</td><td>2009</td><td>1</td></tr><tr><td>kv sharma</td><td>2009</td><td>1</td></tr><tr><td>t kohli</td><td>2009</td><td>1</td></tr><tr><td>pankaj singh</td><td>2009</td><td>1</td></tr><tr><td>a nehra</td><td>2009</td><td>1</td></tr><tr><td>baw mendis</td><td>2009</td><td>0</td></tr><tr><td>sl malinga</td><td>2009</td><td>0</td></tr><tr><td>dw steyn</td><td>2009</td><td>0</td></tr><tr><td>c nanda</td><td>2009</td><td>0</td></tr><tr><td>l ronchi</td><td>2009</td><td>0</td></tr><tr><td>tm srivastava</td><td>2009</td><td>0</td></tr><tr><td>kp appanna</td><td>2009</td><td>0</td></tr><tr><td>sr tendulkar</td><td>2010</td><td>615</td></tr><tr><td>jh kallis</td><td>2010</td><td>566</td></tr><tr><td>sk raina</td><td>2010</td><td>520</td></tr><tr><td>sc ganguly</td><td>2010</td><td>493</td></tr><tr><td>m vijay</td><td>2010</td><td>458</td></tr><tr><td>dpmd jayawardene</td><td>2010</td><td>443</td></tr><tr><td>a symonds</td><td>2010</td><td>429</td></tr><tr><td>ss tiwary</td><td>2010</td><td>417</td></tr><tr><td>rg sharma</td><td>2010</td><td>403</td></tr><tr><td>nv ojha</td><td>2010</td><td>376</td></tr><tr><td>rv uthappa</td><td>2010</td><td>374</td></tr><tr><td>kc sangakkara</td><td>2010</td><td>357</td></tr><tr><td>s badrinath</td><td>2010</td><td>355</td></tr><tr><td>at rayudu</td><td>2010</td><td>354</td></tr><tr><td>v sehwag</td><td>2010</td><td>352</td></tr><tr><td>ml hayden</td><td>2010</td><td>346</td></tr><tr><td>yk pathan</td><td>2010</td><td>332</td></tr><tr><td>tl suman</td><td>2010</td><td>307</td></tr><tr><td>v kohli</td><td>2010</td><td>306</td></tr><tr><td>ch gayle</td><td>2010</td><td>290</td></tr><tr><td>ms dhoni</td><td>2010</td><td>287</td></tr><tr><td>ac gilchrist</td><td>2010</td><td>285</td></tr><tr><td>mj lumb</td><td>2010</td><td>278</td></tr><tr><td>kd karthik</td><td>2010</td><td>278</td></tr><tr><td>g gambhir</td><td>2010</td><td>277</td></tr><tr><td>ik pathan</td><td>2010</td><td>276</td></tr><tr><td>da warner</td><td>2010</td><td>276</td></tr><tr><td>ka pollard</td><td>2010</td><td>273</td></tr><tr><td>hh gibbs</td><td>2010</td><td>267</td></tr><tr><td>yuvraj singh</td><td>2010</td><td>258</td></tr><tr><td>r dravid</td><td>2010</td><td>256</td></tr><tr><td>rs bopara</td><td>2010</td><td>248</td></tr><tr><td>mk pandey</td><td>2010</td><td>248</td></tr><tr><td>mk tiwary</td><td>2010</td><td>236</td></tr><tr><td>kp pietersen</td><td>2010</td><td>236</td></tr><tr><td>ad mathews</td><td>2010</td><td>232</td></tr><tr><td>ms bisla</td><td>2010</td><td>214</td></tr><tr><td>pd collingwood</td><td>2010</td><td>203</td></tr><tr><td>ja morkel</td><td>2010</td><td>198</td></tr><tr><td>s dhawan</td><td>2010</td><td>187</td></tr><tr><td>aa jhunjhunwala</td><td>2010</td><td>183</td></tr><tr><td>sr watson</td><td>2010</td><td>181</td></tr><tr><td>ac voges</td><td>2010</td><td>181</td></tr><tr><td>md mishra</td><td>2010</td><td>164</td></tr><tr><td>fy fazal</td><td>2010</td><td>164</td></tr><tr><td>jp duminy</td><td>2010</td><td>157</td></tr><tr><td>m manhas</td><td>2010</td><td>157</td></tr><tr><td>se marsh</td><td>2010</td><td>147</td></tr><tr><td>ca pujara</td><td>2010</td><td>122</td></tr><tr><td>oa shah</td><td>2010</td><td>115</td></tr><tr><td>bb mccullum</td><td>2010</td><td>114</td></tr><tr><td>r sathish</td><td>2010</td><td>112</td></tr><tr><td>ab de villiers</td><td>2010</td><td>111</td></tr><tr><td>p dogra</td><td>2010</td><td>107</td></tr><tr><td>bj hodge</td><td>2010</td><td>99</td></tr><tr><td>harbhajan singh</td><td>2010</td><td>97</td></tr><tr><td>dj hussey</td><td>2010</td><td>94</td></tr><tr><td>lrpl taylor</td><td>2010</td><td>88</td></tr><tr><td>km jadhav</td><td>2010</td><td>76</td></tr><tr><td>pa patel</td><td>2010</td><td>72</td></tr><tr><td>wp saha</td><td>2010</td><td>67</td></tr><tr><td>r mclaren</td><td>2010</td><td>66</td></tr><tr><td>ab mcdonald</td><td>2010</td><td>65</td></tr><tr><td>vvs laxman</td><td>2010</td><td>64</td></tr><tr><td>anirudh singh</td><td>2010</td><td>63</td></tr><tr><td>pp chawla</td><td>2010</td><td>62</td></tr><tr><td>dj bravo</td><td>2010</td><td>61</td></tr><tr><td>am nayar</td><td>2010</td><td>58</td></tr><tr><td>as raut</td><td>2010</td><td>56</td></tr><tr><td>ap tare</td><td>2010</td><td>50</td></tr><tr><td>cl white</td><td>2010</td><td>48</td></tr><tr><td>rj harris</td><td>2010</td><td>45</td></tr><tr><td>tm dilshan</td><td>2010</td><td>44</td></tr><tr><td>gc smith</td><td>2010</td><td>44</td></tr><tr><td>ab barath</td><td>2010</td><td>42</td></tr><tr><td>ab agarkar</td><td>2010</td><td>39</td></tr><tr><td>a mishra</td><td>2010</td><td>38</td></tr><tr><td>mek hussey</td><td>2010</td><td>37</td></tr><tr><td>lr shukla</td><td>2010</td><td>36</td></tr><tr><td>b sumanth</td><td>2010</td><td>35</td></tr><tr><td>ejg morgan</td><td>2010</td><td>35</td></tr><tr><td>y venugopal rao</td><td>2010</td><td>34</td></tr><tr><td>ap dole</td><td>2010</td><td>34</td></tr><tr><td>st jayasuriya</td><td>2010</td><td>33</td></tr><tr><td>dl vettori</td><td>2010</td><td>33</td></tr><tr><td>mf maharoof</td><td>2010</td><td>31</td></tr><tr><td>r ashwin</td><td>2010</td><td>30</td></tr><tr><td>wpujc vaas</td><td>2010</td><td>30</td></tr><tr><td>s anirudha</td><td>2010</td><td>30</td></tr><tr><td>r sharma</td><td>2010</td><td>29</td></tr><tr><td>mr marsh</td><td>2010</td><td>28</td></tr><tr><td>m kaif</td><td>2010</td><td>28</td></tr><tr><td>s sreesanth</td><td>2010</td><td>27</td></tr><tr><td>r vinay kumar</td><td>2010</td><td>27</td></tr><tr><td>s sriram</td><td>2010</td><td>27</td></tr><tr><td>jm kemp</td><td>2010</td><td>26</td></tr><tr><td>z khan</td><td>2010</td><td>24</td></tr><tr><td>r bhatia</td><td>2010</td><td>24</td></tr><tr><td>dr smith</td><td>2010</td><td>22</td></tr><tr><td>m kartik</td><td>2010</td><td>22</td></tr><tr><td>a nehra</td><td>2010</td><td>22</td></tr><tr><td>aj finch</td><td>2010</td><td>21</td></tr><tr><td>sk trivedi</td><td>2010</td><td>20</td></tr><tr><td>dr martyn</td><td>2010</td><td>19</td></tr><tr><td>de bollinger</td><td>2010</td><td>18</td></tr><tr><td>l balaji</td><td>2010</td><td>18</td></tr><tr><td>gj bailey</td><td>2010</td><td>18</td></tr><tr><td>k goel</td><td>2010</td><td>18</td></tr><tr><td>s narwal</td><td>2010</td><td>14</td></tr><tr><td>c madan</td><td>2010</td><td>14</td></tr><tr><td>mv boucher</td><td>2010</td><td>13</td></tr><tr><td>dw steyn</td><td>2010</td><td>13</td></tr><tr><td>sw tait</td><td>2010</td><td>12</td></tr><tr><td>ad mascarenhas</td><td>2010</td><td>12</td></tr><tr><td>mc henriques</td><td>2010</td><td>11</td></tr><tr><td>b lee</td><td>2010</td><td>11</td></tr><tr><td>pj sangwan</td><td>2010</td><td>10</td></tr><tr><td>t thushara</td><td>2010</td><td>10</td></tr><tr><td>sk warne</td><td>2010</td><td>10</td></tr><tr><td>kaj roach</td><td>2010</td><td>10</td></tr><tr><td>rp singh</td><td>2010</td><td>9</td></tr><tr><td>m morkel</td><td>2010</td><td>9</td></tr><tr><td>bipul sharma</td><td>2010</td><td>9</td></tr><tr><td>jaskaran singh</td><td>2010</td><td>8</td></tr><tr><td>sp goswami</td><td>2010</td><td>8</td></tr><tr><td>str binny</td><td>2010</td><td>8</td></tr><tr><td>a kumble</td><td>2010</td><td>6</td></tr><tr><td>vs malik</td><td>2010</td><td>6</td></tr><tr><td>i sharma</td><td>2010</td><td>6</td></tr><tr><td>rr powar</td><td>2010</td><td>5</td></tr><tr><td>sa asnodkar</td><td>2010</td><td>5</td></tr><tr><td>a mithun</td><td>2010</td><td>5</td></tr><tr><td>dp nannes</td><td>2010</td><td>4</td></tr><tr><td>p kumar</td><td>2010</td><td>4</td></tr><tr><td>mm patel</td><td>2010</td><td>4</td></tr><tr><td>a uniyal</td><td>2010</td><td>4</td></tr><tr><td>an ahmed</td><td>2010</td><td>4</td></tr><tr><td>mandeep singh</td><td>2010</td><td>4</td></tr><tr><td>rs sodhi</td><td>2010</td><td>4</td></tr><tr><td>pp ojha</td><td>2010</td><td>3</td></tr><tr><td>s tyagi</td><td>2010</td><td>3</td></tr><tr><td>ut yadav</td><td>2010</td><td>3</td></tr><tr><td>kb arun karthik</td><td>2010</td><td>3</td></tr><tr><td>j theron</td><td>2010</td><td>2</td></tr><tr><td>aa bilakhia</td><td>2010</td><td>2</td></tr><tr><td>ms gony</td><td>2010</td><td>2</td></tr><tr><td>kp appanna</td><td>2010</td><td>2</td></tr><tr><td>crd fernando</td><td>2010</td><td>2</td></tr><tr><td>rs gavaskar</td><td>2010</td><td>2</td></tr><tr><td>m muralitharan</td><td>2010</td><td>1</td></tr><tr><td>re van der merwe</td><td>2010</td><td>1</td></tr><tr><td>y nagar</td><td>2010</td><td>1</td></tr><tr><td>pankaj singh</td><td>2010</td><td>1</td></tr><tr><td>sj srivastava</td><td>2010</td><td>1</td></tr><tr><td>sl malinga</td><td>2010</td><td>1</td></tr><tr><td>baw mendis</td><td>2010</td><td>1</td></tr><tr><td>se bond</td><td>2010</td><td>1</td></tr><tr><td>ya abdulla</td><td>2010</td><td>0</td></tr><tr><td>s ladda</td><td>2010</td><td>0</td></tr><tr><td>iqbal abdulla</td><td>2010</td><td>0</td></tr><tr><td>ab dinda</td><td>2010</td><td>0</td></tr><tr><td>ck langeveldt</td><td>2010</td><td>0</td></tr><tr><td>harmeet singh</td><td>2010</td><td>0</td></tr><tr><td>ag paunikar</td><td>2010</td><td>0</td></tr><tr><td>ch gayle</td><td>2011</td><td>598</td></tr><tr><td>v kohli</td><td>2011</td><td>557</td></tr><tr><td>sr tendulkar</td><td>2011</td><td>553</td></tr><tr><td>se marsh</td><td>2011</td><td>500</td></tr><tr><td>mek hussey</td><td>2011</td><td>492</td></tr><tr><td>pc valthaty</td><td>2011</td><td>453</td></tr><tr><td>sk raina</td><td>2011</td><td>437</td></tr><tr><td>m vijay</td><td>2011</td><td>434</td></tr><tr><td>v sehwag</td><td>2011</td><td>424</td></tr><tr><td>jh kallis</td><td>2011</td><td>424</td></tr><tr><td>s dhawan</td><td>2011</td><td>400</td></tr><tr><td>at rayudu</td><td>2011</td><td>394</td></tr><tr><td>s badrinath</td><td>2011</td><td>394</td></tr><tr><td>ms dhoni</td><td>2011</td><td>391</td></tr><tr><td>ac gilchrist</td><td>2011</td><td>378</td></tr><tr><td>g gambhir</td><td>2011</td><td>373</td></tr><tr><td>rg sharma</td><td>2011</td><td>372</td></tr><tr><td>kc sangakkara</td><td>2011</td><td>358</td></tr><tr><td>mk tiwary</td><td>2011</td><td>354</td></tr><tr><td>bb mccullum</td><td>2011</td><td>351</td></tr><tr><td>yuvraj singh</td><td>2011</td><td>343</td></tr><tr><td>r dravid</td><td>2011</td><td>339</td></tr><tr><td>y venugopal rao</td><td>2011</td><td>336</td></tr><tr><td>sr watson</td><td>2011</td><td>329</td></tr><tr><td>da warner</td><td>2011</td><td>324</td></tr><tr><td>ab de villiers</td><td>2011</td><td>306</td></tr><tr><td>dpmd jayawardene</td><td>2011</td><td>299</td></tr><tr><td>jd ryder</td><td>2011</td><td>288</td></tr><tr><td>bj hodge</td><td>2011</td><td>285</td></tr><tr><td>yk pathan</td><td>2011</td><td>283</td></tr><tr><td>kd karthik</td><td>2011</td><td>282</td></tr><tr><td>ra jadeja</td><td>2011</td><td>282</td></tr><tr><td>rv uthappa</td><td>2011</td><td>263</td></tr><tr><td>s sohal</td><td>2011</td><td>249</td></tr><tr><td>mk pandey</td><td>2011</td><td>246</td></tr><tr><td>j botha</td><td>2011</td><td>230</td></tr><tr><td>tm dilshan</td><td>2011</td><td>226</td></tr><tr><td>b chipli</td><td>2011</td><td>207</td></tr><tr><td>jp duminy</td><td>2011</td><td>204</td></tr><tr><td>pa patel</td><td>2011</td><td>202</td></tr><tr><td>jr hopes</td><td>2011</td><td>196</td></tr><tr><td>ss tiwary</td><td>2011</td><td>187</td></tr><tr><td>dt christian</td><td>2011</td><td>183</td></tr><tr><td>db ravi teja</td><td>2011</td><td>182</td></tr><tr><td>al menaria</td><td>2011</td><td>180</td></tr><tr><td>lrpl taylor</td><td>2011</td><td>180</td></tr><tr><td>nv ojha</td><td>2011</td><td>160</td></tr><tr><td>ik pathan</td><td>2011</td><td>150</td></tr><tr><td>ka pollard</td><td>2011</td><td>145</td></tr><tr><td>ma agarwal</td><td>2011</td><td>137</td></tr><tr><td>ja morkel</td><td>2011</td><td>137</td></tr><tr><td>ejg morgan</td><td>2011</td><td>137</td></tr><tr><td>a symonds</td><td>2011</td><td>135</td></tr><tr><td>ac blizzard</td><td>2011</td><td>120</td></tr><tr><td>am rahane</td><td>2011</td><td>120</td></tr><tr><td>m manhas</td><td>2011</td><td>114</td></tr><tr><td>y nagar</td><td>2011</td><td>111</td></tr><tr><td>jec franklin</td><td>2011</td><td>107</td></tr><tr><td>rn ten doeschate</td><td>2011</td><td>107</td></tr><tr><td>cl white</td><td>2011</td><td>104</td></tr><tr><td>harbhajan singh</td><td>2011</td><td>103</td></tr><tr><td>dj jacobs</td><td>2011</td><td>92</td></tr><tr><td>r mclaren</td><td>2011</td><td>90</td></tr><tr><td>s anirudha</td><td>2011</td><td>83</td></tr><tr><td>tr birt</td><td>2011</td><td>75</td></tr><tr><td>ms bisla</td><td>2011</td><td>72</td></tr><tr><td>m klinger</td><td>2011</td><td>72</td></tr><tr><td>wp saha</td><td>2011</td><td>68</td></tr><tr><td>a mishra</td><td>2011</td><td>68</td></tr><tr><td>md mishra</td><td>2011</td><td>67</td></tr><tr><td>tl suman</td><td>2011</td><td>65</td></tr><tr><td>dj hussey</td><td>2011</td><td>64</td></tr><tr><td>as raut</td><td>2011</td><td>60</td></tr><tr><td>am nayar</td><td>2011</td><td>60</td></tr><tr><td>la pomersbach</td><td>2011</td><td>51</td></tr><tr><td>sc ganguly</td><td>2011</td><td>50</td></tr><tr><td>mr marsh</td><td>2011</td><td>50</td></tr><tr><td>r vinay kumar</td><td>2011</td><td>50</td></tr><tr><td>cj ferguson</td><td>2011</td><td>48</td></tr><tr><td>ag paunikar</td><td>2011</td><td>48</td></tr><tr><td>pp chawla</td><td>2011</td><td>48</td></tr><tr><td>aj finch</td><td>2011</td><td>47</td></tr><tr><td>mandeep singh</td><td>2011</td><td>47</td></tr><tr><td>rv gomez</td><td>2011</td><td>46</td></tr><tr><td>sunny singh</td><td>2011</td><td>43</td></tr><tr><td>gc smith</td><td>2011</td><td>42</td></tr><tr><td>m kaif</td><td>2011</td><td>41</td></tr><tr><td>vvs laxman</td><td>2011</td><td>38</td></tr><tr><td>wd parnell</td><td>2011</td><td>37</td></tr><tr><td>str binny</td><td>2011</td><td>37</td></tr><tr><td>m morkel</td><td>2011</td><td>36</td></tr><tr><td>dw steyn</td><td>2011</td><td>36</td></tr><tr><td>ca pujara</td><td>2011</td><td>34</td></tr><tr><td>auk pathan</td><td>2011</td><td>33</td></tr><tr><td>rj harris</td><td>2011</td><td>30</td></tr><tr><td>sp goswami</td><td>2011</td><td>29</td></tr><tr><td>shakib al hasan</td><td>2011</td><td>29</td></tr><tr><td>ir jaggi</td><td>2011</td><td>28</td></tr><tr><td>a mithun</td><td>2011</td><td>27</td></tr><tr><td>p kumar</td><td>2011</td><td>27</td></tr><tr><td>nl mccullum</td><td>2011</td><td>26</td></tr><tr><td>oa shah</td><td>2011</td><td>26</td></tr><tr><td>r sathish</td><td>2011</td><td>25</td></tr><tr><td>r bhatia</td><td>2011</td><td>25</td></tr><tr><td>r sharma</td><td>2011</td><td>24</td></tr><tr><td>nltc perera</td><td>2011</td><td>23</td></tr><tr><td>dl vettori</td><td>2011</td><td>23</td></tr><tr><td>bipul sharma</td><td>2011</td><td>23</td></tr><tr><td>ms wade</td><td>2011</td><td>22</td></tr><tr><td>z khan</td><td>2011</td><td>21</td></tr><tr><td>ca ingram</td><td>2011</td><td>21</td></tr><tr><td>fy fazal</td><td>2011</td><td>19</td></tr><tr><td>y gnaneswara rao</td><td>2011</td><td>19</td></tr><tr><td>jj van der wath</td><td>2011</td><td>18</td></tr><tr><td>km jadhav</td><td>2011</td><td>18</td></tr><tr><td>an ahmed</td><td>2011</td><td>18</td></tr><tr><td>bj haddin</td><td>2011</td><td>18</td></tr><tr><td>s rana</td><td>2011</td><td>16</td></tr><tr><td>j syed mohammad</td><td>2011</td><td>15</td></tr><tr><td>iqbal abdulla</td><td>2011</td><td>15</td></tr><tr><td>dh yagnik</td><td>2011</td><td>15</td></tr><tr><td>harpreet singh</td><td>2011</td><td>14</td></tr><tr><td>re van der merwe</td><td>2011</td><td>14</td></tr><tr><td>lr shukla</td><td>2011</td><td>14</td></tr><tr><td>b akhil</td><td>2011</td><td>13</td></tr><tr><td>s aravind</td><td>2011</td><td>13</td></tr><tr><td>rr powar</td><td>2011</td><td>11</td></tr><tr><td>dj bravo</td><td>2011</td><td>11</td></tr><tr><td>m kartik</td><td>2011</td><td>11</td></tr><tr><td>td paine</td><td>2011</td><td>10</td></tr><tr><td>sw tait</td><td>2011</td><td>10</td></tr><tr><td>aa jhunjhunwala</td><td>2011</td><td>10</td></tr><tr><td>sk warne</td><td>2011</td><td>10</td></tr><tr><td>sd chitnis</td><td>2011</td><td>9</td></tr><tr><td>sa asnodkar</td><td>2011</td><td>9</td></tr><tr><td>sl malinga</td><td>2011</td><td>8</td></tr><tr><td>ab mcdonald</td><td>2011</td><td>8</td></tr><tr><td>ck langeveldt</td><td>2011</td><td>8</td></tr><tr><td>i malhotra</td><td>2011</td><td>7</td></tr><tr><td>kb arun karthik</td><td>2011</td><td>7</td></tr><tr><td>mv boucher</td><td>2011</td><td>6</td></tr><tr><td>ab agarkar</td><td>2011</td><td>6</td></tr><tr><td>b lee</td><td>2011</td><td>5</td></tr><tr><td>sb styris</td><td>2011</td><td>5</td></tr><tr><td>pr shah</td><td>2011</td><td>5</td></tr><tr><td>m muralitharan</td><td>2011</td><td>5</td></tr><tr><td>i sharma</td><td>2011</td><td>4</td></tr><tr><td>l balaji</td><td>2011</td><td>4</td></tr><tr><td>sj srivastava</td><td>2011</td><td>4</td></tr><tr><td>s sriram</td><td>2011</td><td>4</td></tr><tr><td>je taylor</td><td>2011</td><td>3</td></tr><tr><td>r ninan</td><td>2011</td><td>3</td></tr><tr><td>r ashwin</td><td>2011</td><td>2</td></tr><tr><td>sb wagh</td><td>2011</td><td>2</td></tr><tr><td>rp singh</td><td>2011</td><td>2</td></tr><tr><td>ag murtaza</td><td>2011</td><td>2</td></tr><tr><td>ubt chand</td><td>2011</td><td>2</td></tr><tr><td>ds kulkarni</td><td>2011</td><td>2</td></tr><tr><td>s randiv</td><td>2011</td><td>2</td></tr><tr><td>a singh</td><td>2011</td><td>1</td></tr><tr><td>ut yadav</td><td>2011</td><td>1</td></tr><tr><td>s sreesanth</td><td>2011</td><td>1</td></tr><tr><td>ac thomas</td><td>2011</td><td>1</td></tr><tr><td>nj rimmington</td><td>2011</td><td>1</td></tr><tr><td>p parameswaran</td><td>2011</td><td>1</td></tr><tr><td>aa chavan</td><td>2011</td><td>1</td></tr><tr><td>b kumar</td><td>2011</td><td>1</td></tr><tr><td>sk trivedi</td><td>2011</td><td>0</td></tr><tr><td>mj lumb</td><td>2011</td><td>0</td></tr><tr><td>ab dinda</td><td>2011</td><td>0</td></tr><tr><td>s nadeem</td><td>2011</td><td>0</td></tr><tr><td>ba bhatt</td><td>2011</td><td>0</td></tr><tr><td>nd doshi</td><td>2011</td><td>0</td></tr><tr><td>jdp oram</td><td>2011</td><td>0</td></tr><tr><td>mm patel</td><td>2011</td><td>0</td></tr><tr><td>de bollinger</td><td>2011</td><td>0</td></tr><tr><td>l ablish</td><td>2011</td><td>0</td></tr><tr><td>vr aaron</td><td>2011</td><td>0</td></tr><tr><td>joginder sharma</td><td>2011</td><td>0</td></tr><tr><td>ms gony</td><td>2011</td><td>0</td></tr><tr><td>ch gayle</td><td>2012</td><td>720</td></tr><tr><td>g gambhir</td><td>2012</td><td>590</td></tr><tr><td>s dhawan</td><td>2012</td><td>568</td></tr><tr><td>am rahane</td><td>2012</td><td>560</td></tr><tr><td>v sehwag</td><td>2012</td><td>495</td></tr><tr><td>cl white</td><td>2012</td><td>475</td></tr><tr><td>r dravid</td><td>2012</td><td>462</td></tr><tr><td>sk raina</td><td>2012</td><td>440</td></tr><tr><td>rg sharma</td><td>2012</td><td>432</td></tr><tr><td>mandeep singh</td><td>2012</td><td>431</td></tr><tr><td>jh kallis</td><td>2012</td><td>408</td></tr><tr><td>rv uthappa</td><td>2012</td><td>404</td></tr><tr><td>f du plessis</td><td>2012</td><td>397</td></tr><tr><td>dj hussey</td><td>2012</td><td>396</td></tr><tr><td>dj bravo</td><td>2012</td><td>367</td></tr><tr><td>v kohli</td><td>2012</td><td>358</td></tr><tr><td>ms dhoni</td><td>2012</td><td>354</td></tr><tr><td>spd smith</td><td>2012</td><td>350</td></tr><tr><td>oa shah</td><td>2012</td><td>339</td></tr><tr><td>m vijay</td><td>2012</td><td>336</td></tr><tr><td>se marsh</td><td>2012</td><td>336</td></tr><tr><td>dpmd jayawardene</td><td>2012</td><td>335</td></tr><tr><td>at rayudu</td><td>2012</td><td>333</td></tr><tr><td>sr tendulkar</td><td>2012</td><td>324</td></tr><tr><td>ab de villiers</td><td>2012</td><td>318</td></tr><tr><td>kp pietersen</td><td>2012</td><td>305</td></tr><tr><td>bb mccullum</td><td>2012</td><td>289</td></tr><tr><td>tm dilshan</td><td>2012</td><td>283</td></tr><tr><td>sc ganguly</td><td>2012</td><td>268</td></tr><tr><td>mek hussey</td><td>2012</td><td>261</td></tr><tr><td>mk tiwary</td><td>2012</td><td>260</td></tr><tr><td>sr watson</td><td>2012</td><td>255</td></tr><tr><td>da warner</td><td>2012</td><td>252</td></tr><tr><td>jd ryder</td><td>2012</td><td>252</td></tr><tr><td>nv ojha</td><td>2012</td><td>251</td></tr><tr><td>bj hodge</td><td>2012</td><td>245</td></tr><tr><td>jp duminy</td><td>2012</td><td>244</td></tr><tr><td>kd karthik</td><td>2012</td><td>238</td></tr><tr><td>ma agarwal</td><td>2012</td><td>225</td></tr><tr><td>ka pollard</td><td>2012</td><td>220</td></tr><tr><td>al menaria</td><td>2012</td><td>214</td></tr><tr><td>jec franklin</td><td>2012</td><td>214</td></tr><tr><td>ms bisla</td><td>2012</td><td>213</td></tr><tr><td>lrpl taylor</td><td>2012</td><td>197</td></tr><tr><td>s badrinath</td><td>2012</td><td>196</td></tr><tr><td>kc sangakkara</td><td>2012</td><td>194</td></tr><tr><td>pa patel</td><td>2012</td><td>193</td></tr><tr><td>ra jadeja</td><td>2012</td><td>191</td></tr><tr><td>yk pathan</td><td>2012</td><td>191</td></tr><tr><td>azhar mahmood</td><td>2012</td><td>186</td></tr><tr><td>ss tiwary</td><td>2012</td><td>183</td></tr><tr><td>ik pathan</td><td>2012</td><td>176</td></tr><tr><td>ac gilchrist</td><td>2012</td><td>168</td></tr><tr><td>dr smith</td><td>2012</td><td>156</td></tr><tr><td>y nagar</td><td>2012</td><td>153</td></tr><tr><td>dt christian</td><td>2012</td><td>145</td></tr><tr><td>n saini</td><td>2012</td><td>140</td></tr><tr><td>mk pandey</td><td>2012</td><td>138</td></tr><tr><td>y venugopal rao</td><td>2012</td><td>132</td></tr><tr><td>ad mathews</td><td>2012</td><td>127</td></tr><tr><td>db das</td><td>2012</td><td>126</td></tr><tr><td>mn samuels</td><td>2012</td><td>124</td></tr><tr><td>m manhas</td><td>2012</td><td>120</td></tr><tr><td>dj harris</td><td>2012</td><td>111</td></tr><tr><td>harbhajan singh</td><td>2012</td><td>108</td></tr><tr><td>ja morkel</td><td>2012</td><td>107</td></tr><tr><td>pp chawla</td><td>2012</td><td>106</td></tr><tr><td>mj clarke</td><td>2012</td><td>98</td></tr><tr><td>da miller</td><td>2012</td><td>98</td></tr><tr><td>str binny</td><td>2012</td><td>90</td></tr><tr><td>shakib al hasan</td><td>2012</td><td>89</td></tr><tr><td>ap majumdar</td><td>2012</td><td>87</td></tr><tr><td>gurkeerat singh</td><td>2012</td><td>86</td></tr><tr><td>re levi</td><td>2012</td><td>83</td></tr><tr><td>hh gibbs</td><td>2012</td><td>81</td></tr><tr><td>lr shukla</td><td>2012</td><td>75</td></tr><tr><td>pa reddy</td><td>2012</td><td>73</td></tr><tr><td>bipul sharma</td><td>2012</td><td>72</td></tr><tr><td>sp goswami</td><td>2012</td><td>69</td></tr><tr><td>r vinay kumar</td><td>2012</td><td>68</td></tr><tr><td>sd chitnis</td><td>2012</td><td>66</td></tr><tr><td>j botha</td><td>2012</td><td>58</td></tr><tr><td>aj finch</td><td>2012</td><td>55</td></tr><tr><td>sl malinga</td><td>2012</td><td>55</td></tr><tr><td>cj ferguson</td><td>2012</td><td>50</td></tr><tr><td>ad russell</td><td>2012</td><td>47</td></tr><tr><td>ab mcdonald</td><td>2012</td><td>47</td></tr><tr><td>am nayar</td><td>2012</td><td>45</td></tr><tr><td>b lee</td><td>2012</td><td>42</td></tr><tr><td>b kumar</td><td>2012</td><td>40</td></tr><tr><td>b chipli</td><td>2012</td><td>37</td></tr><tr><td>kk cooper</td><td>2012</td><td>37</td></tr><tr><td>ubt chand</td><td>2012</td><td>36</td></tr><tr><td>p negi</td><td>2012</td><td>36</td></tr><tr><td>a ashish reddy</td><td>2012</td><td>35</td></tr><tr><td>p kumar</td><td>2012</td><td>35</td></tr><tr><td>r bhatia</td><td>2012</td><td>35</td></tr><tr><td>rj peterson</td><td>2012</td><td>32</td></tr><tr><td>dl vettori</td><td>2012</td><td>31</td></tr><tr><td>pc valthaty</td><td>2012</td><td>30</td></tr><tr><td>m kartik</td><td>2012</td><td>26</td></tr><tr><td>dh yagnik</td><td>2012</td><td>25</td></tr><tr><td>aa jhunjhunwala</td><td>2012</td><td>24</td></tr><tr><td>rn ten doeschate</td><td>2012</td><td>21</td></tr><tr><td>dw steyn</td><td>2012</td><td>19</td></tr><tr><td>wd parnell</td><td>2012</td><td>19</td></tr><tr><td>ac thomas</td><td>2012</td><td>19</td></tr><tr><td>s anirudha</td><td>2012</td><td>19</td></tr><tr><td>ankit sharma</td><td>2012</td><td>18</td></tr><tr><td>rj harris</td><td>2012</td><td>18</td></tr><tr><td>r ashwin</td><td>2012</td><td>18</td></tr><tr><td>ca pujara</td><td>2012</td><td>17</td></tr><tr><td>a mishra</td><td>2012</td><td>16</td></tr><tr><td>ir jaggi</td><td>2012</td><td>15</td></tr><tr><td>tl suman</td><td>2012</td><td>15</td></tr><tr><td>hv patel</td><td>2012</td><td>15</td></tr><tr><td>harmeet singh</td><td>2012</td><td>15</td></tr><tr><td>p dogra</td><td>2012</td><td>15</td></tr><tr><td>gb hogg</td><td>2012</td><td>15</td></tr><tr><td>ad mascarenhas</td><td>2012</td><td>14</td></tr><tr><td>jp faulkner</td><td>2012</td><td>14</td></tr><tr><td>s aravind</td><td>2012</td><td>14</td></tr><tr><td>m kaif</td><td>2012</td><td>14</td></tr><tr><td>daj bracewell</td><td>2012</td><td>12</td></tr><tr><td>z khan</td><td>2012</td><td>12</td></tr><tr><td>aa chavan</td><td>2012</td><td>11</td></tr><tr><td>a nehra</td><td>2012</td><td>11</td></tr><tr><td>k upadhyay</td><td>2012</td><td>11</td></tr><tr><td>ds kulkarni</td><td>2012</td><td>10</td></tr><tr><td>sp narine</td><td>2012</td><td>9</td></tr><tr><td>cj mckay</td><td>2012</td><td>8</td></tr><tr><td>sb jakati</td><td>2012</td><td>7</td></tr><tr><td>j theron</td><td>2012</td><td>7</td></tr><tr><td>gj maxwell</td><td>2012</td><td>6</td></tr><tr><td>ca lynn</td><td>2012</td><td>6</td></tr><tr><td>auk pathan</td><td>2012</td><td>6</td></tr><tr><td>rp singh</td><td>2012</td><td>6</td></tr><tr><td>ba bhatt</td><td>2012</td><td>6</td></tr><tr><td>harpreet singh</td><td>2012</td><td>6</td></tr><tr><td>m muralitharan</td><td>2012</td><td>6</td></tr><tr><td>wp saha</td><td>2012</td><td>6</td></tr><tr><td>sk trivedi</td><td>2012</td><td>5</td></tr><tr><td>kmdn kulasekara</td><td>2012</td><td>5</td></tr><tr><td>p awana</td><td>2012</td><td>4</td></tr><tr><td>pp ojha</td><td>2012</td><td>4</td></tr><tr><td>db ravi teja</td><td>2012</td><td>4</td></tr><tr><td>j syed mohammad</td><td>2012</td><td>4</td></tr><tr><td>ms gony</td><td>2012</td><td>4</td></tr><tr><td>md mishra</td><td>2012</td><td>4</td></tr><tr><td>m morkel</td><td>2012</td><td>3</td></tr><tr><td>de bollinger</td><td>2012</td><td>3</td></tr><tr><td>nltc perera</td><td>2012</td><td>3</td></tr><tr><td>ag murtaza</td><td>2012</td><td>3</td></tr><tr><td>r sharma</td><td>2012</td><td>2</td></tr><tr><td>bb samantray</td><td>2012</td><td>2</td></tr><tr><td>mm patel</td><td>2012</td><td>2</td></tr><tr><td>ut yadav</td><td>2012</td><td>2</td></tr><tr><td>ab dinda</td><td>2012</td><td>2</td></tr><tr><td>iqbal abdulla</td><td>2012</td><td>2</td></tr><tr><td>vr aaron</td><td>2012</td><td>1</td></tr><tr><td>sa yadav</td><td>2012</td><td>0</td></tr><tr><td>rr bhatkal</td><td>2012</td><td>0</td></tr><tr><td>dj jacobs</td><td>2012</td><td>0</td></tr><tr><td>ac blizzard</td><td>2012</td><td>0</td></tr><tr><td>a singh</td><td>2012</td><td>0</td></tr><tr><td>s nadeem</td><td>2012</td><td>0</td></tr><tr><td>a chandila</td><td>2012</td><td>0</td></tr><tr><td>v pratap singh</td><td>2012</td><td>0</td></tr><tr><td>p parameswaran</td><td>2012</td><td>0</td></tr><tr><td>sunny gupta</td><td>2012</td><td>0</td></tr><tr><td>mek hussey</td><td>2013</td><td>732</td></tr><tr><td>ch gayle</td><td>2013</td><td>701</td></tr><tr><td>v kohli</td><td>2013</td><td>636</td></tr><tr><td>sk raina</td><td>2013</td><td>546</td></tr><tr><td>sr watson</td><td>2013</td><td>542</td></tr><tr><td>rg sharma</td><td>2013</td><td>532</td></tr><tr><td>kd karthik</td><td>2013</td><td>505</td></tr><tr><td>am rahane</td><td>2013</td><td>488</td></tr><tr><td>r dravid</td><td>2013</td><td>471</td></tr><tr><td>ms dhoni</td><td>2013</td><td>458</td></tr><tr><td>aj finch</td><td>2013</td><td>455</td></tr><tr><td>rv uthappa</td><td>2013</td><td>430</td></tr><tr><td>dr smith</td><td>2013</td><td>418</td></tr><tr><td>da miller</td><td>2013</td><td>417</td></tr><tr><td>ka pollard</td><td>2013</td><td>414</td></tr><tr><td>da warner</td><td>2013</td><td>410</td></tr><tr><td>g gambhir</td><td>2013</td><td>406</td></tr><tr><td>ab de villiers</td><td>2013</td><td>373</td></tr><tr><td>yk pathan</td><td>2013</td><td>331</td></tr><tr><td>dpmd jayawardene</td><td>2013</td><td>331</td></tr><tr><td>m vijay</td><td>2013</td><td>312</td></tr><tr><td>s dhawan</td><td>2013</td><td>311</td></tr><tr><td>jh kallis</td><td>2013</td><td>311</td></tr><tr><td>ejg morgan</td><td>2013</td><td>307</td></tr><tr><td>se marsh</td><td>2013</td><td>300</td></tr><tr><td>pa patel</td><td>2013</td><td>294</td></tr><tr><td>ac gilchrist</td><td>2013</td><td>294</td></tr><tr><td>v sehwag</td><td>2013</td><td>294</td></tr><tr><td>str binny</td><td>2013</td><td>293</td></tr><tr><td>bj hodge</td><td>2013</td><td>292</td></tr><tr><td>sr tendulkar</td><td>2013</td><td>283</td></tr><tr><td>at rayudu</td><td>2013</td><td>264</td></tr><tr><td>mandeep singh</td><td>2013</td><td>260</td></tr><tr><td>ms bisla</td><td>2013</td><td>255</td></tr><tr><td>gh vihari</td><td>2013</td><td>239</td></tr><tr><td>yuvraj singh</td><td>2013</td><td>238</td></tr><tr><td>dj hussey</td><td>2013</td><td>235</td></tr><tr><td>nltc perera</td><td>2013</td><td>233</td></tr><tr><td>cl white</td><td>2013</td><td>226</td></tr><tr><td>sv samson</td><td>2013</td><td>206</td></tr><tr><td>ra jadeja</td><td>2013</td><td>200</td></tr><tr><td>azhar mahmood</td><td>2013</td><td>196</td></tr><tr><td>bj rohrer</td><td>2013</td><td>193</td></tr><tr><td>djg sammy</td><td>2013</td><td>174</td></tr><tr><td>ad mathews</td><td>2013</td><td>172</td></tr><tr><td>mc henriques</td><td>2013</td><td>165</td></tr><tr><td>m vohra</td><td>2013</td><td>161</td></tr><tr><td>spd smith</td><td>2013</td><td>159</td></tr><tr><td>ubt chand</td><td>2013</td><td>158</td></tr><tr><td>ik pathan</td><td>2013</td><td>153</td></tr><tr><td>km jadhav</td><td>2013</td><td>148</td></tr><tr><td>mk tiwary</td><td>2013</td><td>146</td></tr><tr><td>mr marsh</td><td>2013</td><td>140</td></tr><tr><td>mk pandey</td><td>2013</td><td>136</td></tr><tr><td>mc juneja</td><td>2013</td><td>125</td></tr><tr><td>a ashish reddy</td><td>2013</td><td>125</td></tr><tr><td>s badrinath</td><td>2013</td><td>124</td></tr><tr><td>dh yagnik</td><td>2013</td><td>124</td></tr><tr><td>ap tare</td><td>2013</td><td>123</td></tr><tr><td>bb samantray</td><td>2013</td><td>123</td></tr><tr><td>dj bravo</td><td>2013</td><td>121</td></tr><tr><td>kc sangakkara</td><td>2013</td><td>120</td></tr><tr><td>harbhajan singh</td><td>2013</td><td>116</td></tr><tr><td>ss tiwary</td><td>2013</td><td>109</td></tr><tr><td>gurkeerat singh</td><td>2013</td><td>108</td></tr><tr><td>r sathish</td><td>2013</td><td>108</td></tr><tr><td>lj wright</td><td>2013</td><td>102</td></tr><tr><td>r bhatia</td><td>2013</td><td>99</td></tr><tr><td>ca pujara</td><td>2013</td><td>92</td></tr><tr><td>pa reddy</td><td>2013</td><td>91</td></tr><tr><td>a mishra</td><td>2013</td><td>89</td></tr><tr><td>kv sharma</td><td>2013</td><td>85</td></tr><tr><td>rn ten doeschate</td><td>2013</td><td>85</td></tr><tr><td>db das</td><td>2013</td><td>75</td></tr><tr><td>tm dilshan</td><td>2013</td><td>75</td></tr><tr><td>wp saha</td><td>2013</td><td>70</td></tr><tr><td>r vinay kumar</td><td>2013</td><td>70</td></tr><tr><td>ma agarwal</td><td>2013</td><td>67</td></tr><tr><td>am nayar</td><td>2013</td><td>66</td></tr><tr><td>pp chawla</td><td>2013</td><td>64</td></tr><tr><td>lrpl taylor</td><td>2013</td><td>63</td></tr><tr><td>la pomersbach</td><td>2013</td><td>58</td></tr><tr><td>m morkel</td><td>2013</td><td>57</td></tr><tr><td>jp faulkner</td><td>2013</td><td>57</td></tr><tr><td>dw steyn</td><td>2013</td><td>53</td></tr><tr><td>b kumar</td><td>2013</td><td>52</td></tr><tr><td>rt ponting</td><td>2013</td><td>52</td></tr><tr><td>tl suman</td><td>2013</td><td>52</td></tr><tr><td>ja morkel</td><td>2013</td><td>46</td></tr><tr><td>p kumar</td><td>2013</td><td>45</td></tr><tr><td>ms gony</td><td>2013</td><td>45</td></tr><tr><td>cm gautam</td><td>2013</td><td>44</td></tr><tr><td>j botha</td><td>2013</td><td>43</td></tr><tr><td>kb arun karthik</td><td>2013</td><td>41</td></tr><tr><td>kk cooper</td><td>2013</td><td>39</td></tr><tr><td>mg johnson</td><td>2013</td><td>39</td></tr><tr><td>ut yadav</td><td>2013</td><td>38</td></tr><tr><td>r rampaul</td><td>2013</td><td>37</td></tr><tr><td>gj maxwell</td><td>2013</td><td>36</td></tr><tr><td>r ashwin</td><td>2013</td><td>35</td></tr><tr><td>kw richardson</td><td>2013</td><td>34</td></tr><tr><td>oa shah</td><td>2013</td><td>25</td></tr><tr><td>bmaj mendis</td><td>2013</td><td>23</td></tr><tr><td>s narwal</td><td>2013</td><td>23</td></tr><tr><td>re van der merwe</td><td>2013</td><td>22</td></tr><tr><td>r dhawan</td><td>2013</td><td>21</td></tr><tr><td>sp narine</td><td>2013</td><td>21</td></tr><tr><td>b lee</td><td>2013</td><td>21</td></tr><tr><td>kl rahul</td><td>2013</td><td>20</td></tr><tr><td>a mukund</td><td>2013</td><td>19</td></tr><tr><td>b chipli</td><td>2013</td><td>16</td></tr><tr><td>s nadeem</td><td>2013</td><td>14</td></tr><tr><td>ch morris</td><td>2013</td><td>14</td></tr><tr><td>db ravi teja</td><td>2013</td><td>14</td></tr><tr><td>mdkj perera</td><td>2013</td><td>14</td></tr><tr><td>m manhas</td><td>2013</td><td>13</td></tr><tr><td>ab agarkar</td><td>2013</td><td>12</td></tr><tr><td>ad russell</td><td>2013</td><td>11</td></tr><tr><td>r sharma</td><td>2013</td><td>11</td></tr><tr><td>x thalaivan sargunam</td><td>2013</td><td>10</td></tr><tr><td>j syed mohammad</td><td>2013</td><td>10</td></tr><tr><td>smsm senanayake</td><td>2013</td><td>10</td></tr><tr><td>sl malinga</td><td>2013</td><td>9</td></tr><tr><td>nv ojha</td><td>2013</td><td>9</td></tr><tr><td>l balaji</td><td>2013</td><td>9</td></tr><tr><td>ab dinda</td><td>2013</td><td>9</td></tr><tr><td>kk nair</td><td>2013</td><td>9</td></tr><tr><td>nm coulternile</td><td>2013</td><td>9</td></tr><tr><td>iqbal abdulla</td><td>2013</td><td>8</td></tr><tr><td>mn samuels</td><td>2013</td><td>8</td></tr><tr><td>ua birla</td><td>2013</td><td>7</td></tr><tr><td>s kaul</td><td>2013</td><td>7</td></tr><tr><td>q de kock</td><td>2013</td><td>6</td></tr><tr><td>dt christian</td><td>2013</td><td>6</td></tr><tr><td>bb mccullum</td><td>2013</td><td>6</td></tr><tr><td>pc valthaty</td><td>2013</td><td>6</td></tr><tr><td>parvez rasool</td><td>2013</td><td>5</td></tr><tr><td>mohammed shami</td><td>2013</td><td>5</td></tr><tr><td>wd parnell</td><td>2013</td><td>5</td></tr><tr><td>m rawat</td><td>2013</td><td>5</td></tr><tr><td>p dogra</td><td>2013</td><td>5</td></tr><tr><td>ag murtaza</td><td>2013</td><td>5</td></tr><tr><td>ad mascarenhas</td><td>2013</td><td>5</td></tr><tr><td>b laughlin</td><td>2013</td><td>4</td></tr><tr><td>pj sangwan</td><td>2013</td><td>4</td></tr><tr><td>a chandila</td><td>2013</td><td>4</td></tr><tr><td>rv gomez</td><td>2013</td><td>4</td></tr><tr><td>lr shukla</td><td>2013</td><td>3</td></tr><tr><td>r mclaren</td><td>2013</td><td>3</td></tr><tr><td>sachin baby</td><td>2013</td><td>3</td></tr><tr><td>pv tambe</td><td>2013</td><td>3</td></tr><tr><td>sk trivedi</td><td>2013</td><td>3</td></tr><tr><td>harmeet singh</td><td>2013</td><td>3</td></tr><tr><td>pp ojha</td><td>2013</td><td>2</td></tr><tr><td>as rajpoot</td><td>2013</td><td>2</td></tr><tr><td>baw mendis</td><td>2013</td><td>2</td></tr><tr><td>a mithun</td><td>2013</td><td>2</td></tr><tr><td>rj harris</td><td>2013</td><td>2</td></tr><tr><td>m kartik</td><td>2013</td><td>2</td></tr><tr><td>jd unadkat</td><td>2013</td><td>2</td></tr><tr><td>k upadhyay</td><td>2013</td><td>1</td></tr><tr><td>a nehra</td><td>2013</td><td>1</td></tr><tr><td>r shukla</td><td>2013</td><td>1</td></tr><tr><td>s sreesanth</td><td>2013</td><td>1</td></tr><tr><td>al menaria</td><td>2013</td><td>1</td></tr><tr><td>p awana</td><td>2013</td><td>1</td></tr><tr><td>sw tait</td><td>2013</td><td>1</td></tr><tr><td>mm sharma</td><td>2013</td><td>0</td></tr><tr><td>s anirudha</td><td>2013</td><td>0</td></tr><tr><td>ic pandey</td><td>2013</td><td>0</td></tr><tr><td>ab mcdonald</td><td>2013</td><td>0</td></tr><tr><td>sandeep sharma</td><td>2013</td><td>0</td></tr><tr><td>rv uthappa</td><td>2014</td><td>659</td></tr><tr><td>dr smith</td><td>2014</td><td>565</td></tr><tr><td>gj maxwell</td><td>2014</td><td>552</td></tr><tr><td>da warner</td><td>2014</td><td>528</td></tr><tr><td>sk raina</td><td>2014</td><td>519</td></tr><tr><td>v sehwag</td><td>2014</td><td>455</td></tr><tr><td>da miller</td><td>2014</td><td>446</td></tr><tr><td>mk pandey</td><td>2014</td><td>409</td></tr><tr><td>jp duminy</td><td>2014</td><td>408</td></tr><tr><td>bb mccullum</td><td>2014</td><td>405</td></tr><tr><td>lmp simmons</td><td>2014</td><td>394</td></tr><tr><td>rg sharma</td><td>2014</td><td>390</td></tr><tr><td>ab de villiers</td><td>2014</td><td>389</td></tr><tr><td>s dhawan</td><td>2014</td><td>373</td></tr><tr><td>ms dhoni</td><td>2014</td><td>371</td></tr><tr><td>yuvraj singh</td><td>2014</td><td>370</td></tr><tr><td>wp saha</td><td>2014</td><td>362</td></tr><tr><td>at rayudu</td><td>2014</td><td>360</td></tr><tr><td>v kohli</td><td>2014</td><td>359</td></tr><tr><td>sv samson</td><td>2014</td><td>339</td></tr><tr><td>am rahane</td><td>2014</td><td>339</td></tr><tr><td>kk nair</td><td>2014</td><td>330</td></tr><tr><td>kd karthik</td><td>2014</td><td>325</td></tr><tr><td>g gambhir</td><td>2014</td><td>324</td></tr><tr><td>m vohra</td><td>2014</td><td>324</td></tr><tr><td>aj finch</td><td>2014</td><td>308</td></tr><tr><td>f du plessis</td><td>2014</td><td>303</td></tr><tr><td>kp pietersen</td><td>2014</td><td>294</td></tr><tr><td>ka pollard</td><td>2014</td><td>272</td></tr><tr><td>yk pathan</td><td>2014</td><td>268</td></tr><tr><td>cj anderson</td><td>2014</td><td>265</td></tr><tr><td>gj bailey</td><td>2014</td><td>254</td></tr><tr><td>sr watson</td><td>2014</td><td>245</td></tr><tr><td>shakib al hasan</td><td>2014</td><td>228</td></tr><tr><td>nv ojha</td><td>2014</td><td>226</td></tr><tr><td>mek hussey</td><td>2014</td><td>209</td></tr><tr><td>m vijay</td><td>2014</td><td>207</td></tr><tr><td>pa patel</td><td>2014</td><td>205</td></tr><tr><td>ch gayle</td><td>2014</td><td>196</td></tr><tr><td>jp faulkner</td><td>2014</td><td>180</td></tr><tr><td>kl rahul</td><td>2014</td><td>166</td></tr><tr><td>sa yadav</td><td>2014</td><td>160</td></tr><tr><td>q de kock</td><td>2014</td><td>153</td></tr><tr><td>mk tiwary</td><td>2014</td><td>152</td></tr><tr><td>jh kallis</td><td>2014</td><td>151</td></tr><tr><td>ra jadeja</td><td>2014</td><td>146</td></tr><tr><td>km jadhav</td><td>2014</td><td>146</td></tr><tr><td>spd smith</td><td>2014</td><td>146</td></tr><tr><td>ap tare</td><td>2014</td><td>126</td></tr><tr><td>ca pujara</td><td>2014</td><td>125</td></tr><tr><td>str binny</td><td>2014</td><td>123</td></tr><tr><td>cm gautam</td><td>2014</td><td>121</td></tr><tr><td>dj hussey</td><td>2014</td><td>116</td></tr><tr><td>ma agarwal</td><td>2014</td><td>115</td></tr><tr><td>djg sammy</td><td>2014</td><td>108</td></tr><tr><td>yv takawale</td><td>2014</td><td>104</td></tr><tr><td>bj hodge</td><td>2014</td><td>101</td></tr><tr><td>ma starc</td><td>2014</td><td>85</td></tr><tr><td>r dhawan</td><td>2014</td><td>82</td></tr><tr><td>y venugopal rao</td><td>2014</td><td>71</td></tr><tr><td>s rana</td><td>2014</td><td>71</td></tr><tr><td>se marsh</td><td>2014</td><td>70</td></tr><tr><td>r bhatia</td><td>2014</td><td>67</td></tr><tr><td>ar patel</td><td>2014</td><td>62</td></tr><tr><td>lrpl taylor</td><td>2014</td><td>59</td></tr><tr><td>ca lynn</td><td>2014</td><td>58</td></tr><tr><td>mg johnson</td><td>2014</td><td>56</td></tr><tr><td>ik pathan</td><td>2014</td><td>55</td></tr><tr><td>rn ten doeschate</td><td>2014</td><td>52</td></tr><tr><td>r ashwin</td><td>2014</td><td>45</td></tr><tr><td>ja morkel</td><td>2014</td><td>45</td></tr><tr><td>jds neesham</td><td>2014</td><td>42</td></tr><tr><td>kv sharma</td><td>2014</td><td>42</td></tr><tr><td>br dunk</td><td>2014</td><td>40</td></tr><tr><td>am nayar</td><td>2014</td><td>39</td></tr><tr><td>rr rossouw</td><td>2014</td><td>39</td></tr><tr><td>kk cooper</td><td>2014</td><td>39</td></tr><tr><td>m manhas</td><td>2014</td><td>35</td></tr><tr><td>ds kulkarni</td><td>2014</td><td>35</td></tr><tr><td>vr aaron</td><td>2014</td><td>34</td></tr><tr><td>ankit sharma</td><td>2014</td><td>34</td></tr><tr><td>lr shukla</td><td>2014</td><td>31</td></tr><tr><td>pp chawla</td><td>2014</td><td>31</td></tr><tr><td>vh zol</td><td>2014</td><td>29</td></tr><tr><td>harbhajan singh</td><td>2014</td><td>28</td></tr><tr><td>mandeep singh</td><td>2014</td><td>24</td></tr><tr><td>dw steyn</td><td>2014</td><td>22</td></tr><tr><td>r shukla</td><td>2014</td><td>18</td></tr><tr><td>jo holder</td><td>2014</td><td>16</td></tr><tr><td>nj maddinson</td><td>2014</td><td>16</td></tr><tr><td>r tewatia</td><td>2014</td><td>16</td></tr><tr><td>r rampaul</td><td>2014</td><td>13</td></tr><tr><td>hv patel</td><td>2014</td><td>13</td></tr><tr><td>s gopal</td><td>2014</td><td>11</td></tr><tr><td>sp narine</td><td>2014</td><td>10</td></tr><tr><td>mc henriques</td><td>2014</td><td>9</td></tr><tr><td>dj bravo</td><td>2014</td><td>8</td></tr><tr><td>z khan</td><td>2014</td><td>8</td></tr><tr><td>imran tahir</td><td>2014</td><td>8</td></tr><tr><td>bcj cutting</td><td>2014</td><td>8</td></tr><tr><td>s nadeem</td><td>2014</td><td>7</td></tr><tr><td>pv tambe</td><td>2014</td><td>5</td></tr><tr><td>shivam sharma</td><td>2014</td><td>5</td></tr><tr><td>tg southee</td><td>2014</td><td>4</td></tr><tr><td>an ahmed</td><td>2014</td><td>4</td></tr><tr><td>ab dinda</td><td>2014</td><td>4</td></tr><tr><td>r vinay kumar</td><td>2014</td><td>4</td></tr><tr><td>m morkel</td><td>2014</td><td>4</td></tr><tr><td>pp ojha</td><td>2014</td><td>4</td></tr><tr><td>a mishra</td><td>2014</td><td>4</td></tr><tr><td>dh yagnik</td><td>2014</td><td>4</td></tr><tr><td>s anirudha</td><td>2014</td><td>3</td></tr><tr><td>mohammed shami</td><td>2014</td><td>3</td></tr><tr><td>ms bisla</td><td>2014</td><td>3</td></tr><tr><td>ad russell</td><td>2014</td><td>2</td></tr><tr><td>s kaul</td><td>2014</td><td>2</td></tr><tr><td>ut yadav</td><td>2014</td><td>2</td></tr><tr><td>wd parnell</td><td>2014</td><td>2</td></tr><tr><td>ubt chand</td><td>2014</td><td>2</td></tr><tr><td>sl malinga</td><td>2014</td><td>2</td></tr><tr><td>sandeep sharma</td><td>2014</td><td>2</td></tr><tr><td>l balaji</td><td>2014</td><td>1</td></tr><tr><td>jd unadkat</td><td>2014</td><td>1</td></tr><tr><td>vs malik</td><td>2014</td><td>1</td></tr><tr><td>m de lange</td><td>2014</td><td>1</td></tr><tr><td>jj bumrah</td><td>2014</td><td>1</td></tr><tr><td>mm sharma</td><td>2014</td><td>1</td></tr><tr><td>kw richardson</td><td>2014</td><td>1</td></tr><tr><td>karanveer singh</td><td>2014</td><td>1</td></tr><tr><td>b kumar</td><td>2014</td><td>1</td></tr><tr><td>ys chahal</td><td>2014</td><td>1</td></tr><tr><td>p kumar</td><td>2014</td><td>1</td></tr><tr><td>be hendricks</td><td>2014</td><td>0</td></tr><tr><td>da warner</td><td>2015</td><td>554</td></tr><tr><td>lmp simmons</td><td>2015</td><td>540</td></tr><tr><td>am rahane</td><td>2015</td><td>540</td></tr><tr><td>ab de villiers</td><td>2015</td><td>511</td></tr><tr><td>v kohli</td><td>2015</td><td>505</td></tr><tr><td>ch gayle</td><td>2015</td><td>490</td></tr><tr><td>rg sharma</td><td>2015</td><td>482</td></tr><tr><td>ss iyer</td><td>2015</td><td>439</td></tr><tr><td>bb mccullum</td><td>2015</td><td>431</td></tr><tr><td>ka pollard</td><td>2015</td><td>415</td></tr><tr><td>jp duminy</td><td>2015</td><td>414</td></tr><tr><td>dr smith</td><td>2015</td><td>399</td></tr><tr><td>f du plessis</td><td>2015</td><td>380</td></tr><tr><td>sk raina</td><td>2015</td><td>374</td></tr><tr><td>ms dhoni</td><td>2015</td><td>372</td></tr><tr><td>rv uthappa</td><td>2015</td><td>364</td></tr><tr><td>da miller</td><td>2015</td><td>357</td></tr><tr><td>s dhawan</td><td>2015</td><td>347</td></tr><tr><td>sr watson</td><td>2015</td><td>343</td></tr><tr><td>pa patel</td><td>2015</td><td>339</td></tr><tr><td>g gambhir</td><td>2015</td><td>327</td></tr><tr><td>ad russell</td><td>2015</td><td>326</td></tr><tr><td>yk pathan</td><td>2015</td><td>310</td></tr><tr><td>spd smith</td><td>2015</td><td>292</td></tr><tr><td>mc henriques</td><td>2015</td><td>283</td></tr><tr><td>at rayudu</td><td>2015</td><td>281</td></tr><tr><td>gj bailey</td><td>2015</td><td>259</td></tr><tr><td>m vijay</td><td>2015</td><td>251</td></tr><tr><td>wp saha</td><td>2015</td><td>249</td></tr><tr><td>yuvraj singh</td><td>2015</td><td>247</td></tr><tr><td>mk pandey</td><td>2015</td><td>225</td></tr><tr><td>ma agarwal</td><td>2015</td><td>213</td></tr><tr><td>ar patel</td><td>2015</td><td>206</td></tr><tr><td>sv samson</td><td>2015</td><td>204</td></tr><tr><td>dj bravo</td><td>2015</td><td>195</td></tr><tr><td>km jadhav</td><td>2015</td><td>189</td></tr><tr><td>ejg morgan</td><td>2015</td><td>187</td></tr><tr><td>kk nair</td><td>2015</td><td>181</td></tr><tr><td>sa yadav</td><td>2015</td><td>157</td></tr><tr><td>mandeep singh</td><td>2015</td><td>157</td></tr><tr><td>dj hooda</td><td>2015</td><td>151</td></tr><tr><td>gj maxwell</td><td>2015</td><td>146</td></tr><tr><td>rs bopara</td><td>2015</td><td>145</td></tr><tr><td>jp faulkner</td><td>2015</td><td>143</td></tr><tr><td>ad mathews</td><td>2015</td><td>143</td></tr><tr><td>kd karthik</td><td>2015</td><td>141</td></tr><tr><td>kl rahul</td><td>2015</td><td>141</td></tr><tr><td>nv ojha</td><td>2015</td><td>137</td></tr><tr><td>ra jadeja</td><td>2015</td><td>132</td></tr><tr><td>q de kock</td><td>2015</td><td>122</td></tr><tr><td>d wiese</td><td>2015</td><td>121</td></tr><tr><td>harbhajan singh</td><td>2015</td><td>116</td></tr><tr><td>p negi</td><td>2015</td><td>115</td></tr><tr><td>cj anderson</td><td>2015</td><td>114</td></tr><tr><td>sn khan</td><td>2015</td><td>110</td></tr><tr><td>hh pandya</td><td>2015</td><td>110</td></tr><tr><td>ss tiwary</td><td>2015</td><td>109</td></tr><tr><td>kv sharma</td><td>2015</td><td>104</td></tr><tr><td>ubt chand</td><td>2015</td><td>102</td></tr><tr><td>v sehwag</td><td>2015</td><td>99</td></tr><tr><td>se marsh</td><td>2015</td><td>89</td></tr><tr><td>ja morkel</td><td>2015</td><td>86</td></tr><tr><td>m vohra</td><td>2015</td><td>82</td></tr><tr><td>mek hussey</td><td>2015</td><td>77</td></tr><tr><td>a ashish reddy</td><td>2015</td><td>73</td></tr><tr><td>str binny</td><td>2015</td><td>73</td></tr><tr><td>ch morris</td><td>2015</td><td>70</td></tr><tr><td>rn ten doeschate</td><td>2015</td><td>61</td></tr><tr><td>mk tiwary</td><td>2015</td><td>57</td></tr><tr><td>pp chawla</td><td>2015</td><td>54</td></tr><tr><td>r ashwin</td><td>2015</td><td>52</td></tr><tr><td>j suchith</td><td>2015</td><td>48</td></tr><tr><td>gh vihari</td><td>2015</td><td>38</td></tr><tr><td>ms bisla</td><td>2015</td><td>37</td></tr><tr><td>r dhawan</td><td>2015</td><td>36</td></tr><tr><td>shakib al hasan</td><td>2015</td><td>36</td></tr><tr><td>gurkeerat singh</td><td>2015</td><td>35</td></tr><tr><td>mg johnson</td><td>2015</td><td>31</td></tr><tr><td>ks williamson</td><td>2015</td><td>31</td></tr><tr><td>j botha</td><td>2015</td><td>31</td></tr><tr><td>ut yadav</td><td>2015</td><td>29</td></tr><tr><td>mm sharma</td><td>2015</td><td>28</td></tr><tr><td>aj finch</td><td>2015</td><td>23</td></tr><tr><td>dw steyn</td><td>2015</td><td>20</td></tr><tr><td>nm coulternile</td><td>2015</td><td>20</td></tr><tr><td>iqbal abdulla</td><td>2015</td><td>20</td></tr><tr><td>hv patel</td><td>2015</td><td>19</td></tr><tr><td>anureet singh</td><td>2015</td><td>18</td></tr><tr><td>p kumar</td><td>2015</td><td>17</td></tr><tr><td>b kumar</td><td>2015</td><td>17</td></tr><tr><td>sa abbott</td><td>2015</td><td>15</td></tr><tr><td>ap tare</td><td>2015</td><td>14</td></tr><tr><td>rr rossouw</td><td>2015</td><td>14</td></tr><tr><td>tg southee</td><td>2015</td><td>13</td></tr><tr><td>mj mcclenaghan</td><td>2015</td><td>13</td></tr><tr><td>djg sammy</td><td>2015</td><td>13</td></tr><tr><td>nltc perera</td><td>2015</td><td>12</td></tr><tr><td>ma starc</td><td>2015</td><td>11</td></tr><tr><td>karanveer singh</td><td>2015</td><td>11</td></tr><tr><td>an ahmed</td><td>2015</td><td>10</td></tr><tr><td>sandeep sharma</td><td>2015</td><td>9</td></tr><tr><td>a mishra</td><td>2015</td><td>8</td></tr><tr><td>sn thakur</td><td>2015</td><td>7</td></tr><tr><td>gb hogg</td><td>2015</td><td>7</td></tr><tr><td>ankit sharma</td><td>2015</td><td>7</td></tr><tr><td>azhar mahmood</td><td>2015</td><td>6</td></tr><tr><td>vr aaron</td><td>2015</td><td>6</td></tr><tr><td>sl malinga</td><td>2015</td><td>6</td></tr><tr><td>imran tahir</td><td>2015</td><td>5</td></tr><tr><td>m morkel</td><td>2015</td><td>4</td></tr><tr><td>cm gautam</td><td>2015</td><td>4</td></tr><tr><td>ds kulkarni</td><td>2015</td><td>4</td></tr><tr><td>nj maddinson</td><td>2015</td><td>4</td></tr><tr><td>pv tambe</td><td>2015</td><td>3</td></tr><tr><td>s nadeem</td><td>2015</td><td>2</td></tr><tr><td>parvez rasool</td><td>2015</td><td>2</td></tr><tr><td>rg more</td><td>2015</td><td>2</td></tr><tr><td>be hendricks</td><td>2015</td><td>1</td></tr><tr><td>ys chahal</td><td>2015</td><td>1</td></tr><tr><td>a nehra</td><td>2015</td><td>1</td></tr><tr><td>dj muthuswami</td><td>2015</td><td>1</td></tr><tr><td>bipul sharma</td><td>2015</td><td>1</td></tr><tr><td>j theron</td><td>2015</td><td>1</td></tr><tr><td>s gopal</td><td>2015</td><td>1</td></tr><tr><td>pj cummins</td><td>2015</td><td>0</td></tr><tr><td>s aravind</td><td>2015</td><td>0</td></tr><tr><td>r vinay kumar</td><td>2015</td><td>0</td></tr><tr><td>r bhatia</td><td>2015</td><td>0</td></tr><tr><td>sp narine</td><td>2015</td><td>0</td></tr><tr><td>v kohli</td><td>2016</td><td>962</td></tr><tr><td>da warner</td><td>2016</td><td>844</td></tr><tr><td>ab de villiers</td><td>2016</td><td>682</td></tr><tr><td>g gambhir</td><td>2016</td><td>501</td></tr><tr><td>s dhawan</td><td>2016</td><td>497</td></tr><tr><td>rg sharma</td><td>2016</td><td>487</td></tr><tr><td>am rahane</td><td>2016</td><td>479</td></tr><tr><td>m vijay</td><td>2016</td><td>453</td></tr><tr><td>q de kock</td><td>2016</td><td>444</td></tr><tr><td>sk raina</td><td>2016</td><td>399</td></tr><tr><td>kl rahul</td><td>2016</td><td>397</td></tr><tr><td>rv uthappa</td><td>2016</td><td>394</td></tr><tr><td>aj finch</td><td>2016</td><td>392</td></tr><tr><td>yk pathan</td><td>2016</td><td>361</td></tr><tr><td>bb mccullum</td><td>2016</td><td>354</td></tr><tr><td>kk nair</td><td>2016</td><td>352</td></tr><tr><td>kd karthik</td><td>2016</td><td>335</td></tr><tr><td>at rayudu</td><td>2016</td><td>334</td></tr><tr><td>dr smith</td><td>2016</td><td>320</td></tr><tr><td>sv samson</td><td>2016</td><td>291</td></tr><tr><td>ms dhoni</td><td>2016</td><td>284</td></tr><tr><td>spd smith</td><td>2016</td><td>270</td></tr><tr><td>wp saha</td><td>2016</td><td>270</td></tr><tr><td>jc buttler</td><td>2016</td><td>254</td></tr><tr><td>mk pandey</td><td>2016</td><td>248</td></tr><tr><td>kh pandya</td><td>2016</td><td>237</td></tr><tr><td>yuvraj singh</td><td>2016</td><td>236</td></tr><tr><td>ch gayle</td><td>2016</td><td>227</td></tr><tr><td>ka pollard</td><td>2016</td><td>208</td></tr><tr><td>f du plessis</td><td>2016</td><td>206</td></tr><tr><td>rr pant</td><td>2016</td><td>198</td></tr><tr><td>ch morris</td><td>2016</td><td>195</td></tr><tr><td>jp duminy</td><td>2016</td><td>191</td></tr><tr><td>ra jadeja</td><td>2016</td><td>189</td></tr><tr><td>ad russell</td><td>2016</td><td>188</td></tr><tr><td>mc henriques</td><td>2016</td><td>182</td></tr><tr><td>sa yadav</td><td>2016</td><td>180</td></tr><tr><td>gj maxwell</td><td>2016</td><td>179</td></tr><tr><td>sr watson</td><td>2016</td><td>179</td></tr><tr><td>pa patel</td><td>2016</td><td>177</td></tr><tr><td>ss tiwary</td><td>2016</td><td>169</td></tr><tr><td>m vohra</td><td>2016</td><td>161</td></tr><tr><td>se marsh</td><td>2016</td><td>159</td></tr><tr><td>da miller</td><td>2016</td><td>157</td></tr><tr><td>hm amla</td><td>2016</td><td>157</td></tr><tr><td>nltc perera</td><td>2016</td><td>149</td></tr><tr><td>mp stoinis</td><td>2016</td><td>146</td></tr><tr><td>dj hooda</td><td>2016</td><td>138</td></tr><tr><td>nv ojha</td><td>2016</td><td>136</td></tr><tr><td>ut khawaja</td><td>2016</td><td>127</td></tr><tr><td>ks williamson</td><td>2016</td><td>124</td></tr><tr><td>ejg morgan</td><td>2016</td><td>123</td></tr><tr><td>sachin baby</td><td>2016</td><td>118</td></tr><tr><td>shakib al hasan</td><td>2016</td><td>114</td></tr><tr><td>gurkeerat singh</td><td>2016</td><td>113</td></tr><tr><td>ar patel</td><td>2016</td><td>111</td></tr><tr><td>n rana</td><td>2016</td><td>100</td></tr><tr><td>dj bravo</td><td>2016</td><td>99</td></tr><tr><td>harbhajan singh</td><td>2016</td><td>92</td></tr><tr><td>sw billings</td><td>2016</td><td>88</td></tr><tr><td>gj bailey</td><td>2016</td><td>84</td></tr><tr><td>cr brathwaite</td><td>2016</td><td>83</td></tr><tr><td>jp faulkner</td><td>2016</td><td>77</td></tr><tr><td>kp pietersen</td><td>2016</td><td>73</td></tr><tr><td>sn khan</td><td>2016</td><td>66</td></tr><tr><td>bcj cutting</td><td>2016</td><td>65</td></tr><tr><td>str binny</td><td>2016</td><td>63</td></tr><tr><td>mj guptill</td><td>2016</td><td>57</td></tr><tr><td>p negi</td><td>2016</td><td>57</td></tr><tr><td>tm head</td><td>2016</td><td>53</td></tr><tr><td>bipul sharma</td><td>2016</td><td>51</td></tr><tr><td>a ashish reddy</td><td>2016</td><td>47</td></tr><tr><td>hh pandya</td><td>2016</td><td>44</td></tr><tr><td>b kumar</td><td>2016</td><td>43</td></tr><tr><td>ishan kishan</td><td>2016</td><td>42</td></tr><tr><td>r ashwin</td><td>2016</td><td>41</td></tr><tr><td>km jadhav</td><td>2016</td><td>38</td></tr><tr><td>kv sharma</td><td>2016</td><td>36</td></tr><tr><td>iqbal abdulla</td><td>2016</td><td>36</td></tr><tr><td>r bhatia</td><td>2016</td><td>34</td></tr><tr><td>mj mcclenaghan</td><td>2016</td><td>34</td></tr><tr><td>mm sharma</td><td>2016</td><td>32</td></tr><tr><td>tg southee</td><td>2016</td><td>30</td></tr><tr><td>c munro</td><td>2016</td><td>30</td></tr><tr><td>ss iyer</td><td>2016</td><td>30</td></tr><tr><td>pp chawla</td><td>2016</td><td>27</td></tr><tr><td>ma agarwal</td><td>2016</td><td>27</td></tr><tr><td>ds kulkarni</td><td>2016</td><td>27</td></tr><tr><td>ca lynn</td><td>2016</td><td>25</td></tr><tr><td>p kumar</td><td>2016</td><td>24</td></tr><tr><td>r sathish</td><td>2016</td><td>24</td></tr><tr><td>er dwivedi</td><td>2016</td><td>24</td></tr><tr><td>ns naik</td><td>2016</td><td>23</td></tr><tr><td>jo holder</td><td>2016</td><td>22</td></tr><tr><td>ad nath</td><td>2016</td><td>20</td></tr><tr><td>p sahu</td><td>2016</td><td>19</td></tr><tr><td>ja morkel</td><td>2016</td><td>16</td></tr><tr><td>f behardien</td><td>2016</td><td>14</td></tr><tr><td>r dhawan</td><td>2016</td><td>14</td></tr><tr><td>kj abbott</td><td>2016</td><td>13</td></tr><tr><td>r vinay kumar</td><td>2016</td><td>13</td></tr><tr><td>kc cariappa</td><td>2016</td><td>13</td></tr><tr><td>ik pathan</td><td>2016</td><td>11</td></tr><tr><td>parvez rasool</td><td>2016</td><td>10</td></tr><tr><td>ut yadav</td><td>2016</td><td>9</td></tr><tr><td>nm coulternile</td><td>2016</td><td>9</td></tr><tr><td>ap tare</td><td>2016</td><td>8</td></tr><tr><td>sandeep sharma</td><td>2016</td><td>8</td></tr><tr><td>lmp simmons</td><td>2016</td><td>8</td></tr><tr><td>jj bumrah</td><td>2016</td><td>8</td></tr><tr><td>sp narine</td><td>2016</td><td>7</td></tr><tr><td>pv tambe</td><td>2016</td><td>7</td></tr><tr><td>mr marsh</td><td>2016</td><td>7</td></tr><tr><td>z khan</td><td>2016</td><td>6</td></tr><tr><td>j yadav</td><td>2016</td><td>6</td></tr><tr><td>psp handscomb</td><td>2016</td><td>6</td></tr><tr><td>mg johnson</td><td>2016</td><td>5</td></tr><tr><td>imran tahir</td><td>2016</td><td>5</td></tr><tr><td>d wiese</td><td>2016</td><td>5</td></tr><tr><td>a mishra</td><td>2016</td><td>4</td></tr><tr><td>ankit sharma</td><td>2016</td><td>3</td></tr><tr><td>bb sran</td><td>2016</td><td>3</td></tr><tr><td>cj jordan</td><td>2016</td><td>3</td></tr><tr><td>s gopal</td><td>2016</td><td>2</td></tr><tr><td>mohammed shami</td><td>2016</td><td>2</td></tr><tr><td>kw richardson</td><td>2016</td><td>1</td></tr><tr><td>sb jakati</td><td>2016</td><td>1</td></tr><tr><td>m morkel</td><td>2016</td><td>1</td></tr><tr><td>s nadeem</td><td>2016</td><td>1</td></tr><tr><td>dw steyn</td><td>2016</td><td>1</td></tr><tr><td>a nehra</td><td>2016</td><td>1</td></tr><tr><td>m ashwin</td><td>2016</td><td>0</td></tr><tr><td>s kaushik</td><td>2016</td><td>0</td></tr><tr><td>swapnil singh</td><td>2016</td><td>0</td></tr><tr><td>a zampa</td><td>2016</td><td>0</td></tr><tr><td>ubt chand</td><td>2016</td><td>0</td></tr><tr><td>da warner</td><td>2017</td><td>634</td></tr><tr><td>g gambhir</td><td>2017</td><td>498</td></tr><tr><td>s dhawan</td><td>2017</td><td>478</td></tr><tr><td>spd smith</td><td>2017</td><td>472</td></tr><tr><td>sk raina</td><td>2017</td><td>438</td></tr><tr><td>hm amla</td><td>2017</td><td>418</td></tr><tr><td>ka pollard</td><td>2017</td><td>395</td></tr><tr><td>pa patel</td><td>2017</td><td>395</td></tr><tr><td>mk pandey</td><td>2017</td><td>391</td></tr><tr><td>ra tripathi</td><td>2017</td><td>391</td></tr><tr><td>rv uthappa</td><td>2017</td><td>388</td></tr><tr><td>sv samson</td><td>2017</td><td>386</td></tr><tr><td>am rahane</td><td>2017</td><td>382</td></tr><tr><td>rr pant</td><td>2017</td><td>365</td></tr><tr><td>kd karthik</td><td>2017</td><td>357</td></tr><tr><td>ss iyer</td><td>2017</td><td>337</td></tr><tr><td>rg sharma</td><td>2017</td><td>333</td></tr><tr><td>n rana</td><td>2017</td><td>333</td></tr><tr><td>bb mccullum</td><td>2017</td><td>320</td></tr><tr><td>mk tiwary</td><td>2017</td><td>320</td></tr><tr><td>ba stokes</td><td>2017</td><td>316</td></tr><tr><td>v kohli</td><td>2017</td><td>308</td></tr><tr><td>gj maxwell</td><td>2017</td><td>306</td></tr><tr><td>aj finch</td><td>2017</td><td>300</td></tr><tr><td>ca lynn</td><td>2017</td><td>293</td></tr><tr><td>ms dhoni</td><td>2017</td><td>290</td></tr><tr><td>kk nair</td><td>2017</td><td>281</td></tr><tr><td>ishan kishan</td><td>2017</td><td>277</td></tr><tr><td>mc henriques</td><td>2017</td><td>277</td></tr><tr><td>jc buttler</td><td>2017</td><td>273</td></tr><tr><td>km jadhav</td><td>2017</td><td>265</td></tr><tr><td>se marsh</td><td>2017</td><td>258</td></tr><tr><td>ks williamson</td><td>2017</td><td>256</td></tr><tr><td>hh pandya</td><td>2017</td><td>250</td></tr><tr><td>yuvraj singh</td><td>2017</td><td>248</td></tr><tr><td>kh pandya</td><td>2017</td><td>243</td></tr><tr><td>dr smith</td><td>2017</td><td>239</td></tr><tr><td>wp saha</td><td>2017</td><td>230</td></tr><tr><td>m vohra</td><td>2017</td><td>229</td></tr><tr><td>ar patel</td><td>2017</td><td>227</td></tr><tr><td>sp narine</td><td>2017</td><td>224</td></tr><tr><td>ab de villiers</td><td>2017</td><td>216</td></tr><tr><td>ch gayle</td><td>2017</td><td>200</td></tr><tr><td>mandeep singh</td><td>2017</td><td>188</td></tr><tr><td>ra jadeja</td><td>2017</td><td>158</td></tr><tr><td>ch morris</td><td>2017</td><td>154</td></tr><tr><td>tm head</td><td>2017</td><td>151</td></tr><tr><td>p negi</td><td>2017</td><td>144</td></tr><tr><td>yk pathan</td><td>2017</td><td>143</td></tr><tr><td>cj anderson</td><td>2017</td><td>142</td></tr><tr><td>sw billings</td><td>2017</td><td>138</td></tr><tr><td>lmp simmons</td><td>2017</td><td>137</td></tr><tr><td>mj guptill</td><td>2017</td><td>126</td></tr><tr><td>c de grandhomme</td><td>2017</td><td>126</td></tr><tr><td>sa yadav</td><td>2017</td><td>105</td></tr><tr><td>v shankar</td><td>2017</td><td>101</td></tr><tr><td>at rayudu</td><td>2017</td><td>91</td></tr><tr><td>dt christian</td><td>2017</td><td>79</td></tr><tr><td>nv ojha</td><td>2017</td><td>79</td></tr><tr><td>dj hooda</td><td>2017</td><td>78</td></tr><tr><td>str binny</td><td>2017</td><td>78</td></tr><tr><td>da miller</td><td>2017</td><td>77</td></tr><tr><td>pj cummins</td><td>2017</td><td>77</td></tr><tr><td>sr watson</td><td>2017</td><td>71</td></tr><tr><td>ejg morgan</td><td>2017</td><td>65</td></tr><tr><td>jj roy</td><td>2017</td><td>59</td></tr><tr><td>k rabada</td><td>2017</td><td>55</td></tr><tr><td>jp faulkner</td><td>2017</td><td>53</td></tr><tr><td>aj tye</td><td>2017</td><td>53</td></tr><tr><td>ss tiwary</td><td>2017</td><td>52</td></tr><tr><td>bcj cutting</td><td>2017</td><td>51</td></tr><tr><td>mm sharma</td><td>2017</td><td>51</td></tr><tr><td>kv sharma</td><td>2017</td><td>49</td></tr><tr><td>a mishra</td><td>2017</td><td>49</td></tr><tr><td>cr woakes</td><td>2017</td><td>46</td></tr><tr><td>sp jackson</td><td>2017</td><td>38</td></tr><tr><td>mohammed shami</td><td>2017</td><td>36</td></tr><tr><td>ir jaggi</td><td>2017</td><td>33</td></tr><tr><td>s aravind</td><td>2017</td><td>32</td></tr><tr><td>ad mathews</td><td>2017</td><td>32</td></tr><tr><td>bipul sharma</td><td>2017</td><td>31</td></tr><tr><td>mn samuels</td><td>2017</td><td>29</td></tr><tr><td>basil thampi</td><td>2017</td><td>28</td></tr><tr><td>ma agarwal</td><td>2017</td><td>26</td></tr><tr><td>a choudhary</td><td>2017</td><td>25</td></tr><tr><td>ankit sharma</td><td>2017</td><td>25</td></tr><tr><td>kuldeep yadav</td><td>2017</td><td>20</td></tr><tr><td>mg johnson</td><td>2017</td><td>20</td></tr><tr><td>r tewatia</td><td>2017</td><td>19</td></tr><tr><td>vishnu vinod</td><td>2017</td><td>19</td></tr><tr><td>ap tare</td><td>2017</td><td>18</td></tr><tr><td>mp stoinis</td><td>2017</td><td>17</td></tr><tr><td>jj bumrah</td><td>2017</td><td>16</td></tr><tr><td>harbhajan singh</td><td>2017</td><td>16</td></tr><tr><td>r bhatia</td><td>2017</td><td>16</td></tr><tr><td>mj mcclenaghan</td><td>2017</td><td>16</td></tr><tr><td>sachin baby</td><td>2017</td><td>15</td></tr><tr><td>anureet singh</td><td>2017</td><td>15</td></tr><tr><td>nm coulternile</td><td>2017</td><td>14</td></tr><tr><td>dl chahar</td><td>2017</td><td>14</td></tr><tr><td>s badree</td><td>2017</td><td>13</td></tr><tr><td>ys chahal</td><td>2017</td><td>13</td></tr><tr><td>swapnil singh</td><td>2017</td><td>12</td></tr><tr><td>cr brathwaite</td><td>2017</td><td>12</td></tr><tr><td>ar bawne</td><td>2017</td><td>12</td></tr><tr><td>rashid khan</td><td>2017</td><td>11</td></tr><tr><td>ut yadav</td><td>2017</td><td>10</td></tr><tr><td>washington sundar</td><td>2017</td><td>9</td></tr><tr><td>ts mills</td><td>2017</td><td>8</td></tr><tr><td>i sharma</td><td>2017</td><td>8</td></tr><tr><td>f du plessis</td><td>2017</td><td>8</td></tr><tr><td>p kumar</td><td>2017</td><td>8</td></tr><tr><td>sl malinga</td><td>2017</td><td>7</td></tr><tr><td>af milne</td><td>2017</td><td>7</td></tr><tr><td>ankit soni</td><td>2017</td><td>7</td></tr><tr><td>ab dinda</td><td>2017</td><td>7</td></tr><tr><td>tg southee</td><td>2017</td><td>7</td></tr><tr><td>sandeep sharma</td><td>2017</td><td>6</td></tr><tr><td>dm bravo</td><td>2017</td><td>6</td></tr><tr><td>ta boult</td><td>2017</td><td>5</td></tr><tr><td>a zampa</td><td>2017</td><td>5</td></tr><tr><td>iqbal abdulla</td><td>2017</td><td>5</td></tr><tr><td>vr aaron</td><td>2017</td><td>4</td></tr><tr><td>as rajpoot</td><td>2017</td><td>4</td></tr><tr><td>z khan</td><td>2017</td><td>4</td></tr><tr><td>b kumar</td><td>2017</td><td>4</td></tr><tr><td>rd chahar</td><td>2017</td><td>3</td></tr><tr><td>pj sangwan</td><td>2017</td><td>2</td></tr><tr><td>kc cariappa</td><td>2017</td><td>2</td></tr><tr><td>jd unadkat</td><td>2017</td><td>2</td></tr><tr><td>pp chawla</td><td>2017</td><td>2</td></tr><tr><td>mohammad nabi</td><td>2017</td><td>2</td></tr><tr><td>s nadeem</td><td>2017</td><td>2</td></tr><tr><td>ik pathan</td><td>2017</td><td>2</td></tr><tr><td>shakib al hasan</td><td>2017</td><td>1</td></tr><tr><td>lh ferguson</td><td>2017</td><td>1</td></tr><tr><td>ds kulkarni</td><td>2017</td><td>1</td></tr><tr><td>imran tahir</td><td>2017</td><td>0</td></tr><tr><td>ad nath</td><td>2017</td><td>0</td></tr><tr><td>sn thakur</td><td>2017</td><td>0</td></tr><tr><td>cj jordan</td><td>2017</td><td>0</td></tr><tr><td>mm patel</td><td>2017</td><td>0</td></tr><tr><td>s kaul</td><td>2017</td><td>0</td></tr></tbody></table></div>"
      ]
     },
     "metadata": {
      "application/vnd.databricks.v1+output": {
       "addedWidgets": {},
       "aggData": [],
       "aggError": "",
       "aggOverflow": false,
       "aggSchema": [],
       "aggSeriesLimitReached": false,
       "aggType": "",
       "arguments": {},
       "columnCustomDisplayInfos": {},
       "data": [
        [
         "se marsh",
         2008,
         614
        ],
        [
         "g gambhir",
         2008,
         532
        ],
        [
         "st jayasuriya",
         2008,
         508
        ],
        [
         "sr watson",
         2008,
         463
        ],
        [
         "gc smith",
         2008,
         437
        ],
        [
         "ac gilchrist",
         2008,
         431
        ],
        [
         "yk pathan",
         2008,
         430
        ],
        [
         "sk raina",
         2008,
         420
        ],
        [
         "ms dhoni",
         2008,
         414
        ],
        [
         "rg sharma",
         2008,
         399
        ],
        [
         "v sehwag",
         2008,
         399
        ],
        [
         "r dravid",
         2008,
         370
        ],
        [
         "sc ganguly",
         2008,
         349
        ],
        [
         "s dhawan",
         2008,
         340
        ],
        [
         "kc sangakkara",
         2008,
         319
        ],
        [
         "dj hussey",
         2008,
         318
        ],
        [
         "rv uthappa",
         2008,
         316
        ],
        [
         "sa asnodkar",
         2008,
         311
        ],
        [
         "yuvraj singh",
         2008,
         299
        ],
        [
         "pa patel",
         2008,
         297
        ],
        [
         "y venugopal rao",
         2008,
         283
        ],
        [
         "ja morkel",
         2008,
         235
        ],
        [
         "mv boucher",
         2008,
         225
        ],
        [
         "jr hopes",
         2008,
         221
        ],
        [
         "am nayar",
         2008,
         205
        ],
        [
         "jh kallis",
         2008,
         199
        ],
        [
         "salman butt",
         2008,
         192
        ],
        [
         "sp fleming",
         2008,
         192
        ],
        [
         "s badrinath",
         2008,
         192
        ],
        [
         "bb mccullum",
         2008,
         188
        ],
        [
         "sr tendulkar",
         2008,
         188
        ],
        [
         "dpmd jayawardene",
         2008,
         179
        ],
        [
         "ml hayden",
         2008,
         179
        ],
        [
         "m kaif",
         2008,
         176
        ],
        [
         "dj bravo",
         2008,
         175
        ],
        [
         "mek hussey",
         2008,
         168
        ],
        [
         "hh gibbs",
         2008,
         167
        ],
        [
         "v kohli",
         2008,
         165
        ],
        [
         "a symonds",
         2008,
         161
        ],
        [
         "wp saha",
         2008,
         159
        ],
        [
         "lr shukla",
         2008,
         157
        ],
        [
         "vvs laxman",
         2008,
         155
        ],
        [
         "la pomersbach",
         2008,
         152
        ],
        [
         "lrpl taylor",
         2008,
         149
        ],
        [
         "sm pollock",
         2008,
         147
        ],
        [
         "kd karthik",
         2008,
         145
        ],
        [
         "s vidyut",
         2008,
         145
        ],
        [
         "ra jadeja",
         2008,
         134
        ],
        [
         "ik pathan",
         2008,
         130
        ],
        [
         "mf maharoof",
         2008,
         125
        ],
        [
         "kamran akmal",
         2008,
         124
        ],
        [
         "misbahulhaq",
         2008,
         117
        ],
        [
         "w jaffer",
         2008,
         115
        ],
        [
         "sb styris",
         2008,
         112
        ],
        [
         "p kumar",
         2008,
         112
        ],
        [
         "cl white",
         2008,
         109
        ],
        [
         "db ravi teja",
         2008,
         108
        ],
        [
         "mk tiwary",
         2008,
         104
        ],
        [
         "db das",
         2008,
         103
        ],
        [
         "nk patel",
         2008,
         103
        ],
        [
         "tm dilshan",
         2008,
         102
        ],
        [
         "ab de villiers",
         2008,
         95
        ],
        [
         "sm katich",
         2008,
         95
        ],
        [
         "pp chawla",
         2008,
         89
        ],
        [
         "sp goswami",
         2008,
         82
        ],
        [
         "shahid afridi",
         2008,
         81
        ],
        [
         "k goel",
         2008,
         76
        ],
        [
         "rr sarwan",
         2008,
         73
        ],
        [
         "sk warne",
         2008,
         69
        ],
        [
         "yv takawale",
         2008,
         69
        ],
        [
         "mohammad hafeez",
         2008,
         64
        ],
        [
         "ab agarkar",
         2008,
         54
        ],
        [
         "shoaib malik",
         2008,
         51
        ],
        [
         "ut yadav",
         2008,
         49
        ],
        [
         "sb bangar",
         2008,
         47
        ],
        [
         "b akhil",
         2008,
         46
        ],
        [
         "dr smith",
         2008,
         45
        ],
        [
         "a chopra",
         2008,
         42
        ],
        [
         "lpc silva",
         2008,
         40
        ],
        [
         "rt ponting",
         2008,
         39
        ],
        [
         "umar gul",
         2008,
         39
        ],
        [
         "dj thornely",
         2008,
         39
        ],
        [
         "a mishra",
         2008,
         37
        ],
        [
         "sohail tanvir",
         2008,
         35
        ],
        [
         "ms gony",
         2008,
         35
        ],
        [
         "m rawat",
         2008,
         34
        ],
        [
         "r bhatia",
         2008,
         34
        ],
        [
         "l ronchi",
         2008,
         34
        ],
        [
         "z khan",
         2008,
         33
        ],
        [
         "d salunkhe",
         2008,
         33
        ],
        [
         "pr shah",
         2008,
         32
        ],
        [
         "t taibu",
         2008,
         31
        ],
        [
         "m kartik",
         2008,
         30
        ],
        [
         "harbhajan singh",
         2008,
         30
        ],
        [
         "rr powar",
         2008,
         28
        ],
        [
         "rp singh",
         2008,
         27
        ],
        [
         "wa mota",
         2008,
         26
        ],
        [
         "ss tiwary",
         2008,
         26
        ],
        [
         "s chanderpaul",
         2008,
         25
        ],
        [
         "r vinay kumar",
         2008,
         25
        ],
        [
         "ma khote",
         2008,
         24
        ],
        [
         "j arunkumar",
         2008,
         23
        ],
        [
         "b chipli",
         2008,
         20
        ],
        [
         "jdp oram",
         2008,
         18
        ],
        [
         "ds lehmann",
         2008,
         18
        ],
        [
         "b lee",
         2008,
         17
        ],
        [
         "joginder sharma",
         2008,
         16
        ],
        [
         "ck kapugedera",
         2008,
         16
        ],
        [
         "vy mahesh",
         2008,
         15
        ],
        [
         "wpujc vaas",
         2008,
         15
        ],
        [
         "a kumble",
         2008,
         13
        ],
        [
         "dt patil",
         2008,
         13
        ],
        [
         "bj hodge",
         2008,
         12
        ],
        [
         "sd chitnis",
         2008,
         12
        ],
        [
         "m ntini",
         2008,
         11
        ],
        [
         "i sharma",
         2008,
         11
        ],
        [
         "dnt zoysa",
         2008,
         11
        ],
        [
         "t kohli",
         2008,
         10
        ],
        [
         "ad mascarenhas",
         2008,
         9
        ],
        [
         "aa noffke",
         2008,
         9
        ],
        [
         "rr raje",
         2008,
         8
        ],
        [
         "tm srivastava",
         2008,
         8
        ],
        [
         "sb joshi",
         2008,
         6
        ],
        [
         "pankaj singh",
         2008,
         5
        ],
        [
         "sk trivedi",
         2008,
         5
        ],
        [
         "gd mcgrath",
         2008,
         4
        ],
        [
         "am rahane",
         2008,
         4
        ],
        [
         "s sohal",
         2008,
         4
        ],
        [
         "vrv singh",
         2008,
         4
        ],
        [
         "mk pandey",
         2008,
         3
        ],
        [
         "mohammad asif",
         2008,
         3
        ],
        [
         "younis khan",
         2008,
         3
        ],
        [
         "d kalyankrishna",
         2008,
         3
        ],
        [
         "pj sangwan",
         2008,
         2
        ],
        [
         "ab dinda",
         2008,
         2
        ],
        [
         "pp ojha",
         2008,
         2
        ],
        [
         "shoaib akhtar",
         2008,
         2
        ],
        [
         "dw steyn",
         2008,
         2
        ],
        [
         "ds kulkarni",
         2008,
         2
        ],
        [
         "crd fernando",
         2008,
         2
        ],
        [
         "a nehra",
         2008,
         2
        ],
        [
         "vs yeligati",
         2008,
         2
        ],
        [
         "h das",
         2008,
         2
        ],
        [
         "dp vijaykumar",
         2008,
         1
        ],
        [
         "pm sarvesh kumar",
         2008,
         1
        ],
        [
         "iqbal abdulla",
         2008,
         1
        ],
        [
         "s anirudha",
         2008,
         1
        ],
        [
         "m muralitharan",
         2008,
         0
        ],
        [
         "mm patel",
         2008,
         0
        ],
        [
         "a mukund",
         2008,
         0
        ],
        [
         "l balaji",
         2008,
         0
        ],
        [
         "abdur razzak",
         2008,
         0
        ],
        [
         "s sreesanth",
         2008,
         0
        ],
        [
         "u kaul",
         2008,
         0
        ],
        [
         "ml hayden",
         2009,
         571
        ],
        [
         "ac gilchrist",
         2009,
         486
        ],
        [
         "ab de villiers",
         2009,
         459
        ],
        [
         "sk raina",
         2009,
         433
        ],
        [
         "tm dilshan",
         2009,
         414
        ],
        [
         "jp duminy",
         2009,
         372
        ],
        [
         "hh gibbs",
         2009,
         371
        ],
        [
         "bj hodge",
         2009,
         365
        ],
        [
         "sr tendulkar",
         2009,
         363
        ],
        [
         "jh kallis",
         2009,
         360
        ],
        [
         "rg sharma",
         2009,
         354
        ],
        [
         "yuvraj singh",
         2009,
         340
        ],
        [
         "ms dhoni",
         2009,
         332
        ],
        [
         "kc sangakkara",
         2009,
         332
        ],
        [
         "ra jadeja",
         2009,
         293
        ],
        [
         "kd karthik",
         2009,
         288
        ],
        [
         "g gambhir",
         2009,
         284
        ],
        [
         "bb mccullum",
         2009,
         278
        ],
        [
         "lrpl taylor",
         2009,
         274
        ],
        [
         "r dravid",
         2009,
         271
        ],
        [
         "yk pathan",
         2009,
         261
        ],
        [
         "a symonds",
         2009,
         248
        ],
        [
         "v kohli",
         2009,
         246
        ],
        [
         "tl suman",
         2009,
         237
        ],
        [
         "st jayasuriya",
         2009,
         219
        ],
        [
         "dpmd jayawardene",
         2009,
         219
        ],
        [
         "dj bravo",
         2009,
         217
        ],
        [
         "dr smith",
         2009,
         215
        ],
        [
         "gc smith",
         2009,
         208
        ],
        [
         "ik pathan",
         2009,
         196
        ],
        [
         "v sehwag",
         2009,
         195
        ],
        [
         "am nayar",
         2009,
         191
        ],
        [
         "ch gayle",
         2009,
         184
        ],
        [
         "sc ganguly",
         2009,
         183
        ],
        [
         "s badrinath",
         2009,
         177
        ],
        [
         "rv uthappa",
         2009,
         175
        ],
        [
         "nv ojha",
         2009,
         168
        ],
        [
         "mk pandey",
         2009,
         167
        ],
        [
         "da warner",
         2009,
         163
        ],
        [
         "mn van wyk",
         2009,
         163
        ],
        [
         "am rahane",
         2009,
         143
        ],
        [
         "mv boucher",
         2009,
         143
        ],
        [
         "pa patel",
         2009,
         142
        ],
        [
         "sm katich",
         2009,
         141
        ],
        [
         "rs bopara",
         2009,
         138
        ],
        [
         "y venugopal rao",
         2009,
         124
        ],
        [
         "k goel",
         2009,
         124
        ],
        [
         "re van der merwe",
         2009,
         122
        ],
        [
         "s sohal",
         2009,
         115
        ],
        [
         "sk warne",
         2009,
         108
        ],
        [
         "rj quiney",
         2009,
         103
        ],
        [
         "sa asnodkar",
         2009,
         98
        ],
        [
         "ja morkel",
         2009,
         97
        ],
        [
         "dj hussey",
         2009,
         93
        ],
        [
         "kp pietersen",
         2009,
         92
        ],
        [
         "jdp oram",
         2009,
         88
        ],
        [
         "harbhajan singh",
         2009,
         84
        ],
        [
         "lr shukla",
         2009,
         83
        ],
        [
         "la carseldine",
         2009,
         80
        ],
        [
         "as raut",
         2009,
         78
        ],
        [
         "m manhas",
         2009,
         75
        ],
        [
         "wp saha",
         2009,
         72
        ],
        [
         "aa bilakhia",
         2009,
         67
        ],
        [
         "ab agarkar",
         2009,
         66
        ],
        [
         "db ravi teja",
         2009,
         65
        ],
        [
         "p kumar",
         2009,
         65
        ],
        [
         "a flintoff",
         2009,
         62
        ],
        [
         "m vijay",
         2009,
         60
        ],
        [
         "jd ryder",
         2009,
         56
        ],
        [
         "pr shah",
         2009,
         53
        ],
        [
         "sp goswami",
         2009,
         53
        ],
        [
         "yashpal singh",
         2009,
         47
        ],
        [
         "r vinay kumar",
         2009,
         47
        ],
        [
         "j botha",
         2009,
         46
        ],
        [
         "gj bailey",
         2009,
         45
        ],
        [
         "s dhawan",
         2009,
         40
        ],
        [
         "la pomersbach",
         2009,
         40
        ],
        [
         "ad mascarenhas",
         2009,
         39
        ],
        [
         "mc henriques",
         2009,
         38
        ],
        [
         "dl vettori",
         2009,
         34
        ],
        [
         "mm patel",
         2009,
         33
        ],
        [
         "pp chawla",
         2009,
         31
        ],
        [
         "wa mota",
         2009,
         30
        ],
        [
         "wpujc vaas",
         2009,
         30
        ],
        [
         "b lee",
         2009,
         28
        ],
        [
         "a mishra",
         2009,
         26
        ],
        [
         "rr powar",
         2009,
         23
        ],
        [
         "m kartik",
         2009,
         21
        ],
        [
         "rj harris",
         2009,
         21
        ],
        [
         "mf maharoof",
         2009,
         21
        ],
        [
         "sb jakati",
         2009,
         20
        ],
        [
         "joginder sharma",
         2009,
         20
        ],
        [
         "y nagar",
         2009,
         20
        ],
        [
         "r bishnoi",
         2009,
         19
        ],
        [
         "vvs laxman",
         2009,
         19
        ],
        [
         "yv takawale",
         2009,
         18
        ],
        [
         "nk patel",
         2009,
         18
        ],
        [
         "b akhil",
         2009,
         17
        ],
        [
         "a kumble",
         2009,
         16
        ],
        [
         "i sharma",
         2009,
         16
        ],
        [
         "m rawat",
         2009,
         16
        ],
        [
         "ad mathews",
         2009,
         16
        ],
        [
         "w jaffer",
         2009,
         15
        ],
        [
         "gr napier",
         2009,
         15
        ],
        [
         "sb styris",
         2009,
         14
        ],
        [
         "ss tiwary",
         2009,
         13
        ],
        [
         "ms gony",
         2009,
         13
        ],
        [
         "rr raje",
         2009,
         12
        ],
        [
         "a chopra",
         2009,
         11
        ],
        [
         "t henderson",
         2009,
         11
        ],
        [
         "d du preez",
         2009,
         10
        ],
        [
         "sk trivedi",
         2009,
         9
        ],
        [
         "ds kulkarni",
         2009,
         9
        ],
        [
         "mk tiwary",
         2009,
         9
        ],
        [
         "r bhatia",
         2009,
         8
        ],
        [
         "m muralitharan",
         2009,
         8
        ],
        [
         "z khan",
         2009,
         8
        ],
        [
         "rp singh",
         2009,
         8
        ],
        [
         "sm harwood",
         2009,
         8
        ],
        [
         "r ashwin",
         2009,
         8
        ],
        [
         "m morkel",
         2009,
         8
        ],
        [
         "an ghosh",
         2009,
         7
        ],
        [
         "pc valthaty",
         2009,
         6
        ],
        [
         "pj sangwan",
         2009,
         6
        ],
        [
         "sd chitnis",
         2009,
         6
        ],
        [
         "ss shaikh",
         2009,
         6
        ],
        [
         "s sreesanth",
         2009,
         5
        ],
        [
         "l balaji",
         2009,
         4
        ],
        [
         "fh edwards",
         2009,
         4
        ],
        [
         "ab mcdonald",
         2009,
         3
        ],
        [
         "kamran khan",
         2009,
         3
        ],
        [
         "mashrafe mortaza",
         2009,
         2
        ],
        [
         "ab dinda",
         2009,
         2
        ],
        [
         "sb bangar",
         2009,
         2
        ],
        [
         "t thushara",
         2009,
         2
        ],
        [
         "mohammad ashraful",
         2009,
         2
        ],
        [
         "pp ojha",
         2009,
         1
        ],
        [
         "shoaib ahmed",
         2009,
         1
        ],
        [
         "a singh",
         2009,
         1
        ],
        [
         "kv sharma",
         2009,
         1
        ],
        [
         "t kohli",
         2009,
         1
        ],
        [
         "pankaj singh",
         2009,
         1
        ],
        [
         "a nehra",
         2009,
         1
        ],
        [
         "baw mendis",
         2009,
         0
        ],
        [
         "sl malinga",
         2009,
         0
        ],
        [
         "dw steyn",
         2009,
         0
        ],
        [
         "c nanda",
         2009,
         0
        ],
        [
         "l ronchi",
         2009,
         0
        ],
        [
         "tm srivastava",
         2009,
         0
        ],
        [
         "kp appanna",
         2009,
         0
        ],
        [
         "sr tendulkar",
         2010,
         615
        ],
        [
         "jh kallis",
         2010,
         566
        ],
        [
         "sk raina",
         2010,
         520
        ],
        [
         "sc ganguly",
         2010,
         493
        ],
        [
         "m vijay",
         2010,
         458
        ],
        [
         "dpmd jayawardene",
         2010,
         443
        ],
        [
         "a symonds",
         2010,
         429
        ],
        [
         "ss tiwary",
         2010,
         417
        ],
        [
         "rg sharma",
         2010,
         403
        ],
        [
         "nv ojha",
         2010,
         376
        ],
        [
         "rv uthappa",
         2010,
         374
        ],
        [
         "kc sangakkara",
         2010,
         357
        ],
        [
         "s badrinath",
         2010,
         355
        ],
        [
         "at rayudu",
         2010,
         354
        ],
        [
         "v sehwag",
         2010,
         352
        ],
        [
         "ml hayden",
         2010,
         346
        ],
        [
         "yk pathan",
         2010,
         332
        ],
        [
         "tl suman",
         2010,
         307
        ],
        [
         "v kohli",
         2010,
         306
        ],
        [
         "ch gayle",
         2010,
         290
        ],
        [
         "ms dhoni",
         2010,
         287
        ],
        [
         "ac gilchrist",
         2010,
         285
        ],
        [
         "mj lumb",
         2010,
         278
        ],
        [
         "kd karthik",
         2010,
         278
        ],
        [
         "g gambhir",
         2010,
         277
        ],
        [
         "ik pathan",
         2010,
         276
        ],
        [
         "da warner",
         2010,
         276
        ],
        [
         "ka pollard",
         2010,
         273
        ],
        [
         "hh gibbs",
         2010,
         267
        ],
        [
         "yuvraj singh",
         2010,
         258
        ],
        [
         "r dravid",
         2010,
         256
        ],
        [
         "rs bopara",
         2010,
         248
        ],
        [
         "mk pandey",
         2010,
         248
        ],
        [
         "mk tiwary",
         2010,
         236
        ],
        [
         "kp pietersen",
         2010,
         236
        ],
        [
         "ad mathews",
         2010,
         232
        ],
        [
         "ms bisla",
         2010,
         214
        ],
        [
         "pd collingwood",
         2010,
         203
        ],
        [
         "ja morkel",
         2010,
         198
        ],
        [
         "s dhawan",
         2010,
         187
        ],
        [
         "aa jhunjhunwala",
         2010,
         183
        ],
        [
         "sr watson",
         2010,
         181
        ],
        [
         "ac voges",
         2010,
         181
        ],
        [
         "md mishra",
         2010,
         164
        ],
        [
         "fy fazal",
         2010,
         164
        ],
        [
         "jp duminy",
         2010,
         157
        ],
        [
         "m manhas",
         2010,
         157
        ],
        [
         "se marsh",
         2010,
         147
        ],
        [
         "ca pujara",
         2010,
         122
        ],
        [
         "oa shah",
         2010,
         115
        ],
        [
         "bb mccullum",
         2010,
         114
        ],
        [
         "r sathish",
         2010,
         112
        ],
        [
         "ab de villiers",
         2010,
         111
        ],
        [
         "p dogra",
         2010,
         107
        ],
        [
         "bj hodge",
         2010,
         99
        ],
        [
         "harbhajan singh",
         2010,
         97
        ],
        [
         "dj hussey",
         2010,
         94
        ],
        [
         "lrpl taylor",
         2010,
         88
        ],
        [
         "km jadhav",
         2010,
         76
        ],
        [
         "pa patel",
         2010,
         72
        ],
        [
         "wp saha",
         2010,
         67
        ],
        [
         "r mclaren",
         2010,
         66
        ],
        [
         "ab mcdonald",
         2010,
         65
        ],
        [
         "vvs laxman",
         2010,
         64
        ],
        [
         "anirudh singh",
         2010,
         63
        ],
        [
         "pp chawla",
         2010,
         62
        ],
        [
         "dj bravo",
         2010,
         61
        ],
        [
         "am nayar",
         2010,
         58
        ],
        [
         "as raut",
         2010,
         56
        ],
        [
         "ap tare",
         2010,
         50
        ],
        [
         "cl white",
         2010,
         48
        ],
        [
         "rj harris",
         2010,
         45
        ],
        [
         "tm dilshan",
         2010,
         44
        ],
        [
         "gc smith",
         2010,
         44
        ],
        [
         "ab barath",
         2010,
         42
        ],
        [
         "ab agarkar",
         2010,
         39
        ],
        [
         "a mishra",
         2010,
         38
        ],
        [
         "mek hussey",
         2010,
         37
        ],
        [
         "lr shukla",
         2010,
         36
        ],
        [
         "b sumanth",
         2010,
         35
        ],
        [
         "ejg morgan",
         2010,
         35
        ],
        [
         "y venugopal rao",
         2010,
         34
        ],
        [
         "ap dole",
         2010,
         34
        ],
        [
         "st jayasuriya",
         2010,
         33
        ],
        [
         "dl vettori",
         2010,
         33
        ],
        [
         "mf maharoof",
         2010,
         31
        ],
        [
         "r ashwin",
         2010,
         30
        ],
        [
         "wpujc vaas",
         2010,
         30
        ],
        [
         "s anirudha",
         2010,
         30
        ],
        [
         "r sharma",
         2010,
         29
        ],
        [
         "mr marsh",
         2010,
         28
        ],
        [
         "m kaif",
         2010,
         28
        ],
        [
         "s sreesanth",
         2010,
         27
        ],
        [
         "r vinay kumar",
         2010,
         27
        ],
        [
         "s sriram",
         2010,
         27
        ],
        [
         "jm kemp",
         2010,
         26
        ],
        [
         "z khan",
         2010,
         24
        ],
        [
         "r bhatia",
         2010,
         24
        ],
        [
         "dr smith",
         2010,
         22
        ],
        [
         "m kartik",
         2010,
         22
        ],
        [
         "a nehra",
         2010,
         22
        ],
        [
         "aj finch",
         2010,
         21
        ],
        [
         "sk trivedi",
         2010,
         20
        ],
        [
         "dr martyn",
         2010,
         19
        ],
        [
         "de bollinger",
         2010,
         18
        ],
        [
         "l balaji",
         2010,
         18
        ],
        [
         "gj bailey",
         2010,
         18
        ],
        [
         "k goel",
         2010,
         18
        ],
        [
         "s narwal",
         2010,
         14
        ],
        [
         "c madan",
         2010,
         14
        ],
        [
         "mv boucher",
         2010,
         13
        ],
        [
         "dw steyn",
         2010,
         13
        ],
        [
         "sw tait",
         2010,
         12
        ],
        [
         "ad mascarenhas",
         2010,
         12
        ],
        [
         "mc henriques",
         2010,
         11
        ],
        [
         "b lee",
         2010,
         11
        ],
        [
         "pj sangwan",
         2010,
         10
        ],
        [
         "t thushara",
         2010,
         10
        ],
        [
         "sk warne",
         2010,
         10
        ],
        [
         "kaj roach",
         2010,
         10
        ],
        [
         "rp singh",
         2010,
         9
        ],
        [
         "m morkel",
         2010,
         9
        ],
        [
         "bipul sharma",
         2010,
         9
        ],
        [
         "jaskaran singh",
         2010,
         8
        ],
        [
         "sp goswami",
         2010,
         8
        ],
        [
         "str binny",
         2010,
         8
        ],
        [
         "a kumble",
         2010,
         6
        ],
        [
         "vs malik",
         2010,
         6
        ],
        [
         "i sharma",
         2010,
         6
        ],
        [
         "rr powar",
         2010,
         5
        ],
        [
         "sa asnodkar",
         2010,
         5
        ],
        [
         "a mithun",
         2010,
         5
        ],
        [
         "dp nannes",
         2010,
         4
        ],
        [
         "p kumar",
         2010,
         4
        ],
        [
         "mm patel",
         2010,
         4
        ],
        [
         "a uniyal",
         2010,
         4
        ],
        [
         "an ahmed",
         2010,
         4
        ],
        [
         "mandeep singh",
         2010,
         4
        ],
        [
         "rs sodhi",
         2010,
         4
        ],
        [
         "pp ojha",
         2010,
         3
        ],
        [
         "s tyagi",
         2010,
         3
        ],
        [
         "ut yadav",
         2010,
         3
        ],
        [
         "kb arun karthik",
         2010,
         3
        ],
        [
         "j theron",
         2010,
         2
        ],
        [
         "aa bilakhia",
         2010,
         2
        ],
        [
         "ms gony",
         2010,
         2
        ],
        [
         "kp appanna",
         2010,
         2
        ],
        [
         "crd fernando",
         2010,
         2
        ],
        [
         "rs gavaskar",
         2010,
         2
        ],
        [
         "m muralitharan",
         2010,
         1
        ],
        [
         "re van der merwe",
         2010,
         1
        ],
        [
         "y nagar",
         2010,
         1
        ],
        [
         "pankaj singh",
         2010,
         1
        ],
        [
         "sj srivastava",
         2010,
         1
        ],
        [
         "sl malinga",
         2010,
         1
        ],
        [
         "baw mendis",
         2010,
         1
        ],
        [
         "se bond",
         2010,
         1
        ],
        [
         "ya abdulla",
         2010,
         0
        ],
        [
         "s ladda",
         2010,
         0
        ],
        [
         "iqbal abdulla",
         2010,
         0
        ],
        [
         "ab dinda",
         2010,
         0
        ],
        [
         "ck langeveldt",
         2010,
         0
        ],
        [
         "harmeet singh",
         2010,
         0
        ],
        [
         "ag paunikar",
         2010,
         0
        ],
        [
         "ch gayle",
         2011,
         598
        ],
        [
         "v kohli",
         2011,
         557
        ],
        [
         "sr tendulkar",
         2011,
         553
        ],
        [
         "se marsh",
         2011,
         500
        ],
        [
         "mek hussey",
         2011,
         492
        ],
        [
         "pc valthaty",
         2011,
         453
        ],
        [
         "sk raina",
         2011,
         437
        ],
        [
         "m vijay",
         2011,
         434
        ],
        [
         "v sehwag",
         2011,
         424
        ],
        [
         "jh kallis",
         2011,
         424
        ],
        [
         "s dhawan",
         2011,
         400
        ],
        [
         "at rayudu",
         2011,
         394
        ],
        [
         "s badrinath",
         2011,
         394
        ],
        [
         "ms dhoni",
         2011,
         391
        ],
        [
         "ac gilchrist",
         2011,
         378
        ],
        [
         "g gambhir",
         2011,
         373
        ],
        [
         "rg sharma",
         2011,
         372
        ],
        [
         "kc sangakkara",
         2011,
         358
        ],
        [
         "mk tiwary",
         2011,
         354
        ],
        [
         "bb mccullum",
         2011,
         351
        ],
        [
         "yuvraj singh",
         2011,
         343
        ],
        [
         "r dravid",
         2011,
         339
        ],
        [
         "y venugopal rao",
         2011,
         336
        ],
        [
         "sr watson",
         2011,
         329
        ],
        [
         "da warner",
         2011,
         324
        ],
        [
         "ab de villiers",
         2011,
         306
        ],
        [
         "dpmd jayawardene",
         2011,
         299
        ],
        [
         "jd ryder",
         2011,
         288
        ],
        [
         "bj hodge",
         2011,
         285
        ],
        [
         "yk pathan",
         2011,
         283
        ],
        [
         "kd karthik",
         2011,
         282
        ],
        [
         "ra jadeja",
         2011,
         282
        ],
        [
         "rv uthappa",
         2011,
         263
        ],
        [
         "s sohal",
         2011,
         249
        ],
        [
         "mk pandey",
         2011,
         246
        ],
        [
         "j botha",
         2011,
         230
        ],
        [
         "tm dilshan",
         2011,
         226
        ],
        [
         "b chipli",
         2011,
         207
        ],
        [
         "jp duminy",
         2011,
         204
        ],
        [
         "pa patel",
         2011,
         202
        ],
        [
         "jr hopes",
         2011,
         196
        ],
        [
         "ss tiwary",
         2011,
         187
        ],
        [
         "dt christian",
         2011,
         183
        ],
        [
         "db ravi teja",
         2011,
         182
        ],
        [
         "al menaria",
         2011,
         180
        ],
        [
         "lrpl taylor",
         2011,
         180
        ],
        [
         "nv ojha",
         2011,
         160
        ],
        [
         "ik pathan",
         2011,
         150
        ],
        [
         "ka pollard",
         2011,
         145
        ],
        [
         "ma agarwal",
         2011,
         137
        ],
        [
         "ja morkel",
         2011,
         137
        ],
        [
         "ejg morgan",
         2011,
         137
        ],
        [
         "a symonds",
         2011,
         135
        ],
        [
         "ac blizzard",
         2011,
         120
        ],
        [
         "am rahane",
         2011,
         120
        ],
        [
         "m manhas",
         2011,
         114
        ],
        [
         "y nagar",
         2011,
         111
        ],
        [
         "jec franklin",
         2011,
         107
        ],
        [
         "rn ten doeschate",
         2011,
         107
        ],
        [
         "cl white",
         2011,
         104
        ],
        [
         "harbhajan singh",
         2011,
         103
        ],
        [
         "dj jacobs",
         2011,
         92
        ],
        [
         "r mclaren",
         2011,
         90
        ],
        [
         "s anirudha",
         2011,
         83
        ],
        [
         "tr birt",
         2011,
         75
        ],
        [
         "ms bisla",
         2011,
         72
        ],
        [
         "m klinger",
         2011,
         72
        ],
        [
         "wp saha",
         2011,
         68
        ],
        [
         "a mishra",
         2011,
         68
        ],
        [
         "md mishra",
         2011,
         67
        ],
        [
         "tl suman",
         2011,
         65
        ],
        [
         "dj hussey",
         2011,
         64
        ],
        [
         "as raut",
         2011,
         60
        ],
        [
         "am nayar",
         2011,
         60
        ],
        [
         "la pomersbach",
         2011,
         51
        ],
        [
         "sc ganguly",
         2011,
         50
        ],
        [
         "mr marsh",
         2011,
         50
        ],
        [
         "r vinay kumar",
         2011,
         50
        ],
        [
         "cj ferguson",
         2011,
         48
        ],
        [
         "ag paunikar",
         2011,
         48
        ],
        [
         "pp chawla",
         2011,
         48
        ],
        [
         "aj finch",
         2011,
         47
        ],
        [
         "mandeep singh",
         2011,
         47
        ],
        [
         "rv gomez",
         2011,
         46
        ],
        [
         "sunny singh",
         2011,
         43
        ],
        [
         "gc smith",
         2011,
         42
        ],
        [
         "m kaif",
         2011,
         41
        ],
        [
         "vvs laxman",
         2011,
         38
        ],
        [
         "wd parnell",
         2011,
         37
        ],
        [
         "str binny",
         2011,
         37
        ],
        [
         "m morkel",
         2011,
         36
        ],
        [
         "dw steyn",
         2011,
         36
        ],
        [
         "ca pujara",
         2011,
         34
        ],
        [
         "auk pathan",
         2011,
         33
        ],
        [
         "rj harris",
         2011,
         30
        ],
        [
         "sp goswami",
         2011,
         29
        ],
        [
         "shakib al hasan",
         2011,
         29
        ],
        [
         "ir jaggi",
         2011,
         28
        ],
        [
         "a mithun",
         2011,
         27
        ],
        [
         "p kumar",
         2011,
         27
        ],
        [
         "nl mccullum",
         2011,
         26
        ],
        [
         "oa shah",
         2011,
         26
        ],
        [
         "r sathish",
         2011,
         25
        ],
        [
         "r bhatia",
         2011,
         25
        ],
        [
         "r sharma",
         2011,
         24
        ],
        [
         "nltc perera",
         2011,
         23
        ],
        [
         "dl vettori",
         2011,
         23
        ],
        [
         "bipul sharma",
         2011,
         23
        ],
        [
         "ms wade",
         2011,
         22
        ],
        [
         "z khan",
         2011,
         21
        ],
        [
         "ca ingram",
         2011,
         21
        ],
        [
         "fy fazal",
         2011,
         19
        ],
        [
         "y gnaneswara rao",
         2011,
         19
        ],
        [
         "jj van der wath",
         2011,
         18
        ],
        [
         "km jadhav",
         2011,
         18
        ],
        [
         "an ahmed",
         2011,
         18
        ],
        [
         "bj haddin",
         2011,
         18
        ],
        [
         "s rana",
         2011,
         16
        ],
        [
         "j syed mohammad",
         2011,
         15
        ],
        [
         "iqbal abdulla",
         2011,
         15
        ],
        [
         "dh yagnik",
         2011,
         15
        ],
        [
         "harpreet singh",
         2011,
         14
        ],
        [
         "re van der merwe",
         2011,
         14
        ],
        [
         "lr shukla",
         2011,
         14
        ],
        [
         "b akhil",
         2011,
         13
        ],
        [
         "s aravind",
         2011,
         13
        ],
        [
         "rr powar",
         2011,
         11
        ],
        [
         "dj bravo",
         2011,
         11
        ],
        [
         "m kartik",
         2011,
         11
        ],
        [
         "td paine",
         2011,
         10
        ],
        [
         "sw tait",
         2011,
         10
        ],
        [
         "aa jhunjhunwala",
         2011,
         10
        ],
        [
         "sk warne",
         2011,
         10
        ],
        [
         "sd chitnis",
         2011,
         9
        ],
        [
         "sa asnodkar",
         2011,
         9
        ],
        [
         "sl malinga",
         2011,
         8
        ],
        [
         "ab mcdonald",
         2011,
         8
        ],
        [
         "ck langeveldt",
         2011,
         8
        ],
        [
         "i malhotra",
         2011,
         7
        ],
        [
         "kb arun karthik",
         2011,
         7
        ],
        [
         "mv boucher",
         2011,
         6
        ],
        [
         "ab agarkar",
         2011,
         6
        ],
        [
         "b lee",
         2011,
         5
        ],
        [
         "sb styris",
         2011,
         5
        ],
        [
         "pr shah",
         2011,
         5
        ],
        [
         "m muralitharan",
         2011,
         5
        ],
        [
         "i sharma",
         2011,
         4
        ],
        [
         "l balaji",
         2011,
         4
        ],
        [
         "sj srivastava",
         2011,
         4
        ],
        [
         "s sriram",
         2011,
         4
        ],
        [
         "je taylor",
         2011,
         3
        ],
        [
         "r ninan",
         2011,
         3
        ],
        [
         "r ashwin",
         2011,
         2
        ],
        [
         "sb wagh",
         2011,
         2
        ],
        [
         "rp singh",
         2011,
         2
        ],
        [
         "ag murtaza",
         2011,
         2
        ],
        [
         "ubt chand",
         2011,
         2
        ],
        [
         "ds kulkarni",
         2011,
         2
        ],
        [
         "s randiv",
         2011,
         2
        ],
        [
         "a singh",
         2011,
         1
        ],
        [
         "ut yadav",
         2011,
         1
        ],
        [
         "s sreesanth",
         2011,
         1
        ],
        [
         "ac thomas",
         2011,
         1
        ],
        [
         "nj rimmington",
         2011,
         1
        ],
        [
         "p parameswaran",
         2011,
         1
        ],
        [
         "aa chavan",
         2011,
         1
        ],
        [
         "b kumar",
         2011,
         1
        ],
        [
         "sk trivedi",
         2011,
         0
        ],
        [
         "mj lumb",
         2011,
         0
        ],
        [
         "ab dinda",
         2011,
         0
        ],
        [
         "s nadeem",
         2011,
         0
        ],
        [
         "ba bhatt",
         2011,
         0
        ],
        [
         "nd doshi",
         2011,
         0
        ],
        [
         "jdp oram",
         2011,
         0
        ],
        [
         "mm patel",
         2011,
         0
        ],
        [
         "de bollinger",
         2011,
         0
        ],
        [
         "l ablish",
         2011,
         0
        ],
        [
         "vr aaron",
         2011,
         0
        ],
        [
         "joginder sharma",
         2011,
         0
        ],
        [
         "ms gony",
         2011,
         0
        ],
        [
         "ch gayle",
         2012,
         720
        ],
        [
         "g gambhir",
         2012,
         590
        ],
        [
         "s dhawan",
         2012,
         568
        ],
        [
         "am rahane",
         2012,
         560
        ],
        [
         "v sehwag",
         2012,
         495
        ],
        [
         "cl white",
         2012,
         475
        ],
        [
         "r dravid",
         2012,
         462
        ],
        [
         "sk raina",
         2012,
         440
        ],
        [
         "rg sharma",
         2012,
         432
        ],
        [
         "mandeep singh",
         2012,
         431
        ],
        [
         "jh kallis",
         2012,
         408
        ],
        [
         "rv uthappa",
         2012,
         404
        ],
        [
         "f du plessis",
         2012,
         397
        ],
        [
         "dj hussey",
         2012,
         396
        ],
        [
         "dj bravo",
         2012,
         367
        ],
        [
         "v kohli",
         2012,
         358
        ],
        [
         "ms dhoni",
         2012,
         354
        ],
        [
         "spd smith",
         2012,
         350
        ],
        [
         "oa shah",
         2012,
         339
        ],
        [
         "m vijay",
         2012,
         336
        ],
        [
         "se marsh",
         2012,
         336
        ],
        [
         "dpmd jayawardene",
         2012,
         335
        ],
        [
         "at rayudu",
         2012,
         333
        ],
        [
         "sr tendulkar",
         2012,
         324
        ],
        [
         "ab de villiers",
         2012,
         318
        ],
        [
         "kp pietersen",
         2012,
         305
        ],
        [
         "bb mccullum",
         2012,
         289
        ],
        [
         "tm dilshan",
         2012,
         283
        ],
        [
         "sc ganguly",
         2012,
         268
        ],
        [
         "mek hussey",
         2012,
         261
        ],
        [
         "mk tiwary",
         2012,
         260
        ],
        [
         "sr watson",
         2012,
         255
        ],
        [
         "da warner",
         2012,
         252
        ],
        [
         "jd ryder",
         2012,
         252
        ],
        [
         "nv ojha",
         2012,
         251
        ],
        [
         "bj hodge",
         2012,
         245
        ],
        [
         "jp duminy",
         2012,
         244
        ],
        [
         "kd karthik",
         2012,
         238
        ],
        [
         "ma agarwal",
         2012,
         225
        ],
        [
         "ka pollard",
         2012,
         220
        ],
        [
         "al menaria",
         2012,
         214
        ],
        [
         "jec franklin",
         2012,
         214
        ],
        [
         "ms bisla",
         2012,
         213
        ],
        [
         "lrpl taylor",
         2012,
         197
        ],
        [
         "s badrinath",
         2012,
         196
        ],
        [
         "kc sangakkara",
         2012,
         194
        ],
        [
         "pa patel",
         2012,
         193
        ],
        [
         "ra jadeja",
         2012,
         191
        ],
        [
         "yk pathan",
         2012,
         191
        ],
        [
         "azhar mahmood",
         2012,
         186
        ],
        [
         "ss tiwary",
         2012,
         183
        ],
        [
         "ik pathan",
         2012,
         176
        ],
        [
         "ac gilchrist",
         2012,
         168
        ],
        [
         "dr smith",
         2012,
         156
        ],
        [
         "y nagar",
         2012,
         153
        ],
        [
         "dt christian",
         2012,
         145
        ],
        [
         "n saini",
         2012,
         140
        ],
        [
         "mk pandey",
         2012,
         138
        ],
        [
         "y venugopal rao",
         2012,
         132
        ],
        [
         "ad mathews",
         2012,
         127
        ],
        [
         "db das",
         2012,
         126
        ],
        [
         "mn samuels",
         2012,
         124
        ],
        [
         "m manhas",
         2012,
         120
        ],
        [
         "dj harris",
         2012,
         111
        ],
        [
         "harbhajan singh",
         2012,
         108
        ],
        [
         "ja morkel",
         2012,
         107
        ],
        [
         "pp chawla",
         2012,
         106
        ],
        [
         "mj clarke",
         2012,
         98
        ],
        [
         "da miller",
         2012,
         98
        ],
        [
         "str binny",
         2012,
         90
        ],
        [
         "shakib al hasan",
         2012,
         89
        ],
        [
         "ap majumdar",
         2012,
         87
        ],
        [
         "gurkeerat singh",
         2012,
         86
        ],
        [
         "re levi",
         2012,
         83
        ],
        [
         "hh gibbs",
         2012,
         81
        ],
        [
         "lr shukla",
         2012,
         75
        ],
        [
         "pa reddy",
         2012,
         73
        ],
        [
         "bipul sharma",
         2012,
         72
        ],
        [
         "sp goswami",
         2012,
         69
        ],
        [
         "r vinay kumar",
         2012,
         68
        ],
        [
         "sd chitnis",
         2012,
         66
        ],
        [
         "j botha",
         2012,
         58
        ],
        [
         "aj finch",
         2012,
         55
        ],
        [
         "sl malinga",
         2012,
         55
        ],
        [
         "cj ferguson",
         2012,
         50
        ],
        [
         "ad russell",
         2012,
         47
        ],
        [
         "ab mcdonald",
         2012,
         47
        ],
        [
         "am nayar",
         2012,
         45
        ],
        [
         "b lee",
         2012,
         42
        ],
        [
         "b kumar",
         2012,
         40
        ],
        [
         "b chipli",
         2012,
         37
        ],
        [
         "kk cooper",
         2012,
         37
        ],
        [
         "ubt chand",
         2012,
         36
        ],
        [
         "p negi",
         2012,
         36
        ],
        [
         "a ashish reddy",
         2012,
         35
        ],
        [
         "p kumar",
         2012,
         35
        ],
        [
         "r bhatia",
         2012,
         35
        ],
        [
         "rj peterson",
         2012,
         32
        ],
        [
         "dl vettori",
         2012,
         31
        ],
        [
         "pc valthaty",
         2012,
         30
        ],
        [
         "m kartik",
         2012,
         26
        ],
        [
         "dh yagnik",
         2012,
         25
        ],
        [
         "aa jhunjhunwala",
         2012,
         24
        ],
        [
         "rn ten doeschate",
         2012,
         21
        ],
        [
         "dw steyn",
         2012,
         19
        ],
        [
         "wd parnell",
         2012,
         19
        ],
        [
         "ac thomas",
         2012,
         19
        ],
        [
         "s anirudha",
         2012,
         19
        ],
        [
         "ankit sharma",
         2012,
         18
        ],
        [
         "rj harris",
         2012,
         18
        ],
        [
         "r ashwin",
         2012,
         18
        ],
        [
         "ca pujara",
         2012,
         17
        ],
        [
         "a mishra",
         2012,
         16
        ],
        [
         "ir jaggi",
         2012,
         15
        ],
        [
         "tl suman",
         2012,
         15
        ],
        [
         "hv patel",
         2012,
         15
        ],
        [
         "harmeet singh",
         2012,
         15
        ],
        [
         "p dogra",
         2012,
         15
        ],
        [
         "gb hogg",
         2012,
         15
        ],
        [
         "ad mascarenhas",
         2012,
         14
        ],
        [
         "jp faulkner",
         2012,
         14
        ],
        [
         "s aravind",
         2012,
         14
        ],
        [
         "m kaif",
         2012,
         14
        ],
        [
         "daj bracewell",
         2012,
         12
        ],
        [
         "z khan",
         2012,
         12
        ],
        [
         "aa chavan",
         2012,
         11
        ],
        [
         "a nehra",
         2012,
         11
        ],
        [
         "k upadhyay",
         2012,
         11
        ],
        [
         "ds kulkarni",
         2012,
         10
        ],
        [
         "sp narine",
         2012,
         9
        ],
        [
         "cj mckay",
         2012,
         8
        ],
        [
         "sb jakati",
         2012,
         7
        ],
        [
         "j theron",
         2012,
         7
        ],
        [
         "gj maxwell",
         2012,
         6
        ],
        [
         "ca lynn",
         2012,
         6
        ],
        [
         "auk pathan",
         2012,
         6
        ],
        [
         "rp singh",
         2012,
         6
        ],
        [
         "ba bhatt",
         2012,
         6
        ],
        [
         "harpreet singh",
         2012,
         6
        ],
        [
         "m muralitharan",
         2012,
         6
        ],
        [
         "wp saha",
         2012,
         6
        ],
        [
         "sk trivedi",
         2012,
         5
        ],
        [
         "kmdn kulasekara",
         2012,
         5
        ],
        [
         "p awana",
         2012,
         4
        ],
        [
         "pp ojha",
         2012,
         4
        ],
        [
         "db ravi teja",
         2012,
         4
        ],
        [
         "j syed mohammad",
         2012,
         4
        ],
        [
         "ms gony",
         2012,
         4
        ],
        [
         "md mishra",
         2012,
         4
        ],
        [
         "m morkel",
         2012,
         3
        ],
        [
         "de bollinger",
         2012,
         3
        ],
        [
         "nltc perera",
         2012,
         3
        ],
        [
         "ag murtaza",
         2012,
         3
        ],
        [
         "r sharma",
         2012,
         2
        ],
        [
         "bb samantray",
         2012,
         2
        ],
        [
         "mm patel",
         2012,
         2
        ],
        [
         "ut yadav",
         2012,
         2
        ],
        [
         "ab dinda",
         2012,
         2
        ],
        [
         "iqbal abdulla",
         2012,
         2
        ],
        [
         "vr aaron",
         2012,
         1
        ],
        [
         "sa yadav",
         2012,
         0
        ],
        [
         "rr bhatkal",
         2012,
         0
        ],
        [
         "dj jacobs",
         2012,
         0
        ],
        [
         "ac blizzard",
         2012,
         0
        ],
        [
         "a singh",
         2012,
         0
        ],
        [
         "s nadeem",
         2012,
         0
        ],
        [
         "a chandila",
         2012,
         0
        ],
        [
         "v pratap singh",
         2012,
         0
        ],
        [
         "p parameswaran",
         2012,
         0
        ],
        [
         "sunny gupta",
         2012,
         0
        ],
        [
         "mek hussey",
         2013,
         732
        ],
        [
         "ch gayle",
         2013,
         701
        ],
        [
         "v kohli",
         2013,
         636
        ],
        [
         "sk raina",
         2013,
         546
        ],
        [
         "sr watson",
         2013,
         542
        ],
        [
         "rg sharma",
         2013,
         532
        ],
        [
         "kd karthik",
         2013,
         505
        ],
        [
         "am rahane",
         2013,
         488
        ],
        [
         "r dravid",
         2013,
         471
        ],
        [
         "ms dhoni",
         2013,
         458
        ],
        [
         "aj finch",
         2013,
         455
        ],
        [
         "rv uthappa",
         2013,
         430
        ],
        [
         "dr smith",
         2013,
         418
        ],
        [
         "da miller",
         2013,
         417
        ],
        [
         "ka pollard",
         2013,
         414
        ],
        [
         "da warner",
         2013,
         410
        ],
        [
         "g gambhir",
         2013,
         406
        ],
        [
         "ab de villiers",
         2013,
         373
        ],
        [
         "yk pathan",
         2013,
         331
        ],
        [
         "dpmd jayawardene",
         2013,
         331
        ],
        [
         "m vijay",
         2013,
         312
        ],
        [
         "s dhawan",
         2013,
         311
        ],
        [
         "jh kallis",
         2013,
         311
        ],
        [
         "ejg morgan",
         2013,
         307
        ],
        [
         "se marsh",
         2013,
         300
        ],
        [
         "pa patel",
         2013,
         294
        ],
        [
         "ac gilchrist",
         2013,
         294
        ],
        [
         "v sehwag",
         2013,
         294
        ],
        [
         "str binny",
         2013,
         293
        ],
        [
         "bj hodge",
         2013,
         292
        ],
        [
         "sr tendulkar",
         2013,
         283
        ],
        [
         "at rayudu",
         2013,
         264
        ],
        [
         "mandeep singh",
         2013,
         260
        ],
        [
         "ms bisla",
         2013,
         255
        ],
        [
         "gh vihari",
         2013,
         239
        ],
        [
         "yuvraj singh",
         2013,
         238
        ],
        [
         "dj hussey",
         2013,
         235
        ],
        [
         "nltc perera",
         2013,
         233
        ],
        [
         "cl white",
         2013,
         226
        ],
        [
         "sv samson",
         2013,
         206
        ],
        [
         "ra jadeja",
         2013,
         200
        ],
        [
         "azhar mahmood",
         2013,
         196
        ],
        [
         "bj rohrer",
         2013,
         193
        ],
        [
         "djg sammy",
         2013,
         174
        ],
        [
         "ad mathews",
         2013,
         172
        ],
        [
         "mc henriques",
         2013,
         165
        ],
        [
         "m vohra",
         2013,
         161
        ],
        [
         "spd smith",
         2013,
         159
        ],
        [
         "ubt chand",
         2013,
         158
        ],
        [
         "ik pathan",
         2013,
         153
        ],
        [
         "km jadhav",
         2013,
         148
        ],
        [
         "mk tiwary",
         2013,
         146
        ],
        [
         "mr marsh",
         2013,
         140
        ],
        [
         "mk pandey",
         2013,
         136
        ],
        [
         "mc juneja",
         2013,
         125
        ],
        [
         "a ashish reddy",
         2013,
         125
        ],
        [
         "s badrinath",
         2013,
         124
        ],
        [
         "dh yagnik",
         2013,
         124
        ],
        [
         "ap tare",
         2013,
         123
        ],
        [
         "bb samantray",
         2013,
         123
        ],
        [
         "dj bravo",
         2013,
         121
        ],
        [
         "kc sangakkara",
         2013,
         120
        ],
        [
         "harbhajan singh",
         2013,
         116
        ],
        [
         "ss tiwary",
         2013,
         109
        ],
        [
         "gurkeerat singh",
         2013,
         108
        ],
        [
         "r sathish",
         2013,
         108
        ],
        [
         "lj wright",
         2013,
         102
        ],
        [
         "r bhatia",
         2013,
         99
        ],
        [
         "ca pujara",
         2013,
         92
        ],
        [
         "pa reddy",
         2013,
         91
        ],
        [
         "a mishra",
         2013,
         89
        ],
        [
         "kv sharma",
         2013,
         85
        ],
        [
         "rn ten doeschate",
         2013,
         85
        ],
        [
         "db das",
         2013,
         75
        ],
        [
         "tm dilshan",
         2013,
         75
        ],
        [
         "wp saha",
         2013,
         70
        ],
        [
         "r vinay kumar",
         2013,
         70
        ],
        [
         "ma agarwal",
         2013,
         67
        ],
        [
         "am nayar",
         2013,
         66
        ],
        [
         "pp chawla",
         2013,
         64
        ],
        [
         "lrpl taylor",
         2013,
         63
        ],
        [
         "la pomersbach",
         2013,
         58
        ],
        [
         "m morkel",
         2013,
         57
        ],
        [
         "jp faulkner",
         2013,
         57
        ],
        [
         "dw steyn",
         2013,
         53
        ],
        [
         "b kumar",
         2013,
         52
        ],
        [
         "rt ponting",
         2013,
         52
        ],
        [
         "tl suman",
         2013,
         52
        ],
        [
         "ja morkel",
         2013,
         46
        ],
        [
         "p kumar",
         2013,
         45
        ],
        [
         "ms gony",
         2013,
         45
        ],
        [
         "cm gautam",
         2013,
         44
        ],
        [
         "j botha",
         2013,
         43
        ],
        [
         "kb arun karthik",
         2013,
         41
        ],
        [
         "kk cooper",
         2013,
         39
        ],
        [
         "mg johnson",
         2013,
         39
        ],
        [
         "ut yadav",
         2013,
         38
        ],
        [
         "r rampaul",
         2013,
         37
        ],
        [
         "gj maxwell",
         2013,
         36
        ],
        [
         "r ashwin",
         2013,
         35
        ],
        [
         "kw richardson",
         2013,
         34
        ],
        [
         "oa shah",
         2013,
         25
        ],
        [
         "bmaj mendis",
         2013,
         23
        ],
        [
         "s narwal",
         2013,
         23
        ],
        [
         "re van der merwe",
         2013,
         22
        ],
        [
         "r dhawan",
         2013,
         21
        ],
        [
         "sp narine",
         2013,
         21
        ],
        [
         "b lee",
         2013,
         21
        ],
        [
         "kl rahul",
         2013,
         20
        ],
        [
         "a mukund",
         2013,
         19
        ],
        [
         "b chipli",
         2013,
         16
        ],
        [
         "s nadeem",
         2013,
         14
        ],
        [
         "ch morris",
         2013,
         14
        ],
        [
         "db ravi teja",
         2013,
         14
        ],
        [
         "mdkj perera",
         2013,
         14
        ],
        [
         "m manhas",
         2013,
         13
        ],
        [
         "ab agarkar",
         2013,
         12
        ],
        [
         "ad russell",
         2013,
         11
        ],
        [
         "r sharma",
         2013,
         11
        ],
        [
         "x thalaivan sargunam",
         2013,
         10
        ],
        [
         "j syed mohammad",
         2013,
         10
        ],
        [
         "smsm senanayake",
         2013,
         10
        ],
        [
         "sl malinga",
         2013,
         9
        ],
        [
         "nv ojha",
         2013,
         9
        ],
        [
         "l balaji",
         2013,
         9
        ],
        [
         "ab dinda",
         2013,
         9
        ],
        [
         "kk nair",
         2013,
         9
        ],
        [
         "nm coulternile",
         2013,
         9
        ],
        [
         "iqbal abdulla",
         2013,
         8
        ],
        [
         "mn samuels",
         2013,
         8
        ],
        [
         "ua birla",
         2013,
         7
        ],
        [
         "s kaul",
         2013,
         7
        ],
        [
         "q de kock",
         2013,
         6
        ],
        [
         "dt christian",
         2013,
         6
        ],
        [
         "bb mccullum",
         2013,
         6
        ],
        [
         "pc valthaty",
         2013,
         6
        ],
        [
         "parvez rasool",
         2013,
         5
        ],
        [
         "mohammed shami",
         2013,
         5
        ],
        [
         "wd parnell",
         2013,
         5
        ],
        [
         "m rawat",
         2013,
         5
        ],
        [
         "p dogra",
         2013,
         5
        ],
        [
         "ag murtaza",
         2013,
         5
        ],
        [
         "ad mascarenhas",
         2013,
         5
        ],
        [
         "b laughlin",
         2013,
         4
        ],
        [
         "pj sangwan",
         2013,
         4
        ],
        [
         "a chandila",
         2013,
         4
        ],
        [
         "rv gomez",
         2013,
         4
        ],
        [
         "lr shukla",
         2013,
         3
        ],
        [
         "r mclaren",
         2013,
         3
        ],
        [
         "sachin baby",
         2013,
         3
        ],
        [
         "pv tambe",
         2013,
         3
        ],
        [
         "sk trivedi",
         2013,
         3
        ],
        [
         "harmeet singh",
         2013,
         3
        ],
        [
         "pp ojha",
         2013,
         2
        ],
        [
         "as rajpoot",
         2013,
         2
        ],
        [
         "baw mendis",
         2013,
         2
        ],
        [
         "a mithun",
         2013,
         2
        ],
        [
         "rj harris",
         2013,
         2
        ],
        [
         "m kartik",
         2013,
         2
        ],
        [
         "jd unadkat",
         2013,
         2
        ],
        [
         "k upadhyay",
         2013,
         1
        ],
        [
         "a nehra",
         2013,
         1
        ],
        [
         "r shukla",
         2013,
         1
        ],
        [
         "s sreesanth",
         2013,
         1
        ],
        [
         "al menaria",
         2013,
         1
        ],
        [
         "p awana",
         2013,
         1
        ],
        [
         "sw tait",
         2013,
         1
        ],
        [
         "mm sharma",
         2013,
         0
        ],
        [
         "s anirudha",
         2013,
         0
        ],
        [
         "ic pandey",
         2013,
         0
        ],
        [
         "ab mcdonald",
         2013,
         0
        ],
        [
         "sandeep sharma",
         2013,
         0
        ],
        [
         "rv uthappa",
         2014,
         659
        ],
        [
         "dr smith",
         2014,
         565
        ],
        [
         "gj maxwell",
         2014,
         552
        ],
        [
         "da warner",
         2014,
         528
        ],
        [
         "sk raina",
         2014,
         519
        ],
        [
         "v sehwag",
         2014,
         455
        ],
        [
         "da miller",
         2014,
         446
        ],
        [
         "mk pandey",
         2014,
         409
        ],
        [
         "jp duminy",
         2014,
         408
        ],
        [
         "bb mccullum",
         2014,
         405
        ],
        [
         "lmp simmons",
         2014,
         394
        ],
        [
         "rg sharma",
         2014,
         390
        ],
        [
         "ab de villiers",
         2014,
         389
        ],
        [
         "s dhawan",
         2014,
         373
        ],
        [
         "ms dhoni",
         2014,
         371
        ],
        [
         "yuvraj singh",
         2014,
         370
        ],
        [
         "wp saha",
         2014,
         362
        ],
        [
         "at rayudu",
         2014,
         360
        ],
        [
         "v kohli",
         2014,
         359
        ],
        [
         "sv samson",
         2014,
         339
        ],
        [
         "am rahane",
         2014,
         339
        ],
        [
         "kk nair",
         2014,
         330
        ],
        [
         "kd karthik",
         2014,
         325
        ],
        [
         "g gambhir",
         2014,
         324
        ],
        [
         "m vohra",
         2014,
         324
        ],
        [
         "aj finch",
         2014,
         308
        ],
        [
         "f du plessis",
         2014,
         303
        ],
        [
         "kp pietersen",
         2014,
         294
        ],
        [
         "ka pollard",
         2014,
         272
        ],
        [
         "yk pathan",
         2014,
         268
        ],
        [
         "cj anderson",
         2014,
         265
        ],
        [
         "gj bailey",
         2014,
         254
        ],
        [
         "sr watson",
         2014,
         245
        ],
        [
         "shakib al hasan",
         2014,
         228
        ],
        [
         "nv ojha",
         2014,
         226
        ],
        [
         "mek hussey",
         2014,
         209
        ],
        [
         "m vijay",
         2014,
         207
        ],
        [
         "pa patel",
         2014,
         205
        ],
        [
         "ch gayle",
         2014,
         196
        ],
        [
         "jp faulkner",
         2014,
         180
        ],
        [
         "kl rahul",
         2014,
         166
        ],
        [
         "sa yadav",
         2014,
         160
        ],
        [
         "q de kock",
         2014,
         153
        ],
        [
         "mk tiwary",
         2014,
         152
        ],
        [
         "jh kallis",
         2014,
         151
        ],
        [
         "ra jadeja",
         2014,
         146
        ],
        [
         "km jadhav",
         2014,
         146
        ],
        [
         "spd smith",
         2014,
         146
        ],
        [
         "ap tare",
         2014,
         126
        ],
        [
         "ca pujara",
         2014,
         125
        ],
        [
         "str binny",
         2014,
         123
        ],
        [
         "cm gautam",
         2014,
         121
        ],
        [
         "dj hussey",
         2014,
         116
        ],
        [
         "ma agarwal",
         2014,
         115
        ],
        [
         "djg sammy",
         2014,
         108
        ],
        [
         "yv takawale",
         2014,
         104
        ],
        [
         "bj hodge",
         2014,
         101
        ],
        [
         "ma starc",
         2014,
         85
        ],
        [
         "r dhawan",
         2014,
         82
        ],
        [
         "y venugopal rao",
         2014,
         71
        ],
        [
         "s rana",
         2014,
         71
        ],
        [
         "se marsh",
         2014,
         70
        ],
        [
         "r bhatia",
         2014,
         67
        ],
        [
         "ar patel",
         2014,
         62
        ],
        [
         "lrpl taylor",
         2014,
         59
        ],
        [
         "ca lynn",
         2014,
         58
        ],
        [
         "mg johnson",
         2014,
         56
        ],
        [
         "ik pathan",
         2014,
         55
        ],
        [
         "rn ten doeschate",
         2014,
         52
        ],
        [
         "r ashwin",
         2014,
         45
        ],
        [
         "ja morkel",
         2014,
         45
        ],
        [
         "jds neesham",
         2014,
         42
        ],
        [
         "kv sharma",
         2014,
         42
        ],
        [
         "br dunk",
         2014,
         40
        ],
        [
         "am nayar",
         2014,
         39
        ],
        [
         "rr rossouw",
         2014,
         39
        ],
        [
         "kk cooper",
         2014,
         39
        ],
        [
         "m manhas",
         2014,
         35
        ],
        [
         "ds kulkarni",
         2014,
         35
        ],
        [
         "vr aaron",
         2014,
         34
        ],
        [
         "ankit sharma",
         2014,
         34
        ],
        [
         "lr shukla",
         2014,
         31
        ],
        [
         "pp chawla",
         2014,
         31
        ],
        [
         "vh zol",
         2014,
         29
        ],
        [
         "harbhajan singh",
         2014,
         28
        ],
        [
         "mandeep singh",
         2014,
         24
        ],
        [
         "dw steyn",
         2014,
         22
        ],
        [
         "r shukla",
         2014,
         18
        ],
        [
         "jo holder",
         2014,
         16
        ],
        [
         "nj maddinson",
         2014,
         16
        ],
        [
         "r tewatia",
         2014,
         16
        ],
        [
         "r rampaul",
         2014,
         13
        ],
        [
         "hv patel",
         2014,
         13
        ],
        [
         "s gopal",
         2014,
         11
        ],
        [
         "sp narine",
         2014,
         10
        ],
        [
         "mc henriques",
         2014,
         9
        ],
        [
         "dj bravo",
         2014,
         8
        ],
        [
         "z khan",
         2014,
         8
        ],
        [
         "imran tahir",
         2014,
         8
        ],
        [
         "bcj cutting",
         2014,
         8
        ],
        [
         "s nadeem",
         2014,
         7
        ],
        [
         "pv tambe",
         2014,
         5
        ],
        [
         "shivam sharma",
         2014,
         5
        ],
        [
         "tg southee",
         2014,
         4
        ],
        [
         "an ahmed",
         2014,
         4
        ],
        [
         "ab dinda",
         2014,
         4
        ],
        [
         "r vinay kumar",
         2014,
         4
        ],
        [
         "m morkel",
         2014,
         4
        ],
        [
         "pp ojha",
         2014,
         4
        ],
        [
         "a mishra",
         2014,
         4
        ],
        [
         "dh yagnik",
         2014,
         4
        ],
        [
         "s anirudha",
         2014,
         3
        ],
        [
         "mohammed shami",
         2014,
         3
        ],
        [
         "ms bisla",
         2014,
         3
        ],
        [
         "ad russell",
         2014,
         2
        ],
        [
         "s kaul",
         2014,
         2
        ],
        [
         "ut yadav",
         2014,
         2
        ],
        [
         "wd parnell",
         2014,
         2
        ],
        [
         "ubt chand",
         2014,
         2
        ],
        [
         "sl malinga",
         2014,
         2
        ],
        [
         "sandeep sharma",
         2014,
         2
        ],
        [
         "l balaji",
         2014,
         1
        ],
        [
         "jd unadkat",
         2014,
         1
        ],
        [
         "vs malik",
         2014,
         1
        ],
        [
         "m de lange",
         2014,
         1
        ],
        [
         "jj bumrah",
         2014,
         1
        ],
        [
         "mm sharma",
         2014,
         1
        ],
        [
         "kw richardson",
         2014,
         1
        ],
        [
         "karanveer singh",
         2014,
         1
        ],
        [
         "b kumar",
         2014,
         1
        ],
        [
         "ys chahal",
         2014,
         1
        ],
        [
         "p kumar",
         2014,
         1
        ],
        [
         "be hendricks",
         2014,
         0
        ],
        [
         "da warner",
         2015,
         554
        ],
        [
         "lmp simmons",
         2015,
         540
        ],
        [
         "am rahane",
         2015,
         540
        ],
        [
         "ab de villiers",
         2015,
         511
        ],
        [
         "v kohli",
         2015,
         505
        ],
        [
         "ch gayle",
         2015,
         490
        ],
        [
         "rg sharma",
         2015,
         482
        ],
        [
         "ss iyer",
         2015,
         439
        ],
        [
         "bb mccullum",
         2015,
         431
        ],
        [
         "ka pollard",
         2015,
         415
        ],
        [
         "jp duminy",
         2015,
         414
        ],
        [
         "dr smith",
         2015,
         399
        ],
        [
         "f du plessis",
         2015,
         380
        ],
        [
         "sk raina",
         2015,
         374
        ],
        [
         "ms dhoni",
         2015,
         372
        ],
        [
         "rv uthappa",
         2015,
         364
        ],
        [
         "da miller",
         2015,
         357
        ],
        [
         "s dhawan",
         2015,
         347
        ],
        [
         "sr watson",
         2015,
         343
        ],
        [
         "pa patel",
         2015,
         339
        ],
        [
         "g gambhir",
         2015,
         327
        ],
        [
         "ad russell",
         2015,
         326
        ],
        [
         "yk pathan",
         2015,
         310
        ],
        [
         "spd smith",
         2015,
         292
        ],
        [
         "mc henriques",
         2015,
         283
        ],
        [
         "at rayudu",
         2015,
         281
        ],
        [
         "gj bailey",
         2015,
         259
        ],
        [
         "m vijay",
         2015,
         251
        ],
        [
         "wp saha",
         2015,
         249
        ],
        [
         "yuvraj singh",
         2015,
         247
        ],
        [
         "mk pandey",
         2015,
         225
        ],
        [
         "ma agarwal",
         2015,
         213
        ],
        [
         "ar patel",
         2015,
         206
        ],
        [
         "sv samson",
         2015,
         204
        ],
        [
         "dj bravo",
         2015,
         195
        ],
        [
         "km jadhav",
         2015,
         189
        ],
        [
         "ejg morgan",
         2015,
         187
        ],
        [
         "kk nair",
         2015,
         181
        ],
        [
         "sa yadav",
         2015,
         157
        ],
        [
         "mandeep singh",
         2015,
         157
        ],
        [
         "dj hooda",
         2015,
         151
        ],
        [
         "gj maxwell",
         2015,
         146
        ],
        [
         "rs bopara",
         2015,
         145
        ],
        [
         "jp faulkner",
         2015,
         143
        ],
        [
         "ad mathews",
         2015,
         143
        ],
        [
         "kd karthik",
         2015,
         141
        ],
        [
         "kl rahul",
         2015,
         141
        ],
        [
         "nv ojha",
         2015,
         137
        ],
        [
         "ra jadeja",
         2015,
         132
        ],
        [
         "q de kock",
         2015,
         122
        ],
        [
         "d wiese",
         2015,
         121
        ],
        [
         "harbhajan singh",
         2015,
         116
        ],
        [
         "p negi",
         2015,
         115
        ],
        [
         "cj anderson",
         2015,
         114
        ],
        [
         "sn khan",
         2015,
         110
        ],
        [
         "hh pandya",
         2015,
         110
        ],
        [
         "ss tiwary",
         2015,
         109
        ],
        [
         "kv sharma",
         2015,
         104
        ],
        [
         "ubt chand",
         2015,
         102
        ],
        [
         "v sehwag",
         2015,
         99
        ],
        [
         "se marsh",
         2015,
         89
        ],
        [
         "ja morkel",
         2015,
         86
        ],
        [
         "m vohra",
         2015,
         82
        ],
        [
         "mek hussey",
         2015,
         77
        ],
        [
         "a ashish reddy",
         2015,
         73
        ],
        [
         "str binny",
         2015,
         73
        ],
        [
         "ch morris",
         2015,
         70
        ],
        [
         "rn ten doeschate",
         2015,
         61
        ],
        [
         "mk tiwary",
         2015,
         57
        ],
        [
         "pp chawla",
         2015,
         54
        ],
        [
         "r ashwin",
         2015,
         52
        ],
        [
         "j suchith",
         2015,
         48
        ],
        [
         "gh vihari",
         2015,
         38
        ],
        [
         "ms bisla",
         2015,
         37
        ],
        [
         "r dhawan",
         2015,
         36
        ],
        [
         "shakib al hasan",
         2015,
         36
        ],
        [
         "gurkeerat singh",
         2015,
         35
        ],
        [
         "mg johnson",
         2015,
         31
        ],
        [
         "ks williamson",
         2015,
         31
        ],
        [
         "j botha",
         2015,
         31
        ],
        [
         "ut yadav",
         2015,
         29
        ],
        [
         "mm sharma",
         2015,
         28
        ],
        [
         "aj finch",
         2015,
         23
        ],
        [
         "dw steyn",
         2015,
         20
        ],
        [
         "nm coulternile",
         2015,
         20
        ],
        [
         "iqbal abdulla",
         2015,
         20
        ],
        [
         "hv patel",
         2015,
         19
        ],
        [
         "anureet singh",
         2015,
         18
        ],
        [
         "p kumar",
         2015,
         17
        ],
        [
         "b kumar",
         2015,
         17
        ],
        [
         "sa abbott",
         2015,
         15
        ],
        [
         "ap tare",
         2015,
         14
        ],
        [
         "rr rossouw",
         2015,
         14
        ],
        [
         "tg southee",
         2015,
         13
        ],
        [
         "mj mcclenaghan",
         2015,
         13
        ],
        [
         "djg sammy",
         2015,
         13
        ],
        [
         "nltc perera",
         2015,
         12
        ],
        [
         "ma starc",
         2015,
         11
        ],
        [
         "karanveer singh",
         2015,
         11
        ],
        [
         "an ahmed",
         2015,
         10
        ],
        [
         "sandeep sharma",
         2015,
         9
        ],
        [
         "a mishra",
         2015,
         8
        ],
        [
         "sn thakur",
         2015,
         7
        ],
        [
         "gb hogg",
         2015,
         7
        ],
        [
         "ankit sharma",
         2015,
         7
        ],
        [
         "azhar mahmood",
         2015,
         6
        ],
        [
         "vr aaron",
         2015,
         6
        ],
        [
         "sl malinga",
         2015,
         6
        ],
        [
         "imran tahir",
         2015,
         5
        ],
        [
         "m morkel",
         2015,
         4
        ],
        [
         "cm gautam",
         2015,
         4
        ],
        [
         "ds kulkarni",
         2015,
         4
        ],
        [
         "nj maddinson",
         2015,
         4
        ],
        [
         "pv tambe",
         2015,
         3
        ],
        [
         "s nadeem",
         2015,
         2
        ],
        [
         "parvez rasool",
         2015,
         2
        ],
        [
         "rg more",
         2015,
         2
        ],
        [
         "be hendricks",
         2015,
         1
        ],
        [
         "ys chahal",
         2015,
         1
        ],
        [
         "a nehra",
         2015,
         1
        ],
        [
         "dj muthuswami",
         2015,
         1
        ],
        [
         "bipul sharma",
         2015,
         1
        ],
        [
         "j theron",
         2015,
         1
        ],
        [
         "s gopal",
         2015,
         1
        ],
        [
         "pj cummins",
         2015,
         0
        ],
        [
         "s aravind",
         2015,
         0
        ],
        [
         "r vinay kumar",
         2015,
         0
        ],
        [
         "r bhatia",
         2015,
         0
        ],
        [
         "sp narine",
         2015,
         0
        ],
        [
         "v kohli",
         2016,
         962
        ],
        [
         "da warner",
         2016,
         844
        ],
        [
         "ab de villiers",
         2016,
         682
        ],
        [
         "g gambhir",
         2016,
         501
        ],
        [
         "s dhawan",
         2016,
         497
        ],
        [
         "rg sharma",
         2016,
         487
        ],
        [
         "am rahane",
         2016,
         479
        ],
        [
         "m vijay",
         2016,
         453
        ],
        [
         "q de kock",
         2016,
         444
        ],
        [
         "sk raina",
         2016,
         399
        ],
        [
         "kl rahul",
         2016,
         397
        ],
        [
         "rv uthappa",
         2016,
         394
        ],
        [
         "aj finch",
         2016,
         392
        ],
        [
         "yk pathan",
         2016,
         361
        ],
        [
         "bb mccullum",
         2016,
         354
        ],
        [
         "kk nair",
         2016,
         352
        ],
        [
         "kd karthik",
         2016,
         335
        ],
        [
         "at rayudu",
         2016,
         334
        ],
        [
         "dr smith",
         2016,
         320
        ],
        [
         "sv samson",
         2016,
         291
        ],
        [
         "ms dhoni",
         2016,
         284
        ],
        [
         "spd smith",
         2016,
         270
        ],
        [
         "wp saha",
         2016,
         270
        ],
        [
         "jc buttler",
         2016,
         254
        ],
        [
         "mk pandey",
         2016,
         248
        ],
        [
         "kh pandya",
         2016,
         237
        ],
        [
         "yuvraj singh",
         2016,
         236
        ],
        [
         "ch gayle",
         2016,
         227
        ],
        [
         "ka pollard",
         2016,
         208
        ],
        [
         "f du plessis",
         2016,
         206
        ],
        [
         "rr pant",
         2016,
         198
        ],
        [
         "ch morris",
         2016,
         195
        ],
        [
         "jp duminy",
         2016,
         191
        ],
        [
         "ra jadeja",
         2016,
         189
        ],
        [
         "ad russell",
         2016,
         188
        ],
        [
         "mc henriques",
         2016,
         182
        ],
        [
         "sa yadav",
         2016,
         180
        ],
        [
         "gj maxwell",
         2016,
         179
        ],
        [
         "sr watson",
         2016,
         179
        ],
        [
         "pa patel",
         2016,
         177
        ],
        [
         "ss tiwary",
         2016,
         169
        ],
        [
         "m vohra",
         2016,
         161
        ],
        [
         "se marsh",
         2016,
         159
        ],
        [
         "da miller",
         2016,
         157
        ],
        [
         "hm amla",
         2016,
         157
        ],
        [
         "nltc perera",
         2016,
         149
        ],
        [
         "mp stoinis",
         2016,
         146
        ],
        [
         "dj hooda",
         2016,
         138
        ],
        [
         "nv ojha",
         2016,
         136
        ],
        [
         "ut khawaja",
         2016,
         127
        ],
        [
         "ks williamson",
         2016,
         124
        ],
        [
         "ejg morgan",
         2016,
         123
        ],
        [
         "sachin baby",
         2016,
         118
        ],
        [
         "shakib al hasan",
         2016,
         114
        ],
        [
         "gurkeerat singh",
         2016,
         113
        ],
        [
         "ar patel",
         2016,
         111
        ],
        [
         "n rana",
         2016,
         100
        ],
        [
         "dj bravo",
         2016,
         99
        ],
        [
         "harbhajan singh",
         2016,
         92
        ],
        [
         "sw billings",
         2016,
         88
        ],
        [
         "gj bailey",
         2016,
         84
        ],
        [
         "cr brathwaite",
         2016,
         83
        ],
        [
         "jp faulkner",
         2016,
         77
        ],
        [
         "kp pietersen",
         2016,
         73
        ],
        [
         "sn khan",
         2016,
         66
        ],
        [
         "bcj cutting",
         2016,
         65
        ],
        [
         "str binny",
         2016,
         63
        ],
        [
         "mj guptill",
         2016,
         57
        ],
        [
         "p negi",
         2016,
         57
        ],
        [
         "tm head",
         2016,
         53
        ],
        [
         "bipul sharma",
         2016,
         51
        ],
        [
         "a ashish reddy",
         2016,
         47
        ],
        [
         "hh pandya",
         2016,
         44
        ],
        [
         "b kumar",
         2016,
         43
        ],
        [
         "ishan kishan",
         2016,
         42
        ],
        [
         "r ashwin",
         2016,
         41
        ],
        [
         "km jadhav",
         2016,
         38
        ],
        [
         "kv sharma",
         2016,
         36
        ],
        [
         "iqbal abdulla",
         2016,
         36
        ],
        [
         "r bhatia",
         2016,
         34
        ],
        [
         "mj mcclenaghan",
         2016,
         34
        ],
        [
         "mm sharma",
         2016,
         32
        ],
        [
         "tg southee",
         2016,
         30
        ],
        [
         "c munro",
         2016,
         30
        ],
        [
         "ss iyer",
         2016,
         30
        ],
        [
         "pp chawla",
         2016,
         27
        ],
        [
         "ma agarwal",
         2016,
         27
        ],
        [
         "ds kulkarni",
         2016,
         27
        ],
        [
         "ca lynn",
         2016,
         25
        ],
        [
         "p kumar",
         2016,
         24
        ],
        [
         "r sathish",
         2016,
         24
        ],
        [
         "er dwivedi",
         2016,
         24
        ],
        [
         "ns naik",
         2016,
         23
        ],
        [
         "jo holder",
         2016,
         22
        ],
        [
         "ad nath",
         2016,
         20
        ],
        [
         "p sahu",
         2016,
         19
        ],
        [
         "ja morkel",
         2016,
         16
        ],
        [
         "f behardien",
         2016,
         14
        ],
        [
         "r dhawan",
         2016,
         14
        ],
        [
         "kj abbott",
         2016,
         13
        ],
        [
         "r vinay kumar",
         2016,
         13
        ],
        [
         "kc cariappa",
         2016,
         13
        ],
        [
         "ik pathan",
         2016,
         11
        ],
        [
         "parvez rasool",
         2016,
         10
        ],
        [
         "ut yadav",
         2016,
         9
        ],
        [
         "nm coulternile",
         2016,
         9
        ],
        [
         "ap tare",
         2016,
         8
        ],
        [
         "sandeep sharma",
         2016,
         8
        ],
        [
         "lmp simmons",
         2016,
         8
        ],
        [
         "jj bumrah",
         2016,
         8
        ],
        [
         "sp narine",
         2016,
         7
        ],
        [
         "pv tambe",
         2016,
         7
        ],
        [
         "mr marsh",
         2016,
         7
        ],
        [
         "z khan",
         2016,
         6
        ],
        [
         "j yadav",
         2016,
         6
        ],
        [
         "psp handscomb",
         2016,
         6
        ],
        [
         "mg johnson",
         2016,
         5
        ],
        [
         "imran tahir",
         2016,
         5
        ],
        [
         "d wiese",
         2016,
         5
        ],
        [
         "a mishra",
         2016,
         4
        ],
        [
         "ankit sharma",
         2016,
         3
        ],
        [
         "bb sran",
         2016,
         3
        ],
        [
         "cj jordan",
         2016,
         3
        ],
        [
         "s gopal",
         2016,
         2
        ],
        [
         "mohammed shami",
         2016,
         2
        ],
        [
         "kw richardson",
         2016,
         1
        ],
        [
         "sb jakati",
         2016,
         1
        ],
        [
         "m morkel",
         2016,
         1
        ],
        [
         "s nadeem",
         2016,
         1
        ],
        [
         "dw steyn",
         2016,
         1
        ],
        [
         "a nehra",
         2016,
         1
        ],
        [
         "m ashwin",
         2016,
         0
        ],
        [
         "s kaushik",
         2016,
         0
        ],
        [
         "swapnil singh",
         2016,
         0
        ],
        [
         "a zampa",
         2016,
         0
        ],
        [
         "ubt chand",
         2016,
         0
        ],
        [
         "da warner",
         2017,
         634
        ],
        [
         "g gambhir",
         2017,
         498
        ],
        [
         "s dhawan",
         2017,
         478
        ],
        [
         "spd smith",
         2017,
         472
        ],
        [
         "sk raina",
         2017,
         438
        ],
        [
         "hm amla",
         2017,
         418
        ],
        [
         "ka pollard",
         2017,
         395
        ],
        [
         "pa patel",
         2017,
         395
        ],
        [
         "mk pandey",
         2017,
         391
        ],
        [
         "ra tripathi",
         2017,
         391
        ],
        [
         "rv uthappa",
         2017,
         388
        ],
        [
         "sv samson",
         2017,
         386
        ],
        [
         "am rahane",
         2017,
         382
        ],
        [
         "rr pant",
         2017,
         365
        ],
        [
         "kd karthik",
         2017,
         357
        ],
        [
         "ss iyer",
         2017,
         337
        ],
        [
         "rg sharma",
         2017,
         333
        ],
        [
         "n rana",
         2017,
         333
        ],
        [
         "bb mccullum",
         2017,
         320
        ],
        [
         "mk tiwary",
         2017,
         320
        ],
        [
         "ba stokes",
         2017,
         316
        ],
        [
         "v kohli",
         2017,
         308
        ],
        [
         "gj maxwell",
         2017,
         306
        ],
        [
         "aj finch",
         2017,
         300
        ],
        [
         "ca lynn",
         2017,
         293
        ],
        [
         "ms dhoni",
         2017,
         290
        ],
        [
         "kk nair",
         2017,
         281
        ],
        [
         "ishan kishan",
         2017,
         277
        ],
        [
         "mc henriques",
         2017,
         277
        ],
        [
         "jc buttler",
         2017,
         273
        ],
        [
         "km jadhav",
         2017,
         265
        ],
        [
         "se marsh",
         2017,
         258
        ],
        [
         "ks williamson",
         2017,
         256
        ],
        [
         "hh pandya",
         2017,
         250
        ],
        [
         "yuvraj singh",
         2017,
         248
        ],
        [
         "kh pandya",
         2017,
         243
        ],
        [
         "dr smith",
         2017,
         239
        ],
        [
         "wp saha",
         2017,
         230
        ],
        [
         "m vohra",
         2017,
         229
        ],
        [
         "ar patel",
         2017,
         227
        ],
        [
         "sp narine",
         2017,
         224
        ],
        [
         "ab de villiers",
         2017,
         216
        ],
        [
         "ch gayle",
         2017,
         200
        ],
        [
         "mandeep singh",
         2017,
         188
        ],
        [
         "ra jadeja",
         2017,
         158
        ],
        [
         "ch morris",
         2017,
         154
        ],
        [
         "tm head",
         2017,
         151
        ],
        [
         "p negi",
         2017,
         144
        ],
        [
         "yk pathan",
         2017,
         143
        ],
        [
         "cj anderson",
         2017,
         142
        ],
        [
         "sw billings",
         2017,
         138
        ],
        [
         "lmp simmons",
         2017,
         137
        ],
        [
         "mj guptill",
         2017,
         126
        ],
        [
         "c de grandhomme",
         2017,
         126
        ],
        [
         "sa yadav",
         2017,
         105
        ],
        [
         "v shankar",
         2017,
         101
        ],
        [
         "at rayudu",
         2017,
         91
        ],
        [
         "dt christian",
         2017,
         79
        ],
        [
         "nv ojha",
         2017,
         79
        ],
        [
         "dj hooda",
         2017,
         78
        ],
        [
         "str binny",
         2017,
         78
        ],
        [
         "da miller",
         2017,
         77
        ],
        [
         "pj cummins",
         2017,
         77
        ],
        [
         "sr watson",
         2017,
         71
        ],
        [
         "ejg morgan",
         2017,
         65
        ],
        [
         "jj roy",
         2017,
         59
        ],
        [
         "k rabada",
         2017,
         55
        ],
        [
         "jp faulkner",
         2017,
         53
        ],
        [
         "aj tye",
         2017,
         53
        ],
        [
         "ss tiwary",
         2017,
         52
        ],
        [
         "bcj cutting",
         2017,
         51
        ],
        [
         "mm sharma",
         2017,
         51
        ],
        [
         "kv sharma",
         2017,
         49
        ],
        [
         "a mishra",
         2017,
         49
        ],
        [
         "cr woakes",
         2017,
         46
        ],
        [
         "sp jackson",
         2017,
         38
        ],
        [
         "mohammed shami",
         2017,
         36
        ],
        [
         "ir jaggi",
         2017,
         33
        ],
        [
         "s aravind",
         2017,
         32
        ],
        [
         "ad mathews",
         2017,
         32
        ],
        [
         "bipul sharma",
         2017,
         31
        ],
        [
         "mn samuels",
         2017,
         29
        ],
        [
         "basil thampi",
         2017,
         28
        ],
        [
         "ma agarwal",
         2017,
         26
        ],
        [
         "a choudhary",
         2017,
         25
        ],
        [
         "ankit sharma",
         2017,
         25
        ],
        [
         "kuldeep yadav",
         2017,
         20
        ],
        [
         "mg johnson",
         2017,
         20
        ],
        [
         "r tewatia",
         2017,
         19
        ],
        [
         "vishnu vinod",
         2017,
         19
        ],
        [
         "ap tare",
         2017,
         18
        ],
        [
         "mp stoinis",
         2017,
         17
        ],
        [
         "jj bumrah",
         2017,
         16
        ],
        [
         "harbhajan singh",
         2017,
         16
        ],
        [
         "r bhatia",
         2017,
         16
        ],
        [
         "mj mcclenaghan",
         2017,
         16
        ],
        [
         "sachin baby",
         2017,
         15
        ],
        [
         "anureet singh",
         2017,
         15
        ],
        [
         "nm coulternile",
         2017,
         14
        ],
        [
         "dl chahar",
         2017,
         14
        ],
        [
         "s badree",
         2017,
         13
        ],
        [
         "ys chahal",
         2017,
         13
        ],
        [
         "swapnil singh",
         2017,
         12
        ],
        [
         "cr brathwaite",
         2017,
         12
        ],
        [
         "ar bawne",
         2017,
         12
        ],
        [
         "rashid khan",
         2017,
         11
        ],
        [
         "ut yadav",
         2017,
         10
        ],
        [
         "washington sundar",
         2017,
         9
        ],
        [
         "ts mills",
         2017,
         8
        ],
        [
         "i sharma",
         2017,
         8
        ],
        [
         "f du plessis",
         2017,
         8
        ],
        [
         "p kumar",
         2017,
         8
        ],
        [
         "sl malinga",
         2017,
         7
        ],
        [
         "af milne",
         2017,
         7
        ],
        [
         "ankit soni",
         2017,
         7
        ],
        [
         "ab dinda",
         2017,
         7
        ],
        [
         "tg southee",
         2017,
         7
        ],
        [
         "sandeep sharma",
         2017,
         6
        ],
        [
         "dm bravo",
         2017,
         6
        ],
        [
         "ta boult",
         2017,
         5
        ],
        [
         "a zampa",
         2017,
         5
        ],
        [
         "iqbal abdulla",
         2017,
         5
        ],
        [
         "vr aaron",
         2017,
         4
        ],
        [
         "as rajpoot",
         2017,
         4
        ],
        [
         "z khan",
         2017,
         4
        ],
        [
         "b kumar",
         2017,
         4
        ],
        [
         "rd chahar",
         2017,
         3
        ],
        [
         "pj sangwan",
         2017,
         2
        ],
        [
         "kc cariappa",
         2017,
         2
        ],
        [
         "jd unadkat",
         2017,
         2
        ],
        [
         "pp chawla",
         2017,
         2
        ],
        [
         "mohammad nabi",
         2017,
         2
        ],
        [
         "s nadeem",
         2017,
         2
        ],
        [
         "ik pathan",
         2017,
         2
        ],
        [
         "shakib al hasan",
         2017,
         1
        ],
        [
         "lh ferguson",
         2017,
         1
        ],
        [
         "ds kulkarni",
         2017,
         1
        ],
        [
         "imran tahir",
         2017,
         0
        ],
        [
         "ad nath",
         2017,
         0
        ],
        [
         "sn thakur",
         2017,
         0
        ],
        [
         "cj jordan",
         2017,
         0
        ],
        [
         "mm patel",
         2017,
         0
        ],
        [
         "s kaul",
         2017,
         0
        ]
       ],
       "datasetInfos": [],
       "dbfsResultPath": null,
       "isJsonSchema": true,
       "metadata": {},
       "overflow": false,
       "plotOptions": {
        "customPlotOptions": {},
        "displayType": "table",
        "pivotAggregation": null,
        "pivotColumns": null,
        "xColumns": null,
        "yColumns": null
       },
       "removedWidgets": [],
       "schema": [
        {
         "metadata": "{}",
         "name": "player_name",
         "type": "\"string\""
        },
        {
         "metadata": "{}",
         "name": "season_year",
         "type": "\"integer\""
        },
        {
         "metadata": "{}",
         "name": "total_runs",
         "type": "\"long\""
        }
       ],
       "type": "table"
      }
     },
     "output_type": "display_data"
    }
   ],
   "source": [
    "\n",
    "%sql\n",
    "--top_scoring_batsmen_per_season\n",
    "SELECT \n",
    "    p.player_name,\n",
    "    m.season_year,\n",
    "    SUM(b.runs_scored) AS total_runs \n",
    "FROM \n",
    "    IPL_DATA_Warehouse.ball_by_ball b\n",
    "JOIN \n",
    "    IPL_DATA_Warehouse.match m ON b.match_id = m.match_id   \n",
    "JOIN \n",
    "    IPL_DATA_Warehouse.player_match pm ON m.match_id = pm.match_id AND b.striker = pm.player_id     \n",
    "JOIN \n",
    "    IPL_DATA_Warehouse.player p ON p.player_id = pm.player_id\n",
    "GROUP BY \n",
    "    p.player_name, m.season_year\n",
    "ORDER BY \n",
    "    m.season_year, total_runs DESC;"
   ]
  },
  {
   "cell_type": "code",
   "execution_count": 0,
   "metadata": {
    "application/vnd.databricks.v1+cell": {
     "cellMetadata": {
      "byteLimit": 2048000,
      "implicitDf": true,
      "rowLimit": 10000
     },
     "inputWidgets": {},
     "nuid": "54233065-dabe-4ebd-a126-a2e35c144f6f",
     "showTitle": false,
     "title": ""
    }
   },
   "outputs": [
    {
     "output_type": "display_data",
     "data": {
      "text/html": [
       "<style scoped>\n",
       "  .table-result-container {\n",
       "    max-height: 300px;\n",
       "    overflow: auto;\n",
       "  }\n",
       "  table, th, td {\n",
       "    border: 1px solid black;\n",
       "    border-collapse: collapse;\n",
       "  }\n",
       "  th, td {\n",
       "    padding: 5px;\n",
       "  }\n",
       "  th {\n",
       "    text-align: left;\n",
       "  }\n",
       "</style><div class='table-result-container'><table class='table-result'><thead style='background-color: white'><tr><th>player_name</th><th>avg_runs_per_ball</th><th>total_wickets</th></tr></thead><tbody><tr><td>sm harwood</td><td>0.3333333333333333</td><td>0</td></tr><tr><td>a zampa</td><td>0.5</td><td>0</td></tr><tr><td>avesh khan</td><td>0.5</td><td>0</td></tr><tr><td>ankit soni</td><td>0.5</td><td>0</td></tr><tr><td>aj finch</td><td>0.5</td><td>0</td></tr><tr><td>gr napier</td><td>0.5</td><td>0</td></tr><tr><td>nb singh</td><td>0.5833333333333334</td><td>0</td></tr><tr><td>ag murtaza</td><td>0.6538461538461539</td><td>0</td></tr><tr><td>d du preez</td><td>0.6666666666666666</td><td>0</td></tr><tr><td>sb bangar</td><td>0.6666666666666666</td><td>0</td></tr><tr><td>s gopal</td><td>0.6666666666666666</td><td>0</td></tr><tr><td>fh edwards</td><td>0.6923076923076923</td><td>0</td></tr><tr><td>a kumble</td><td>0.7685185185185185</td><td>0</td></tr><tr><td>umar gul</td><td>0.7777777777777778</td><td>0</td></tr><tr><td>j syed mohammad</td><td>0.7777777777777778</td><td>0</td></tr><tr><td>kp pietersen</td><td>0.7777777777777778</td><td>0</td></tr><tr><td>la carseldine</td><td>0.8333333333333334</td><td>0</td></tr><tr><td>ss mundhe</td><td>0.8333333333333334</td><td>0</td></tr><tr><td>rj peterson</td><td>0.8333333333333334</td><td>0</td></tr><tr><td>tl suman</td><td>0.8333333333333334</td><td>0</td></tr><tr><td>smsm senanayake</td><td>0.8492063492063492</td><td>0</td></tr><tr><td>a symonds</td><td>0.8859649122807017</td><td>0</td></tr><tr><td>t thushara</td><td>0.9</td><td>0</td></tr><tr><td>c de grandhomme</td><td>0.9166666666666666</td><td>0</td></tr><tr><td>mustafizur rahman</td><td>0.9215686274509803</td><td>0</td></tr><tr><td>sp narine</td><td>0.929718875502008</td><td>0</td></tr><tr><td>gd mcgrath</td><td>0.9324324324324325</td><td>0</td></tr><tr><td>sl malinga</td><td>0.9407630522088354</td><td>0</td></tr><tr><td>mohammad nabi</td><td>0.9444444444444444</td><td>0</td></tr><tr><td>sohail tanvir</td><td>0.946969696969697</td><td>0</td></tr><tr><td>a chandila</td><td>0.9513888888888888</td><td>0</td></tr><tr><td>dp nannes</td><td>0.9532163742690059</td><td>0</td></tr><tr><td>b kumar</td><td>0.9561487130600572</td><td>0</td></tr><tr><td>bw hilfenhaus</td><td>0.9625</td><td>0</td></tr><tr><td>r rampaul</td><td>0.9629629629629629</td><td>0</td></tr><tr><td>d wiese</td><td>0.9666666666666667</td><td>0</td></tr><tr><td>dw steyn</td><td>0.9700374531835206</td><td>0</td></tr><tr><td>r ashwin</td><td>0.9729344729344729</td><td>0</td></tr><tr><td>sb styris</td><td>1.0</td><td>0</td></tr><tr><td>je taylor</td><td>1.0</td><td>0</td></tr><tr><td>a mishra</td><td>1.0</td><td>0</td></tr><tr><td>nl mccullum</td><td>1.0</td><td>0</td></tr><tr><td>r tewatia</td><td>1.0</td><td>0</td></tr><tr><td>sm pollock</td><td>1.0049019607843137</td><td>0</td></tr><tr><td>ankit sharma</td><td>1.0072463768115942</td><td>0</td></tr><tr><td>rj harris</td><td>1.0093896713615023</td><td>0</td></tr><tr><td>mn samuels</td><td>1.0128205128205128</td><td>0</td></tr><tr><td>bipul sharma</td><td>1.0135135135135136</td><td>0</td></tr><tr><td>wpujc vaas</td><td>1.0151515151515151</td><td>0</td></tr><tr><td>se bond</td><td>1.0222222222222221</td><td>0</td></tr><tr><td>anand rajan</td><td>1.0238095238095237</td><td>0</td></tr><tr><td>ac thomas</td><td>1.0277777777777777</td><td>0</td></tr><tr><td>iqbal abdulla</td><td>1.0326086956521738</td><td>0</td></tr><tr><td>m muralitharan</td><td>1.0337837837837838</td><td>0</td></tr><tr><td>rashid khan</td><td>1.037037037037037</td><td>0</td></tr><tr><td>shahid afridi</td><td>1.0416666666666667</td><td>0</td></tr><tr><td>kk cooper</td><td>1.0416666666666667</td><td>0</td></tr><tr><td>aa chavan</td><td>1.0416666666666667</td><td>0</td></tr><tr><td>ad russell</td><td>1.046875</td><td>0</td></tr><tr><td>p kumar</td><td>1.0528325907065563</td><td>0</td></tr><tr><td>a singh</td><td>1.053030303030303</td><td>0</td></tr><tr><td>kaj roach</td><td>1.0555555555555556</td><td>0</td></tr><tr><td>m ntini</td><td>1.0576923076923077</td><td>0</td></tr><tr><td>ma starc</td><td>1.0578231292517006</td><td>0</td></tr><tr><td>gb hogg</td><td>1.0625</td><td>0</td></tr><tr><td>crd fernando</td><td>1.064102564102564</td><td>0</td></tr><tr><td>pp chawla</td><td>1.064516129032258</td><td>0</td></tr><tr><td>dl vettori</td><td>1.0666666666666667</td><td>0</td></tr><tr><td>wd parnell</td><td>1.0666666666666667</td><td>0</td></tr><tr><td>azhar mahmood</td><td>1.0694444444444444</td><td>0</td></tr><tr><td>yk pathan</td><td>1.0706214689265536</td><td>0</td></tr><tr><td>ck langeveldt</td><td>1.0714285714285714</td><td>0</td></tr><tr><td>jaskaran singh</td><td>1.0714285714285714</td><td>0</td></tr><tr><td>washington sundar</td><td>1.0740740740740742</td><td>0</td></tr><tr><td>z khan</td><td>1.0743034055727554</td><td>0</td></tr><tr><td>harbhajan singh</td><td>1.0805860805860805</td><td>0</td></tr><tr><td>al menaria</td><td>1.0833333333333333</td><td>0</td></tr><tr><td>nj rimmington</td><td>1.0833333333333333</td><td>0</td></tr><tr><td>sw tait</td><td>1.0921052631578947</td><td>0</td></tr><tr><td>kw richardson</td><td>1.0925925925925926</td><td>0</td></tr><tr><td>b lee</td><td>1.0946502057613168</td><td>0</td></tr><tr><td>sr watson</td><td>1.0951760104302477</td><td>0</td></tr><tr><td>jj bumrah</td><td>1.096774193548387</td><td>0</td></tr><tr><td>r sharma</td><td>1.1</td><td>0</td></tr><tr><td>kuldeep yadav</td><td>1.1</td><td>0</td></tr><tr><td>l balaji</td><td>1.1022222222222222</td><td>0</td></tr><tr><td>sandeep sharma</td><td>1.1035353535353536</td><td>0</td></tr><tr><td>m morkel</td><td>1.1059602649006623</td><td>0</td></tr><tr><td>aj tye</td><td>1.1111111111111112</td><td>0</td></tr><tr><td>m kartik</td><td>1.111731843575419</td><td>0</td></tr><tr><td>jp duminy</td><td>1.1133333333333333</td><td>0</td></tr><tr><td>ik pathan</td><td>1.1154684095860568</td><td>0</td></tr><tr><td>ic pandey</td><td>1.1174242424242424</td><td>0</td></tr><tr><td>nm coulternile</td><td>1.1180555555555556</td><td>0</td></tr><tr><td>i sharma</td><td>1.1231231231231231</td><td>0</td></tr><tr><td>de bollinger</td><td>1.126543209876543</td><td>0</td></tr><tr><td>rp singh</td><td>1.129740518962076</td><td>0</td></tr><tr><td>mm patel</td><td>1.1347626339969372</td><td>0</td></tr><tr><td>baw mendis</td><td>1.1379310344827587</td><td>0</td></tr><tr><td>s sreesanth</td><td>1.1403508771929824</td><td>0</td></tr><tr><td>ts mills</td><td>1.1428571428571428</td><td>0</td></tr><tr><td>ab dinda</td><td>1.1444444444444444</td><td>0</td></tr><tr><td>kh pandya</td><td>1.1458333333333333</td><td>0</td></tr><tr><td>am salvi</td><td>1.1515151515151516</td><td>0</td></tr><tr><td>r vinay kumar</td><td>1.1518817204301075</td><td>0</td></tr><tr><td>anureet singh</td><td>1.154320987654321</td><td>0</td></tr><tr><td>ch morris</td><td>1.1544117647058822</td><td>0</td></tr><tr><td>ds kulkarni</td><td>1.1578249336870026</td><td>0</td></tr><tr><td>jd unadkat</td><td>1.1640625</td><td>0</td></tr><tr><td>daj bracewell</td><td>1.1666666666666667</td><td>0</td></tr><tr><td>kmdn kulasekara</td><td>1.1666666666666667</td><td>0</td></tr><tr><td>ya abdulla</td><td>1.1666666666666667</td><td>0</td></tr><tr><td>jd ryder</td><td>1.1666666666666667</td><td>0</td></tr><tr><td>gagandeep singh</td><td>1.1666666666666667</td><td>0</td></tr><tr><td>m vijay</td><td>1.1666666666666667</td><td>0</td></tr><tr><td>gs sandhu</td><td>1.1666666666666667</td><td>0</td></tr><tr><td>ks williamson</td><td>1.1666666666666667</td><td>0</td></tr><tr><td>pm sarvesh kumar</td><td>1.1666666666666667</td><td>0</td></tr><tr><td>kv sharma</td><td>1.1730769230769231</td><td>0</td></tr><tr><td>jh kallis</td><td>1.176356589147287</td><td>0</td></tr><tr><td>ta boult</td><td>1.1785714285714286</td><td>0</td></tr><tr><td>ba stokes</td><td>1.1794871794871795</td><td>0</td></tr><tr><td>s nadeem</td><td>1.1805555555555556</td><td>0</td></tr><tr><td>an ahmed</td><td>1.181159420289855</td><td>0</td></tr><tr><td>mf maharoof</td><td>1.1845238095238095</td><td>0</td></tr><tr><td>s badree</td><td>1.185897435897436</td><td>0</td></tr><tr><td>rr powar</td><td>1.1893939393939394</td><td>0</td></tr><tr><td>vs malik</td><td>1.1904761904761905</td><td>0</td></tr><tr><td>j yadav</td><td>1.1904761904761905</td><td>0</td></tr><tr><td>shoaib akhtar</td><td>1.1904761904761905</td><td>0</td></tr><tr><td>mg johnson</td><td>1.1934369602763386</td><td>0</td></tr><tr><td>dp vijaykumar</td><td>1.196078431372549</td><td>0</td></tr><tr><td>ba bhatt</td><td>1.1979166666666667</td><td>0</td></tr><tr><td>sb wagh</td><td>1.2</td><td>0</td></tr><tr><td>m de lange</td><td>1.2</td><td>0</td></tr><tr><td>a nehra</td><td>1.2049405306495884</td><td>0</td></tr><tr><td>ch gayle</td><td>1.2083333333333333</td><td>0</td></tr><tr><td>tg southee</td><td>1.2083333333333333</td><td>0</td></tr><tr><td>nltc perera</td><td>1.211111111111111</td><td>0</td></tr><tr><td>s aravind</td><td>1.2112676056338028</td><td>0</td></tr><tr><td>shakib al hasan</td><td>1.2127659574468086</td><td>0</td></tr><tr><td>ad mascarenhas</td><td>1.2142857142857142</td><td>0</td></tr><tr><td>ar patel</td><td>1.2160493827160495</td><td>0</td></tr><tr><td>dnt zoysa</td><td>1.2222222222222223</td><td>0</td></tr><tr><td>sm boland</td><td>1.2222222222222223</td><td>0</td></tr><tr><td>dt christian</td><td>1.2261904761904763</td><td>0</td></tr><tr><td>ut yadav</td><td>1.2311827956989247</td><td>0</td></tr><tr><td>str binny</td><td>1.2318840579710144</td><td>0</td></tr><tr><td>mj mcclenaghan</td><td>1.2377777777777779</td><td>0</td></tr><tr><td>sk raina</td><td>1.2424242424242424</td><td>0</td></tr><tr><td>a choudhary</td><td>1.25</td><td>0</td></tr><tr><td>pankaj singh</td><td>1.2533333333333334</td><td>0</td></tr><tr><td>jp faulkner</td><td>1.256064690026954</td><td>0</td></tr><tr><td>dj bravo</td><td>1.2571428571428571</td><td>0</td></tr><tr><td>rg sharma</td><td>1.26</td><td>0</td></tr><tr><td>k rabada</td><td>1.2638888888888888</td><td>0</td></tr><tr><td>s kaul</td><td>1.2654320987654322</td><td>0</td></tr><tr><td>jj van der wath</td><td>1.2666666666666666</td><td>0</td></tr><tr><td>r dhawan</td><td>1.2692307692307692</td><td>0</td></tr><tr><td>j botha</td><td>1.2760416666666667</td><td>0</td></tr><tr><td>dj muthuswami</td><td>1.2777777777777777</td><td>0</td></tr><tr><td>b stanlake</td><td>1.2777777777777777</td><td>0</td></tr><tr><td>mm sharma</td><td>1.2844827586206897</td><td>0</td></tr><tr><td>p awana</td><td>1.2851851851851852</td><td>0</td></tr><tr><td>s tyagi</td><td>1.2976190476190477</td><td>0</td></tr><tr><td>jw hastings</td><td>1.3055555555555556</td><td>0</td></tr><tr><td>pp ojha</td><td>1.3083333333333333</td><td>0</td></tr><tr><td>vr aaron</td><td>1.3194444444444444</td><td>0</td></tr><tr><td>jec franklin</td><td>1.3333333333333333</td><td>0</td></tr><tr><td>sa yadav</td><td>1.3333333333333333</td><td>0</td></tr><tr><td>t natarajan</td><td>1.3333333333333333</td><td>0</td></tr><tr><td>tejas baroka</td><td>1.3333333333333333</td><td>0</td></tr><tr><td>rr raje</td><td>1.3333333333333333</td><td>0</td></tr><tr><td>ja morkel</td><td>1.3444444444444446</td><td>0</td></tr><tr><td>r shukla</td><td>1.3518518518518519</td><td>0</td></tr><tr><td>r mclaren</td><td>1.36</td><td>0</td></tr><tr><td>pj sangwan</td><td>1.3722397476340693</td><td>0</td></tr><tr><td>hv patel</td><td>1.375</td><td>0</td></tr><tr><td>djg sammy</td><td>1.375</td><td>0</td></tr><tr><td>v pratap singh</td><td>1.375</td><td>0</td></tr><tr><td>gh vihari</td><td>1.375</td><td>0</td></tr><tr><td>bj hodge</td><td>1.3888888888888888</td><td>0</td></tr><tr><td>jr hopes</td><td>1.3888888888888888</td><td>0</td></tr><tr><td>kp appanna</td><td>1.3888888888888888</td><td>0</td></tr><tr><td>cr brathwaite</td><td>1.3888888888888888</td><td>0</td></tr><tr><td>a mithun</td><td>1.393939393939394</td><td>0</td></tr><tr><td>mohammed shami</td><td>1.3942307692307692</td><td>0</td></tr><tr><td>bb sran</td><td>1.4027777777777777</td><td>0</td></tr><tr><td>jo holder</td><td>1.40625</td><td>0</td></tr><tr><td>dj hooda</td><td>1.4074074074074074</td><td>0</td></tr><tr><td>pv tambe</td><td>1.4102564102564104</td><td>0</td></tr><tr><td>mc henriques</td><td>1.4104046242774566</td><td>0</td></tr><tr><td>as rajpoot</td><td>1.4166666666666667</td><td>0</td></tr><tr><td>tp sudhindra</td><td>1.4166666666666667</td><td>0</td></tr><tr><td>harmeet singh</td><td>1.4166666666666667</td><td>0</td></tr><tr><td>sk trivedi</td><td>1.4206349206349207</td><td>0</td></tr><tr><td>ms gony</td><td>1.4218106995884774</td><td>0</td></tr><tr><td>sb jakati</td><td>1.4270833333333333</td><td>0</td></tr><tr><td>sn thakur</td><td>1.4270833333333333</td><td>0</td></tr><tr><td>ad mathews</td><td>1.4285714285714286</td><td>0</td></tr><tr><td>tm dilshan</td><td>1.4285714285714286</td><td>0</td></tr><tr><td>ra jadeja</td><td>1.4285714285714286</td><td>0</td></tr><tr><td>p suyal</td><td>1.4333333333333333</td><td>0</td></tr><tr><td>imran tahir</td><td>1.4444444444444444</td><td>0</td></tr><tr><td>s dhawan</td><td>1.4444444444444444</td><td>0</td></tr><tr><td>sj srivastava</td><td>1.446969696969697</td><td>0</td></tr><tr><td>j theron</td><td>1.476923076923077</td><td>0</td></tr><tr><td>kamran khan</td><td>1.4880952380952381</td><td>0</td></tr><tr><td>ab agarkar</td><td>1.5</td><td>0</td></tr><tr><td>joginder sharma</td><td>1.5</td><td>0</td></tr><tr><td>aa jhunjhunwala</td><td>1.5</td><td>0</td></tr><tr><td>kc cariappa</td><td>1.5</td><td>0</td></tr><tr><td>ab mcdonald</td><td>1.5</td><td>0</td></tr><tr><td>s ladda</td><td>1.5</td><td>0</td></tr><tr><td>re van der merwe</td><td>1.5</td><td>0</td></tr><tr><td>p sahu</td><td>1.5</td><td>0</td></tr><tr><td>ys chahal</td><td>1.505952380952381</td><td>0</td></tr><tr><td>parvez rasool</td><td>1.5151515151515151</td><td>0</td></tr><tr><td>pj cummins</td><td>1.5158730158730158</td><td>0</td></tr><tr><td>basil thampi</td><td>1.5196078431372548</td><td>0</td></tr><tr><td>af milne</td><td>1.5238095238095237</td><td>0</td></tr><tr><td>ka pollard</td><td>1.5277777777777777</td><td>0</td></tr><tr><td>jdp oram</td><td>1.537037037037037</td><td>0</td></tr><tr><td>s narwal</td><td>1.5454545454545454</td><td>0</td></tr><tr><td>p negi</td><td>1.5555555555555556</td><td>0</td></tr><tr><td>bcj cutting</td><td>1.5555555555555556</td><td>0</td></tr><tr><td>dj hussey</td><td>1.5555555555555556</td><td>0</td></tr><tr><td>dl chahar</td><td>1.5606060606060606</td><td>0</td></tr><tr><td>lh ferguson</td><td>1.5666666666666667</td><td>0</td></tr><tr><td>mohammad asif</td><td>1.5666666666666667</td><td>0</td></tr><tr><td>mr marsh</td><td>1.5833333333333333</td><td>0</td></tr><tr><td>cj jordan</td><td>1.5833333333333333</td><td>0</td></tr><tr><td>sk warne</td><td>1.5833333333333333</td><td>0</td></tr><tr><td>gurkeerat singh</td><td>1.5833333333333333</td><td>0</td></tr><tr><td>s randiv</td><td>1.5833333333333333</td><td>0</td></tr><tr><td>y venugopal rao</td><td>1.5952380952380953</td><td>0</td></tr><tr><td>p parameswaran</td><td>1.6111111111111112</td><td>0</td></tr><tr><td>k upadhyay</td><td>1.6111111111111112</td><td>0</td></tr><tr><td>k santokie</td><td>1.6111111111111112</td><td>0</td></tr><tr><td>cj anderson</td><td>1.6338028169014085</td><td>0</td></tr><tr><td>kj abbott</td><td>1.6666666666666667</td><td>0</td></tr><tr><td>y nagar</td><td>1.6666666666666667</td><td>0</td></tr><tr><td>st jayasuriya</td><td>1.6666666666666667</td><td>0</td></tr><tr><td>hh pandya</td><td>1.6666666666666667</td><td>0</td></tr><tr><td>vrv singh</td><td>1.6666666666666667</td><td>0</td></tr><tr><td>am nayar</td><td>1.6666666666666667</td><td>0</td></tr><tr><td>be hendricks</td><td>1.6666666666666667</td><td>0</td></tr><tr><td>sc ganguly</td><td>1.7222222222222223</td><td>0</td></tr><tr><td>cr woakes</td><td>1.75</td><td>0</td></tr><tr><td>a flintoff</td><td>1.75</td><td>0</td></tr><tr><td>a uniyal</td><td>1.75</td><td>0</td></tr><tr><td>nd doshi</td><td>1.7777777777777777</td><td>0</td></tr><tr><td>vy mahesh</td><td>1.794871794871795</td><td>0</td></tr><tr><td>dr smith</td><td>1.803030303030303</td><td>0</td></tr><tr><td>mohammed siraj</td><td>1.8166666666666667</td><td>0</td></tr><tr><td>sd chitnis</td><td>1.8333333333333333</td><td>0</td></tr><tr><td>ss agarwal</td><td>1.8333333333333333</td><td>0</td></tr><tr><td>ra shaikh</td><td>1.8333333333333333</td><td>0</td></tr><tr><td>mp stoinis</td><td>1.875</td><td>0</td></tr><tr><td>b geeves</td><td>1.875</td><td>0</td></tr><tr><td>lr shukla</td><td>1.8846153846153846</td><td>0</td></tr><tr><td>j suchith</td><td>1.8888888888888888</td><td>0</td></tr><tr><td>ap dole</td><td>1.9</td><td>0</td></tr><tr><td>lj wright</td><td>2.0</td><td>0</td></tr><tr><td>a nel</td><td>2.0</td><td>0</td></tr><tr><td>s kaushik</td><td>2.0</td><td>0</td></tr><tr><td>p amarnath</td><td>2.0</td><td>0</td></tr><tr><td>rr bose</td><td>2.0</td><td>0</td></tr><tr><td>sunny gupta</td><td>2.0</td><td>0</td></tr><tr><td>mj henry</td><td>2.0</td><td>0</td></tr><tr><td>vs yeligati</td><td>2.0</td><td>0</td></tr><tr><td>b akhil</td><td>2.0</td><td>0</td></tr><tr><td>shoaib ahmed</td><td>2.0555555555555554</td><td>0</td></tr><tr><td>ac voges</td><td>2.0833333333333335</td><td>0</td></tr><tr><td>r bhatia</td><td>2.0833333333333335</td><td>0</td></tr><tr><td>mashrafe mortaza</td><td>2.0833333333333335</td><td>0</td></tr><tr><td>sa abbott</td><td>2.111111111111111</td><td>0</td></tr><tr><td>cj mckay</td><td>2.1666666666666665</td><td>0</td></tr><tr><td>karanveer singh</td><td>2.1666666666666665</td><td>0</td></tr><tr><td>mb parmar</td><td>2.1666666666666665</td><td>0</td></tr><tr><td>l ablish</td><td>2.1666666666666665</td><td>0</td></tr><tr><td>m ashwin</td><td>2.25</td><td>0</td></tr><tr><td>jds neesham</td><td>2.3333333333333335</td><td>0</td></tr><tr><td>rw price</td><td>2.3333333333333335</td><td>0</td></tr><tr><td>gj maxwell</td><td>2.3666666666666667</td><td>0</td></tr><tr><td>ss sarkar</td><td>2.5</td><td>0</td></tr><tr><td>rg more</td><td>2.5</td><td>0</td></tr><tr><td>aa noffke</td><td>2.8333333333333335</td><td>0</td></tr><tr><td>mg neser</td><td>3.0</td><td>0</td></tr><tr><td>a ashish reddy</td><td>3.3333333333333335</td><td>0</td></tr><tr><td>rr bhatkal</td><td>3.3333333333333335</td><td>0</td></tr><tr><td>v sehwag</td><td>3.4166666666666665</td><td>0</td></tr></tbody></table></div>"
      ]
     },
     "metadata": {
      "application/vnd.databricks.v1+output": {
       "addedWidgets": {},
       "aggData": [],
       "aggError": "",
       "aggOverflow": false,
       "aggSchema": [],
       "aggSeriesLimitReached": false,
       "aggType": "",
       "arguments": {},
       "columnCustomDisplayInfos": {},
       "data": [
        [
         "sm harwood",
         0.3333333333333333,
         0
        ],
        [
         "a zampa",
         0.5,
         0
        ],
        [
         "avesh khan",
         0.5,
         0
        ],
        [
         "ankit soni",
         0.5,
         0
        ],
        [
         "aj finch",
         0.5,
         0
        ],
        [
         "gr napier",
         0.5,
         0
        ],
        [
         "nb singh",
         0.5833333333333334,
         0
        ],
        [
         "ag murtaza",
         0.6538461538461539,
         0
        ],
        [
         "d du preez",
         0.6666666666666666,
         0
        ],
        [
         "sb bangar",
         0.6666666666666666,
         0
        ],
        [
         "s gopal",
         0.6666666666666666,
         0
        ],
        [
         "fh edwards",
         0.6923076923076923,
         0
        ],
        [
         "a kumble",
         0.7685185185185185,
         0
        ],
        [
         "umar gul",
         0.7777777777777778,
         0
        ],
        [
         "j syed mohammad",
         0.7777777777777778,
         0
        ],
        [
         "kp pietersen",
         0.7777777777777778,
         0
        ],
        [
         "la carseldine",
         0.8333333333333334,
         0
        ],
        [
         "ss mundhe",
         0.8333333333333334,
         0
        ],
        [
         "rj peterson",
         0.8333333333333334,
         0
        ],
        [
         "tl suman",
         0.8333333333333334,
         0
        ],
        [
         "smsm senanayake",
         0.8492063492063492,
         0
        ],
        [
         "a symonds",
         0.8859649122807017,
         0
        ],
        [
         "t thushara",
         0.9,
         0
        ],
        [
         "c de grandhomme",
         0.9166666666666666,
         0
        ],
        [
         "mustafizur rahman",
         0.9215686274509803,
         0
        ],
        [
         "sp narine",
         0.929718875502008,
         0
        ],
        [
         "gd mcgrath",
         0.9324324324324325,
         0
        ],
        [
         "sl malinga",
         0.9407630522088354,
         0
        ],
        [
         "mohammad nabi",
         0.9444444444444444,
         0
        ],
        [
         "sohail tanvir",
         0.946969696969697,
         0
        ],
        [
         "a chandila",
         0.9513888888888888,
         0
        ],
        [
         "dp nannes",
         0.9532163742690059,
         0
        ],
        [
         "b kumar",
         0.9561487130600572,
         0
        ],
        [
         "bw hilfenhaus",
         0.9625,
         0
        ],
        [
         "r rampaul",
         0.9629629629629629,
         0
        ],
        [
         "d wiese",
         0.9666666666666667,
         0
        ],
        [
         "dw steyn",
         0.9700374531835206,
         0
        ],
        [
         "r ashwin",
         0.9729344729344729,
         0
        ],
        [
         "sb styris",
         1.0,
         0
        ],
        [
         "je taylor",
         1.0,
         0
        ],
        [
         "a mishra",
         1.0,
         0
        ],
        [
         "nl mccullum",
         1.0,
         0
        ],
        [
         "r tewatia",
         1.0,
         0
        ],
        [
         "sm pollock",
         1.0049019607843137,
         0
        ],
        [
         "ankit sharma",
         1.0072463768115942,
         0
        ],
        [
         "rj harris",
         1.0093896713615023,
         0
        ],
        [
         "mn samuels",
         1.0128205128205128,
         0
        ],
        [
         "bipul sharma",
         1.0135135135135136,
         0
        ],
        [
         "wpujc vaas",
         1.0151515151515151,
         0
        ],
        [
         "se bond",
         1.0222222222222221,
         0
        ],
        [
         "anand rajan",
         1.0238095238095237,
         0
        ],
        [
         "ac thomas",
         1.0277777777777777,
         0
        ],
        [
         "iqbal abdulla",
         1.0326086956521738,
         0
        ],
        [
         "m muralitharan",
         1.0337837837837838,
         0
        ],
        [
         "rashid khan",
         1.037037037037037,
         0
        ],
        [
         "shahid afridi",
         1.0416666666666667,
         0
        ],
        [
         "kk cooper",
         1.0416666666666667,
         0
        ],
        [
         "aa chavan",
         1.0416666666666667,
         0
        ],
        [
         "ad russell",
         1.046875,
         0
        ],
        [
         "p kumar",
         1.0528325907065563,
         0
        ],
        [
         "a singh",
         1.053030303030303,
         0
        ],
        [
         "kaj roach",
         1.0555555555555556,
         0
        ],
        [
         "m ntini",
         1.0576923076923077,
         0
        ],
        [
         "ma starc",
         1.0578231292517006,
         0
        ],
        [
         "gb hogg",
         1.0625,
         0
        ],
        [
         "crd fernando",
         1.064102564102564,
         0
        ],
        [
         "pp chawla",
         1.064516129032258,
         0
        ],
        [
         "dl vettori",
         1.0666666666666667,
         0
        ],
        [
         "wd parnell",
         1.0666666666666667,
         0
        ],
        [
         "azhar mahmood",
         1.0694444444444444,
         0
        ],
        [
         "yk pathan",
         1.0706214689265536,
         0
        ],
        [
         "ck langeveldt",
         1.0714285714285714,
         0
        ],
        [
         "jaskaran singh",
         1.0714285714285714,
         0
        ],
        [
         "washington sundar",
         1.0740740740740742,
         0
        ],
        [
         "z khan",
         1.0743034055727554,
         0
        ],
        [
         "harbhajan singh",
         1.0805860805860805,
         0
        ],
        [
         "al menaria",
         1.0833333333333333,
         0
        ],
        [
         "nj rimmington",
         1.0833333333333333,
         0
        ],
        [
         "sw tait",
         1.0921052631578947,
         0
        ],
        [
         "kw richardson",
         1.0925925925925926,
         0
        ],
        [
         "b lee",
         1.0946502057613168,
         0
        ],
        [
         "sr watson",
         1.0951760104302477,
         0
        ],
        [
         "jj bumrah",
         1.096774193548387,
         0
        ],
        [
         "r sharma",
         1.1,
         0
        ],
        [
         "kuldeep yadav",
         1.1,
         0
        ],
        [
         "l balaji",
         1.1022222222222222,
         0
        ],
        [
         "sandeep sharma",
         1.1035353535353536,
         0
        ],
        [
         "m morkel",
         1.1059602649006623,
         0
        ],
        [
         "aj tye",
         1.1111111111111112,
         0
        ],
        [
         "m kartik",
         1.111731843575419,
         0
        ],
        [
         "jp duminy",
         1.1133333333333333,
         0
        ],
        [
         "ik pathan",
         1.1154684095860568,
         0
        ],
        [
         "ic pandey",
         1.1174242424242424,
         0
        ],
        [
         "nm coulternile",
         1.1180555555555556,
         0
        ],
        [
         "i sharma",
         1.1231231231231231,
         0
        ],
        [
         "de bollinger",
         1.126543209876543,
         0
        ],
        [
         "rp singh",
         1.129740518962076,
         0
        ],
        [
         "mm patel",
         1.1347626339969372,
         0
        ],
        [
         "baw mendis",
         1.1379310344827587,
         0
        ],
        [
         "s sreesanth",
         1.1403508771929824,
         0
        ],
        [
         "ts mills",
         1.1428571428571428,
         0
        ],
        [
         "ab dinda",
         1.1444444444444444,
         0
        ],
        [
         "kh pandya",
         1.1458333333333333,
         0
        ],
        [
         "am salvi",
         1.1515151515151516,
         0
        ],
        [
         "r vinay kumar",
         1.1518817204301075,
         0
        ],
        [
         "anureet singh",
         1.154320987654321,
         0
        ],
        [
         "ch morris",
         1.1544117647058822,
         0
        ],
        [
         "ds kulkarni",
         1.1578249336870026,
         0
        ],
        [
         "jd unadkat",
         1.1640625,
         0
        ],
        [
         "daj bracewell",
         1.1666666666666667,
         0
        ],
        [
         "kmdn kulasekara",
         1.1666666666666667,
         0
        ],
        [
         "ya abdulla",
         1.1666666666666667,
         0
        ],
        [
         "jd ryder",
         1.1666666666666667,
         0
        ],
        [
         "gagandeep singh",
         1.1666666666666667,
         0
        ],
        [
         "m vijay",
         1.1666666666666667,
         0
        ],
        [
         "gs sandhu",
         1.1666666666666667,
         0
        ],
        [
         "ks williamson",
         1.1666666666666667,
         0
        ],
        [
         "pm sarvesh kumar",
         1.1666666666666667,
         0
        ],
        [
         "kv sharma",
         1.1730769230769231,
         0
        ],
        [
         "jh kallis",
         1.176356589147287,
         0
        ],
        [
         "ta boult",
         1.1785714285714286,
         0
        ],
        [
         "ba stokes",
         1.1794871794871795,
         0
        ],
        [
         "s nadeem",
         1.1805555555555556,
         0
        ],
        [
         "an ahmed",
         1.181159420289855,
         0
        ],
        [
         "mf maharoof",
         1.1845238095238095,
         0
        ],
        [
         "s badree",
         1.185897435897436,
         0
        ],
        [
         "rr powar",
         1.1893939393939394,
         0
        ],
        [
         "vs malik",
         1.1904761904761905,
         0
        ],
        [
         "j yadav",
         1.1904761904761905,
         0
        ],
        [
         "shoaib akhtar",
         1.1904761904761905,
         0
        ],
        [
         "mg johnson",
         1.1934369602763386,
         0
        ],
        [
         "dp vijaykumar",
         1.196078431372549,
         0
        ],
        [
         "ba bhatt",
         1.1979166666666667,
         0
        ],
        [
         "sb wagh",
         1.2,
         0
        ],
        [
         "m de lange",
         1.2,
         0
        ],
        [
         "a nehra",
         1.2049405306495884,
         0
        ],
        [
         "ch gayle",
         1.2083333333333333,
         0
        ],
        [
         "tg southee",
         1.2083333333333333,
         0
        ],
        [
         "nltc perera",
         1.211111111111111,
         0
        ],
        [
         "s aravind",
         1.2112676056338028,
         0
        ],
        [
         "shakib al hasan",
         1.2127659574468086,
         0
        ],
        [
         "ad mascarenhas",
         1.2142857142857142,
         0
        ],
        [
         "ar patel",
         1.2160493827160495,
         0
        ],
        [
         "dnt zoysa",
         1.2222222222222223,
         0
        ],
        [
         "sm boland",
         1.2222222222222223,
         0
        ],
        [
         "dt christian",
         1.2261904761904763,
         0
        ],
        [
         "ut yadav",
         1.2311827956989247,
         0
        ],
        [
         "str binny",
         1.2318840579710144,
         0
        ],
        [
         "mj mcclenaghan",
         1.2377777777777779,
         0
        ],
        [
         "sk raina",
         1.2424242424242424,
         0
        ],
        [
         "a choudhary",
         1.25,
         0
        ],
        [
         "pankaj singh",
         1.2533333333333334,
         0
        ],
        [
         "jp faulkner",
         1.256064690026954,
         0
        ],
        [
         "dj bravo",
         1.2571428571428571,
         0
        ],
        [
         "rg sharma",
         1.26,
         0
        ],
        [
         "k rabada",
         1.2638888888888888,
         0
        ],
        [
         "s kaul",
         1.2654320987654322,
         0
        ],
        [
         "jj van der wath",
         1.2666666666666666,
         0
        ],
        [
         "r dhawan",
         1.2692307692307692,
         0
        ],
        [
         "j botha",
         1.2760416666666667,
         0
        ],
        [
         "dj muthuswami",
         1.2777777777777777,
         0
        ],
        [
         "b stanlake",
         1.2777777777777777,
         0
        ],
        [
         "mm sharma",
         1.2844827586206897,
         0
        ],
        [
         "p awana",
         1.2851851851851852,
         0
        ],
        [
         "s tyagi",
         1.2976190476190477,
         0
        ],
        [
         "jw hastings",
         1.3055555555555556,
         0
        ],
        [
         "pp ojha",
         1.3083333333333333,
         0
        ],
        [
         "vr aaron",
         1.3194444444444444,
         0
        ],
        [
         "jec franklin",
         1.3333333333333333,
         0
        ],
        [
         "sa yadav",
         1.3333333333333333,
         0
        ],
        [
         "t natarajan",
         1.3333333333333333,
         0
        ],
        [
         "tejas baroka",
         1.3333333333333333,
         0
        ],
        [
         "rr raje",
         1.3333333333333333,
         0
        ],
        [
         "ja morkel",
         1.3444444444444446,
         0
        ],
        [
         "r shukla",
         1.3518518518518519,
         0
        ],
        [
         "r mclaren",
         1.36,
         0
        ],
        [
         "pj sangwan",
         1.3722397476340693,
         0
        ],
        [
         "hv patel",
         1.375,
         0
        ],
        [
         "djg sammy",
         1.375,
         0
        ],
        [
         "v pratap singh",
         1.375,
         0
        ],
        [
         "gh vihari",
         1.375,
         0
        ],
        [
         "bj hodge",
         1.3888888888888888,
         0
        ],
        [
         "jr hopes",
         1.3888888888888888,
         0
        ],
        [
         "kp appanna",
         1.3888888888888888,
         0
        ],
        [
         "cr brathwaite",
         1.3888888888888888,
         0
        ],
        [
         "a mithun",
         1.393939393939394,
         0
        ],
        [
         "mohammed shami",
         1.3942307692307692,
         0
        ],
        [
         "bb sran",
         1.4027777777777777,
         0
        ],
        [
         "jo holder",
         1.40625,
         0
        ],
        [
         "dj hooda",
         1.4074074074074074,
         0
        ],
        [
         "pv tambe",
         1.4102564102564104,
         0
        ],
        [
         "mc henriques",
         1.4104046242774566,
         0
        ],
        [
         "as rajpoot",
         1.4166666666666667,
         0
        ],
        [
         "tp sudhindra",
         1.4166666666666667,
         0
        ],
        [
         "harmeet singh",
         1.4166666666666667,
         0
        ],
        [
         "sk trivedi",
         1.4206349206349207,
         0
        ],
        [
         "ms gony",
         1.4218106995884774,
         0
        ],
        [
         "sb jakati",
         1.4270833333333333,
         0
        ],
        [
         "sn thakur",
         1.4270833333333333,
         0
        ],
        [
         "ad mathews",
         1.4285714285714286,
         0
        ],
        [
         "tm dilshan",
         1.4285714285714286,
         0
        ],
        [
         "ra jadeja",
         1.4285714285714286,
         0
        ],
        [
         "p suyal",
         1.4333333333333333,
         0
        ],
        [
         "imran tahir",
         1.4444444444444444,
         0
        ],
        [
         "s dhawan",
         1.4444444444444444,
         0
        ],
        [
         "sj srivastava",
         1.446969696969697,
         0
        ],
        [
         "j theron",
         1.476923076923077,
         0
        ],
        [
         "kamran khan",
         1.4880952380952381,
         0
        ],
        [
         "ab agarkar",
         1.5,
         0
        ],
        [
         "joginder sharma",
         1.5,
         0
        ],
        [
         "aa jhunjhunwala",
         1.5,
         0
        ],
        [
         "kc cariappa",
         1.5,
         0
        ],
        [
         "ab mcdonald",
         1.5,
         0
        ],
        [
         "s ladda",
         1.5,
         0
        ],
        [
         "re van der merwe",
         1.5,
         0
        ],
        [
         "p sahu",
         1.5,
         0
        ],
        [
         "ys chahal",
         1.505952380952381,
         0
        ],
        [
         "parvez rasool",
         1.5151515151515151,
         0
        ],
        [
         "pj cummins",
         1.5158730158730158,
         0
        ],
        [
         "basil thampi",
         1.5196078431372548,
         0
        ],
        [
         "af milne",
         1.5238095238095237,
         0
        ],
        [
         "ka pollard",
         1.5277777777777777,
         0
        ],
        [
         "jdp oram",
         1.537037037037037,
         0
        ],
        [
         "s narwal",
         1.5454545454545454,
         0
        ],
        [
         "p negi",
         1.5555555555555556,
         0
        ],
        [
         "bcj cutting",
         1.5555555555555556,
         0
        ],
        [
         "dj hussey",
         1.5555555555555556,
         0
        ],
        [
         "dl chahar",
         1.5606060606060606,
         0
        ],
        [
         "lh ferguson",
         1.5666666666666667,
         0
        ],
        [
         "mohammad asif",
         1.5666666666666667,
         0
        ],
        [
         "mr marsh",
         1.5833333333333333,
         0
        ],
        [
         "cj jordan",
         1.5833333333333333,
         0
        ],
        [
         "sk warne",
         1.5833333333333333,
         0
        ],
        [
         "gurkeerat singh",
         1.5833333333333333,
         0
        ],
        [
         "s randiv",
         1.5833333333333333,
         0
        ],
        [
         "y venugopal rao",
         1.5952380952380953,
         0
        ],
        [
         "p parameswaran",
         1.6111111111111112,
         0
        ],
        [
         "k upadhyay",
         1.6111111111111112,
         0
        ],
        [
         "k santokie",
         1.6111111111111112,
         0
        ],
        [
         "cj anderson",
         1.6338028169014085,
         0
        ],
        [
         "kj abbott",
         1.6666666666666667,
         0
        ],
        [
         "y nagar",
         1.6666666666666667,
         0
        ],
        [
         "st jayasuriya",
         1.6666666666666667,
         0
        ],
        [
         "hh pandya",
         1.6666666666666667,
         0
        ],
        [
         "vrv singh",
         1.6666666666666667,
         0
        ],
        [
         "am nayar",
         1.6666666666666667,
         0
        ],
        [
         "be hendricks",
         1.6666666666666667,
         0
        ],
        [
         "sc ganguly",
         1.7222222222222223,
         0
        ],
        [
         "cr woakes",
         1.75,
         0
        ],
        [
         "a flintoff",
         1.75,
         0
        ],
        [
         "a uniyal",
         1.75,
         0
        ],
        [
         "nd doshi",
         1.7777777777777777,
         0
        ],
        [
         "vy mahesh",
         1.794871794871795,
         0
        ],
        [
         "dr smith",
         1.803030303030303,
         0
        ],
        [
         "mohammed siraj",
         1.8166666666666667,
         0
        ],
        [
         "sd chitnis",
         1.8333333333333333,
         0
        ],
        [
         "ss agarwal",
         1.8333333333333333,
         0
        ],
        [
         "ra shaikh",
         1.8333333333333333,
         0
        ],
        [
         "mp stoinis",
         1.875,
         0
        ],
        [
         "b geeves",
         1.875,
         0
        ],
        [
         "lr shukla",
         1.8846153846153846,
         0
        ],
        [
         "j suchith",
         1.8888888888888888,
         0
        ],
        [
         "ap dole",
         1.9,
         0
        ],
        [
         "lj wright",
         2.0,
         0
        ],
        [
         "a nel",
         2.0,
         0
        ],
        [
         "s kaushik",
         2.0,
         0
        ],
        [
         "p amarnath",
         2.0,
         0
        ],
        [
         "rr bose",
         2.0,
         0
        ],
        [
         "sunny gupta",
         2.0,
         0
        ],
        [
         "mj henry",
         2.0,
         0
        ],
        [
         "vs yeligati",
         2.0,
         0
        ],
        [
         "b akhil",
         2.0,
         0
        ],
        [
         "shoaib ahmed",
         2.0555555555555554,
         0
        ],
        [
         "ac voges",
         2.0833333333333335,
         0
        ],
        [
         "r bhatia",
         2.0833333333333335,
         0
        ],
        [
         "mashrafe mortaza",
         2.0833333333333335,
         0
        ],
        [
         "sa abbott",
         2.111111111111111,
         0
        ],
        [
         "cj mckay",
         2.1666666666666665,
         0
        ],
        [
         "karanveer singh",
         2.1666666666666665,
         0
        ],
        [
         "mb parmar",
         2.1666666666666665,
         0
        ],
        [
         "l ablish",
         2.1666666666666665,
         0
        ],
        [
         "m ashwin",
         2.25,
         0
        ],
        [
         "jds neesham",
         2.3333333333333335,
         0
        ],
        [
         "rw price",
         2.3333333333333335,
         0
        ],
        [
         "gj maxwell",
         2.3666666666666667,
         0
        ],
        [
         "ss sarkar",
         2.5,
         0
        ],
        [
         "rg more",
         2.5,
         0
        ],
        [
         "aa noffke",
         2.8333333333333335,
         0
        ],
        [
         "mg neser",
         3.0,
         0
        ],
        [
         "a ashish reddy",
         3.3333333333333335,
         0
        ],
        [
         "rr bhatkal",
         3.3333333333333335,
         0
        ],
        [
         "v sehwag",
         3.4166666666666665,
         0
        ]
       ],
       "datasetInfos": [],
       "dbfsResultPath": null,
       "isJsonSchema": true,
       "metadata": {},
       "overflow": false,
       "plotOptions": {
        "customPlotOptions": {},
        "displayType": "table",
        "pivotAggregation": null,
        "pivotColumns": null,
        "xColumns": null,
        "yColumns": null
       },
       "removedWidgets": [],
       "schema": [
        {
         "metadata": "{}",
         "name": "player_name",
         "type": "\"string\""
        },
        {
         "metadata": "{}",
         "name": "avg_runs_per_ball",
         "type": "\"double\""
        },
        {
         "metadata": "{}",
         "name": "total_wickets",
         "type": "\"long\""
        }
       ],
       "type": "table"
      }
     },
     "output_type": "display_data"
    }
   ],
   "source": [
    "\n",
    "%sql\n",
    "\n",
    "--economical_bowlers_powerplay\n",
    "\n",
    "SELECT \n",
    "    p.player_name, \n",
    "    AVG(b.runs_scored) AS avg_runs_per_ball, \n",
    "    COUNT(b.bowler_wicket) AS total_wickets\n",
    "FROM \n",
    "    IPL_DATA_Warehouse.ball_by_ball b\n",
    "JOIN \n",
    "    IPL_DATA_Warehouse.player_match pm ON b.match_id = pm.match_id AND b.bowler = pm.player_id\n",
    "JOIN \n",
    "    IPL_DATA_Warehouse.player p ON pm.player_id = p.player_id\n",
    "WHERE \n",
    "    b.over_id <= 6\n",
    "GROUP BY \n",
    "    p.player_name\n",
    "HAVING \n",
    "    COUNT(*) >= 1\n",
    "ORDER BY \n",
    "    avg_runs_per_ball, \n",
    "    total_wickets DESC;\n"
   ]
  },
  {
   "cell_type": "code",
   "execution_count": 0,
   "metadata": {
    "application/vnd.databricks.v1+cell": {
     "cellMetadata": {
      "byteLimit": 2048000,
      "implicitDf": true,
      "rowLimit": 10000
     },
     "inputWidgets": {},
     "nuid": "2f861b44-6cd2-4977-b7f5-d70331971aec",
     "showTitle": false,
     "title": ""
    }
   },
   "outputs": [
    {
     "output_type": "display_data",
     "data": {
      "text/html": [
       "<style scoped>\n",
       "  .table-result-container {\n",
       "    max-height: 300px;\n",
       "    overflow: auto;\n",
       "  }\n",
       "  table, th, td {\n",
       "    border: 1px solid black;\n",
       "    border-collapse: collapse;\n",
       "  }\n",
       "  th, td {\n",
       "    padding: 5px;\n",
       "  }\n",
       "  th {\n",
       "    text-align: left;\n",
       "  }\n",
       "</style><div class='table-result-container'><table class='table-result'><thead style='background-color: white'><tr><th>match_id</th><th>toss_winner</th><th>toss_name</th><th>match_winner</th><th>match_outcome</th></tr></thead><tbody><tr><td>335987</td><td>Royal Challengers Bangalore</td><td>field</td><td>Kolkata Knight Riders</td><td>Lost</td></tr><tr><td>335988</td><td>Chennai Super Kings</td><td>bat</td><td>Chennai Super Kings</td><td>Won</td></tr><tr><td>335989</td><td>Rajasthan Royals</td><td>bat</td><td>Delhi Daredevils</td><td>Lost</td></tr><tr><td>335990</td><td>Mumbai Indians</td><td>bat</td><td>Royal Challengers Bangalore</td><td>Lost</td></tr><tr><td>335991</td><td>Deccan Chargers</td><td>bat</td><td>Kolkata Knight Riders</td><td>Lost</td></tr><tr><td>335992</td><td>Kings XI Punjab</td><td>bat</td><td>Rajasthan Royals</td><td>Lost</td></tr><tr><td>335993</td><td>Deccan Chargers</td><td>bat</td><td>Delhi Daredevils</td><td>Lost</td></tr><tr><td>335994</td><td>Mumbai Indians</td><td>field</td><td>Chennai Super Kings</td><td>Lost</td></tr><tr><td>335995</td><td>Rajasthan Royals</td><td>field</td><td>Rajasthan Royals</td><td>Won</td></tr><tr><td>335996</td><td>Mumbai Indians</td><td>field</td><td>Kings XI Punjab</td><td>Lost</td></tr><tr><td>335997</td><td>Rajasthan Royals</td><td>field</td><td>Rajasthan Royals</td><td>Won</td></tr><tr><td>335998</td><td>Kolkata Knight Riders</td><td>bat</td><td>Chennai Super Kings</td><td>Lost</td></tr><tr><td>335999</td><td>Deccan Chargers</td><td>field</td><td>Deccan Chargers</td><td>Won</td></tr><tr><td>336000</td><td>Delhi Daredevils</td><td>bat</td><td>Kings XI Punjab</td><td>Lost</td></tr><tr><td>336001</td><td>Chennai Super Kings</td><td>bat</td><td>Chennai Super Kings</td><td>Won</td></tr><tr><td>336002</td><td>Kolkata Knight Riders</td><td>bat</td><td>Mumbai Indians</td><td>Lost</td></tr><tr><td>336003</td><td>Royal Challengers Bangalore</td><td>field</td><td>Delhi Daredevils</td><td>Lost</td></tr><tr><td>336004</td><td>Kings XI Punjab</td><td>field</td><td>Kings XI Punjab</td><td>Won</td></tr><tr><td>336005</td><td>Rajasthan Royals</td><td>bat</td><td>Rajasthan Royals</td><td>Won</td></tr><tr><td>336006</td><td>Chennai Super Kings</td><td>bat</td><td>Delhi Daredevils</td><td>Lost</td></tr><tr><td>336007</td><td>Deccan Chargers</td><td>bat</td><td>Royal Challengers Bangalore</td><td>Lost</td></tr><tr><td>336008</td><td>Kings XI Punjab</td><td>bat</td><td>Kings XI Punjab</td><td>Won</td></tr><tr><td>336009</td><td>Delhi Daredevils</td><td>field</td><td>Mumbai Indians</td><td>Lost</td></tr><tr><td>336010</td><td>Chennai Super Kings</td><td>bat</td><td>Rajasthan Royals</td><td>Lost</td></tr><tr><td>336011</td><td>Kings XI Punjab</td><td>field</td><td>Kings XI Punjab</td><td>Won</td></tr><tr><td>336012</td><td>Deccan Chargers</td><td>field</td><td>Deccan Chargers</td><td>Won</td></tr><tr><td>336013</td><td>Mumbai Indians</td><td>field</td><td>Mumbai Indians</td><td>Won</td></tr><tr><td>336014</td><td>Chennai Super Kings</td><td>field</td><td>Chennai Super Kings</td><td>Won</td></tr><tr><td>336015</td><td>Kolkata Knight Riders</td><td>bat</td><td>Kolkata Knight Riders</td><td>Won</td></tr><tr><td>336016</td><td>Rajasthan Royals</td><td>field</td><td>Rajasthan Royals</td><td>Won</td></tr><tr><td>336017</td><td>Mumbai Indians</td><td>field</td><td>Mumbai Indians</td><td>Won</td></tr><tr><td>336018</td><td>Kings XI Punjab</td><td>field</td><td>Chennai Super Kings</td><td>Lost</td></tr><tr><td>336019</td><td>Kolkata Knight Riders</td><td>bat</td><td>Kolkata Knight Riders</td><td>Won</td></tr><tr><td>336020</td><td>Rajasthan Royals</td><td>field</td><td>Rajasthan Royals</td><td>Won</td></tr><tr><td>336021</td><td>Royal Challengers Bangalore</td><td>bat</td><td>Kings XI Punjab</td><td>Lost</td></tr><tr><td>336022</td><td>Kolkata Knight Riders</td><td>bat</td><td>Kolkata Knight Riders</td><td>Won</td></tr><tr><td>336023</td><td>Mumbai Indians</td><td>field</td><td>Mumbai Indians</td><td>Won</td></tr><tr><td>336024</td><td>Rajasthan Royals</td><td>field</td><td>Kings XI Punjab</td><td>Lost</td></tr><tr><td>336025</td><td>Deccan Chargers</td><td>field</td><td>Delhi Daredevils</td><td>Lost</td></tr><tr><td>336026</td><td>Mumbai Indians</td><td>field</td><td>Mumbai Indians</td><td>Won</td></tr><tr><td>336027</td><td>Delhi Daredevils</td><td>bat</td><td>Kings XI Punjab</td><td>Lost</td></tr><tr><td>336028</td><td>Royal Challengers Bangalore</td><td>field</td><td>Rajasthan Royals</td><td>Lost</td></tr><tr><td>336029</td><td>Deccan Chargers</td><td>field</td><td>Mumbai Indians</td><td>Lost</td></tr><tr><td>336030</td><td>Kolkata Knight Riders</td><td>bat</td><td>Chennai Super Kings</td><td>Lost</td></tr><tr><td>336031</td><td>Delhi Daredevils</td><td>field</td><td>Delhi Daredevils</td><td>Won</td></tr><tr><td>336032</td><td>Rajasthan Royals</td><td>field</td><td>Rajasthan Royals</td><td>Won</td></tr><tr><td>336033</td><td>Mumbai Indians</td><td>field</td><td>Kings XI Punjab</td><td>Lost</td></tr><tr><td>336034</td><td>Royal Challengers Bangalore</td><td>bat</td><td>Royal Challengers Bangalore</td><td>Won</td></tr><tr><td>336036</td><td>Kings XI Punjab</td><td>field</td><td>Kings XI Punjab</td><td>Won</td></tr><tr><td>336037</td><td>Delhi Daredevils</td><td>field</td><td>Delhi Daredevils</td><td>Won</td></tr><tr><td>336038</td><td>Rajasthan Royals</td><td>bat</td><td>Rajasthan Royals</td><td>Won</td></tr><tr><td>336039</td><td>Deccan Chargers</td><td>field</td><td>Royal Challengers Bangalore</td><td>Lost</td></tr><tr><td>336040</td><td>Kings XI Punjab</td><td>bat</td><td>Kolkata Knight Riders</td><td>Lost</td></tr><tr><td>336041</td><td>Rajasthan Royals</td><td>field</td><td>Rajasthan Royals</td><td>Won</td></tr><tr><td>336042</td><td>Deccan Chargers</td><td>bat</td><td>Chennai Super Kings</td><td>Lost</td></tr><tr><td>336043</td><td>Delhi Daredevils</td><td>field</td><td>Rajasthan Royals</td><td>Lost</td></tr><tr><td>336044</td><td>Kings XI Punjab</td><td>bat</td><td>Chennai Super Kings</td><td>Lost</td></tr><tr><td>336045</td><td>Rajasthan Royals</td><td>field</td><td>Rajasthan Royals</td><td>Won</td></tr><tr><td>392186</td><td>Chennai Super Kings</td><td>field</td><td>Mumbai Indians</td><td>Lost</td></tr><tr><td>392187</td><td>Royal Challengers Bangalore</td><td>bat</td><td>Royal Challengers Bangalore</td><td>Won</td></tr><tr><td>392188</td><td>Delhi Daredevils</td><td>field</td><td>Delhi Daredevils</td><td>Won</td></tr><tr><td>392189</td><td>Kolkata Knight Riders</td><td>bat</td><td>Deccan Chargers</td><td>Lost</td></tr><tr><td>392190</td><td>Chennai Super Kings</td><td>bat</td><td>Chennai Super Kings</td><td>Won</td></tr><tr><td>392191</td><td>Kolkata Knight Riders</td><td>field</td><td>Kolkata Knight Riders</td><td>Won</td></tr><tr><td>392193</td><td>Deccan Chargers</td><td>bat</td><td>Deccan Chargers</td><td>Won</td></tr><tr><td>392194</td><td>Delhi Daredevils</td><td>bat</td><td>Delhi Daredevils</td><td>Won</td></tr><tr><td>392195</td><td>Kolkata Knight Riders</td><td>field</td><td>Rajasthan Royals</td><td>Lost</td></tr><tr><td>392196</td><td>Royal Challengers Bangalore</td><td>bat</td><td>Kings XI Punjab</td><td>Lost</td></tr><tr><td>392197</td><td>Deccan Chargers</td><td>bat</td><td>Deccan Chargers</td><td>Won</td></tr><tr><td>392199</td><td>Royal Challengers Bangalore</td><td>bat</td><td>Delhi Daredevils</td><td>Lost</td></tr><tr><td>392200</td><td>Kings XI Punjab</td><td>bat</td><td>Kings XI Punjab</td><td>Won</td></tr><tr><td>392201</td><td>Deccan Chargers</td><td>field</td><td>Deccan Chargers</td><td>Won</td></tr><tr><td>392202</td><td>Mumbai Indians</td><td>bat</td><td>Mumbai Indians</td><td>Won</td></tr><tr><td>392203</td><td>Delhi Daredevils</td><td>bat</td><td>Rajasthan Royals</td><td>Lost</td></tr><tr><td>392204</td><td>Kolkata Knight Riders</td><td>bat</td><td>Royal Challengers Bangalore</td><td>Lost</td></tr><tr><td>392205</td><td>Kings XI Punjab</td><td>bat</td><td>Kings XI Punjab</td><td>Won</td></tr><tr><td>392206</td><td>Delhi Daredevils</td><td>field</td><td>Delhi Daredevils</td><td>Won</td></tr><tr><td>392207</td><td>Rajasthan Royals</td><td>field</td><td>Chennai Super Kings</td><td>Lost</td></tr><tr><td>392208</td><td>Mumbai Indians</td><td>bat</td><td>Mumbai Indians</td><td>Won</td></tr><tr><td>392209</td><td>Royal Challengers Bangalore</td><td>bat</td><td>Royal Challengers Bangalore</td><td>Won</td></tr><tr><td>392210</td><td>Deccan Chargers</td><td>bat</td><td>Rajasthan Royals</td><td>Lost</td></tr><tr><td>392211</td><td>Delhi Daredevils</td><td>field</td><td>Chennai Super Kings</td><td>Lost</td></tr><tr><td>392212</td><td>Kolkata Knight Riders</td><td>bat</td><td>Kings XI Punjab</td><td>Lost</td></tr><tr><td>392213</td><td>Mumbai Indians</td><td>bat</td><td>Royal Challengers Bangalore</td><td>Lost</td></tr><tr><td>392214</td><td>Chennai Super Kings</td><td>bat</td><td>Chennai Super Kings</td><td>Won</td></tr><tr><td>392215</td><td>Kings XI Punjab</td><td>field</td><td>Rajasthan Royals</td><td>Lost</td></tr><tr><td>392216</td><td>Kolkata Knight Riders</td><td>bat</td><td>Delhi Daredevils</td><td>Lost</td></tr><tr><td>392217</td><td>Deccan Chargers</td><td>bat</td><td>Deccan Chargers</td><td>Won</td></tr><tr><td>392218</td><td>Rajasthan Royals</td><td>field</td><td>Rajasthan Royals</td><td>Won</td></tr><tr><td>392219</td><td>Chennai Super Kings</td><td>bat</td><td>Chennai Super Kings</td><td>Won</td></tr><tr><td>392220</td><td>Mumbai Indians</td><td>bat</td><td>Delhi Daredevils</td><td>Lost</td></tr><tr><td>392221</td><td>Kings XI Punjab</td><td>field</td><td>Kings XI Punjab</td><td>Won</td></tr><tr><td>392222</td><td>Rajasthan Royals</td><td>bat</td><td>Chennai Super Kings</td><td>Lost</td></tr><tr><td>392223</td><td>Mumbai Indians</td><td>bat</td><td>Mumbai Indians</td><td>Won</td></tr><tr><td>392224</td><td>Delhi Daredevils</td><td>field</td><td>Delhi Daredevils</td><td>Won</td></tr><tr><td>392225</td><td>Deccan Chargers</td><td>bat</td><td>Deccan Chargers</td><td>Won</td></tr><tr><td>392226</td><td>Royal Challengers Bangalore</td><td>field</td><td>Royal Challengers Bangalore</td><td>Won</td></tr><tr><td>392227</td><td>Kings XI Punjab</td><td>bat</td><td>Mumbai Indians</td><td>Lost</td></tr><tr><td>392228</td><td>Deccan Chargers</td><td>field</td><td>Delhi Daredevils</td><td>Lost</td></tr><tr><td>392229</td><td>Chennai Super Kings</td><td>bat</td><td>Royal Challengers Bangalore</td><td>Lost</td></tr><tr><td>392230</td><td>Rajasthan Royals</td><td>bat</td><td>Rajasthan Royals</td><td>Won</td></tr><tr><td>392231</td><td>Kings XI Punjab</td><td>field</td><td>Kings XI Punjab</td><td>Won</td></tr><tr><td>392232</td><td>Mumbai Indians</td><td>bat</td><td>Chennai Super Kings</td><td>Lost</td></tr><tr><td>392233</td><td>Deccan Chargers</td><td>field</td><td>Deccan Chargers</td><td>Won</td></tr><tr><td>392234</td><td>Deccan Chargers</td><td>field</td><td>Kings XI Punjab</td><td>Lost</td></tr><tr><td>392235</td><td>Delhi Daredevils</td><td>bat</td><td>Delhi Daredevils</td><td>Won</td></tr><tr><td>392236</td><td>Chennai Super Kings</td><td>bat</td><td>Kolkata Knight Riders</td><td>Lost</td></tr><tr><td>392237</td><td>Delhi Daredevils</td><td>bat</td><td>Royal Challengers Bangalore</td><td>Lost</td></tr><tr><td>392238</td><td>Kolkata Knight Riders</td><td>field</td><td>Kolkata Knight Riders</td><td>Won</td></tr><tr><td>392239</td><td>Chennai Super Kings</td><td>bat</td><td>Chennai Super Kings</td><td>Won</td></tr><tr><td>392240</td><td>Delhi Daredevils</td><td>field</td><td>Delhi Daredevils</td><td>Won</td></tr><tr><td>392241</td><td>Royal Challengers Bangalore</td><td>bat</td><td>Royal Challengers Bangalore</td><td>Won</td></tr><tr><td>392242</td><td>Deccan Chargers</td><td>field</td><td>Deccan Chargers</td><td>Won</td></tr><tr><td>392243</td><td>Royal Challengers Bangalore</td><td>field</td><td>Royal Challengers Bangalore</td><td>Won</td></tr><tr><td>392244</td><td>Royal Challengers Bangalore</td><td>field</td><td>Deccan Chargers</td><td>Lost</td></tr><tr><td>419111</td><td>Deccan Chargers</td><td>field</td><td>Kolkata Knight Riders</td><td>Lost</td></tr><tr><td>419112</td><td>Mumbai Indians</td><td>bat</td><td>Mumbai Indians</td><td>Won</td></tr><tr><td>419113</td><td>Delhi Daredevils</td><td>field</td><td>Delhi Daredevils</td><td>Won</td></tr><tr><td>419114</td><td>Kolkata Knight Riders</td><td>field</td><td>Kolkata Knight Riders</td><td>Won</td></tr><tr><td>419115</td><td>Deccan Chargers</td><td>bat</td><td>Deccan Chargers</td><td>Won</td></tr><tr><td>419116</td><td>Delhi Daredevils</td><td>field</td><td>Delhi Daredevils</td><td>Won</td></tr><tr><td>419117</td><td>Kings XI Punjab</td><td>bat</td><td>Royal Challengers Bangalore</td><td>Lost</td></tr><tr><td>419118</td><td>Chennai Super Kings</td><td>bat</td><td>Chennai Super Kings</td><td>Won</td></tr><tr><td>419119</td><td>Delhi Daredevils</td><td>field</td><td>Mumbai Indians</td><td>Lost</td></tr><tr><td>419120</td><td>Royal Challengers Bangalore</td><td>field</td><td>Royal Challengers Bangalore</td><td>Won</td></tr><tr><td>419121</td><td>Delhi Daredevils</td><td>bat</td><td>Chennai Super Kings</td><td>Lost</td></tr><tr><td>419122</td><td>Kings XI Punjab</td><td>field</td><td>Deccan Chargers</td><td>Lost</td></tr><tr><td>419123</td><td>Rajasthan Royals</td><td>bat</td><td>Rajasthan Royals</td><td>Won</td></tr><tr><td>419124</td><td>Mumbai Indians</td><td>bat</td><td>Royal Challengers Bangalore</td><td>Lost</td></tr><tr><td>419125</td><td>Deccan Chargers</td><td>bat</td><td>Deccan Chargers</td><td>Won</td></tr><tr><td>419126</td><td>Chennai Super Kings</td><td>field</td><td>Kings XI Punjab</td><td>Lost</td></tr><tr><td>419127</td><td>Kolkata Knight Riders</td><td>bat</td><td>Mumbai Indians</td><td>Lost</td></tr><tr><td>419128</td><td>Chennai Super Kings</td><td>field</td><td>Royal Challengers Bangalore</td><td>Lost</td></tr><tr><td>419129</td><td>Kings XI Punjab</td><td>field</td><td>Rajasthan Royals</td><td>Lost</td></tr><tr><td>419130</td><td>Mumbai Indians</td><td>field</td><td>Mumbai Indians</td><td>Won</td></tr><tr><td>419131</td><td>Deccan Chargers</td><td>bat</td><td>Rajasthan Royals</td><td>Lost</td></tr><tr><td>419132</td><td>Kolkata Knight Riders</td><td>bat</td><td>Kolkata Knight Riders</td><td>Won</td></tr><tr><td>419133</td><td>Royal Challengers Bangalore</td><td>field</td><td>Delhi Daredevils</td><td>Lost</td></tr><tr><td>419134</td><td>Rajasthan Royals</td><td>bat</td><td>Rajasthan Royals</td><td>Won</td></tr><tr><td>419135</td><td>Deccan Chargers</td><td>field</td><td>Mumbai Indians</td><td>Lost</td></tr><tr><td>419136</td><td>Delhi Daredevils</td><td>bat</td><td>Delhi Daredevils</td><td>Won</td></tr><tr><td>419137</td><td>Mumbai Indians</td><td>field</td><td>Mumbai Indians</td><td>Won</td></tr><tr><td>419138</td><td>Royal Challengers Bangalore</td><td>bat</td><td>Chennai Super Kings</td><td>Lost</td></tr><tr><td>419139</td><td>Delhi Daredevils</td><td>bat</td><td>Delhi Daredevils</td><td>Won</td></tr><tr><td>419140</td><td>Kolkata Knight Riders</td><td>bat</td><td>Kolkata Knight Riders</td><td>Won</td></tr><tr><td>419141</td><td>Kings XI Punjab</td><td>bat</td><td>Royal Challengers Bangalore</td><td>Lost</td></tr><tr><td>419142</td><td>Chennai Super Kings</td><td>bat</td><td>Chennai Super Kings</td><td>Won</td></tr><tr><td>419143</td><td>Mumbai Indians</td><td>bat</td><td>Mumbai Indians</td><td>Won</td></tr><tr><td>419144</td><td>Kolkata Knight Riders</td><td>bat</td><td>Kings XI Punjab</td><td>Lost</td></tr><tr><td>419145</td><td>Delhi Daredevils</td><td>bat</td><td>Delhi Daredevils</td><td>Won</td></tr><tr><td>419146</td><td>Rajasthan Royals</td><td>bat</td><td>Rajasthan Royals</td><td>Won</td></tr><tr><td>419147</td><td>Chennai Super Kings</td><td>bat</td><td>Chennai Super Kings</td><td>Won</td></tr><tr><td>419148</td><td>Kings XI Punjab</td><td>bat</td><td>Rajasthan Royals</td><td>Lost</td></tr><tr><td>419149</td><td>Kolkata Knight Riders</td><td>bat</td><td>Kolkata Knight Riders</td><td>Won</td></tr><tr><td>419150</td><td>Deccan Chargers</td><td>field</td><td>Deccan Chargers</td><td>Won</td></tr><tr><td>419151</td><td>Mumbai Indians</td><td>bat</td><td>Kings XI Punjab</td><td>Lost</td></tr><tr><td>419152</td><td>Chennai Super Kings</td><td>bat</td><td>Deccan Chargers</td><td>Lost</td></tr><tr><td>419153</td><td>Royal Challengers Bangalore</td><td>field</td><td>Royal Challengers Bangalore</td><td>Won</td></tr><tr><td>419154</td><td>Delhi Daredevils</td><td>bat</td><td>Kings XI Punjab</td><td>Lost</td></tr><tr><td>419155</td><td>Rajasthan Royals</td><td>field</td><td>Mumbai Indians</td><td>Lost</td></tr><tr><td>419156</td><td>Royal Challengers Bangalore</td><td>field</td><td>Deccan Chargers</td><td>Lost</td></tr><tr><td>419157</td><td>Mumbai Indians</td><td>bat</td><td>Mumbai Indians</td><td>Won</td></tr><tr><td>419158</td><td>Kolkata Knight Riders</td><td>bat</td><td>Chennai Super Kings</td><td>Lost</td></tr><tr><td>419159</td><td>Rajasthan Royals</td><td>bat</td><td>Royal Challengers Bangalore</td><td>Lost</td></tr><tr><td>419160</td><td>Chennai Super Kings</td><td>bat</td><td>Delhi Daredevils</td><td>Lost</td></tr><tr><td>419161</td><td>Deccan Chargers</td><td>field</td><td>Deccan Chargers</td><td>Won</td></tr><tr><td>419162</td><td>Royal Challengers Bangalore</td><td>field</td><td>Mumbai Indians</td><td>Lost</td></tr><tr><td>419163</td><td>Rajasthan Royals</td><td>bat</td><td>Kolkata Knight Riders</td><td>Lost</td></tr><tr><td>419164</td><td>Chennai Super Kings</td><td>field</td><td>Chennai Super Kings</td><td>Won</td></tr><tr><td>419165</td><td>Deccan Chargers</td><td>bat</td><td>Deccan Chargers</td><td>Won</td></tr><tr><td>419166</td><td>Mumbai Indians</td><td>bat</td><td>Kolkata Knight Riders</td><td>Lost</td></tr><tr><td>419167</td><td>Mumbai Indians</td><td>bat</td><td>Mumbai Indians</td><td>Won</td></tr><tr><td>419168</td><td>Chennai Super Kings</td><td>bat</td><td>Chennai Super Kings</td><td>Won</td></tr><tr><td>419169</td><td>Deccan Chargers</td><td>bat</td><td>Royal Challengers Bangalore</td><td>Lost</td></tr><tr><td>419170</td><td>Chennai Super Kings</td><td>bat</td><td>Chennai Super Kings</td><td>Won</td></tr><tr><td>501203</td><td>Chennai Super Kings</td><td>bat</td><td>Chennai Super Kings</td><td>Won</td></tr><tr><td>501204</td><td>Rajasthan Royals</td><td>field</td><td>Rajasthan Royals</td><td>Won</td></tr><tr><td>501205</td><td>Kochi Tuskers Kerala</td><td>bat</td><td>Royal Challengers Bangalore</td><td>Lost</td></tr><tr><td>501206</td><td>Delhi Daredevils</td><td>bat</td><td>Mumbai Indians</td><td>Lost</td></tr><tr><td>501207</td><td>Kings XI Punjab</td><td>bat</td><td>Pune Warriors</td><td>Lost</td></tr><tr><td>501208</td><td>Kolkata Knight Riders</td><td>bat</td><td>Kolkata Knight Riders</td><td>Won</td></tr><tr><td>501209</td><td>Delhi Daredevils</td><td>bat</td><td>Rajasthan Royals</td><td>Lost</td></tr><tr><td>501210</td><td>Mumbai Indians</td><td>field</td><td>Mumbai Indians</td><td>Won</td></tr><tr><td>501211</td><td>Kings XI Punjab</td><td>field</td><td>Kings XI Punjab</td><td>Won</td></tr><tr><td>501212</td><td>Kochi Tuskers Kerala</td><td>bat</td><td>Pune Warriors</td><td>Lost</td></tr><tr><td>501213</td><td>Royal Challengers Bangalore</td><td>field</td><td>Deccan Chargers</td><td>Lost</td></tr><tr><td>501214</td><td>Kolkata Knight Riders</td><td>field</td><td>Kolkata Knight Riders</td><td>Won</td></tr><tr><td>501215</td><td>Kochi Tuskers Kerala</td><td>field</td><td>Kochi Tuskers Kerala</td><td>Won</td></tr><tr><td>501216</td><td>Chennai Super Kings</td><td>bat</td><td>Chennai Super Kings</td><td>Won</td></tr><tr><td>501217</td><td>Kings XI Punjab</td><td>field</td><td>Kings XI Punjab</td><td>Won</td></tr><tr><td>501218</td><td>Delhi Daredevils</td><td>field</td><td>Delhi Daredevils</td><td>Won</td></tr><tr><td>501219</td><td>Kolkata Knight Riders</td><td>field</td><td>Kolkata Knight Riders</td><td>Won</td></tr><tr><td>501220</td><td>Kochi Tuskers Kerala</td><td>field</td><td>Kochi Tuskers Kerala</td><td>Won</td></tr><tr><td>501221</td><td>Deccan Chargers</td><td>bat</td><td>Deccan Chargers</td><td>Won</td></tr><tr><td>501223</td><td>Pune Warriors</td><td>bat</td><td>Mumbai Indians</td><td>Lost</td></tr><tr><td>501224</td><td>Kolkata Knight Riders</td><td>field</td><td>Kochi Tuskers Kerala</td><td>Lost</td></tr><tr><td>501225</td><td>Rajasthan Royals</td><td>field</td><td>Kings XI Punjab</td><td>Lost</td></tr><tr><td>501226</td><td>Chennai Super Kings</td><td>field</td><td>Mumbai Indians</td><td>Lost</td></tr><tr><td>501227</td><td>Royal Challengers Bangalore</td><td>field</td><td>Royal Challengers Bangalore</td><td>Won</td></tr><tr><td>501228</td><td>Kings XI Punjab</td><td>field</td><td>Delhi Daredevils</td><td>Lost</td></tr><tr><td>501229</td><td>Deccan Chargers</td><td>field</td><td>Mumbai Indians</td><td>Lost</td></tr><tr><td>501230</td><td>Rajasthan Royals</td><td>field</td><td>Rajasthan Royals</td><td>Won</td></tr><tr><td>501231</td><td>Pune Warriors</td><td>field</td><td>Chennai Super Kings</td><td>Lost</td></tr><tr><td>501232</td><td>Royal Challengers Bangalore</td><td>field</td><td>Royal Challengers Bangalore</td><td>Won</td></tr><tr><td>501233</td><td>Pune Warriors</td><td>bat</td><td>Chennai Super Kings</td><td>Lost</td></tr><tr><td>501234</td><td>Kochi Tuskers Kerala</td><td>field</td><td>Deccan Chargers</td><td>Lost</td></tr><tr><td>501235</td><td>Delhi Daredevils</td><td>field</td><td>Kolkata Knight Riders</td><td>Lost</td></tr><tr><td>501236</td><td>Rajasthan Royals</td><td>field</td><td>Rajasthan Royals</td><td>Won</td></tr><tr><td>501237</td><td>Pune Warriors</td><td>field</td><td>Royal Challengers Bangalore</td><td>Lost</td></tr><tr><td>501238</td><td>Delhi Daredevils</td><td>bat</td><td>Delhi Daredevils</td><td>Won</td></tr><tr><td>501239</td><td>Kolkata Knight Riders</td><td>field</td><td>Kolkata Knight Riders</td><td>Won</td></tr><tr><td>501240</td><td>Rajasthan Royals</td><td>field</td><td>Rajasthan Royals</td><td>Won</td></tr><tr><td>501241</td><td>Chennai Super Kings</td><td>bat</td><td>Chennai Super Kings</td><td>Won</td></tr><tr><td>501242</td><td>Kings XI Punjab</td><td>field</td><td>Mumbai Indians</td><td>Lost</td></tr><tr><td>501243</td><td>Kochi Tuskers Kerala</td><td>field</td><td>Kochi Tuskers Kerala</td><td>Won</td></tr><tr><td>501244</td><td>Deccan Chargers</td><td>field</td><td>Kolkata Knight Riders</td><td>Lost</td></tr><tr><td>501245</td><td>Rajasthan Royals</td><td>bat</td><td>Chennai Super Kings</td><td>Lost</td></tr><tr><td>501246</td><td>Pune Warriors</td><td>field</td><td>Mumbai Indians</td><td>Lost</td></tr><tr><td>501247</td><td>Kolkata Knight Riders</td><td>field</td><td>Kochi Tuskers Kerala</td><td>Lost</td></tr><tr><td>501248</td><td>Delhi Daredevils</td><td>field</td><td>Delhi Daredevils</td><td>Won</td></tr><tr><td>501249</td><td>Kings XI Punjab</td><td>field</td><td>Royal Challengers Bangalore</td><td>Lost</td></tr><tr><td>501250</td><td>Chennai Super Kings</td><td>bat</td><td>Kolkata Knight Riders</td><td>Lost</td></tr><tr><td>501251</td><td>Delhi Daredevils</td><td>field</td><td>Mumbai Indians</td><td>Lost</td></tr><tr><td>501252</td><td>Kochi Tuskers Kerala</td><td>bat</td><td>Royal Challengers Bangalore</td><td>Lost</td></tr><tr><td>501253</td><td>Kings XI Punjab</td><td>bat</td><td>Pune Warriors</td><td>Lost</td></tr><tr><td>501254</td><td>Rajasthan Royals</td><td>field</td><td>Chennai Super Kings</td><td>Lost</td></tr><tr><td>501255</td><td>Deccan Chargers</td><td>bat</td><td>Pune Warriors</td><td>Lost</td></tr><tr><td>501256</td><td>Mumbai Indians</td><td>field</td><td>Kings XI Punjab</td><td>Lost</td></tr><tr><td>501257</td><td>Royal Challengers Bangalore</td><td>field</td><td>Royal Challengers Bangalore</td><td>Won</td></tr><tr><td>501258</td><td>Chennai Super Kings</td><td>bat</td><td>Chennai Super Kings</td><td>Won</td></tr><tr><td>501259</td><td>Kings XI Punjab</td><td>field</td><td>Kings XI Punjab</td><td>Won</td></tr><tr><td>501260</td><td>Royal Challengers Bangalore</td><td>field</td><td>Royal Challengers Bangalore</td><td>Won</td></tr><tr><td>501261</td><td>Deccan Chargers</td><td>bat</td><td>Deccan Chargers</td><td>Won</td></tr><tr><td>501262</td><td>Delhi Daredevils</td><td>field</td><td>Kings XI Punjab</td><td>Lost</td></tr><tr><td>501263</td><td>Kochi Tuskers Kerala</td><td>field</td><td>Kochi Tuskers Kerala</td><td>Won</td></tr><tr><td>501264</td><td>Deccan Chargers</td><td>field</td><td>Deccan Chargers</td><td>Won</td></tr><tr><td>501265</td><td>Kings XI Punjab</td><td>bat</td><td>Kings XI Punjab</td><td>Won</td></tr><tr><td>501266</td><td>Chennai Super Kings</td><td>bat</td><td>Chennai Super Kings</td><td>Won</td></tr><tr><td>501267</td><td>Kolkata Knight Riders</td><td>field</td><td>Kolkata Knight Riders</td><td>Won</td></tr><tr><td>501268</td><td>Mumbai Indians</td><td>bat</td><td>Rajasthan Royals</td><td>Lost</td></tr><tr><td>501269</td><td>Kings XI Punjab</td><td>field</td><td>Deccan Chargers</td><td>Lost</td></tr><tr><td>501270</td><td>Delhi Daredevils</td><td>bat</td><td>NULL</td><td>Lost</td></tr><tr><td>501271</td><td>Royal Challengers Bangalore</td><td>field</td><td>Royal Challengers Bangalore</td><td>Won</td></tr><tr><td>501272</td><td>Mumbai Indians</td><td>field</td><td>Mumbai Indians</td><td>Won</td></tr><tr><td>501273</td><td>Chennai Super Kings</td><td>field</td><td>Chennai Super Kings</td><td>Won</td></tr><tr><td>501274</td><td>Mumbai Indians</td><td>field</td><td>Mumbai Indians</td><td>Won</td></tr><tr><td>501275</td><td>Mumbai Indians</td><td>field</td><td>Royal Challengers Bangalore</td><td>Lost</td></tr><tr><td>501276</td><td>Chennai Super Kings</td><td>bat</td><td>Chennai Super Kings</td><td>Won</td></tr><tr><td>548311</td><td>Mumbai Indians</td><td>field</td><td>Mumbai Indians</td><td>Won</td></tr><tr><td>548312</td><td>Delhi Daredevils</td><td>field</td><td>Delhi Daredevils</td><td>Won</td></tr><tr><td>548313</td><td>Mumbai Indians</td><td>field</td><td>Pune Warriors</td><td>Lost</td></tr><tr><td>548314</td><td>Kings XI Punjab</td><td>field</td><td>Rajasthan Royals</td><td>Lost</td></tr><tr><td>548315</td><td>Delhi Daredevils</td><td>field</td><td>Royal Challengers Bangalore</td><td>Lost</td></tr><tr><td>548316</td><td>Deccan Chargers</td><td>field</td><td>Chennai Super Kings</td><td>Lost</td></tr><tr><td>548317</td><td>Kolkata Knight Riders</td><td>field</td><td>Rajasthan Royals</td><td>Lost</td></tr><tr><td>548318</td><td>Pune Warriors</td><td>bat</td><td>Pune Warriors</td><td>Won</td></tr><tr><td>548319</td><td>Deccan Chargers</td><td>bat</td><td>Mumbai Indians</td><td>Lost</td></tr><tr><td>548320</td><td>Royal Challengers Bangalore</td><td>field</td><td>Kolkata Knight Riders</td><td>Lost</td></tr><tr><td>548321</td><td>Delhi Daredevils</td><td>field</td><td>Delhi Daredevils</td><td>Won</td></tr><tr><td>548322</td><td>Rajasthan Royals</td><td>field</td><td>Mumbai Indians</td><td>Lost</td></tr><tr><td>548323</td><td>Royal Challengers Bangalore</td><td>bat</td><td>Chennai Super Kings</td><td>Lost</td></tr><tr><td>548324</td><td>Kings XI Punjab</td><td>field</td><td>Kings XI Punjab</td><td>Won</td></tr><tr><td>548325</td><td>Rajasthan Royals</td><td>bat</td><td>Kolkata Knight Riders</td><td>Lost</td></tr><tr><td>548326</td><td>Deccan Chargers</td><td>bat</td><td>Delhi Daredevils</td><td>Lost</td></tr><tr><td>548327</td><td>Chennai Super Kings</td><td>bat</td><td>Pune Warriors</td><td>Lost</td></tr><tr><td>548328</td><td>Kolkata Knight Riders</td><td>field</td><td>Kings XI Punjab</td><td>Lost</td></tr><tr><td>548329</td><td>Rajasthan Royals</td><td>bat</td><td>Rajasthan Royals</td><td>Won</td></tr><tr><td>548330</td><td>Delhi Daredevils</td><td>field</td><td>Delhi Daredevils</td><td>Won</td></tr><tr><td>548331</td><td>Deccan Chargers</td><td>bat</td><td>Rajasthan Royals</td><td>Lost</td></tr><tr><td>548332</td><td>Pune Warriors</td><td>bat</td><td>Royal Challengers Bangalore</td><td>Lost</td></tr><tr><td>548333</td><td>Kings XI Punjab</td><td>bat</td><td>Kolkata Knight Riders</td><td>Lost</td></tr><tr><td>548334</td><td>Deccan Chargers</td><td>bat</td><td>Delhi Daredevils</td><td>Lost</td></tr><tr><td>548335</td><td>Pune Warriors</td><td>field</td><td>Chennai Super Kings</td><td>Lost</td></tr><tr><td>548336</td><td>Royal Challengers Bangalore</td><td>field</td><td>Royal Challengers Bangalore</td><td>Won</td></tr><tr><td>548337</td><td>Rajasthan Royals</td><td>bat</td><td>Chennai Super Kings</td><td>Lost</td></tr><tr><td>548338</td><td>Delhi Daredevils</td><td>field</td><td>Pune Warriors</td><td>Lost</td></tr><tr><td>548339</td><td>Mumbai Indians</td><td>bat</td><td>Kings XI Punjab</td><td>Lost</td></tr><tr><td>548340</td><td>Kolkata Knight Riders</td><td>field</td><td>Kolkata Knight Riders</td><td>Won</td></tr><tr><td>548341</td><td>Rajasthan Royals</td><td>field</td><td>Royal Challengers Bangalore</td><td>Lost</td></tr><tr><td>548342</td><td>Pune Warriors</td><td>bat</td><td>Delhi Daredevils</td><td>Lost</td></tr><tr><td>548344</td><td>Kings XI Punjab</td><td>bat</td><td>Mumbai Indians</td><td>Lost</td></tr><tr><td>548346</td><td>Deccan Chargers</td><td>bat</td><td>Deccan Chargers</td><td>Won</td></tr><tr><td>548347</td><td>Mumbai Indians</td><td>field</td><td>Delhi Daredevils</td><td>Lost</td></tr><tr><td>548348</td><td>Kings XI Punjab</td><td>bat</td><td>Kings XI Punjab</td><td>Won</td></tr><tr><td>548349</td><td>Kolkata Knight Riders</td><td>bat</td><td>Kolkata Knight Riders</td><td>Won</td></tr><tr><td>548350</td><td>Delhi Daredevils</td><td>bat</td><td>Delhi Daredevils</td><td>Won</td></tr><tr><td>548351</td><td>Mumbai Indians</td><td>field</td><td>Mumbai Indians</td><td>Won</td></tr><tr><td>548352</td><td>Chennai Super Kings</td><td>bat</td><td>Kolkata Knight Riders</td><td>Lost</td></tr><tr><td>548353</td><td>Deccan Chargers</td><td>bat</td><td>Deccan Chargers</td><td>Won</td></tr><tr><td>548354</td><td>Rajasthan Royals</td><td>bat</td><td>Delhi Daredevils</td><td>Lost</td></tr><tr><td>548355</td><td>Kings XI Punjab</td><td>field</td><td>Kings XI Punjab</td><td>Won</td></tr><tr><td>548356</td><td>Mumbai Indians</td><td>bat</td><td>Mumbai Indians</td><td>Won</td></tr><tr><td>548357</td><td>Chennai Super Kings</td><td>bat</td><td>Chennai Super Kings</td><td>Won</td></tr><tr><td>548358</td><td>Kolkata Knight Riders</td><td>bat</td><td>Kolkata Knight Riders</td><td>Won</td></tr><tr><td>548359</td><td>Rajasthan Royals</td><td>bat</td><td>Rajasthan Royals</td><td>Won</td></tr><tr><td>548360</td><td>Mumbai Indians</td><td>field</td><td>Mumbai Indians</td><td>Won</td></tr><tr><td>548361</td><td>Royal Challengers Bangalore</td><td>field</td><td>Royal Challengers Bangalore</td><td>Won</td></tr><tr><td>548362</td><td>Delhi Daredevils</td><td>bat</td><td>Kolkata Knight Riders</td><td>Lost</td></tr><tr><td>548363</td><td>Pune Warriors</td><td>bat</td><td>Rajasthan Royals</td><td>Lost</td></tr><tr><td>548364</td><td>Deccan Chargers</td><td>field</td><td>Kings XI Punjab</td><td>Lost</td></tr><tr><td>548365</td><td>Royal Challengers Bangalore</td><td>field</td><td>Royal Challengers Bangalore</td><td>Won</td></tr><tr><td>548366</td><td>Chennai Super Kings</td><td>field</td><td>Chennai Super Kings</td><td>Won</td></tr><tr><td>548367</td><td>Pune Warriors</td><td>field</td><td>Royal Challengers Bangalore</td><td>Lost</td></tr><tr><td>548368</td><td>Mumbai Indians</td><td>bat</td><td>Mumbai Indians</td><td>Won</td></tr><tr><td>548369</td><td>Chennai Super Kings</td><td>field</td><td>Chennai Super Kings</td><td>Won</td></tr><tr><td>548370</td><td>Rajasthan Royals</td><td>bat</td><td>Rajasthan Royals</td><td>Won</td></tr><tr><td>548371</td><td>Deccan Chargers</td><td>bat</td><td>Kings XI Punjab</td><td>Lost</td></tr><tr><td>548372</td><td>Mumbai Indians</td><td>field</td><td>Mumbai Indians</td><td>Won</td></tr><tr><td>548373</td><td>Chennai Super Kings</td><td>field</td><td>Chennai Super Kings</td><td>Won</td></tr><tr><td>548374</td><td>Kings XI Punjab</td><td>bat</td><td>Delhi Daredevils</td><td>Lost</td></tr><tr><td>548375</td><td>Mumbai Indians</td><td>field</td><td>Kolkata Knight Riders</td><td>Lost</td></tr><tr><td>548376</td><td>Kings XI Punjab</td><td>field</td><td>Kings XI Punjab</td><td>Won</td></tr><tr><td>548377</td><td>Delhi Daredevils</td><td>field</td><td>Royal Challengers Bangalore</td><td>Lost</td></tr><tr><td>548378</td><td>Rajasthan Royals</td><td>bat</td><td>Deccan Chargers</td><td>Lost</td></tr><tr><td>548379</td><td>Delhi Daredevils</td><td>field</td><td>Delhi Daredevils</td><td>Won</td></tr><tr><td>548380</td><td>Kolkata Knight Riders</td><td>bat</td><td>Kolkata Knight Riders</td><td>Won</td></tr><tr><td>548381</td><td>Royal Challengers Bangalore</td><td>field</td><td>Deccan Chargers</td><td>Lost</td></tr><tr><td>548382</td><td>Rajasthan Royals</td><td>bat</td><td>Mumbai Indians</td><td>Lost</td></tr><tr><td>548383</td><td>Kolkata Knight Riders</td><td>bat</td><td>Kolkata Knight Riders</td><td>Won</td></tr><tr><td>548384</td><td>Mumbai Indians</td><td>field</td><td>Chennai Super Kings</td><td>Lost</td></tr><tr><td>548385</td><td>Delhi Daredevils</td><td>field</td><td>Chennai Super Kings</td><td>Lost</td></tr><tr><td>548386</td><td>Chennai Super Kings</td><td>bat</td><td>Kolkata Knight Riders</td><td>Lost</td></tr><tr><td>598003</td><td>Kolkata Knight Riders</td><td>field</td><td>Kolkata Knight Riders</td><td>Won</td></tr><tr><td>598004</td><td>Mumbai Indians</td><td>field</td><td>Royal Challengers Bangalore</td><td>Lost</td></tr><tr><td>598005</td><td>Pune Warriors</td><td>field</td><td>Sunrisers Hyderabad</td><td>Lost</td></tr><tr><td>598006</td><td>Rajasthan Royals</td><td>bat</td><td>Rajasthan Royals</td><td>Won</td></tr><tr><td>598007</td><td>Mumbai Indians</td><td>bat</td><td>Mumbai Indians</td><td>Won</td></tr><tr><td>598008</td><td>Pune Warriors</td><td>bat</td><td>Kings XI Punjab</td><td>Lost</td></tr><tr><td>598009</td><td>Royal Challengers Bangalore</td><td>bat</td><td>Sunrisers Hyderabad</td><td>Lost</td></tr><tr><td>598010</td><td>Kolkata Knight Riders</td><td>field</td><td>Rajasthan Royals</td><td>Lost</td></tr><tr><td>598011</td><td>Mumbai Indians</td><td>bat</td><td>Mumbai Indians</td><td>Won</td></tr><tr><td>598012</td><td>Chennai Super Kings</td><td>field</td><td>Chennai Super Kings</td><td>Won</td></tr><tr><td>598013</td><td>Royal Challengers Bangalore</td><td>field</td><td>Royal Challengers Bangalore</td><td>Won</td></tr><tr><td>598014</td><td>Rajasthan Royals</td><td>bat</td><td>Pune Warriors</td><td>Lost</td></tr><tr><td>598015</td><td>Delhi Daredevils</td><td>bat</td><td>Sunrisers Hyderabad</td><td>Lost</td></tr><tr><td>598016</td><td>Mumbai Indians</td><td>bat</td><td>Mumbai Indians</td><td>Won</td></tr><tr><td>598017</td><td>Chennai Super Kings</td><td>field</td><td>Chennai Super Kings</td><td>Won</td></tr><tr><td>598018</td><td>Kolkata Knight Riders</td><td>bat</td><td>Kolkata Knight Riders</td><td>Won</td></tr><tr><td>598019</td><td>Rajasthan Royals</td><td>field</td><td>Rajasthan Royals</td><td>Won</td></tr><tr><td>598020</td><td>Pune Warriors</td><td>bat</td><td>Pune Warriors</td><td>Won</td></tr><tr><td>598021</td><td>Kolkata Knight Riders</td><td>field</td><td>Kings XI Punjab</td><td>Lost</td></tr><tr><td>598022</td><td>Royal Challengers Bangalore</td><td>field</td><td>Royal Challengers Bangalore</td><td>Won</td></tr><tr><td>598023</td><td>Pune Warriors</td><td>field</td><td>Sunrisers Hyderabad</td><td>Lost</td></tr><tr><td>598024</td><td>Rajasthan Royals</td><td>bat</td><td>Rajasthan Royals</td><td>Won</td></tr><tr><td>598025</td><td>Chennai Super Kings</td><td>bat</td><td>Chennai Super Kings</td><td>Won</td></tr><tr><td>598026</td><td>Kings XI Punjab</td><td>bat</td><td>Sunrisers Hyderabad</td><td>Lost</td></tr><tr><td>598027</td><td>Kolkata Knight Riders</td><td>bat</td><td>Chennai Super Kings</td><td>Lost</td></tr><tr><td>598028</td><td>Royal Challengers Bangalore</td><td>field</td><td>Royal Challengers Bangalore</td><td>Won</td></tr><tr><td>598029</td><td>Mumbai Indians</td><td>bat</td><td>Delhi Daredevils</td><td>Lost</td></tr><tr><td>598030</td><td>Kings XI Punjab</td><td>field</td><td>Kings XI Punjab</td><td>Won</td></tr><tr><td>598031</td><td>Rajasthan Royals</td><td>bat</td><td>Chennai Super Kings</td><td>Lost</td></tr><tr><td>598032</td><td>Pune Warriors</td><td>field</td><td>Royal Challengers Bangalore</td><td>Lost</td></tr><tr><td>598033</td><td>Delhi Daredevils</td><td>field</td><td>Kings XI Punjab</td><td>Lost</td></tr><tr><td>598034</td><td>Kolkata Knight Riders</td><td>bat</td><td>Mumbai Indians</td><td>Lost</td></tr><tr><td>598035</td><td>Sunrisers Hyderabad</td><td>bat</td><td>Chennai Super Kings</td><td>Lost</td></tr><tr><td>598036</td><td>Kings XI Punjab</td><td>bat</td><td>Kolkata Knight Riders</td><td>Lost</td></tr><tr><td>598037</td><td>Sunrisers Hyderabad</td><td>bat</td><td>Rajasthan Royals</td><td>Lost</td></tr><tr><td>598038</td><td>Mumbai Indians</td><td>bat</td><td>Mumbai Indians</td><td>Won</td></tr><tr><td>598039</td><td>Kolkata Knight Riders</td><td>field</td><td>Chennai Super Kings</td><td>Lost</td></tr><tr><td>598040</td><td>Pune Warriors</td><td>field</td><td>Delhi Daredevils</td><td>Lost</td></tr><tr><td>598041</td><td>Rajasthan Royals</td><td>field</td><td>Rajasthan Royals</td><td>Won</td></tr><tr><td>598042</td><td>Mumbai Indians</td><td>bat</td><td>Mumbai Indians</td><td>Won</td></tr><tr><td>598043</td><td>Chennai Super Kings</td><td>bat</td><td>Chennai Super Kings</td><td>Won</td></tr><tr><td>598044</td><td>Mumbai Indians</td><td>bat</td><td>Sunrisers Hyderabad</td><td>Lost</td></tr><tr><td>598045</td><td>Kolkata Knight Riders</td><td>bat</td><td>Delhi Daredevils</td><td>Lost</td></tr><tr><td>598046</td><td>Chennai Super Kings</td><td>bat</td><td>Chennai Super Kings</td><td>Won</td></tr><tr><td>598047</td><td>Royal Challengers Bangalore</td><td>bat</td><td>Royal Challengers Bangalore</td><td>Won</td></tr><tr><td>598048</td><td>Rajasthan Royals</td><td>bat</td><td>Kolkata Knight Riders</td><td>Lost</td></tr><tr><td>598049</td><td>Delhi Daredevils</td><td>bat</td><td>Sunrisers Hyderabad</td><td>Lost</td></tr><tr><td>598050</td><td>Kings XI Punjab</td><td>field</td><td>Kings XI Punjab</td><td>Won</td></tr><tr><td>598051</td><td>Mumbai Indians</td><td>bat</td><td>Mumbai Indians</td><td>Won</td></tr><tr><td>598052</td><td>Pune Warriors</td><td>bat</td><td>Rajasthan Royals</td><td>Lost</td></tr><tr><td>598053</td><td>Sunrisers Hyderabad</td><td>bat</td><td>Royal Challengers Bangalore</td><td>Lost</td></tr><tr><td>598054</td><td>Delhi Daredevils</td><td>bat</td><td>Rajasthan Royals</td><td>Lost</td></tr><tr><td>598055</td><td>Mumbai Indians</td><td>bat</td><td>Mumbai Indians</td><td>Won</td></tr><tr><td>598056</td><td>Sunrisers Hyderabad</td><td>field</td><td>Chennai Super Kings</td><td>Lost</td></tr><tr><td>598057</td><td>Rajasthan Royals</td><td>field</td><td>Rajasthan Royals</td><td>Won</td></tr><tr><td>598058</td><td>Kolkata Knight Riders</td><td>bat</td><td>Kolkata Knight Riders</td><td>Won</td></tr><tr><td>598059</td><td>Delhi Daredevils</td><td>field</td><td>Royal Challengers Bangalore</td><td>Lost</td></tr><tr><td>598060</td><td>Pune Warriors</td><td>bat</td><td>Mumbai Indians</td><td>Lost</td></tr><tr><td>598061</td><td>Kings XI Punjab</td><td>field</td><td>Sunrisers Hyderabad</td><td>Lost</td></tr><tr><td>598062</td><td>Kolkata Knight Riders</td><td>field</td><td>Kolkata Knight Riders</td><td>Won</td></tr><tr><td>598063</td><td>Rajasthan Royals</td><td>field</td><td>Rajasthan Royals</td><td>Won</td></tr><tr><td>598064</td><td>Kings XI Punjab</td><td>field</td><td>Kings XI Punjab</td><td>Won</td></tr><tr><td>598065</td><td>Sunrisers Hyderabad</td><td>bat</td><td>Mumbai Indians</td><td>Lost</td></tr><tr><td>598066</td><td>Kolkata Knight Riders</td><td>field</td><td>Pune Warriors</td><td>Lost</td></tr><tr><td>598067</td><td>Chennai Super Kings</td><td>bat</td><td>Chennai Super Kings</td><td>Won</td></tr><tr><td>598068</td><td>Rajasthan Royals</td><td>field</td><td>Mumbai Indians</td><td>Lost</td></tr><tr><td>598069</td><td>Kings XI Punjab</td><td>field</td><td>Kings XI Punjab</td><td>Won</td></tr><tr><td>598070</td><td>Sunrisers Hyderabad</td><td>bat</td><td>Sunrisers Hyderabad</td><td>Won</td></tr><tr><td>598071</td><td>Mumbai Indians</td><td>field</td><td>Kings XI Punjab</td><td>Lost</td></tr><tr><td>598072</td><td>Pune Warriors</td><td>bat</td><td>Pune Warriors</td><td>Won</td></tr><tr><td>598073</td><td>Chennai Super Kings</td><td>field</td><td>Royal Challengers Bangalore</td><td>Lost</td></tr><tr><td>598074</td><td>Kolkata Knight Riders</td><td>bat</td><td>Sunrisers Hyderabad</td><td>Lost</td></tr><tr><td>598075</td><td>Chennai Super Kings</td><td>bat</td><td>Chennai Super Kings</td><td>Won</td></tr><tr><td>598076</td><td>Sunrisers Hyderabad</td><td>bat</td><td>Rajasthan Royals</td><td>Lost</td></tr><tr><td>598077</td><td>Rajasthan Royals</td><td>bat</td><td>Mumbai Indians</td><td>Lost</td></tr><tr><td>598078</td><td>Mumbai Indians</td><td>bat</td><td>Mumbai Indians</td><td>Won</td></tr><tr><td>729284</td><td>Kolkata Knight Riders</td><td>bat</td><td>Kolkata Knight Riders</td><td>Won</td></tr><tr><td>729286</td><td>Royal Challengers Bangalore</td><td>field</td><td>Royal Challengers Bangalore</td><td>Won</td></tr><tr><td>729288</td><td>Chennai Super Kings</td><td>bat</td><td>Kings XI Punjab</td><td>Lost</td></tr><tr><td>729290</td><td>Rajasthan Royals</td><td>field</td><td>Rajasthan Royals</td><td>Won</td></tr><tr><td>729292</td><td>Royal Challengers Bangalore</td><td>field</td><td>Royal Challengers Bangalore</td><td>Won</td></tr><tr><td>729294</td><td>Kolkata Knight Riders</td><td>bat</td><td>Delhi Daredevils</td><td>Lost</td></tr><tr><td>729296</td><td>Kings XI Punjab</td><td>field</td><td>Kings XI Punjab</td><td>Won</td></tr><tr><td>729298</td><td>Chennai Super Kings</td><td>bat</td><td>Chennai Super Kings</td><td>Won</td></tr><tr><td>729300</td><td>Sunrisers Hyderabad</td><td>field</td><td>Kings XI Punjab</td><td>Lost</td></tr><tr><td>729302</td><td>Rajasthan Royals</td><td>field</td><td>Chennai Super Kings</td><td>Lost</td></tr><tr><td>729304</td><td>Royal Challengers Bangalore</td><td>field</td><td>Kolkata Knight Riders</td><td>Lost</td></tr><tr><td>729306</td><td>Sunrisers Hyderabad</td><td>bat</td><td>Sunrisers Hyderabad</td><td>Won</td></tr><tr><td>729308</td><td>Mumbai Indians</td><td>bat</td><td>Chennai Super Kings</td><td>Lost</td></tr><tr><td>729310</td><td>Rajasthan Royals</td><td>field</td><td>Rajasthan Royals</td><td>Won</td></tr><tr><td>729312</td><td>Kolkata Knight Riders</td><td>field</td><td>Kings XI Punjab</td><td>Lost</td></tr><tr><td>729314</td><td>Mumbai Indians</td><td>bat</td><td>Delhi Daredevils</td><td>Lost</td></tr><tr><td>729316</td><td>Sunrisers Hyderabad</td><td>bat</td><td>Chennai Super Kings</td><td>Lost</td></tr><tr><td>729318</td><td>Kings XI Punjab</td><td>field</td><td>Kings XI Punjab</td><td>Won</td></tr><tr><td>729320</td><td>Rajasthan Royals</td><td>bat</td><td>Rajasthan Royals</td><td>Won</td></tr><tr><td>729322</td><td>Mumbai Indians</td><td>field</td><td>Sunrisers Hyderabad</td><td>Lost</td></tr><tr><td>733976</td><td>Chennai Super Kings</td><td>bat</td><td>Chennai Super Kings</td><td>Won</td></tr><tr><td>733978</td><td>Kings XI Punjab</td><td>bat</td><td>Mumbai Indians</td><td>Lost</td></tr><tr><td>733980</td><td>Rajasthan Royals</td><td>field</td><td>Rajasthan Royals</td><td>Won</td></tr><tr><td>733982</td><td>Royal Challengers Bangalore</td><td>field</td><td>Royal Challengers Bangalore</td><td>Won</td></tr><tr><td>733984</td><td>Kolkata Knight Riders</td><td>field</td><td>Rajasthan Royals</td><td>Lost</td></tr><tr><td>733986</td><td>Chennai Super Kings</td><td>field</td><td>Chennai Super Kings</td><td>Won</td></tr><tr><td>733988</td><td>Royal Challengers Bangalore</td><td>field</td><td>Mumbai Indians</td><td>Lost</td></tr><tr><td>733990</td><td>Delhi Daredevils</td><td>bat</td><td>Kolkata Knight Riders</td><td>Lost</td></tr><tr><td>733992</td><td>Chennai Super Kings</td><td>field</td><td>Kings XI Punjab</td><td>Lost</td></tr><tr><td>733994</td><td>Rajasthan Royals</td><td>field</td><td>Sunrisers Hyderabad</td><td>Lost</td></tr><tr><td>733996</td><td>Royal Challengers Bangalore</td><td>field</td><td>Kings XI Punjab</td><td>Lost</td></tr><tr><td>733998</td><td>Sunrisers Hyderabad</td><td>field</td><td>Sunrisers Hyderabad</td><td>Won</td></tr><tr><td>734000</td><td>Chennai Super Kings</td><td>field</td><td>Chennai Super Kings</td><td>Won</td></tr><tr><td>734002</td><td>Kolkata Knight Riders</td><td>field</td><td>Kolkata Knight Riders</td><td>Won</td></tr><tr><td>734004</td><td>Royal Challengers Bangalore</td><td>bat</td><td>Rajasthan Royals</td><td>Lost</td></tr><tr><td>734006</td><td>Sunrisers Hyderabad</td><td>bat</td><td>Mumbai Indians</td><td>Lost</td></tr><tr><td>734008</td><td>Rajasthan Royals</td><td>bat</td><td>Chennai Super Kings</td><td>Lost</td></tr><tr><td>734010</td><td>Delhi Daredevils</td><td>field</td><td>Royal Challengers Bangalore</td><td>Lost</td></tr><tr><td>734012</td><td>Kings XI Punjab</td><td>field</td><td>Kings XI Punjab</td><td>Won</td></tr><tr><td>734014</td><td>Kolkata Knight Riders</td><td>field</td><td>Kolkata Knight Riders</td><td>Won</td></tr><tr><td>734016</td><td>Delhi Daredevils</td><td>field</td><td>Rajasthan Royals</td><td>Lost</td></tr><tr><td>734018</td><td>Chennai Super Kings</td><td>bat</td><td>Royal Challengers Bangalore</td><td>Lost</td></tr><tr><td>734020</td><td>Sunrisers Hyderabad</td><td>bat</td><td>Kolkata Knight Riders</td><td>Lost</td></tr><tr><td>734022</td><td>Mumbai Indians</td><td>bat</td><td>Mumbai Indians</td><td>Won</td></tr><tr><td>734024</td><td>Kings XI Punjab</td><td>field</td><td>Kings XI Punjab</td><td>Won</td></tr><tr><td>734026</td><td>Royal Challengers Bangalore</td><td>bat</td><td>Sunrisers Hyderabad</td><td>Lost</td></tr><tr><td>734028</td><td>Kolkata Knight Riders</td><td>field</td><td>Kolkata Knight Riders</td><td>Won</td></tr><tr><td>734030</td><td>Mumbai Indians</td><td>field</td><td>Mumbai Indians</td><td>Won</td></tr><tr><td>734032</td><td>Royal Challengers Bangalore</td><td>field</td><td>Kolkata Knight Riders</td><td>Lost</td></tr><tr><td>734034</td><td>Sunrisers Hyderabad</td><td>field</td><td>Sunrisers Hyderabad</td><td>Won</td></tr><tr><td>734036</td><td>Delhi Daredevils</td><td>field</td><td>Mumbai Indians</td><td>Lost</td></tr><tr><td>734038</td><td>Rajasthan Royals</td><td>field</td><td>Kings XI Punjab</td><td>Lost</td></tr><tr><td>734040</td><td>Chennai Super Kings</td><td>field</td><td>Chennai Super Kings</td><td>Won</td></tr><tr><td>734042</td><td>Kolkata Knight Riders</td><td>field</td><td>Kolkata Knight Riders</td><td>Won</td></tr><tr><td>734044</td><td>Kings XI Punjab</td><td>field</td><td>Kings XI Punjab</td><td>Won</td></tr><tr><td>734046</td><td>Mumbai Indians</td><td>field</td><td>Mumbai Indians</td><td>Won</td></tr><tr><td>734048</td><td>Kings XI Punjab</td><td>field</td><td>Kolkata Knight Riders</td><td>Lost</td></tr><tr><td>734050</td><td>Chennai Super Kings</td><td>field</td><td>Chennai Super Kings</td><td>Won</td></tr><tr><td>734052</td><td>Chennai Super Kings</td><td>field</td><td>Kings XI Punjab</td><td>Lost</td></tr><tr><td>734054</td><td>Kolkata Knight Riders</td><td>field</td><td>Kolkata Knight Riders</td><td>Won</td></tr><tr><td>829710</td><td>Kolkata Knight Riders</td><td>field</td><td>Kolkata Knight Riders</td><td>Won</td></tr><tr><td>829712</td><td>Delhi Daredevils</td><td>field</td><td>Chennai Super Kings</td><td>Lost</td></tr><tr><td>829714</td><td>Kings XI Punjab</td><td>field</td><td>Rajasthan Royals</td><td>Lost</td></tr><tr><td>829716</td><td>Chennai Super Kings</td><td>bat</td><td>Chennai Super Kings</td><td>Won</td></tr><tr><td>829718</td><td>Royal Challengers Bangalore</td><td>field</td><td>Royal Challengers Bangalore</td><td>Won</td></tr><tr><td>829720</td><td>Rajasthan Royals</td><td>field</td><td>Rajasthan Royals</td><td>Won</td></tr><tr><td>829722</td><td>Mumbai Indians</td><td>field</td><td>Kings XI Punjab</td><td>Lost</td></tr><tr><td>829724</td><td>Sunrisers Hyderabad</td><td>field</td><td>Sunrisers Hyderabad</td><td>Won</td></tr><tr><td>829726</td><td>Mumbai Indians</td><td>bat</td><td>Rajasthan Royals</td><td>Lost</td></tr><tr><td>829728</td><td>Kolkata Knight Riders</td><td>field</td><td>Kolkata Knight Riders</td><td>Won</td></tr><tr><td>829730</td><td>Kings XI Punjab</td><td>bat</td><td>Delhi Daredevils</td><td>Lost</td></tr><tr><td>829732</td><td>Rajasthan Royals</td><td>field</td><td>Rajasthan Royals</td><td>Won</td></tr><tr><td>829734</td><td>Mumbai Indians</td><td>bat</td><td>Chennai Super Kings</td><td>Lost</td></tr><tr><td>829736</td><td>Delhi Daredevils</td><td>bat</td><td>Delhi Daredevils</td><td>Won</td></tr><tr><td>829738</td><td>Kolkata Knight Riders</td><td>field</td><td>Kolkata Knight Riders</td><td>Won</td></tr><tr><td>829740</td><td>Chennai Super Kings</td><td>bat</td><td>Rajasthan Royals</td><td>Lost</td></tr><tr><td>829742</td><td>Royal Challengers Bangalore</td><td>field</td><td>Mumbai Indians</td><td>Lost</td></tr><tr><td>829744</td><td>Kolkata Knight Riders</td><td>field</td><td>Kolkata Knight Riders</td><td>Won</td></tr><tr><td>829746</td><td>Kings XI Punjab</td><td>field</td><td>Kings XI Punjab</td><td>Won</td></tr><tr><td>829748</td><td>Kolkata Knight Riders</td><td>field</td><td>Sunrisers Hyderabad</td><td>Lost</td></tr><tr><td>829750</td><td>Royal Challengers Bangalore</td><td>field</td><td>Chennai Super Kings</td><td>Lost</td></tr><tr><td>829752</td><td>Mumbai Indians</td><td>field</td><td>Delhi Daredevils</td><td>Lost</td></tr><tr><td>829754</td><td>Royal Challengers Bangalore</td><td>field</td><td>Royal Challengers Bangalore</td><td>Won</td></tr><tr><td>829756</td><td>Mumbai Indians</td><td>bat</td><td>Mumbai Indians</td><td>Won</td></tr><tr><td>829758</td><td>Chennai Super Kings</td><td>bat</td><td>Chennai Super Kings</td><td>Won</td></tr><tr><td>829762</td><td>Royal Challengers Bangalore</td><td>field</td><td>Royal Challengers Bangalore</td><td>Won</td></tr><tr><td>829764</td><td>Kings XI Punjab</td><td>field</td><td>Sunrisers Hyderabad</td><td>Lost</td></tr><tr><td>829766</td><td>Kolkata Knight Riders</td><td>bat</td><td>Kolkata Knight Riders</td><td>Won</td></tr><tr><td>829768</td><td>Rajasthan Royals</td><td>field</td><td>NULL</td><td>Lost</td></tr><tr><td>829770</td><td>Kolkata Knight Riders</td><td>field</td><td>Chennai Super Kings</td><td>Lost</td></tr><tr><td>829772</td><td>Delhi Daredevils</td><td>field</td><td>Delhi Daredevils</td><td>Won</td></tr><tr><td>829774</td><td>Rajasthan Royals</td><td>field</td><td>Mumbai Indians</td><td>Lost</td></tr><tr><td>829776</td><td>Royal Challengers Bangalore</td><td>field</td><td>Royal Challengers Bangalore</td><td>Won</td></tr><tr><td>829778</td><td>Chennai Super Kings</td><td>field</td><td>Sunrisers Hyderabad</td><td>Lost</td></tr><tr><td>829780</td><td>Mumbai Indians</td><td>bat</td><td>Mumbai Indians</td><td>Won</td></tr><tr><td>829782</td><td>Delhi Daredevils</td><td>field</td><td>Rajasthan Royals</td><td>Lost</td></tr><tr><td>829784</td><td>Chennai Super Kings</td><td>bat</td><td>Chennai Super Kings</td><td>Won</td></tr><tr><td>829786</td><td>Sunrisers Hyderabad</td><td>field</td><td>Kolkata Knight Riders</td><td>Lost</td></tr><tr><td>829788</td><td>Delhi Daredevils</td><td>bat</td><td>Mumbai Indians</td><td>Lost</td></tr><tr><td>829790</td><td>Kings XI Punjab</td><td>field</td><td>Royal Challengers Bangalore</td><td>Lost</td></tr><tr><td>829792</td><td>Rajasthan Royals</td><td>field</td><td>Sunrisers Hyderabad</td><td>Lost</td></tr><tr><td>829794</td><td>Chennai Super Kings</td><td>bat</td><td>Mumbai Indians</td><td>Lost</td></tr><tr><td>829796</td><td>Kings XI Punjab</td><td>bat</td><td>Kolkata Knight Riders</td><td>Lost</td></tr><tr><td>829798</td><td>Sunrisers Hyderabad</td><td>bat</td><td>Sunrisers Hyderabad</td><td>Won</td></tr><tr><td>829800</td><td>Royal Challengers Bangalore</td><td>bat</td><td>Royal Challengers Bangalore</td><td>Won</td></tr><tr><td>829802</td><td>Chennai Super Kings</td><td>bat</td><td>Chennai Super Kings</td><td>Won</td></tr><tr><td>829804</td><td>Sunrisers Hyderabad</td><td>bat</td><td>Sunrisers Hyderabad</td><td>Won</td></tr><tr><td>829806</td><td>Chennai Super Kings</td><td>bat</td><td>Delhi Daredevils</td><td>Lost</td></tr><tr><td>829808</td><td>Royal Challengers Bangalore</td><td>field</td><td>Kings XI Punjab</td><td>Lost</td></tr><tr><td>829810</td><td>Kolkata Knight Riders</td><td>field</td><td>Mumbai Indians</td><td>Lost</td></tr><tr><td>829812</td><td>Sunrisers Hyderabad</td><td>bat</td><td>Royal Challengers Bangalore</td><td>Lost</td></tr><tr><td>829814</td><td>Kings XI Punjab</td><td>bat</td><td>Chennai Super Kings</td><td>Lost</td></tr><tr><td>829816</td><td>Rajasthan Royals</td><td>bat</td><td>Rajasthan Royals</td><td>Won</td></tr><tr><td>829818</td><td>Royal Challengers Bangalore</td><td>field</td><td>NULL</td><td>Lost</td></tr><tr><td>829820</td><td>Sunrisers Hyderabad</td><td>bat</td><td>Mumbai Indians</td><td>Lost</td></tr><tr><td>829822</td><td>Mumbai Indians</td><td>bat</td><td>Mumbai Indians</td><td>Won</td></tr><tr><td>829824</td><td>Royal Challengers Bangalore</td><td>bat</td><td>Royal Challengers Bangalore</td><td>Won</td></tr><tr><td>829826</td><td>Chennai Super Kings</td><td>field</td><td>Chennai Super Kings</td><td>Won</td></tr><tr><td>829828</td><td>Chennai Super Kings</td><td>field</td><td>Mumbai Indians</td><td>Lost</td></tr><tr><td>980906</td><td>Mumbai Indians</td><td>bat</td><td>Rising Pune Supergiants</td><td>Lost</td></tr><tr><td>980908</td><td>Kolkata Knight Riders</td><td>field</td><td>Kolkata Knight Riders</td><td>Won</td></tr><tr><td>980910</td><td>Gujarat Lions</td><td>field</td><td>Gujarat Lions</td><td>Won</td></tr><tr><td>980912</td><td>Sunrisers Hyderabad</td><td>field</td><td>Royal Challengers Bangalore</td><td>Lost</td></tr><tr><td>980914</td><td>Mumbai Indians</td><td>field</td><td>Mumbai Indians</td><td>Won</td></tr><tr><td>980916</td><td>Rising Pune Supergiants</td><td>bat</td><td>Gujarat Lions</td><td>Lost</td></tr><tr><td>980918</td><td>Delhi Daredevils</td><td>field</td><td>Delhi Daredevils</td><td>Won</td></tr><tr><td>980920</td><td>Sunrisers Hyderabad</td><td>bat</td><td>Kolkata Knight Riders</td><td>Lost</td></tr><tr><td>980922</td><td>Gujarat Lions</td><td>field</td><td>Gujarat Lions</td><td>Won</td></tr><tr><td>980924</td><td>Rising Pune Supergiants</td><td>bat</td><td>Kings XI Punjab</td><td>Lost</td></tr><tr><td>980926</td><td>Delhi Daredevils</td><td>field</td><td>Delhi Daredevils</td><td>Won</td></tr><tr><td>980928</td><td>Sunrisers Hyderabad</td><td>field</td><td>Sunrisers Hyderabad</td><td>Won</td></tr><tr><td>980930</td><td>Kolkata Knight Riders</td><td>field</td><td>Kolkata Knight Riders</td><td>Won</td></tr><tr><td>980932</td><td>Mumbai Indians</td><td>field</td><td>Mumbai Indians</td><td>Won</td></tr><tr><td>980934</td><td>Sunrisers Hyderabad</td><td>field</td><td>Sunrisers Hyderabad</td><td>Won</td></tr><tr><td>980936</td><td>Rising Pune Supergiants</td><td>field</td><td>Royal Challengers Bangalore</td><td>Lost</td></tr><tr><td>980938</td><td>Mumbai Indians</td><td>field</td><td>Delhi Daredevils</td><td>Lost</td></tr><tr><td>980940</td><td>Sunrisers Hyderabad</td><td>field</td><td>Sunrisers Hyderabad</td><td>Won</td></tr><tr><td>980942</td><td>Royal Challengers Bangalore</td><td>bat</td><td>Gujarat Lions</td><td>Lost</td></tr><tr><td>980944</td><td>Kolkata Knight Riders</td><td>field</td><td>Kolkata Knight Riders</td><td>Won</td></tr><tr><td>980946</td><td>Kings XI Punjab</td><td>field</td><td>Mumbai Indians</td><td>Lost</td></tr><tr><td>980948</td><td>Rising Pune Supergiants</td><td>field</td><td>Rising Pune Supergiants</td><td>Won</td></tr><tr><td>980950</td><td>Delhi Daredevils</td><td>field</td><td>Gujarat Lions</td><td>Lost</td></tr><tr><td>980952</td><td>Mumbai Indians</td><td>field</td><td>Mumbai Indians</td><td>Won</td></tr><tr><td>980954</td><td>Gujarat Lions</td><td>field</td><td>Gujarat Lions</td><td>Won</td></tr><tr><td>980956</td><td>Kolkata Knight Riders</td><td>field</td><td>Delhi Daredevils</td><td>Lost</td></tr><tr><td>980958</td><td>Royal Challengers Bangalore</td><td>field</td><td>Sunrisers Hyderabad</td><td>Lost</td></tr><tr><td>980960</td><td>Gujarat Lions</td><td>field</td><td>Kings XI Punjab</td><td>Lost</td></tr><tr><td>980962</td><td>Mumbai Indians</td><td>field</td><td>Mumbai Indians</td><td>Won</td></tr><tr><td>980964</td><td>Kolkata Knight Riders</td><td>field</td><td>Kolkata Knight Riders</td><td>Won</td></tr><tr><td>980966</td><td>Delhi Daredevils</td><td>field</td><td>Delhi Daredevils</td><td>Won</td></tr><tr><td>980968</td><td>Kings XI Punjab</td><td>field</td><td>Kolkata Knight Riders</td><td>Lost</td></tr><tr><td>980970</td><td>Rising Pune Supergiants</td><td>field</td><td>Rising Pune Supergiants</td><td>Won</td></tr><tr><td>980972</td><td>Sunrisers Hyderabad</td><td>field</td><td>Sunrisers Hyderabad</td><td>Won</td></tr><tr><td>980974</td><td>Royal Challengers Bangalore</td><td>field</td><td>Royal Challengers Bangalore</td><td>Won</td></tr><tr><td>980976</td><td>Delhi Daredevils</td><td>field</td><td>Kings XI Punjab</td><td>Lost</td></tr><tr><td>980978</td><td>Mumbai Indians</td><td>field</td><td>Sunrisers Hyderabad</td><td>Lost</td></tr><tr><td>980980</td><td>Gujarat Lions</td><td>field</td><td>Gujarat Lions</td><td>Won</td></tr><tr><td>980982</td><td>Kings XI Punjab</td><td>field</td><td>Royal Challengers Bangalore</td><td>Lost</td></tr><tr><td>980984</td><td>Sunrisers Hyderabad</td><td>bat</td><td>Sunrisers Hyderabad</td><td>Won</td></tr><tr><td>980986</td><td>Mumbai Indians</td><td>field</td><td>Mumbai Indians</td><td>Won</td></tr><tr><td>980988</td><td>Delhi Daredevils</td><td>field</td><td>Delhi Daredevils</td><td>Won</td></tr><tr><td>980990</td><td>Mumbai Indians</td><td>bat</td><td>Kings XI Punjab</td><td>Lost</td></tr><tr><td>980992</td><td>Gujarat Lions</td><td>field</td><td>Royal Challengers Bangalore</td><td>Lost</td></tr><tr><td>980994</td><td>Rising Pune Supergiants</td><td>bat</td><td>Kolkata Knight Riders</td><td>Lost</td></tr><tr><td>980996</td><td>Kings XI Punjab</td><td>bat</td><td>Sunrisers Hyderabad</td><td>Lost</td></tr><tr><td>980998</td><td>Delhi Daredevils</td><td>field</td><td>Mumbai Indians</td><td>Lost</td></tr><tr><td>981000</td><td>Royal Challengers Bangalore</td><td>field</td><td>Royal Challengers Bangalore</td><td>Won</td></tr><tr><td>981002</td><td>Rising Pune Supergiants</td><td>field</td><td>Rising Pune Supergiants</td><td>Won</td></tr><tr><td>981004</td><td>Kings XI Punjab</td><td>field</td><td>Royal Challengers Bangalore</td><td>Lost</td></tr><tr><td>981006</td><td>Gujarat Lions</td><td>field</td><td>Gujarat Lions</td><td>Won</td></tr><tr><td>981008</td><td>Delhi Daredevils</td><td>field</td><td>Delhi Daredevils</td><td>Won</td></tr><tr><td>981010</td><td>Kings XI Punjab</td><td>bat</td><td>Rising Pune Supergiants</td><td>Lost</td></tr><tr><td>981012</td><td>Gujarat Lions</td><td>field</td><td>Gujarat Lions</td><td>Won</td></tr><tr><td>981014</td><td>Sunrisers Hyderabad</td><td>field</td><td>Kolkata Knight Riders</td><td>Lost</td></tr><tr><td>981016</td><td>Royal Challengers Bangalore</td><td>field</td><td>Royal Challengers Bangalore</td><td>Won</td></tr><tr><td>981018</td><td>Royal Challengers Bangalore</td><td>field</td><td>Royal Challengers Bangalore</td><td>Won</td></tr><tr><td>981020</td><td>Kolkata Knight Riders</td><td>field</td><td>Sunrisers Hyderabad</td><td>Lost</td></tr><tr><td>981022</td><td>Sunrisers Hyderabad</td><td>field</td><td>Sunrisers Hyderabad</td><td>Won</td></tr><tr><td>981024</td><td>Sunrisers Hyderabad</td><td>bat</td><td>Sunrisers Hyderabad</td><td>Won</td></tr><tr><td>1082591</td><td>Royal Challengers Bangalore</td><td>Field</td><td>Sunrisers Hyderabad</td><td>Lost</td></tr><tr><td>1082592</td><td>Rising Pune Supergiant</td><td>Field</td><td>Rising Pune Supergiants</td><td>Lost</td></tr><tr><td>1082593</td><td>Kolkata Knight Riders</td><td>Field</td><td>Kolkata Knight Riders</td><td>Won</td></tr><tr><td>1082594</td><td>Kings XI Punjab</td><td>Field</td><td>Kings XI Punjab</td><td>Won</td></tr><tr><td>1082595</td><td>Royal Challengers Bangalore</td><td>Bat</td><td>Royal Challengers Bangalore</td><td>Won</td></tr><tr><td>1082596</td><td>Sunrisers Hyderabad</td><td>Field</td><td>Sunrisers Hyderabad</td><td>Won</td></tr><tr><td>1082597</td><td>Mumbai Indians</td><td>Field</td><td>Mumbai Indians</td><td>Won</td></tr><tr><td>1082598</td><td>Royal Challengers Bangalore</td><td>Bat</td><td>Kings XI Punjab</td><td>Lost</td></tr><tr><td>1082599</td><td>Rising Pune Supergiants</td><td>Field</td><td>Delhi Daredevils</td><td>Lost</td></tr><tr><td>1082600</td><td>Mumbai Indians</td><td>Field</td><td>Mumbai Indians</td><td>Won</td></tr><tr><td>1082601</td><td>Kolkata Knight Riders</td><td>Field</td><td>Kolkata Knight Riders</td><td>Won</td></tr><tr><td>1082602</td><td>Mumbai Indians</td><td>Field</td><td>Mumbai Indians</td><td>Won</td></tr><tr><td>1082603</td><td>Gujarat Lions</td><td>Field</td><td>Gujarat Lions</td><td>Won</td></tr><tr><td>1082604</td><td>Sunrisers Hyderabad</td><td>Field</td><td>Kolkata Knight Riders</td><td>Lost</td></tr><tr><td>1082605</td><td>Delhi Daredevils</td><td>Bat</td><td>Delhi Daredevils</td><td>Won</td></tr><tr><td>1082606</td><td>Mumbai Indians</td><td>Field</td><td>Mumbai Indians</td><td>Won</td></tr><tr><td>1082607</td><td>Royal Challengers Bangalore</td><td>Field</td><td>Rising Pune Supergiants</td><td>Lost</td></tr><tr><td>1082608</td><td>Delhi Daredevils</td><td>Bat</td><td>Kolkata Knight Riders</td><td>Lost</td></tr><tr><td>1082609</td><td>Kings XI Punjab</td><td>Field</td><td>Sunrisers Hyderabad</td><td>Lost</td></tr><tr><td>1082610</td><td>Gujarat Lions</td><td>Field</td><td>Royal Challengers Bangalore</td><td>Lost</td></tr><tr><td>1082611</td><td>Sunrisers Hyderabad</td><td>Bat</td><td>Sunrisers Hyderabad</td><td>Won</td></tr><tr><td>1082612</td><td>Mumbai Indians</td><td>Field</td><td>Mumbai Indians</td><td>Won</td></tr><tr><td>1082613</td><td>Gujarat Lions</td><td>Field</td><td>Gujarat Lions</td><td>Won</td></tr><tr><td>1082614</td><td>Delhi Daredevils</td><td>Field</td><td>Mumbai Indians</td><td>Lost</td></tr><tr><td>1082615</td><td>Rising Pune Supergiants</td><td>Field</td><td>Rising Pune Supergiants</td><td>Won</td></tr><tr><td>1082616</td><td>Gujarat Lions</td><td>Field</td><td>Kings XI Punjab</td><td>Lost</td></tr><tr><td>1082617</td><td>Royal Challengers Bangalore</td><td>Field</td><td>Kolkata Knight Riders</td><td>Lost</td></tr><tr><td>1082618</td><td>Mumbai Indians</td><td>Field</td><td>Rising Pune Supergiants</td><td>Lost</td></tr><tr><td>1082619</td><td>null</td><td>NA</td><td>abandoned</td><td>Lost</td></tr><tr><td>1082620</td><td>Kolkata Knight Riders</td><td>Field</td><td>Kolkata Knight Riders</td><td>Won</td></tr><tr><td>1082621</td><td>Gujarat Lions</td><td>Field</td><td>Gujarat Lions</td><td>Won</td></tr><tr><td>1082622</td><td>Kolkata Knight Riders</td><td>Field</td><td>Kolkata Knight Riders</td><td>Won</td></tr><tr><td>1082623</td><td>Kings XI Punjab</td><td>Field</td><td>Sunrisers Hyderabad</td><td>Lost</td></tr><tr><td>1082624</td><td>Royal Challengers Bangalore</td><td>Field</td><td>Rising Pune Supergiants</td><td>Lost</td></tr><tr><td>1082625</td><td>Gujarat Lions</td><td>Bat</td><td>tied</td><td>Lost</td></tr><tr><td>1082626</td><td>Kings XI Punjab</td><td>Field</td><td>Kings XI Punjab</td><td>Won</td></tr><tr><td>1082627</td><td>Kolkata Knight Riders</td><td>Field</td><td>Sunrisers Hyderabad</td><td>Lost</td></tr><tr><td>1082628</td><td>Royal Challengers Bangalore</td><td>Bat</td><td>Mumbai Indians</td><td>Lost</td></tr><tr><td>1082629</td><td>Rising Pune Supergiants</td><td>Field</td><td>Rising Pune Supergiants</td><td>Won</td></tr><tr><td>1082630</td><td>Delhi Daredevils</td><td>Field</td><td>Delhi Daredevils</td><td>Won</td></tr><tr><td>1082631</td><td>Rising Pune Supergiants</td><td>Field</td><td>Rising Pune Supergiants</td><td>Won</td></tr><tr><td>1082632</td><td>Delhi Daredevils</td><td>Field</td><td>Delhi Daredevils</td><td>Won</td></tr><tr><td>1082633</td><td>Royal Challengers Bangalore</td><td>Field</td><td>Kings XI Punjab</td><td>Lost</td></tr><tr><td>1082634</td><td>Sunrisers Hyderabad</td><td>Field</td><td>Rising Pune Supergiants</td><td>Lost</td></tr><tr><td>1082635</td><td>Delhi Daredevils</td><td>Field</td><td>Mumbai Indians</td><td>Lost</td></tr><tr><td>1082636</td><td>Kolkata Knight Riders</td><td>Field</td><td>Kolkata Knight Riders</td><td>Won</td></tr><tr><td>1082637</td><td>Gujarat Lions</td><td>Field</td><td>Gujarat Lions</td><td>Won</td></tr><tr><td>1082638</td><td>Mumbai Indians</td><td>Bat</td><td>Sunrisers Hyderabad</td><td>Lost</td></tr><tr><td>1082639</td><td>Kolkata Knight Riders</td><td>Field</td><td>Kings XI Punjab</td><td>Lost</td></tr><tr><td>1082640</td><td>Delhi Daredevils</td><td>Field</td><td>Delhi Daredevils</td><td>Won</td></tr><tr><td>1082641</td><td>Mumbai Indians</td><td>Field</td><td>Kings XI Punjab</td><td>Lost</td></tr><tr><td>1082642</td><td>Delhi Daredevils</td><td>Bat</td><td>Delhi Daredevils</td><td>Won</td></tr><tr><td>1082643</td><td>Sunrisers Hyderabad</td><td>Field</td><td>Sunrisers Hyderabad</td><td>Won</td></tr><tr><td>1082644</td><td>Kolkata Knight Riders</td><td>Field</td><td>Mumbai Indians</td><td>Lost</td></tr><tr><td>1082645</td><td>Rising Pune Supergiants</td><td>Field</td><td>Rising Pune Supergiants</td><td>Won</td></tr><tr><td>1082646</td><td>Royal Challengers Bangalore</td><td>Bat</td><td>Royal Challengers Bangalore</td><td>Won</td></tr><tr><td>1082647</td><td>Mumbai Indians</td><td>Field</td><td>Rising Pune Supergiants</td><td>Lost</td></tr><tr><td>1082648</td><td>Kolkata Knight Riders</td><td>Field</td><td>Kolkata Knight Riders</td><td>Won</td></tr><tr><td>1082649</td><td>Mumbai Indians</td><td>Field</td><td>Mumbai Indians</td><td>Won</td></tr><tr><td>1082650</td><td>Mumbai Indians</td><td>Bat</td><td>Mumbai Indians</td><td>Won</td></tr></tbody></table></div>"
      ]
     },
     "metadata": {
      "application/vnd.databricks.v1+output": {
       "addedWidgets": {},
       "aggData": [],
       "aggError": "",
       "aggOverflow": false,
       "aggSchema": [],
       "aggSeriesLimitReached": false,
       "aggType": "",
       "arguments": {},
       "columnCustomDisplayInfos": {},
       "data": [
        [
         335987,
         "Royal Challengers Bangalore",
         "field",
         "Kolkata Knight Riders",
         "Lost"
        ],
        [
         335988,
         "Chennai Super Kings",
         "bat",
         "Chennai Super Kings",
         "Won"
        ],
        [
         335989,
         "Rajasthan Royals",
         "bat",
         "Delhi Daredevils",
         "Lost"
        ],
        [
         335990,
         "Mumbai Indians",
         "bat",
         "Royal Challengers Bangalore",
         "Lost"
        ],
        [
         335991,
         "Deccan Chargers",
         "bat",
         "Kolkata Knight Riders",
         "Lost"
        ],
        [
         335992,
         "Kings XI Punjab",
         "bat",
         "Rajasthan Royals",
         "Lost"
        ],
        [
         335993,
         "Deccan Chargers",
         "bat",
         "Delhi Daredevils",
         "Lost"
        ],
        [
         335994,
         "Mumbai Indians",
         "field",
         "Chennai Super Kings",
         "Lost"
        ],
        [
         335995,
         "Rajasthan Royals",
         "field",
         "Rajasthan Royals",
         "Won"
        ],
        [
         335996,
         "Mumbai Indians",
         "field",
         "Kings XI Punjab",
         "Lost"
        ],
        [
         335997,
         "Rajasthan Royals",
         "field",
         "Rajasthan Royals",
         "Won"
        ],
        [
         335998,
         "Kolkata Knight Riders",
         "bat",
         "Chennai Super Kings",
         "Lost"
        ],
        [
         335999,
         "Deccan Chargers",
         "field",
         "Deccan Chargers",
         "Won"
        ],
        [
         336000,
         "Delhi Daredevils",
         "bat",
         "Kings XI Punjab",
         "Lost"
        ],
        [
         336001,
         "Chennai Super Kings",
         "bat",
         "Chennai Super Kings",
         "Won"
        ],
        [
         336002,
         "Kolkata Knight Riders",
         "bat",
         "Mumbai Indians",
         "Lost"
        ],
        [
         336003,
         "Royal Challengers Bangalore",
         "field",
         "Delhi Daredevils",
         "Lost"
        ],
        [
         336004,
         "Kings XI Punjab",
         "field",
         "Kings XI Punjab",
         "Won"
        ],
        [
         336005,
         "Rajasthan Royals",
         "bat",
         "Rajasthan Royals",
         "Won"
        ],
        [
         336006,
         "Chennai Super Kings",
         "bat",
         "Delhi Daredevils",
         "Lost"
        ],
        [
         336007,
         "Deccan Chargers",
         "bat",
         "Royal Challengers Bangalore",
         "Lost"
        ],
        [
         336008,
         "Kings XI Punjab",
         "bat",
         "Kings XI Punjab",
         "Won"
        ],
        [
         336009,
         "Delhi Daredevils",
         "field",
         "Mumbai Indians",
         "Lost"
        ],
        [
         336010,
         "Chennai Super Kings",
         "bat",
         "Rajasthan Royals",
         "Lost"
        ],
        [
         336011,
         "Kings XI Punjab",
         "field",
         "Kings XI Punjab",
         "Won"
        ],
        [
         336012,
         "Deccan Chargers",
         "field",
         "Deccan Chargers",
         "Won"
        ],
        [
         336013,
         "Mumbai Indians",
         "field",
         "Mumbai Indians",
         "Won"
        ],
        [
         336014,
         "Chennai Super Kings",
         "field",
         "Chennai Super Kings",
         "Won"
        ],
        [
         336015,
         "Kolkata Knight Riders",
         "bat",
         "Kolkata Knight Riders",
         "Won"
        ],
        [
         336016,
         "Rajasthan Royals",
         "field",
         "Rajasthan Royals",
         "Won"
        ],
        [
         336017,
         "Mumbai Indians",
         "field",
         "Mumbai Indians",
         "Won"
        ],
        [
         336018,
         "Kings XI Punjab",
         "field",
         "Chennai Super Kings",
         "Lost"
        ],
        [
         336019,
         "Kolkata Knight Riders",
         "bat",
         "Kolkata Knight Riders",
         "Won"
        ],
        [
         336020,
         "Rajasthan Royals",
         "field",
         "Rajasthan Royals",
         "Won"
        ],
        [
         336021,
         "Royal Challengers Bangalore",
         "bat",
         "Kings XI Punjab",
         "Lost"
        ],
        [
         336022,
         "Kolkata Knight Riders",
         "bat",
         "Kolkata Knight Riders",
         "Won"
        ],
        [
         336023,
         "Mumbai Indians",
         "field",
         "Mumbai Indians",
         "Won"
        ],
        [
         336024,
         "Rajasthan Royals",
         "field",
         "Kings XI Punjab",
         "Lost"
        ],
        [
         336025,
         "Deccan Chargers",
         "field",
         "Delhi Daredevils",
         "Lost"
        ],
        [
         336026,
         "Mumbai Indians",
         "field",
         "Mumbai Indians",
         "Won"
        ],
        [
         336027,
         "Delhi Daredevils",
         "bat",
         "Kings XI Punjab",
         "Lost"
        ],
        [
         336028,
         "Royal Challengers Bangalore",
         "field",
         "Rajasthan Royals",
         "Lost"
        ],
        [
         336029,
         "Deccan Chargers",
         "field",
         "Mumbai Indians",
         "Lost"
        ],
        [
         336030,
         "Kolkata Knight Riders",
         "bat",
         "Chennai Super Kings",
         "Lost"
        ],
        [
         336031,
         "Delhi Daredevils",
         "field",
         "Delhi Daredevils",
         "Won"
        ],
        [
         336032,
         "Rajasthan Royals",
         "field",
         "Rajasthan Royals",
         "Won"
        ],
        [
         336033,
         "Mumbai Indians",
         "field",
         "Kings XI Punjab",
         "Lost"
        ],
        [
         336034,
         "Royal Challengers Bangalore",
         "bat",
         "Royal Challengers Bangalore",
         "Won"
        ],
        [
         336036,
         "Kings XI Punjab",
         "field",
         "Kings XI Punjab",
         "Won"
        ],
        [
         336037,
         "Delhi Daredevils",
         "field",
         "Delhi Daredevils",
         "Won"
        ],
        [
         336038,
         "Rajasthan Royals",
         "bat",
         "Rajasthan Royals",
         "Won"
        ],
        [
         336039,
         "Deccan Chargers",
         "field",
         "Royal Challengers Bangalore",
         "Lost"
        ],
        [
         336040,
         "Kings XI Punjab",
         "bat",
         "Kolkata Knight Riders",
         "Lost"
        ],
        [
         336041,
         "Rajasthan Royals",
         "field",
         "Rajasthan Royals",
         "Won"
        ],
        [
         336042,
         "Deccan Chargers",
         "bat",
         "Chennai Super Kings",
         "Lost"
        ],
        [
         336043,
         "Delhi Daredevils",
         "field",
         "Rajasthan Royals",
         "Lost"
        ],
        [
         336044,
         "Kings XI Punjab",
         "bat",
         "Chennai Super Kings",
         "Lost"
        ],
        [
         336045,
         "Rajasthan Royals",
         "field",
         "Rajasthan Royals",
         "Won"
        ],
        [
         392186,
         "Chennai Super Kings",
         "field",
         "Mumbai Indians",
         "Lost"
        ],
        [
         392187,
         "Royal Challengers Bangalore",
         "bat",
         "Royal Challengers Bangalore",
         "Won"
        ],
        [
         392188,
         "Delhi Daredevils",
         "field",
         "Delhi Daredevils",
         "Won"
        ],
        [
         392189,
         "Kolkata Knight Riders",
         "bat",
         "Deccan Chargers",
         "Lost"
        ],
        [
         392190,
         "Chennai Super Kings",
         "bat",
         "Chennai Super Kings",
         "Won"
        ],
        [
         392191,
         "Kolkata Knight Riders",
         "field",
         "Kolkata Knight Riders",
         "Won"
        ],
        [
         392193,
         "Deccan Chargers",
         "bat",
         "Deccan Chargers",
         "Won"
        ],
        [
         392194,
         "Delhi Daredevils",
         "bat",
         "Delhi Daredevils",
         "Won"
        ],
        [
         392195,
         "Kolkata Knight Riders",
         "field",
         "Rajasthan Royals",
         "Lost"
        ],
        [
         392196,
         "Royal Challengers Bangalore",
         "bat",
         "Kings XI Punjab",
         "Lost"
        ],
        [
         392197,
         "Deccan Chargers",
         "bat",
         "Deccan Chargers",
         "Won"
        ],
        [
         392199,
         "Royal Challengers Bangalore",
         "bat",
         "Delhi Daredevils",
         "Lost"
        ],
        [
         392200,
         "Kings XI Punjab",
         "bat",
         "Kings XI Punjab",
         "Won"
        ],
        [
         392201,
         "Deccan Chargers",
         "field",
         "Deccan Chargers",
         "Won"
        ],
        [
         392202,
         "Mumbai Indians",
         "bat",
         "Mumbai Indians",
         "Won"
        ],
        [
         392203,
         "Delhi Daredevils",
         "bat",
         "Rajasthan Royals",
         "Lost"
        ],
        [
         392204,
         "Kolkata Knight Riders",
         "bat",
         "Royal Challengers Bangalore",
         "Lost"
        ],
        [
         392205,
         "Kings XI Punjab",
         "bat",
         "Kings XI Punjab",
         "Won"
        ],
        [
         392206,
         "Delhi Daredevils",
         "field",
         "Delhi Daredevils",
         "Won"
        ],
        [
         392207,
         "Rajasthan Royals",
         "field",
         "Chennai Super Kings",
         "Lost"
        ],
        [
         392208,
         "Mumbai Indians",
         "bat",
         "Mumbai Indians",
         "Won"
        ],
        [
         392209,
         "Royal Challengers Bangalore",
         "bat",
         "Royal Challengers Bangalore",
         "Won"
        ],
        [
         392210,
         "Deccan Chargers",
         "bat",
         "Rajasthan Royals",
         "Lost"
        ],
        [
         392211,
         "Delhi Daredevils",
         "field",
         "Chennai Super Kings",
         "Lost"
        ],
        [
         392212,
         "Kolkata Knight Riders",
         "bat",
         "Kings XI Punjab",
         "Lost"
        ],
        [
         392213,
         "Mumbai Indians",
         "bat",
         "Royal Challengers Bangalore",
         "Lost"
        ],
        [
         392214,
         "Chennai Super Kings",
         "bat",
         "Chennai Super Kings",
         "Won"
        ],
        [
         392215,
         "Kings XI Punjab",
         "field",
         "Rajasthan Royals",
         "Lost"
        ],
        [
         392216,
         "Kolkata Knight Riders",
         "bat",
         "Delhi Daredevils",
         "Lost"
        ],
        [
         392217,
         "Deccan Chargers",
         "bat",
         "Deccan Chargers",
         "Won"
        ],
        [
         392218,
         "Rajasthan Royals",
         "field",
         "Rajasthan Royals",
         "Won"
        ],
        [
         392219,
         "Chennai Super Kings",
         "bat",
         "Chennai Super Kings",
         "Won"
        ],
        [
         392220,
         "Mumbai Indians",
         "bat",
         "Delhi Daredevils",
         "Lost"
        ],
        [
         392221,
         "Kings XI Punjab",
         "field",
         "Kings XI Punjab",
         "Won"
        ],
        [
         392222,
         "Rajasthan Royals",
         "bat",
         "Chennai Super Kings",
         "Lost"
        ],
        [
         392223,
         "Mumbai Indians",
         "bat",
         "Mumbai Indians",
         "Won"
        ],
        [
         392224,
         "Delhi Daredevils",
         "field",
         "Delhi Daredevils",
         "Won"
        ],
        [
         392225,
         "Deccan Chargers",
         "bat",
         "Deccan Chargers",
         "Won"
        ],
        [
         392226,
         "Royal Challengers Bangalore",
         "field",
         "Royal Challengers Bangalore",
         "Won"
        ],
        [
         392227,
         "Kings XI Punjab",
         "bat",
         "Mumbai Indians",
         "Lost"
        ],
        [
         392228,
         "Deccan Chargers",
         "field",
         "Delhi Daredevils",
         "Lost"
        ],
        [
         392229,
         "Chennai Super Kings",
         "bat",
         "Royal Challengers Bangalore",
         "Lost"
        ],
        [
         392230,
         "Rajasthan Royals",
         "bat",
         "Rajasthan Royals",
         "Won"
        ],
        [
         392231,
         "Kings XI Punjab",
         "field",
         "Kings XI Punjab",
         "Won"
        ],
        [
         392232,
         "Mumbai Indians",
         "bat",
         "Chennai Super Kings",
         "Lost"
        ],
        [
         392233,
         "Deccan Chargers",
         "field",
         "Deccan Chargers",
         "Won"
        ],
        [
         392234,
         "Deccan Chargers",
         "field",
         "Kings XI Punjab",
         "Lost"
        ],
        [
         392235,
         "Delhi Daredevils",
         "bat",
         "Delhi Daredevils",
         "Won"
        ],
        [
         392236,
         "Chennai Super Kings",
         "bat",
         "Kolkata Knight Riders",
         "Lost"
        ],
        [
         392237,
         "Delhi Daredevils",
         "bat",
         "Royal Challengers Bangalore",
         "Lost"
        ],
        [
         392238,
         "Kolkata Knight Riders",
         "field",
         "Kolkata Knight Riders",
         "Won"
        ],
        [
         392239,
         "Chennai Super Kings",
         "bat",
         "Chennai Super Kings",
         "Won"
        ],
        [
         392240,
         "Delhi Daredevils",
         "field",
         "Delhi Daredevils",
         "Won"
        ],
        [
         392241,
         "Royal Challengers Bangalore",
         "bat",
         "Royal Challengers Bangalore",
         "Won"
        ],
        [
         392242,
         "Deccan Chargers",
         "field",
         "Deccan Chargers",
         "Won"
        ],
        [
         392243,
         "Royal Challengers Bangalore",
         "field",
         "Royal Challengers Bangalore",
         "Won"
        ],
        [
         392244,
         "Royal Challengers Bangalore",
         "field",
         "Deccan Chargers",
         "Lost"
        ],
        [
         419111,
         "Deccan Chargers",
         "field",
         "Kolkata Knight Riders",
         "Lost"
        ],
        [
         419112,
         "Mumbai Indians",
         "bat",
         "Mumbai Indians",
         "Won"
        ],
        [
         419113,
         "Delhi Daredevils",
         "field",
         "Delhi Daredevils",
         "Won"
        ],
        [
         419114,
         "Kolkata Knight Riders",
         "field",
         "Kolkata Knight Riders",
         "Won"
        ],
        [
         419115,
         "Deccan Chargers",
         "bat",
         "Deccan Chargers",
         "Won"
        ],
        [
         419116,
         "Delhi Daredevils",
         "field",
         "Delhi Daredevils",
         "Won"
        ],
        [
         419117,
         "Kings XI Punjab",
         "bat",
         "Royal Challengers Bangalore",
         "Lost"
        ],
        [
         419118,
         "Chennai Super Kings",
         "bat",
         "Chennai Super Kings",
         "Won"
        ],
        [
         419119,
         "Delhi Daredevils",
         "field",
         "Mumbai Indians",
         "Lost"
        ],
        [
         419120,
         "Royal Challengers Bangalore",
         "field",
         "Royal Challengers Bangalore",
         "Won"
        ],
        [
         419121,
         "Delhi Daredevils",
         "bat",
         "Chennai Super Kings",
         "Lost"
        ],
        [
         419122,
         "Kings XI Punjab",
         "field",
         "Deccan Chargers",
         "Lost"
        ],
        [
         419123,
         "Rajasthan Royals",
         "bat",
         "Rajasthan Royals",
         "Won"
        ],
        [
         419124,
         "Mumbai Indians",
         "bat",
         "Royal Challengers Bangalore",
         "Lost"
        ],
        [
         419125,
         "Deccan Chargers",
         "bat",
         "Deccan Chargers",
         "Won"
        ],
        [
         419126,
         "Chennai Super Kings",
         "field",
         "Kings XI Punjab",
         "Lost"
        ],
        [
         419127,
         "Kolkata Knight Riders",
         "bat",
         "Mumbai Indians",
         "Lost"
        ],
        [
         419128,
         "Chennai Super Kings",
         "field",
         "Royal Challengers Bangalore",
         "Lost"
        ],
        [
         419129,
         "Kings XI Punjab",
         "field",
         "Rajasthan Royals",
         "Lost"
        ],
        [
         419130,
         "Mumbai Indians",
         "field",
         "Mumbai Indians",
         "Won"
        ],
        [
         419131,
         "Deccan Chargers",
         "bat",
         "Rajasthan Royals",
         "Lost"
        ],
        [
         419132,
         "Kolkata Knight Riders",
         "bat",
         "Kolkata Knight Riders",
         "Won"
        ],
        [
         419133,
         "Royal Challengers Bangalore",
         "field",
         "Delhi Daredevils",
         "Lost"
        ],
        [
         419134,
         "Rajasthan Royals",
         "bat",
         "Rajasthan Royals",
         "Won"
        ],
        [
         419135,
         "Deccan Chargers",
         "field",
         "Mumbai Indians",
         "Lost"
        ],
        [
         419136,
         "Delhi Daredevils",
         "bat",
         "Delhi Daredevils",
         "Won"
        ],
        [
         419137,
         "Mumbai Indians",
         "field",
         "Mumbai Indians",
         "Won"
        ],
        [
         419138,
         "Royal Challengers Bangalore",
         "bat",
         "Chennai Super Kings",
         "Lost"
        ],
        [
         419139,
         "Delhi Daredevils",
         "bat",
         "Delhi Daredevils",
         "Won"
        ],
        [
         419140,
         "Kolkata Knight Riders",
         "bat",
         "Kolkata Knight Riders",
         "Won"
        ],
        [
         419141,
         "Kings XI Punjab",
         "bat",
         "Royal Challengers Bangalore",
         "Lost"
        ],
        [
         419142,
         "Chennai Super Kings",
         "bat",
         "Chennai Super Kings",
         "Won"
        ],
        [
         419143,
         "Mumbai Indians",
         "bat",
         "Mumbai Indians",
         "Won"
        ],
        [
         419144,
         "Kolkata Knight Riders",
         "bat",
         "Kings XI Punjab",
         "Lost"
        ],
        [
         419145,
         "Delhi Daredevils",
         "bat",
         "Delhi Daredevils",
         "Won"
        ],
        [
         419146,
         "Rajasthan Royals",
         "bat",
         "Rajasthan Royals",
         "Won"
        ],
        [
         419147,
         "Chennai Super Kings",
         "bat",
         "Chennai Super Kings",
         "Won"
        ],
        [
         419148,
         "Kings XI Punjab",
         "bat",
         "Rajasthan Royals",
         "Lost"
        ],
        [
         419149,
         "Kolkata Knight Riders",
         "bat",
         "Kolkata Knight Riders",
         "Won"
        ],
        [
         419150,
         "Deccan Chargers",
         "field",
         "Deccan Chargers",
         "Won"
        ],
        [
         419151,
         "Mumbai Indians",
         "bat",
         "Kings XI Punjab",
         "Lost"
        ],
        [
         419152,
         "Chennai Super Kings",
         "bat",
         "Deccan Chargers",
         "Lost"
        ],
        [
         419153,
         "Royal Challengers Bangalore",
         "field",
         "Royal Challengers Bangalore",
         "Won"
        ],
        [
         419154,
         "Delhi Daredevils",
         "bat",
         "Kings XI Punjab",
         "Lost"
        ],
        [
         419155,
         "Rajasthan Royals",
         "field",
         "Mumbai Indians",
         "Lost"
        ],
        [
         419156,
         "Royal Challengers Bangalore",
         "field",
         "Deccan Chargers",
         "Lost"
        ],
        [
         419157,
         "Mumbai Indians",
         "bat",
         "Mumbai Indians",
         "Won"
        ],
        [
         419158,
         "Kolkata Knight Riders",
         "bat",
         "Chennai Super Kings",
         "Lost"
        ],
        [
         419159,
         "Rajasthan Royals",
         "bat",
         "Royal Challengers Bangalore",
         "Lost"
        ],
        [
         419160,
         "Chennai Super Kings",
         "bat",
         "Delhi Daredevils",
         "Lost"
        ],
        [
         419161,
         "Deccan Chargers",
         "field",
         "Deccan Chargers",
         "Won"
        ],
        [
         419162,
         "Royal Challengers Bangalore",
         "field",
         "Mumbai Indians",
         "Lost"
        ],
        [
         419163,
         "Rajasthan Royals",
         "bat",
         "Kolkata Knight Riders",
         "Lost"
        ],
        [
         419164,
         "Chennai Super Kings",
         "field",
         "Chennai Super Kings",
         "Won"
        ],
        [
         419165,
         "Deccan Chargers",
         "bat",
         "Deccan Chargers",
         "Won"
        ],
        [
         419166,
         "Mumbai Indians",
         "bat",
         "Kolkata Knight Riders",
         "Lost"
        ],
        [
         419167,
         "Mumbai Indians",
         "bat",
         "Mumbai Indians",
         "Won"
        ],
        [
         419168,
         "Chennai Super Kings",
         "bat",
         "Chennai Super Kings",
         "Won"
        ],
        [
         419169,
         "Deccan Chargers",
         "bat",
         "Royal Challengers Bangalore",
         "Lost"
        ],
        [
         419170,
         "Chennai Super Kings",
         "bat",
         "Chennai Super Kings",
         "Won"
        ],
        [
         501203,
         "Chennai Super Kings",
         "bat",
         "Chennai Super Kings",
         "Won"
        ],
        [
         501204,
         "Rajasthan Royals",
         "field",
         "Rajasthan Royals",
         "Won"
        ],
        [
         501205,
         "Kochi Tuskers Kerala",
         "bat",
         "Royal Challengers Bangalore",
         "Lost"
        ],
        [
         501206,
         "Delhi Daredevils",
         "bat",
         "Mumbai Indians",
         "Lost"
        ],
        [
         501207,
         "Kings XI Punjab",
         "bat",
         "Pune Warriors",
         "Lost"
        ],
        [
         501208,
         "Kolkata Knight Riders",
         "bat",
         "Kolkata Knight Riders",
         "Won"
        ],
        [
         501209,
         "Delhi Daredevils",
         "bat",
         "Rajasthan Royals",
         "Lost"
        ],
        [
         501210,
         "Mumbai Indians",
         "field",
         "Mumbai Indians",
         "Won"
        ],
        [
         501211,
         "Kings XI Punjab",
         "field",
         "Kings XI Punjab",
         "Won"
        ],
        [
         501212,
         "Kochi Tuskers Kerala",
         "bat",
         "Pune Warriors",
         "Lost"
        ],
        [
         501213,
         "Royal Challengers Bangalore",
         "field",
         "Deccan Chargers",
         "Lost"
        ],
        [
         501214,
         "Kolkata Knight Riders",
         "field",
         "Kolkata Knight Riders",
         "Won"
        ],
        [
         501215,
         "Kochi Tuskers Kerala",
         "field",
         "Kochi Tuskers Kerala",
         "Won"
        ],
        [
         501216,
         "Chennai Super Kings",
         "bat",
         "Chennai Super Kings",
         "Won"
        ],
        [
         501217,
         "Kings XI Punjab",
         "field",
         "Kings XI Punjab",
         "Won"
        ],
        [
         501218,
         "Delhi Daredevils",
         "field",
         "Delhi Daredevils",
         "Won"
        ],
        [
         501219,
         "Kolkata Knight Riders",
         "field",
         "Kolkata Knight Riders",
         "Won"
        ],
        [
         501220,
         "Kochi Tuskers Kerala",
         "field",
         "Kochi Tuskers Kerala",
         "Won"
        ],
        [
         501221,
         "Deccan Chargers",
         "bat",
         "Deccan Chargers",
         "Won"
        ],
        [
         501223,
         "Pune Warriors",
         "bat",
         "Mumbai Indians",
         "Lost"
        ],
        [
         501224,
         "Kolkata Knight Riders",
         "field",
         "Kochi Tuskers Kerala",
         "Lost"
        ],
        [
         501225,
         "Rajasthan Royals",
         "field",
         "Kings XI Punjab",
         "Lost"
        ],
        [
         501226,
         "Chennai Super Kings",
         "field",
         "Mumbai Indians",
         "Lost"
        ],
        [
         501227,
         "Royal Challengers Bangalore",
         "field",
         "Royal Challengers Bangalore",
         "Won"
        ],
        [
         501228,
         "Kings XI Punjab",
         "field",
         "Delhi Daredevils",
         "Lost"
        ],
        [
         501229,
         "Deccan Chargers",
         "field",
         "Mumbai Indians",
         "Lost"
        ],
        [
         501230,
         "Rajasthan Royals",
         "field",
         "Rajasthan Royals",
         "Won"
        ],
        [
         501231,
         "Pune Warriors",
         "field",
         "Chennai Super Kings",
         "Lost"
        ],
        [
         501232,
         "Royal Challengers Bangalore",
         "field",
         "Royal Challengers Bangalore",
         "Won"
        ],
        [
         501233,
         "Pune Warriors",
         "bat",
         "Chennai Super Kings",
         "Lost"
        ],
        [
         501234,
         "Kochi Tuskers Kerala",
         "field",
         "Deccan Chargers",
         "Lost"
        ],
        [
         501235,
         "Delhi Daredevils",
         "field",
         "Kolkata Knight Riders",
         "Lost"
        ],
        [
         501236,
         "Rajasthan Royals",
         "field",
         "Rajasthan Royals",
         "Won"
        ],
        [
         501237,
         "Pune Warriors",
         "field",
         "Royal Challengers Bangalore",
         "Lost"
        ],
        [
         501238,
         "Delhi Daredevils",
         "bat",
         "Delhi Daredevils",
         "Won"
        ],
        [
         501239,
         "Kolkata Knight Riders",
         "field",
         "Kolkata Knight Riders",
         "Won"
        ],
        [
         501240,
         "Rajasthan Royals",
         "field",
         "Rajasthan Royals",
         "Won"
        ],
        [
         501241,
         "Chennai Super Kings",
         "bat",
         "Chennai Super Kings",
         "Won"
        ],
        [
         501242,
         "Kings XI Punjab",
         "field",
         "Mumbai Indians",
         "Lost"
        ],
        [
         501243,
         "Kochi Tuskers Kerala",
         "field",
         "Kochi Tuskers Kerala",
         "Won"
        ],
        [
         501244,
         "Deccan Chargers",
         "field",
         "Kolkata Knight Riders",
         "Lost"
        ],
        [
         501245,
         "Rajasthan Royals",
         "bat",
         "Chennai Super Kings",
         "Lost"
        ],
        [
         501246,
         "Pune Warriors",
         "field",
         "Mumbai Indians",
         "Lost"
        ],
        [
         501247,
         "Kolkata Knight Riders",
         "field",
         "Kochi Tuskers Kerala",
         "Lost"
        ],
        [
         501248,
         "Delhi Daredevils",
         "field",
         "Delhi Daredevils",
         "Won"
        ],
        [
         501249,
         "Kings XI Punjab",
         "field",
         "Royal Challengers Bangalore",
         "Lost"
        ],
        [
         501250,
         "Chennai Super Kings",
         "bat",
         "Kolkata Knight Riders",
         "Lost"
        ],
        [
         501251,
         "Delhi Daredevils",
         "field",
         "Mumbai Indians",
         "Lost"
        ],
        [
         501252,
         "Kochi Tuskers Kerala",
         "bat",
         "Royal Challengers Bangalore",
         "Lost"
        ],
        [
         501253,
         "Kings XI Punjab",
         "bat",
         "Pune Warriors",
         "Lost"
        ],
        [
         501254,
         "Rajasthan Royals",
         "field",
         "Chennai Super Kings",
         "Lost"
        ],
        [
         501255,
         "Deccan Chargers",
         "bat",
         "Pune Warriors",
         "Lost"
        ],
        [
         501256,
         "Mumbai Indians",
         "field",
         "Kings XI Punjab",
         "Lost"
        ],
        [
         501257,
         "Royal Challengers Bangalore",
         "field",
         "Royal Challengers Bangalore",
         "Won"
        ],
        [
         501258,
         "Chennai Super Kings",
         "bat",
         "Chennai Super Kings",
         "Won"
        ],
        [
         501259,
         "Kings XI Punjab",
         "field",
         "Kings XI Punjab",
         "Won"
        ],
        [
         501260,
         "Royal Challengers Bangalore",
         "field",
         "Royal Challengers Bangalore",
         "Won"
        ],
        [
         501261,
         "Deccan Chargers",
         "bat",
         "Deccan Chargers",
         "Won"
        ],
        [
         501262,
         "Delhi Daredevils",
         "field",
         "Kings XI Punjab",
         "Lost"
        ],
        [
         501263,
         "Kochi Tuskers Kerala",
         "field",
         "Kochi Tuskers Kerala",
         "Won"
        ],
        [
         501264,
         "Deccan Chargers",
         "field",
         "Deccan Chargers",
         "Won"
        ],
        [
         501265,
         "Kings XI Punjab",
         "bat",
         "Kings XI Punjab",
         "Won"
        ],
        [
         501266,
         "Chennai Super Kings",
         "bat",
         "Chennai Super Kings",
         "Won"
        ],
        [
         501267,
         "Kolkata Knight Riders",
         "field",
         "Kolkata Knight Riders",
         "Won"
        ],
        [
         501268,
         "Mumbai Indians",
         "bat",
         "Rajasthan Royals",
         "Lost"
        ],
        [
         501269,
         "Kings XI Punjab",
         "field",
         "Deccan Chargers",
         "Lost"
        ],
        [
         501270,
         "Delhi Daredevils",
         "bat",
         "NULL",
         "Lost"
        ],
        [
         501271,
         "Royal Challengers Bangalore",
         "field",
         "Royal Challengers Bangalore",
         "Won"
        ],
        [
         501272,
         "Mumbai Indians",
         "field",
         "Mumbai Indians",
         "Won"
        ],
        [
         501273,
         "Chennai Super Kings",
         "field",
         "Chennai Super Kings",
         "Won"
        ],
        [
         501274,
         "Mumbai Indians",
         "field",
         "Mumbai Indians",
         "Won"
        ],
        [
         501275,
         "Mumbai Indians",
         "field",
         "Royal Challengers Bangalore",
         "Lost"
        ],
        [
         501276,
         "Chennai Super Kings",
         "bat",
         "Chennai Super Kings",
         "Won"
        ],
        [
         548311,
         "Mumbai Indians",
         "field",
         "Mumbai Indians",
         "Won"
        ],
        [
         548312,
         "Delhi Daredevils",
         "field",
         "Delhi Daredevils",
         "Won"
        ],
        [
         548313,
         "Mumbai Indians",
         "field",
         "Pune Warriors",
         "Lost"
        ],
        [
         548314,
         "Kings XI Punjab",
         "field",
         "Rajasthan Royals",
         "Lost"
        ],
        [
         548315,
         "Delhi Daredevils",
         "field",
         "Royal Challengers Bangalore",
         "Lost"
        ],
        [
         548316,
         "Deccan Chargers",
         "field",
         "Chennai Super Kings",
         "Lost"
        ],
        [
         548317,
         "Kolkata Knight Riders",
         "field",
         "Rajasthan Royals",
         "Lost"
        ],
        [
         548318,
         "Pune Warriors",
         "bat",
         "Pune Warriors",
         "Won"
        ],
        [
         548319,
         "Deccan Chargers",
         "bat",
         "Mumbai Indians",
         "Lost"
        ],
        [
         548320,
         "Royal Challengers Bangalore",
         "field",
         "Kolkata Knight Riders",
         "Lost"
        ],
        [
         548321,
         "Delhi Daredevils",
         "field",
         "Delhi Daredevils",
         "Won"
        ],
        [
         548322,
         "Rajasthan Royals",
         "field",
         "Mumbai Indians",
         "Lost"
        ],
        [
         548323,
         "Royal Challengers Bangalore",
         "bat",
         "Chennai Super Kings",
         "Lost"
        ],
        [
         548324,
         "Kings XI Punjab",
         "field",
         "Kings XI Punjab",
         "Won"
        ],
        [
         548325,
         "Rajasthan Royals",
         "bat",
         "Kolkata Knight Riders",
         "Lost"
        ],
        [
         548326,
         "Deccan Chargers",
         "bat",
         "Delhi Daredevils",
         "Lost"
        ],
        [
         548327,
         "Chennai Super Kings",
         "bat",
         "Pune Warriors",
         "Lost"
        ],
        [
         548328,
         "Kolkata Knight Riders",
         "field",
         "Kings XI Punjab",
         "Lost"
        ],
        [
         548329,
         "Rajasthan Royals",
         "bat",
         "Rajasthan Royals",
         "Won"
        ],
        [
         548330,
         "Delhi Daredevils",
         "field",
         "Delhi Daredevils",
         "Won"
        ],
        [
         548331,
         "Deccan Chargers",
         "bat",
         "Rajasthan Royals",
         "Lost"
        ],
        [
         548332,
         "Pune Warriors",
         "bat",
         "Royal Challengers Bangalore",
         "Lost"
        ],
        [
         548333,
         "Kings XI Punjab",
         "bat",
         "Kolkata Knight Riders",
         "Lost"
        ],
        [
         548334,
         "Deccan Chargers",
         "bat",
         "Delhi Daredevils",
         "Lost"
        ],
        [
         548335,
         "Pune Warriors",
         "field",
         "Chennai Super Kings",
         "Lost"
        ],
        [
         548336,
         "Royal Challengers Bangalore",
         "field",
         "Royal Challengers Bangalore",
         "Won"
        ],
        [
         548337,
         "Rajasthan Royals",
         "bat",
         "Chennai Super Kings",
         "Lost"
        ],
        [
         548338,
         "Delhi Daredevils",
         "field",
         "Pune Warriors",
         "Lost"
        ],
        [
         548339,
         "Mumbai Indians",
         "bat",
         "Kings XI Punjab",
         "Lost"
        ],
        [
         548340,
         "Kolkata Knight Riders",
         "field",
         "Kolkata Knight Riders",
         "Won"
        ],
        [
         548341,
         "Rajasthan Royals",
         "field",
         "Royal Challengers Bangalore",
         "Lost"
        ],
        [
         548342,
         "Pune Warriors",
         "bat",
         "Delhi Daredevils",
         "Lost"
        ],
        [
         548344,
         "Kings XI Punjab",
         "bat",
         "Mumbai Indians",
         "Lost"
        ],
        [
         548346,
         "Deccan Chargers",
         "bat",
         "Deccan Chargers",
         "Won"
        ],
        [
         548347,
         "Mumbai Indians",
         "field",
         "Delhi Daredevils",
         "Lost"
        ],
        [
         548348,
         "Kings XI Punjab",
         "bat",
         "Kings XI Punjab",
         "Won"
        ],
        [
         548349,
         "Kolkata Knight Riders",
         "bat",
         "Kolkata Knight Riders",
         "Won"
        ],
        [
         548350,
         "Delhi Daredevils",
         "bat",
         "Delhi Daredevils",
         "Won"
        ],
        [
         548351,
         "Mumbai Indians",
         "field",
         "Mumbai Indians",
         "Won"
        ],
        [
         548352,
         "Chennai Super Kings",
         "bat",
         "Kolkata Knight Riders",
         "Lost"
        ],
        [
         548353,
         "Deccan Chargers",
         "bat",
         "Deccan Chargers",
         "Won"
        ],
        [
         548354,
         "Rajasthan Royals",
         "bat",
         "Delhi Daredevils",
         "Lost"
        ],
        [
         548355,
         "Kings XI Punjab",
         "field",
         "Kings XI Punjab",
         "Won"
        ],
        [
         548356,
         "Mumbai Indians",
         "bat",
         "Mumbai Indians",
         "Won"
        ],
        [
         548357,
         "Chennai Super Kings",
         "bat",
         "Chennai Super Kings",
         "Won"
        ],
        [
         548358,
         "Kolkata Knight Riders",
         "bat",
         "Kolkata Knight Riders",
         "Won"
        ],
        [
         548359,
         "Rajasthan Royals",
         "bat",
         "Rajasthan Royals",
         "Won"
        ],
        [
         548360,
         "Mumbai Indians",
         "field",
         "Mumbai Indians",
         "Won"
        ],
        [
         548361,
         "Royal Challengers Bangalore",
         "field",
         "Royal Challengers Bangalore",
         "Won"
        ],
        [
         548362,
         "Delhi Daredevils",
         "bat",
         "Kolkata Knight Riders",
         "Lost"
        ],
        [
         548363,
         "Pune Warriors",
         "bat",
         "Rajasthan Royals",
         "Lost"
        ],
        [
         548364,
         "Deccan Chargers",
         "field",
         "Kings XI Punjab",
         "Lost"
        ],
        [
         548365,
         "Royal Challengers Bangalore",
         "field",
         "Royal Challengers Bangalore",
         "Won"
        ],
        [
         548366,
         "Chennai Super Kings",
         "field",
         "Chennai Super Kings",
         "Won"
        ],
        [
         548367,
         "Pune Warriors",
         "field",
         "Royal Challengers Bangalore",
         "Lost"
        ],
        [
         548368,
         "Mumbai Indians",
         "bat",
         "Mumbai Indians",
         "Won"
        ],
        [
         548369,
         "Chennai Super Kings",
         "field",
         "Chennai Super Kings",
         "Won"
        ],
        [
         548370,
         "Rajasthan Royals",
         "bat",
         "Rajasthan Royals",
         "Won"
        ],
        [
         548371,
         "Deccan Chargers",
         "bat",
         "Kings XI Punjab",
         "Lost"
        ],
        [
         548372,
         "Mumbai Indians",
         "field",
         "Mumbai Indians",
         "Won"
        ],
        [
         548373,
         "Chennai Super Kings",
         "field",
         "Chennai Super Kings",
         "Won"
        ],
        [
         548374,
         "Kings XI Punjab",
         "bat",
         "Delhi Daredevils",
         "Lost"
        ],
        [
         548375,
         "Mumbai Indians",
         "field",
         "Kolkata Knight Riders",
         "Lost"
        ],
        [
         548376,
         "Kings XI Punjab",
         "field",
         "Kings XI Punjab",
         "Won"
        ],
        [
         548377,
         "Delhi Daredevils",
         "field",
         "Royal Challengers Bangalore",
         "Lost"
        ],
        [
         548378,
         "Rajasthan Royals",
         "bat",
         "Deccan Chargers",
         "Lost"
        ],
        [
         548379,
         "Delhi Daredevils",
         "field",
         "Delhi Daredevils",
         "Won"
        ],
        [
         548380,
         "Kolkata Knight Riders",
         "bat",
         "Kolkata Knight Riders",
         "Won"
        ],
        [
         548381,
         "Royal Challengers Bangalore",
         "field",
         "Deccan Chargers",
         "Lost"
        ],
        [
         548382,
         "Rajasthan Royals",
         "bat",
         "Mumbai Indians",
         "Lost"
        ],
        [
         548383,
         "Kolkata Knight Riders",
         "bat",
         "Kolkata Knight Riders",
         "Won"
        ],
        [
         548384,
         "Mumbai Indians",
         "field",
         "Chennai Super Kings",
         "Lost"
        ],
        [
         548385,
         "Delhi Daredevils",
         "field",
         "Chennai Super Kings",
         "Lost"
        ],
        [
         548386,
         "Chennai Super Kings",
         "bat",
         "Kolkata Knight Riders",
         "Lost"
        ],
        [
         598003,
         "Kolkata Knight Riders",
         "field",
         "Kolkata Knight Riders",
         "Won"
        ],
        [
         598004,
         "Mumbai Indians",
         "field",
         "Royal Challengers Bangalore",
         "Lost"
        ],
        [
         598005,
         "Pune Warriors",
         "field",
         "Sunrisers Hyderabad",
         "Lost"
        ],
        [
         598006,
         "Rajasthan Royals",
         "bat",
         "Rajasthan Royals",
         "Won"
        ],
        [
         598007,
         "Mumbai Indians",
         "bat",
         "Mumbai Indians",
         "Won"
        ],
        [
         598008,
         "Pune Warriors",
         "bat",
         "Kings XI Punjab",
         "Lost"
        ],
        [
         598009,
         "Royal Challengers Bangalore",
         "bat",
         "Sunrisers Hyderabad",
         "Lost"
        ],
        [
         598010,
         "Kolkata Knight Riders",
         "field",
         "Rajasthan Royals",
         "Lost"
        ],
        [
         598011,
         "Mumbai Indians",
         "bat",
         "Mumbai Indians",
         "Won"
        ],
        [
         598012,
         "Chennai Super Kings",
         "field",
         "Chennai Super Kings",
         "Won"
        ],
        [
         598013,
         "Royal Challengers Bangalore",
         "field",
         "Royal Challengers Bangalore",
         "Won"
        ],
        [
         598014,
         "Rajasthan Royals",
         "bat",
         "Pune Warriors",
         "Lost"
        ],
        [
         598015,
         "Delhi Daredevils",
         "bat",
         "Sunrisers Hyderabad",
         "Lost"
        ],
        [
         598016,
         "Mumbai Indians",
         "bat",
         "Mumbai Indians",
         "Won"
        ],
        [
         598017,
         "Chennai Super Kings",
         "field",
         "Chennai Super Kings",
         "Won"
        ],
        [
         598018,
         "Kolkata Knight Riders",
         "bat",
         "Kolkata Knight Riders",
         "Won"
        ],
        [
         598019,
         "Rajasthan Royals",
         "field",
         "Rajasthan Royals",
         "Won"
        ],
        [
         598020,
         "Pune Warriors",
         "bat",
         "Pune Warriors",
         "Won"
        ],
        [
         598021,
         "Kolkata Knight Riders",
         "field",
         "Kings XI Punjab",
         "Lost"
        ],
        [
         598022,
         "Royal Challengers Bangalore",
         "field",
         "Royal Challengers Bangalore",
         "Won"
        ],
        [
         598023,
         "Pune Warriors",
         "field",
         "Sunrisers Hyderabad",
         "Lost"
        ],
        [
         598024,
         "Rajasthan Royals",
         "bat",
         "Rajasthan Royals",
         "Won"
        ],
        [
         598025,
         "Chennai Super Kings",
         "bat",
         "Chennai Super Kings",
         "Won"
        ],
        [
         598026,
         "Kings XI Punjab",
         "bat",
         "Sunrisers Hyderabad",
         "Lost"
        ],
        [
         598027,
         "Kolkata Knight Riders",
         "bat",
         "Chennai Super Kings",
         "Lost"
        ],
        [
         598028,
         "Royal Challengers Bangalore",
         "field",
         "Royal Challengers Bangalore",
         "Won"
        ],
        [
         598029,
         "Mumbai Indians",
         "bat",
         "Delhi Daredevils",
         "Lost"
        ],
        [
         598030,
         "Kings XI Punjab",
         "field",
         "Kings XI Punjab",
         "Won"
        ],
        [
         598031,
         "Rajasthan Royals",
         "bat",
         "Chennai Super Kings",
         "Lost"
        ],
        [
         598032,
         "Pune Warriors",
         "field",
         "Royal Challengers Bangalore",
         "Lost"
        ],
        [
         598033,
         "Delhi Daredevils",
         "field",
         "Kings XI Punjab",
         "Lost"
        ],
        [
         598034,
         "Kolkata Knight Riders",
         "bat",
         "Mumbai Indians",
         "Lost"
        ],
        [
         598035,
         "Sunrisers Hyderabad",
         "bat",
         "Chennai Super Kings",
         "Lost"
        ],
        [
         598036,
         "Kings XI Punjab",
         "bat",
         "Kolkata Knight Riders",
         "Lost"
        ],
        [
         598037,
         "Sunrisers Hyderabad",
         "bat",
         "Rajasthan Royals",
         "Lost"
        ],
        [
         598038,
         "Mumbai Indians",
         "bat",
         "Mumbai Indians",
         "Won"
        ],
        [
         598039,
         "Kolkata Knight Riders",
         "field",
         "Chennai Super Kings",
         "Lost"
        ],
        [
         598040,
         "Pune Warriors",
         "field",
         "Delhi Daredevils",
         "Lost"
        ],
        [
         598041,
         "Rajasthan Royals",
         "field",
         "Rajasthan Royals",
         "Won"
        ],
        [
         598042,
         "Mumbai Indians",
         "bat",
         "Mumbai Indians",
         "Won"
        ],
        [
         598043,
         "Chennai Super Kings",
         "bat",
         "Chennai Super Kings",
         "Won"
        ],
        [
         598044,
         "Mumbai Indians",
         "bat",
         "Sunrisers Hyderabad",
         "Lost"
        ],
        [
         598045,
         "Kolkata Knight Riders",
         "bat",
         "Delhi Daredevils",
         "Lost"
        ],
        [
         598046,
         "Chennai Super Kings",
         "bat",
         "Chennai Super Kings",
         "Won"
        ],
        [
         598047,
         "Royal Challengers Bangalore",
         "bat",
         "Royal Challengers Bangalore",
         "Won"
        ],
        [
         598048,
         "Rajasthan Royals",
         "bat",
         "Kolkata Knight Riders",
         "Lost"
        ],
        [
         598049,
         "Delhi Daredevils",
         "bat",
         "Sunrisers Hyderabad",
         "Lost"
        ],
        [
         598050,
         "Kings XI Punjab",
         "field",
         "Kings XI Punjab",
         "Won"
        ],
        [
         598051,
         "Mumbai Indians",
         "bat",
         "Mumbai Indians",
         "Won"
        ],
        [
         598052,
         "Pune Warriors",
         "bat",
         "Rajasthan Royals",
         "Lost"
        ],
        [
         598053,
         "Sunrisers Hyderabad",
         "bat",
         "Royal Challengers Bangalore",
         "Lost"
        ],
        [
         598054,
         "Delhi Daredevils",
         "bat",
         "Rajasthan Royals",
         "Lost"
        ],
        [
         598055,
         "Mumbai Indians",
         "bat",
         "Mumbai Indians",
         "Won"
        ],
        [
         598056,
         "Sunrisers Hyderabad",
         "field",
         "Chennai Super Kings",
         "Lost"
        ],
        [
         598057,
         "Rajasthan Royals",
         "field",
         "Rajasthan Royals",
         "Won"
        ],
        [
         598058,
         "Kolkata Knight Riders",
         "bat",
         "Kolkata Knight Riders",
         "Won"
        ],
        [
         598059,
         "Delhi Daredevils",
         "field",
         "Royal Challengers Bangalore",
         "Lost"
        ],
        [
         598060,
         "Pune Warriors",
         "bat",
         "Mumbai Indians",
         "Lost"
        ],
        [
         598061,
         "Kings XI Punjab",
         "field",
         "Sunrisers Hyderabad",
         "Lost"
        ],
        [
         598062,
         "Kolkata Knight Riders",
         "field",
         "Kolkata Knight Riders",
         "Won"
        ],
        [
         598063,
         "Rajasthan Royals",
         "field",
         "Rajasthan Royals",
         "Won"
        ],
        [
         598064,
         "Kings XI Punjab",
         "field",
         "Kings XI Punjab",
         "Won"
        ],
        [
         598065,
         "Sunrisers Hyderabad",
         "bat",
         "Mumbai Indians",
         "Lost"
        ],
        [
         598066,
         "Kolkata Knight Riders",
         "field",
         "Pune Warriors",
         "Lost"
        ],
        [
         598067,
         "Chennai Super Kings",
         "bat",
         "Chennai Super Kings",
         "Won"
        ],
        [
         598068,
         "Rajasthan Royals",
         "field",
         "Mumbai Indians",
         "Lost"
        ],
        [
         598069,
         "Kings XI Punjab",
         "field",
         "Kings XI Punjab",
         "Won"
        ],
        [
         598070,
         "Sunrisers Hyderabad",
         "bat",
         "Sunrisers Hyderabad",
         "Won"
        ],
        [
         598071,
         "Mumbai Indians",
         "field",
         "Kings XI Punjab",
         "Lost"
        ],
        [
         598072,
         "Pune Warriors",
         "bat",
         "Pune Warriors",
         "Won"
        ],
        [
         598073,
         "Chennai Super Kings",
         "field",
         "Royal Challengers Bangalore",
         "Lost"
        ],
        [
         598074,
         "Kolkata Knight Riders",
         "bat",
         "Sunrisers Hyderabad",
         "Lost"
        ],
        [
         598075,
         "Chennai Super Kings",
         "bat",
         "Chennai Super Kings",
         "Won"
        ],
        [
         598076,
         "Sunrisers Hyderabad",
         "bat",
         "Rajasthan Royals",
         "Lost"
        ],
        [
         598077,
         "Rajasthan Royals",
         "bat",
         "Mumbai Indians",
         "Lost"
        ],
        [
         598078,
         "Mumbai Indians",
         "bat",
         "Mumbai Indians",
         "Won"
        ],
        [
         729284,
         "Kolkata Knight Riders",
         "bat",
         "Kolkata Knight Riders",
         "Won"
        ],
        [
         729286,
         "Royal Challengers Bangalore",
         "field",
         "Royal Challengers Bangalore",
         "Won"
        ],
        [
         729288,
         "Chennai Super Kings",
         "bat",
         "Kings XI Punjab",
         "Lost"
        ],
        [
         729290,
         "Rajasthan Royals",
         "field",
         "Rajasthan Royals",
         "Won"
        ],
        [
         729292,
         "Royal Challengers Bangalore",
         "field",
         "Royal Challengers Bangalore",
         "Won"
        ],
        [
         729294,
         "Kolkata Knight Riders",
         "bat",
         "Delhi Daredevils",
         "Lost"
        ],
        [
         729296,
         "Kings XI Punjab",
         "field",
         "Kings XI Punjab",
         "Won"
        ],
        [
         729298,
         "Chennai Super Kings",
         "bat",
         "Chennai Super Kings",
         "Won"
        ],
        [
         729300,
         "Sunrisers Hyderabad",
         "field",
         "Kings XI Punjab",
         "Lost"
        ],
        [
         729302,
         "Rajasthan Royals",
         "field",
         "Chennai Super Kings",
         "Lost"
        ],
        [
         729304,
         "Royal Challengers Bangalore",
         "field",
         "Kolkata Knight Riders",
         "Lost"
        ],
        [
         729306,
         "Sunrisers Hyderabad",
         "bat",
         "Sunrisers Hyderabad",
         "Won"
        ],
        [
         729308,
         "Mumbai Indians",
         "bat",
         "Chennai Super Kings",
         "Lost"
        ],
        [
         729310,
         "Rajasthan Royals",
         "field",
         "Rajasthan Royals",
         "Won"
        ],
        [
         729312,
         "Kolkata Knight Riders",
         "field",
         "Kings XI Punjab",
         "Lost"
        ],
        [
         729314,
         "Mumbai Indians",
         "bat",
         "Delhi Daredevils",
         "Lost"
        ],
        [
         729316,
         "Sunrisers Hyderabad",
         "bat",
         "Chennai Super Kings",
         "Lost"
        ],
        [
         729318,
         "Kings XI Punjab",
         "field",
         "Kings XI Punjab",
         "Won"
        ],
        [
         729320,
         "Rajasthan Royals",
         "bat",
         "Rajasthan Royals",
         "Won"
        ],
        [
         729322,
         "Mumbai Indians",
         "field",
         "Sunrisers Hyderabad",
         "Lost"
        ],
        [
         733976,
         "Chennai Super Kings",
         "bat",
         "Chennai Super Kings",
         "Won"
        ],
        [
         733978,
         "Kings XI Punjab",
         "bat",
         "Mumbai Indians",
         "Lost"
        ],
        [
         733980,
         "Rajasthan Royals",
         "field",
         "Rajasthan Royals",
         "Won"
        ],
        [
         733982,
         "Royal Challengers Bangalore",
         "field",
         "Royal Challengers Bangalore",
         "Won"
        ],
        [
         733984,
         "Kolkata Knight Riders",
         "field",
         "Rajasthan Royals",
         "Lost"
        ],
        [
         733986,
         "Chennai Super Kings",
         "field",
         "Chennai Super Kings",
         "Won"
        ],
        [
         733988,
         "Royal Challengers Bangalore",
         "field",
         "Mumbai Indians",
         "Lost"
        ],
        [
         733990,
         "Delhi Daredevils",
         "bat",
         "Kolkata Knight Riders",
         "Lost"
        ],
        [
         733992,
         "Chennai Super Kings",
         "field",
         "Kings XI Punjab",
         "Lost"
        ],
        [
         733994,
         "Rajasthan Royals",
         "field",
         "Sunrisers Hyderabad",
         "Lost"
        ],
        [
         733996,
         "Royal Challengers Bangalore",
         "field",
         "Kings XI Punjab",
         "Lost"
        ],
        [
         733998,
         "Sunrisers Hyderabad",
         "field",
         "Sunrisers Hyderabad",
         "Won"
        ],
        [
         734000,
         "Chennai Super Kings",
         "field",
         "Chennai Super Kings",
         "Won"
        ],
        [
         734002,
         "Kolkata Knight Riders",
         "field",
         "Kolkata Knight Riders",
         "Won"
        ],
        [
         734004,
         "Royal Challengers Bangalore",
         "bat",
         "Rajasthan Royals",
         "Lost"
        ],
        [
         734006,
         "Sunrisers Hyderabad",
         "bat",
         "Mumbai Indians",
         "Lost"
        ],
        [
         734008,
         "Rajasthan Royals",
         "bat",
         "Chennai Super Kings",
         "Lost"
        ],
        [
         734010,
         "Delhi Daredevils",
         "field",
         "Royal Challengers Bangalore",
         "Lost"
        ],
        [
         734012,
         "Kings XI Punjab",
         "field",
         "Kings XI Punjab",
         "Won"
        ],
        [
         734014,
         "Kolkata Knight Riders",
         "field",
         "Kolkata Knight Riders",
         "Won"
        ],
        [
         734016,
         "Delhi Daredevils",
         "field",
         "Rajasthan Royals",
         "Lost"
        ],
        [
         734018,
         "Chennai Super Kings",
         "bat",
         "Royal Challengers Bangalore",
         "Lost"
        ],
        [
         734020,
         "Sunrisers Hyderabad",
         "bat",
         "Kolkata Knight Riders",
         "Lost"
        ],
        [
         734022,
         "Mumbai Indians",
         "bat",
         "Mumbai Indians",
         "Won"
        ],
        [
         734024,
         "Kings XI Punjab",
         "field",
         "Kings XI Punjab",
         "Won"
        ],
        [
         734026,
         "Royal Challengers Bangalore",
         "bat",
         "Sunrisers Hyderabad",
         "Lost"
        ],
        [
         734028,
         "Kolkata Knight Riders",
         "field",
         "Kolkata Knight Riders",
         "Won"
        ],
        [
         734030,
         "Mumbai Indians",
         "field",
         "Mumbai Indians",
         "Won"
        ],
        [
         734032,
         "Royal Challengers Bangalore",
         "field",
         "Kolkata Knight Riders",
         "Lost"
        ],
        [
         734034,
         "Sunrisers Hyderabad",
         "field",
         "Sunrisers Hyderabad",
         "Won"
        ],
        [
         734036,
         "Delhi Daredevils",
         "field",
         "Mumbai Indians",
         "Lost"
        ],
        [
         734038,
         "Rajasthan Royals",
         "field",
         "Kings XI Punjab",
         "Lost"
        ],
        [
         734040,
         "Chennai Super Kings",
         "field",
         "Chennai Super Kings",
         "Won"
        ],
        [
         734042,
         "Kolkata Knight Riders",
         "field",
         "Kolkata Knight Riders",
         "Won"
        ],
        [
         734044,
         "Kings XI Punjab",
         "field",
         "Kings XI Punjab",
         "Won"
        ],
        [
         734046,
         "Mumbai Indians",
         "field",
         "Mumbai Indians",
         "Won"
        ],
        [
         734048,
         "Kings XI Punjab",
         "field",
         "Kolkata Knight Riders",
         "Lost"
        ],
        [
         734050,
         "Chennai Super Kings",
         "field",
         "Chennai Super Kings",
         "Won"
        ],
        [
         734052,
         "Chennai Super Kings",
         "field",
         "Kings XI Punjab",
         "Lost"
        ],
        [
         734054,
         "Kolkata Knight Riders",
         "field",
         "Kolkata Knight Riders",
         "Won"
        ],
        [
         829710,
         "Kolkata Knight Riders",
         "field",
         "Kolkata Knight Riders",
         "Won"
        ],
        [
         829712,
         "Delhi Daredevils",
         "field",
         "Chennai Super Kings",
         "Lost"
        ],
        [
         829714,
         "Kings XI Punjab",
         "field",
         "Rajasthan Royals",
         "Lost"
        ],
        [
         829716,
         "Chennai Super Kings",
         "bat",
         "Chennai Super Kings",
         "Won"
        ],
        [
         829718,
         "Royal Challengers Bangalore",
         "field",
         "Royal Challengers Bangalore",
         "Won"
        ],
        [
         829720,
         "Rajasthan Royals",
         "field",
         "Rajasthan Royals",
         "Won"
        ],
        [
         829722,
         "Mumbai Indians",
         "field",
         "Kings XI Punjab",
         "Lost"
        ],
        [
         829724,
         "Sunrisers Hyderabad",
         "field",
         "Sunrisers Hyderabad",
         "Won"
        ],
        [
         829726,
         "Mumbai Indians",
         "bat",
         "Rajasthan Royals",
         "Lost"
        ],
        [
         829728,
         "Kolkata Knight Riders",
         "field",
         "Kolkata Knight Riders",
         "Won"
        ],
        [
         829730,
         "Kings XI Punjab",
         "bat",
         "Delhi Daredevils",
         "Lost"
        ],
        [
         829732,
         "Rajasthan Royals",
         "field",
         "Rajasthan Royals",
         "Won"
        ],
        [
         829734,
         "Mumbai Indians",
         "bat",
         "Chennai Super Kings",
         "Lost"
        ],
        [
         829736,
         "Delhi Daredevils",
         "bat",
         "Delhi Daredevils",
         "Won"
        ],
        [
         829738,
         "Kolkata Knight Riders",
         "field",
         "Kolkata Knight Riders",
         "Won"
        ],
        [
         829740,
         "Chennai Super Kings",
         "bat",
         "Rajasthan Royals",
         "Lost"
        ],
        [
         829742,
         "Royal Challengers Bangalore",
         "field",
         "Mumbai Indians",
         "Lost"
        ],
        [
         829744,
         "Kolkata Knight Riders",
         "field",
         "Kolkata Knight Riders",
         "Won"
        ],
        [
         829746,
         "Kings XI Punjab",
         "field",
         "Kings XI Punjab",
         "Won"
        ],
        [
         829748,
         "Kolkata Knight Riders",
         "field",
         "Sunrisers Hyderabad",
         "Lost"
        ],
        [
         829750,
         "Royal Challengers Bangalore",
         "field",
         "Chennai Super Kings",
         "Lost"
        ],
        [
         829752,
         "Mumbai Indians",
         "field",
         "Delhi Daredevils",
         "Lost"
        ],
        [
         829754,
         "Royal Challengers Bangalore",
         "field",
         "Royal Challengers Bangalore",
         "Won"
        ],
        [
         829756,
         "Mumbai Indians",
         "bat",
         "Mumbai Indians",
         "Won"
        ],
        [
         829758,
         "Chennai Super Kings",
         "bat",
         "Chennai Super Kings",
         "Won"
        ],
        [
         829762,
         "Royal Challengers Bangalore",
         "field",
         "Royal Challengers Bangalore",
         "Won"
        ],
        [
         829764,
         "Kings XI Punjab",
         "field",
         "Sunrisers Hyderabad",
         "Lost"
        ],
        [
         829766,
         "Kolkata Knight Riders",
         "bat",
         "Kolkata Knight Riders",
         "Won"
        ],
        [
         829768,
         "Rajasthan Royals",
         "field",
         "NULL",
         "Lost"
        ],
        [
         829770,
         "Kolkata Knight Riders",
         "field",
         "Chennai Super Kings",
         "Lost"
        ],
        [
         829772,
         "Delhi Daredevils",
         "field",
         "Delhi Daredevils",
         "Won"
        ],
        [
         829774,
         "Rajasthan Royals",
         "field",
         "Mumbai Indians",
         "Lost"
        ],
        [
         829776,
         "Royal Challengers Bangalore",
         "field",
         "Royal Challengers Bangalore",
         "Won"
        ],
        [
         829778,
         "Chennai Super Kings",
         "field",
         "Sunrisers Hyderabad",
         "Lost"
        ],
        [
         829780,
         "Mumbai Indians",
         "bat",
         "Mumbai Indians",
         "Won"
        ],
        [
         829782,
         "Delhi Daredevils",
         "field",
         "Rajasthan Royals",
         "Lost"
        ],
        [
         829784,
         "Chennai Super Kings",
         "bat",
         "Chennai Super Kings",
         "Won"
        ],
        [
         829786,
         "Sunrisers Hyderabad",
         "field",
         "Kolkata Knight Riders",
         "Lost"
        ],
        [
         829788,
         "Delhi Daredevils",
         "bat",
         "Mumbai Indians",
         "Lost"
        ],
        [
         829790,
         "Kings XI Punjab",
         "field",
         "Royal Challengers Bangalore",
         "Lost"
        ],
        [
         829792,
         "Rajasthan Royals",
         "field",
         "Sunrisers Hyderabad",
         "Lost"
        ],
        [
         829794,
         "Chennai Super Kings",
         "bat",
         "Mumbai Indians",
         "Lost"
        ],
        [
         829796,
         "Kings XI Punjab",
         "bat",
         "Kolkata Knight Riders",
         "Lost"
        ],
        [
         829798,
         "Sunrisers Hyderabad",
         "bat",
         "Sunrisers Hyderabad",
         "Won"
        ],
        [
         829800,
         "Royal Challengers Bangalore",
         "bat",
         "Royal Challengers Bangalore",
         "Won"
        ],
        [
         829802,
         "Chennai Super Kings",
         "bat",
         "Chennai Super Kings",
         "Won"
        ],
        [
         829804,
         "Sunrisers Hyderabad",
         "bat",
         "Sunrisers Hyderabad",
         "Won"
        ],
        [
         829806,
         "Chennai Super Kings",
         "bat",
         "Delhi Daredevils",
         "Lost"
        ],
        [
         829808,
         "Royal Challengers Bangalore",
         "field",
         "Kings XI Punjab",
         "Lost"
        ],
        [
         829810,
         "Kolkata Knight Riders",
         "field",
         "Mumbai Indians",
         "Lost"
        ],
        [
         829812,
         "Sunrisers Hyderabad",
         "bat",
         "Royal Challengers Bangalore",
         "Lost"
        ],
        [
         829814,
         "Kings XI Punjab",
         "bat",
         "Chennai Super Kings",
         "Lost"
        ],
        [
         829816,
         "Rajasthan Royals",
         "bat",
         "Rajasthan Royals",
         "Won"
        ],
        [
         829818,
         "Royal Challengers Bangalore",
         "field",
         "NULL",
         "Lost"
        ],
        [
         829820,
         "Sunrisers Hyderabad",
         "bat",
         "Mumbai Indians",
         "Lost"
        ],
        [
         829822,
         "Mumbai Indians",
         "bat",
         "Mumbai Indians",
         "Won"
        ],
        [
         829824,
         "Royal Challengers Bangalore",
         "bat",
         "Royal Challengers Bangalore",
         "Won"
        ],
        [
         829826,
         "Chennai Super Kings",
         "field",
         "Chennai Super Kings",
         "Won"
        ],
        [
         829828,
         "Chennai Super Kings",
         "field",
         "Mumbai Indians",
         "Lost"
        ],
        [
         980906,
         "Mumbai Indians",
         "bat",
         "Rising Pune Supergiants",
         "Lost"
        ],
        [
         980908,
         "Kolkata Knight Riders",
         "field",
         "Kolkata Knight Riders",
         "Won"
        ],
        [
         980910,
         "Gujarat Lions",
         "field",
         "Gujarat Lions",
         "Won"
        ],
        [
         980912,
         "Sunrisers Hyderabad",
         "field",
         "Royal Challengers Bangalore",
         "Lost"
        ],
        [
         980914,
         "Mumbai Indians",
         "field",
         "Mumbai Indians",
         "Won"
        ],
        [
         980916,
         "Rising Pune Supergiants",
         "bat",
         "Gujarat Lions",
         "Lost"
        ],
        [
         980918,
         "Delhi Daredevils",
         "field",
         "Delhi Daredevils",
         "Won"
        ],
        [
         980920,
         "Sunrisers Hyderabad",
         "bat",
         "Kolkata Knight Riders",
         "Lost"
        ],
        [
         980922,
         "Gujarat Lions",
         "field",
         "Gujarat Lions",
         "Won"
        ],
        [
         980924,
         "Rising Pune Supergiants",
         "bat",
         "Kings XI Punjab",
         "Lost"
        ],
        [
         980926,
         "Delhi Daredevils",
         "field",
         "Delhi Daredevils",
         "Won"
        ],
        [
         980928,
         "Sunrisers Hyderabad",
         "field",
         "Sunrisers Hyderabad",
         "Won"
        ],
        [
         980930,
         "Kolkata Knight Riders",
         "field",
         "Kolkata Knight Riders",
         "Won"
        ],
        [
         980932,
         "Mumbai Indians",
         "field",
         "Mumbai Indians",
         "Won"
        ],
        [
         980934,
         "Sunrisers Hyderabad",
         "field",
         "Sunrisers Hyderabad",
         "Won"
        ],
        [
         980936,
         "Rising Pune Supergiants",
         "field",
         "Royal Challengers Bangalore",
         "Lost"
        ],
        [
         980938,
         "Mumbai Indians",
         "field",
         "Delhi Daredevils",
         "Lost"
        ],
        [
         980940,
         "Sunrisers Hyderabad",
         "field",
         "Sunrisers Hyderabad",
         "Won"
        ],
        [
         980942,
         "Royal Challengers Bangalore",
         "bat",
         "Gujarat Lions",
         "Lost"
        ],
        [
         980944,
         "Kolkata Knight Riders",
         "field",
         "Kolkata Knight Riders",
         "Won"
        ],
        [
         980946,
         "Kings XI Punjab",
         "field",
         "Mumbai Indians",
         "Lost"
        ],
        [
         980948,
         "Rising Pune Supergiants",
         "field",
         "Rising Pune Supergiants",
         "Won"
        ],
        [
         980950,
         "Delhi Daredevils",
         "field",
         "Gujarat Lions",
         "Lost"
        ],
        [
         980952,
         "Mumbai Indians",
         "field",
         "Mumbai Indians",
         "Won"
        ],
        [
         980954,
         "Gujarat Lions",
         "field",
         "Gujarat Lions",
         "Won"
        ],
        [
         980956,
         "Kolkata Knight Riders",
         "field",
         "Delhi Daredevils",
         "Lost"
        ],
        [
         980958,
         "Royal Challengers Bangalore",
         "field",
         "Sunrisers Hyderabad",
         "Lost"
        ],
        [
         980960,
         "Gujarat Lions",
         "field",
         "Kings XI Punjab",
         "Lost"
        ],
        [
         980962,
         "Mumbai Indians",
         "field",
         "Mumbai Indians",
         "Won"
        ],
        [
         980964,
         "Kolkata Knight Riders",
         "field",
         "Kolkata Knight Riders",
         "Won"
        ],
        [
         980966,
         "Delhi Daredevils",
         "field",
         "Delhi Daredevils",
         "Won"
        ],
        [
         980968,
         "Kings XI Punjab",
         "field",
         "Kolkata Knight Riders",
         "Lost"
        ],
        [
         980970,
         "Rising Pune Supergiants",
         "field",
         "Rising Pune Supergiants",
         "Won"
        ],
        [
         980972,
         "Sunrisers Hyderabad",
         "field",
         "Sunrisers Hyderabad",
         "Won"
        ],
        [
         980974,
         "Royal Challengers Bangalore",
         "field",
         "Royal Challengers Bangalore",
         "Won"
        ],
        [
         980976,
         "Delhi Daredevils",
         "field",
         "Kings XI Punjab",
         "Lost"
        ],
        [
         980978,
         "Mumbai Indians",
         "field",
         "Sunrisers Hyderabad",
         "Lost"
        ],
        [
         980980,
         "Gujarat Lions",
         "field",
         "Gujarat Lions",
         "Won"
        ],
        [
         980982,
         "Kings XI Punjab",
         "field",
         "Royal Challengers Bangalore",
         "Lost"
        ],
        [
         980984,
         "Sunrisers Hyderabad",
         "bat",
         "Sunrisers Hyderabad",
         "Won"
        ],
        [
         980986,
         "Mumbai Indians",
         "field",
         "Mumbai Indians",
         "Won"
        ],
        [
         980988,
         "Delhi Daredevils",
         "field",
         "Delhi Daredevils",
         "Won"
        ],
        [
         980990,
         "Mumbai Indians",
         "bat",
         "Kings XI Punjab",
         "Lost"
        ],
        [
         980992,
         "Gujarat Lions",
         "field",
         "Royal Challengers Bangalore",
         "Lost"
        ],
        [
         980994,
         "Rising Pune Supergiants",
         "bat",
         "Kolkata Knight Riders",
         "Lost"
        ],
        [
         980996,
         "Kings XI Punjab",
         "bat",
         "Sunrisers Hyderabad",
         "Lost"
        ],
        [
         980998,
         "Delhi Daredevils",
         "field",
         "Mumbai Indians",
         "Lost"
        ],
        [
         981000,
         "Royal Challengers Bangalore",
         "field",
         "Royal Challengers Bangalore",
         "Won"
        ],
        [
         981002,
         "Rising Pune Supergiants",
         "field",
         "Rising Pune Supergiants",
         "Won"
        ],
        [
         981004,
         "Kings XI Punjab",
         "field",
         "Royal Challengers Bangalore",
         "Lost"
        ],
        [
         981006,
         "Gujarat Lions",
         "field",
         "Gujarat Lions",
         "Won"
        ],
        [
         981008,
         "Delhi Daredevils",
         "field",
         "Delhi Daredevils",
         "Won"
        ],
        [
         981010,
         "Kings XI Punjab",
         "bat",
         "Rising Pune Supergiants",
         "Lost"
        ],
        [
         981012,
         "Gujarat Lions",
         "field",
         "Gujarat Lions",
         "Won"
        ],
        [
         981014,
         "Sunrisers Hyderabad",
         "field",
         "Kolkata Knight Riders",
         "Lost"
        ],
        [
         981016,
         "Royal Challengers Bangalore",
         "field",
         "Royal Challengers Bangalore",
         "Won"
        ],
        [
         981018,
         "Royal Challengers Bangalore",
         "field",
         "Royal Challengers Bangalore",
         "Won"
        ],
        [
         981020,
         "Kolkata Knight Riders",
         "field",
         "Sunrisers Hyderabad",
         "Lost"
        ],
        [
         981022,
         "Sunrisers Hyderabad",
         "field",
         "Sunrisers Hyderabad",
         "Won"
        ],
        [
         981024,
         "Sunrisers Hyderabad",
         "bat",
         "Sunrisers Hyderabad",
         "Won"
        ],
        [
         1082591,
         "Royal Challengers Bangalore",
         "Field",
         "Sunrisers Hyderabad",
         "Lost"
        ],
        [
         1082592,
         "Rising Pune Supergiant",
         "Field",
         "Rising Pune Supergiants",
         "Lost"
        ],
        [
         1082593,
         "Kolkata Knight Riders",
         "Field",
         "Kolkata Knight Riders",
         "Won"
        ],
        [
         1082594,
         "Kings XI Punjab",
         "Field",
         "Kings XI Punjab",
         "Won"
        ],
        [
         1082595,
         "Royal Challengers Bangalore",
         "Bat",
         "Royal Challengers Bangalore",
         "Won"
        ],
        [
         1082596,
         "Sunrisers Hyderabad",
         "Field",
         "Sunrisers Hyderabad",
         "Won"
        ],
        [
         1082597,
         "Mumbai Indians",
         "Field",
         "Mumbai Indians",
         "Won"
        ],
        [
         1082598,
         "Royal Challengers Bangalore",
         "Bat",
         "Kings XI Punjab",
         "Lost"
        ],
        [
         1082599,
         "Rising Pune Supergiants",
         "Field",
         "Delhi Daredevils",
         "Lost"
        ],
        [
         1082600,
         "Mumbai Indians",
         "Field",
         "Mumbai Indians",
         "Won"
        ],
        [
         1082601,
         "Kolkata Knight Riders",
         "Field",
         "Kolkata Knight Riders",
         "Won"
        ],
        [
         1082602,
         "Mumbai Indians",
         "Field",
         "Mumbai Indians",
         "Won"
        ],
        [
         1082603,
         "Gujarat Lions",
         "Field",
         "Gujarat Lions",
         "Won"
        ],
        [
         1082604,
         "Sunrisers Hyderabad",
         "Field",
         "Kolkata Knight Riders",
         "Lost"
        ],
        [
         1082605,
         "Delhi Daredevils",
         "Bat",
         "Delhi Daredevils",
         "Won"
        ],
        [
         1082606,
         "Mumbai Indians",
         "Field",
         "Mumbai Indians",
         "Won"
        ],
        [
         1082607,
         "Royal Challengers Bangalore",
         "Field",
         "Rising Pune Supergiants",
         "Lost"
        ],
        [
         1082608,
         "Delhi Daredevils",
         "Bat",
         "Kolkata Knight Riders",
         "Lost"
        ],
        [
         1082609,
         "Kings XI Punjab",
         "Field",
         "Sunrisers Hyderabad",
         "Lost"
        ],
        [
         1082610,
         "Gujarat Lions",
         "Field",
         "Royal Challengers Bangalore",
         "Lost"
        ],
        [
         1082611,
         "Sunrisers Hyderabad",
         "Bat",
         "Sunrisers Hyderabad",
         "Won"
        ],
        [
         1082612,
         "Mumbai Indians",
         "Field",
         "Mumbai Indians",
         "Won"
        ],
        [
         1082613,
         "Gujarat Lions",
         "Field",
         "Gujarat Lions",
         "Won"
        ],
        [
         1082614,
         "Delhi Daredevils",
         "Field",
         "Mumbai Indians",
         "Lost"
        ],
        [
         1082615,
         "Rising Pune Supergiants",
         "Field",
         "Rising Pune Supergiants",
         "Won"
        ],
        [
         1082616,
         "Gujarat Lions",
         "Field",
         "Kings XI Punjab",
         "Lost"
        ],
        [
         1082617,
         "Royal Challengers Bangalore",
         "Field",
         "Kolkata Knight Riders",
         "Lost"
        ],
        [
         1082618,
         "Mumbai Indians",
         "Field",
         "Rising Pune Supergiants",
         "Lost"
        ],
        [
         1082619,
         null,
         "NA",
         "abandoned",
         "Lost"
        ],
        [
         1082620,
         "Kolkata Knight Riders",
         "Field",
         "Kolkata Knight Riders",
         "Won"
        ],
        [
         1082621,
         "Gujarat Lions",
         "Field",
         "Gujarat Lions",
         "Won"
        ],
        [
         1082622,
         "Kolkata Knight Riders",
         "Field",
         "Kolkata Knight Riders",
         "Won"
        ],
        [
         1082623,
         "Kings XI Punjab",
         "Field",
         "Sunrisers Hyderabad",
         "Lost"
        ],
        [
         1082624,
         "Royal Challengers Bangalore",
         "Field",
         "Rising Pune Supergiants",
         "Lost"
        ],
        [
         1082625,
         "Gujarat Lions",
         "Bat",
         "tied",
         "Lost"
        ],
        [
         1082626,
         "Kings XI Punjab",
         "Field",
         "Kings XI Punjab",
         "Won"
        ],
        [
         1082627,
         "Kolkata Knight Riders",
         "Field",
         "Sunrisers Hyderabad",
         "Lost"
        ],
        [
         1082628,
         "Royal Challengers Bangalore",
         "Bat",
         "Mumbai Indians",
         "Lost"
        ],
        [
         1082629,
         "Rising Pune Supergiants",
         "Field",
         "Rising Pune Supergiants",
         "Won"
        ],
        [
         1082630,
         "Delhi Daredevils",
         "Field",
         "Delhi Daredevils",
         "Won"
        ],
        [
         1082631,
         "Rising Pune Supergiants",
         "Field",
         "Rising Pune Supergiants",
         "Won"
        ],
        [
         1082632,
         "Delhi Daredevils",
         "Field",
         "Delhi Daredevils",
         "Won"
        ],
        [
         1082633,
         "Royal Challengers Bangalore",
         "Field",
         "Kings XI Punjab",
         "Lost"
        ],
        [
         1082634,
         "Sunrisers Hyderabad",
         "Field",
         "Rising Pune Supergiants",
         "Lost"
        ],
        [
         1082635,
         "Delhi Daredevils",
         "Field",
         "Mumbai Indians",
         "Lost"
        ],
        [
         1082636,
         "Kolkata Knight Riders",
         "Field",
         "Kolkata Knight Riders",
         "Won"
        ],
        [
         1082637,
         "Gujarat Lions",
         "Field",
         "Gujarat Lions",
         "Won"
        ],
        [
         1082638,
         "Mumbai Indians",
         "Bat",
         "Sunrisers Hyderabad",
         "Lost"
        ],
        [
         1082639,
         "Kolkata Knight Riders",
         "Field",
         "Kings XI Punjab",
         "Lost"
        ],
        [
         1082640,
         "Delhi Daredevils",
         "Field",
         "Delhi Daredevils",
         "Won"
        ],
        [
         1082641,
         "Mumbai Indians",
         "Field",
         "Kings XI Punjab",
         "Lost"
        ],
        [
         1082642,
         "Delhi Daredevils",
         "Bat",
         "Delhi Daredevils",
         "Won"
        ],
        [
         1082643,
         "Sunrisers Hyderabad",
         "Field",
         "Sunrisers Hyderabad",
         "Won"
        ],
        [
         1082644,
         "Kolkata Knight Riders",
         "Field",
         "Mumbai Indians",
         "Lost"
        ],
        [
         1082645,
         "Rising Pune Supergiants",
         "Field",
         "Rising Pune Supergiants",
         "Won"
        ],
        [
         1082646,
         "Royal Challengers Bangalore",
         "Bat",
         "Royal Challengers Bangalore",
         "Won"
        ],
        [
         1082647,
         "Mumbai Indians",
         "Field",
         "Rising Pune Supergiants",
         "Lost"
        ],
        [
         1082648,
         "Kolkata Knight Riders",
         "Field",
         "Kolkata Knight Riders",
         "Won"
        ],
        [
         1082649,
         "Mumbai Indians",
         "Field",
         "Mumbai Indians",
         "Won"
        ],
        [
         1082650,
         "Mumbai Indians",
         "Bat",
         "Mumbai Indians",
         "Won"
        ]
       ],
       "datasetInfos": [],
       "dbfsResultPath": null,
       "isJsonSchema": true,
       "metadata": {},
       "overflow": false,
       "plotOptions": {
        "customPlotOptions": {},
        "displayType": "table",
        "pivotAggregation": null,
        "pivotColumns": null,
        "xColumns": null,
        "yColumns": null
       },
       "removedWidgets": [],
       "schema": [
        {
         "metadata": "{}",
         "name": "match_id",
         "type": "\"integer\""
        },
        {
         "metadata": "{}",
         "name": "toss_winner",
         "type": "\"string\""
        },
        {
         "metadata": "{}",
         "name": "toss_name",
         "type": "\"string\""
        },
        {
         "metadata": "{}",
         "name": "match_winner",
         "type": "\"string\""
        },
        {
         "metadata": "{}",
         "name": "match_outcome",
         "type": "\"string\""
        }
       ],
       "type": "table"
      }
     },
     "output_type": "display_data"
    }
   ],
   "source": [
    "%sql\n",
    "--toss_impact_individual_matches\n",
    "SELECT \n",
    "    m.match_id, \n",
    "    m.toss_winner, \n",
    "    m.toss_name, \n",
    "    m.match_winner,\n",
    "    CASE WHEN m.toss_winner = m.match_winner THEN 'Won' ELSE 'Lost' END AS match_outcome\n",
    "FROM \n",
    "    IPL_DATA_Warehouse.match m\n",
    "WHERE \n",
    "    m.toss_name IS NOT NULL\n",
    "ORDER BY \n",
    "    m.match_id;\n"
   ]
  },
  {
   "cell_type": "code",
   "execution_count": 0,
   "metadata": {
    "application/vnd.databricks.v1+cell": {
     "cellMetadata": {
      "byteLimit": 2048000,
      "implicitDf": true,
      "rowLimit": 10000
     },
     "inputWidgets": {},
     "nuid": "606fcb9f-dae4-472f-bb75-5c67a1dd163e",
     "showTitle": false,
     "title": ""
    }
   },
   "outputs": [
    {
     "output_type": "display_data",
     "data": {
      "text/html": [
       "<style scoped>\n",
       "  .table-result-container {\n",
       "    max-height: 300px;\n",
       "    overflow: auto;\n",
       "  }\n",
       "  table, th, td {\n",
       "    border: 1px solid black;\n",
       "    border-collapse: collapse;\n",
       "  }\n",
       "  th, td {\n",
       "    padding: 5px;\n",
       "  }\n",
       "  th {\n",
       "    text-align: left;\n",
       "  }\n",
       "</style><div class='table-result-container'><table class='table-result'><thead style='background-color: white'><tr><th>player_name</th><th>avg_runs_in_wins</th><th>innings_played</th></tr></thead><tbody><tr><td>anirudh singh</td><td>0.0</td><td>1</td></tr><tr><td>sn thakur</td><td>0.0</td><td>2</td></tr><tr><td>j theron</td><td>0.0</td><td>1</td></tr><tr><td>vr aaron</td><td>0.0</td><td>5</td></tr><tr><td>a nehra</td><td>0.0</td><td>2</td></tr><tr><td>jj bumrah</td><td>0.0</td><td>2</td></tr><tr><td>i sharma</td><td>0.0</td><td>1</td></tr><tr><td>kp appanna</td><td>0.0</td><td>1</td></tr><tr><td>ts mills</td><td>0.0</td><td>3</td></tr><tr><td>t thushara</td><td>0.2</td><td>5</td></tr><tr><td>sa abbott</td><td>0.25</td><td>4</td></tr><tr><td>yashpal singh</td><td>0.3157894736842105</td><td>19</td></tr><tr><td>s sreesanth</td><td>0.3333333333333333</td><td>3</td></tr><tr><td>kc cariappa</td><td>0.3333333333333333</td><td>3</td></tr><tr><td>jd unadkat</td><td>0.4</td><td>5</td></tr><tr><td>sm harwood</td><td>0.42857142857142855</td><td>7</td></tr><tr><td>washington sundar</td><td>0.5</td><td>8</td></tr><tr><td>m de lange</td><td>0.5</td><td>2</td></tr><tr><td>b kumar</td><td>0.5</td><td>10</td></tr><tr><td>r shukla</td><td>0.5</td><td>2</td></tr><tr><td>sandeep sharma</td><td>0.5</td><td>6</td></tr><tr><td>jm kemp</td><td>0.5</td><td>8</td></tr><tr><td>kuldeep yadav</td><td>0.5714285714285714</td><td>7</td></tr><tr><td>rr rossouw</td><td>0.6086956521739131</td><td>23</td></tr><tr><td>l balaji</td><td>0.6153846153846154</td><td>13</td></tr><tr><td>ma starc</td><td>0.625</td><td>8</td></tr><tr><td>wd parnell</td><td>0.631578947368421</td><td>19</td></tr><tr><td>pp ojha</td><td>0.6666666666666666</td><td>6</td></tr><tr><td>mohammad nabi</td><td>0.6666666666666666</td><td>3</td></tr><tr><td>nm coulternile</td><td>0.6666666666666666</td><td>3</td></tr><tr><td>wa mota</td><td>0.6774193548387096</td><td>31</td></tr><tr><td>aa bilakhia</td><td>0.6829268292682927</td><td>41</td></tr><tr><td>p dogra</td><td>0.7142857142857143</td><td>21</td></tr><tr><td>m rawat</td><td>0.7272727272727273</td><td>11</td></tr><tr><td>jds neesham</td><td>0.7272727272727273</td><td>11</td></tr><tr><td>rt ponting</td><td>0.7407407407407407</td><td>54</td></tr><tr><td>a kumble</td><td>0.75</td><td>4</td></tr><tr><td>ms wade</td><td>0.75</td><td>4</td></tr><tr><td>tm srivastava</td><td>0.7777777777777778</td><td>9</td></tr><tr><td>c madan</td><td>0.7777777777777778</td><td>18</td></tr><tr><td>sl malinga</td><td>0.7894736842105263</td><td>19</td></tr><tr><td>mr marsh</td><td>0.8</td><td>40</td></tr><tr><td>m muralitharan</td><td>0.8</td><td>5</td></tr><tr><td>fh edwards</td><td>0.8</td><td>5</td></tr><tr><td>z khan</td><td>0.8</td><td>5</td></tr><tr><td>yv takawale</td><td>0.8070175438596491</td><td>57</td></tr><tr><td>dj thornely</td><td>0.8125</td><td>48</td></tr><tr><td>cr woakes</td><td>0.8148148148148148</td><td>27</td></tr><tr><td>jdp oram</td><td>0.8541666666666666</td><td>48</td></tr><tr><td>a chopra</td><td>0.8541666666666666</td><td>48</td></tr><tr><td>mohammed shami</td><td>0.8571428571428571</td><td>7</td></tr><tr><td>vishnu vinod</td><td>0.8571428571428571</td><td>14</td></tr><tr><td>ss shaikh</td><td>0.8571428571428571</td><td>7</td></tr><tr><td>cj ferguson</td><td>0.8780487804878049</td><td>41</td></tr><tr><td>rr powar</td><td>0.8823529411764706</td><td>17</td></tr><tr><td>ck kapugedera</td><td>0.8888888888888888</td><td>9</td></tr><tr><td>sd chitnis</td><td>0.8947368421052632</td><td>38</td></tr><tr><td>k goel</td><td>0.9032258064516129</td><td>62</td></tr><tr><td>gh vihari</td><td>0.9090909090909091</td><td>220</td></tr><tr><td>dt christian</td><td>0.9108910891089109</td><td>101</td></tr><tr><td>s sriram</td><td>0.9310344827586207</td><td>29</td></tr><tr><td>mm sharma</td><td>0.9375</td><td>16</td></tr><tr><td>gr napier</td><td>0.9375</td><td>16</td></tr><tr><td>c de grandhomme</td><td>0.9411764705882353</td><td>34</td></tr><tr><td>sp goswami</td><td>0.95</td><td>120</td></tr><tr><td>ab agarkar</td><td>0.9545454545454546</td><td>22</td></tr><tr><td>ca pujara</td><td>0.956140350877193</td><td>228</td></tr><tr><td>r mclaren</td><td>0.9571428571428572</td><td>70</td></tr><tr><td>ag paunikar</td><td>0.96</td><td>25</td></tr><tr><td>kb arun karthik</td><td>0.9615384615384616</td><td>26</td></tr><tr><td>pa reddy</td><td>0.9618320610687023</td><td>131</td></tr><tr><td>r ashwin</td><td>0.9625</td><td>80</td></tr><tr><td>ad mascarenhas</td><td>0.972972972972973</td><td>37</td></tr><tr><td>dl vettori</td><td>0.9767441860465116</td><td>43</td></tr><tr><td>swapnil singh</td><td>1.0</td><td>2</td></tr><tr><td>b sumanth</td><td>1.0</td><td>19</td></tr><tr><td>t kohli</td><td>1.0</td><td>3</td></tr><tr><td>s rana</td><td>1.0</td><td>16</td></tr><tr><td>jaskaran singh</td><td>1.0</td><td>3</td></tr><tr><td>sw tait</td><td>1.0</td><td>1</td></tr><tr><td>s narwal</td><td>1.0</td><td>2</td></tr><tr><td>d salunkhe</td><td>1.0</td><td>1</td></tr><tr><td>rr sarwan</td><td>1.0</td><td>53</td></tr><tr><td>ir jaggi</td><td>1.0</td><td>15</td></tr><tr><td>rr raje</td><td>1.0</td><td>7</td></tr><tr><td>jo holder</td><td>1.0</td><td>3</td></tr><tr><td>bb sran</td><td>1.0</td><td>1</td></tr><tr><td>m morkel</td><td>1.0</td><td>7</td></tr><tr><td>ap dole</td><td>1.0</td><td>4</td></tr><tr><td>gb hogg</td><td>1.0</td><td>5</td></tr><tr><td>ishan kishan</td><td>1.0333333333333334</td><td>60</td></tr><tr><td>mn samuels</td><td>1.036144578313253</td><td>83</td></tr><tr><td>m klinger</td><td>1.0454545454545454</td><td>44</td></tr><tr><td>misbahulhaq</td><td>1.0512820512820513</td><td>39</td></tr><tr><td>jec franklin</td><td>1.0542168674698795</td><td>166</td></tr><tr><td>db das</td><td>1.0555555555555556</td><td>36</td></tr><tr><td>kv sharma</td><td>1.056338028169014</td><td>71</td></tr><tr><td>ds lehmann</td><td>1.0625</td><td>16</td></tr><tr><td>rj peterson</td><td>1.0714285714285714</td><td>28</td></tr><tr><td>sb styris</td><td>1.0784313725490196</td><td>51</td></tr><tr><td>ubt chand</td><td>1.0802919708029197</td><td>137</td></tr><tr><td>cm gautam</td><td>1.0847457627118644</td><td>59</td></tr><tr><td>bb samantray</td><td>1.09</td><td>100</td></tr><tr><td>ad nath</td><td>1.0909090909090908</td><td>11</td></tr><tr><td>ab barath</td><td>1.09375</td><td>32</td></tr><tr><td>nk patel</td><td>1.0952380952380953</td><td>42</td></tr><tr><td>m manhas</td><td>1.0986842105263157</td><td>152</td></tr><tr><td>s gopal</td><td>1.1</td><td>10</td></tr><tr><td>rs bopara</td><td>1.104</td><td>125</td></tr><tr><td>n saini</td><td>1.108433734939759</td><td>83</td></tr><tr><td>br dunk</td><td>1.1111111111111112</td><td>18</td></tr><tr><td>vvs laxman</td><td>1.1142857142857143</td><td>70</td></tr><tr><td>jh kallis</td><td>1.115036976170912</td><td>1217</td></tr><tr><td>w jaffer</td><td>1.12</td><td>50</td></tr><tr><td>r dhawan</td><td>1.1228070175438596</td><td>57</td></tr><tr><td>sk warne</td><td>1.123076923076923</td><td>65</td></tr><tr><td>mohammad hafeez</td><td>1.125</td><td>16</td></tr><tr><td>sachin baby</td><td>1.125</td><td>40</td></tr><tr><td>salman butt</td><td>1.1343283582089552</td><td>67</td></tr><tr><td>r dravid</td><td>1.1356993736951984</td><td>958</td></tr><tr><td>y nagar</td><td>1.1379310344827587</td><td>87</td></tr><tr><td>m kaif</td><td>1.1412429378531073</td><td>177</td></tr><tr><td>ms bisla</td><td>1.1415094339622642</td><td>318</td></tr><tr><td>y venugopal rao</td><td>1.1418439716312057</td><td>141</td></tr><tr><td>nj maddinson</td><td>1.1428571428571428</td><td>14</td></tr><tr><td>ut khawaja</td><td>1.144927536231884</td><td>69</td></tr><tr><td>djg sammy</td><td>1.1466666666666667</td><td>75</td></tr><tr><td>s sohal</td><td>1.150259067357513</td><td>193</td></tr><tr><td>iqbal abdulla</td><td>1.1515151515151516</td><td>33</td></tr><tr><td>lr shukla</td><td>1.1568627450980393</td><td>102</td></tr><tr><td>fy fazal</td><td>1.1610169491525424</td><td>118</td></tr><tr><td>hh gibbs</td><td>1.1615384615384616</td><td>390</td></tr><tr><td>mj guptill</td><td>1.1647058823529413</td><td>85</td></tr><tr><td>mdkj perera</td><td>1.1666666666666667</td><td>12</td></tr><tr><td>mg johnson</td><td>1.1688311688311688</td><td>77</td></tr><tr><td>pa patel</td><td>1.1779816513761467</td><td>1090</td></tr><tr><td>al menaria</td><td>1.1805555555555556</td><td>144</td></tr><tr><td>gc smith</td><td>1.189753320683112</td><td>527</td></tr><tr><td>am nayar</td><td>1.1911764705882353</td><td>136</td></tr><tr><td>t taibu</td><td>1.1923076923076923</td><td>26</td></tr><tr><td>rj quiney</td><td>1.196078431372549</td><td>51</td></tr><tr><td>a mithun</td><td>1.2</td><td>5</td></tr><tr><td>wpujc vaas</td><td>1.2</td><td>35</td></tr><tr><td>tr birt</td><td>1.2</td><td>20</td></tr><tr><td>dm bravo</td><td>1.2</td><td>5</td></tr><tr><td>ik pathan</td><td>1.2043343653250773</td><td>323</td></tr><tr><td>cl white</td><td>1.2116788321167884</td><td>274</td></tr><tr><td>tm dilshan</td><td>1.212962962962963</td><td>648</td></tr><tr><td>re van der merwe</td><td>1.2131147540983607</td><td>61</td></tr><tr><td>dj hussey</td><td>1.2234513274336283</td><td>452</td></tr><tr><td>re levi</td><td>1.2238805970149254</td><td>67</td></tr><tr><td>s badrinath</td><td>1.2274011299435028</td><td>708</td></tr><tr><td>ss tiwary</td><td>1.2280071813285458</td><td>557</td></tr><tr><td>mp stoinis</td><td>1.2285714285714286</td><td>70</td></tr><tr><td>mk tiwary</td><td>1.2296296296296296</td><td>675</td></tr><tr><td>sv samson</td><td>1.232258064516129</td><td>620</td></tr><tr><td>sc ganguly</td><td>1.2327272727272727</td><td>550</td></tr><tr><td>sr tendulkar</td><td>1.2358258011503698</td><td>1217</td></tr><tr><td>lrpl taylor</td><td>1.2375366568914956</td><td>341</td></tr><tr><td>dw steyn</td><td>1.2380952380952381</td><td>21</td></tr><tr><td>f du plessis</td><td>1.2434108527131782</td><td>645</td></tr><tr><td>md mishra</td><td>1.2439024390243902</td><td>123</td></tr><tr><td>am rahane</td><td>1.246719160104987</td><td>1524</td></tr><tr><td>kc sangakkara</td><td>1.2490322580645161</td><td>775</td></tr><tr><td>s dhawan</td><td>1.2491803278688525</td><td>1525</td></tr><tr><td>c munro</td><td>1.25</td><td>8</td></tr><tr><td>rv gomez</td><td>1.25</td><td>12</td></tr><tr><td>dj jacobs</td><td>1.25</td><td>52</td></tr><tr><td>sk trivedi</td><td>1.25</td><td>8</td></tr><tr><td>mk pandey</td><td>1.250251256281407</td><td>995</td></tr><tr><td>q de kock</td><td>1.2554112554112553</td><td>231</td></tr><tr><td>g gambhir</td><td>1.2598743267504489</td><td>2228</td></tr><tr><td>r sharma</td><td>1.263157894736842</td><td>19</td></tr><tr><td>r vinay kumar</td><td>1.263157894736842</td><td>38</td></tr><tr><td>nv ojha</td><td>1.2776801405975395</td><td>569</td></tr><tr><td>rp singh</td><td>1.2857142857142858</td><td>7</td></tr><tr><td>d wiese</td><td>1.2857142857142858</td><td>7</td></tr><tr><td>r bishnoi</td><td>1.2857142857142858</td><td>14</td></tr><tr><td>aa jhunjhunwala</td><td>1.2884615384615385</td><td>52</td></tr><tr><td>p kumar</td><td>1.2884615384615385</td><td>52</td></tr><tr><td>shakib al hasan</td><td>1.2908163265306123</td><td>196</td></tr><tr><td>ma agarwal</td><td>1.29296875</td><td>256</td></tr><tr><td>m vijay</td><td>1.2937956204379562</td><td>1096</td></tr><tr><td>tl suman</td><td>1.295031055900621</td><td>322</td></tr><tr><td>gurkeerat singh</td><td>1.2954545454545454</td><td>44</td></tr><tr><td>hm amla</td><td>1.2966101694915255</td><td>118</td></tr><tr><td>dpmd jayawardene</td><td>1.2982195845697329</td><td>674</td></tr><tr><td>jp duminy</td><td>1.2984293193717278</td><td>573</td></tr><tr><td>mc henriques</td><td>1.3011494252873563</td><td>435</td></tr><tr><td>lmp simmons</td><td>1.3045602605863191</td><td>614</td></tr><tr><td>sm katich</td><td>1.309090909090909</td><td>110</td></tr><tr><td>ra jadeja</td><td>1.312829525483304</td><td>569</td></tr><tr><td>sohail tanvir</td><td>1.3181818181818181</td><td>22</td></tr><tr><td>mek hussey</td><td>1.322502030869212</td><td>1231</td></tr><tr><td>kl rahul</td><td>1.325358851674641</td><td>209</td></tr><tr><td>at rayudu</td><td>1.3313407344150299</td><td>1171</td></tr><tr><td>n rana</td><td>1.3316582914572865</td><td>199</td></tr><tr><td>r sathish</td><td>1.3333333333333333</td><td>93</td></tr><tr><td>pankaj singh</td><td>1.3333333333333333</td><td>3</td></tr><tr><td>b lee</td><td>1.3333333333333333</td><td>30</td></tr><tr><td>mm patel</td><td>1.3333333333333333</td><td>3</td></tr><tr><td>str binny</td><td>1.337837837837838</td><td>222</td></tr><tr><td>mandeep singh</td><td>1.3386773547094188</td><td>499</td></tr><tr><td>la carseldine</td><td>1.3404255319148937</td><td>47</td></tr><tr><td>jd ryder</td><td>1.3443396226415094</td><td>212</td></tr><tr><td>ml hayden</td><td>1.3457943925233644</td><td>535</td></tr><tr><td>kd karthik</td><td>1.3493493493493494</td><td>999</td></tr><tr><td>j botha</td><td>1.3535911602209945</td><td>181</td></tr><tr><td>b chipli</td><td>1.3571428571428572</td><td>70</td></tr><tr><td>se marsh</td><td>1.3581780538302277</td><td>966</td></tr><tr><td>kk nair</td><td>1.3612774451097804</td><td>501</td></tr><tr><td>rg sharma</td><td>1.3657482441923285</td><td>1851</td></tr><tr><td>gj bailey</td><td>1.3692307692307693</td><td>195</td></tr><tr><td>yuvraj singh</td><td>1.3751600512163893</td><td>781</td></tr><tr><td>v kohli</td><td>1.3827667057444315</td><td>1706</td></tr><tr><td>j syed mohammad</td><td>1.3846153846153846</td><td>13</td></tr><tr><td>sa asnodkar</td><td>1.3872549019607843</td><td>204</td></tr><tr><td>bb mccullum</td><td>1.3884034948371724</td><td>1259</td></tr><tr><td>ks williamson</td><td>1.39</td><td>200</td></tr><tr><td>a symonds</td><td>1.3905817174515236</td><td>361</td></tr><tr><td>v shankar</td><td>1.3928571428571428</td><td>56</td></tr><tr><td>mv boucher</td><td>1.3936170212765957</td><td>94</td></tr><tr><td>rv uthappa</td><td>1.3964886613021215</td><td>1367</td></tr><tr><td>ss iyer</td><td>1.4</td><td>330</td></tr><tr><td>r bhatia</td><td>1.4</td><td>50</td></tr><tr><td>s anirudha</td><td>1.4022988505747127</td><td>87</td></tr><tr><td>dr smith</td><td>1.4073059360730593</td><td>1095</td></tr><tr><td>db ravi teja</td><td>1.408450704225352</td><td>71</td></tr><tr><td>m kartik</td><td>1.4090909090909092</td><td>22</td></tr><tr><td>wp saha</td><td>1.41010101010101</td><td>495</td></tr><tr><td>ejg morgan</td><td>1.4115226337448559</td><td>243</td></tr><tr><td>ar patel</td><td>1.412121212121212</td><td>165</td></tr><tr><td>nltc perera</td><td>1.4128440366972477</td><td>109</td></tr><tr><td>sk raina</td><td>1.4242723236309818</td><td>2027</td></tr><tr><td>sa yadav</td><td>1.4272300469483568</td><td>213</td></tr><tr><td>hv patel</td><td>1.4285714285714286</td><td>7</td></tr><tr><td>a ashish reddy</td><td>1.435897435897436</td><td>78</td></tr><tr><td>bj hodge</td><td>1.4373576309794989</td><td>439</td></tr><tr><td>bj rohrer</td><td>1.4375</td><td>16</td></tr><tr><td>dj bravo</td><td>1.4395886889460154</td><td>389</td></tr><tr><td>ra tripathi</td><td>1.4423076923076923</td><td>208</td></tr><tr><td>azhar mahmood</td><td>1.4444444444444444</td><td>162</td></tr><tr><td>kamran akmal</td><td>1.4492753623188406</td><td>69</td></tr><tr><td>as raut</td><td>1.45</td><td>40</td></tr><tr><td>dh yagnik</td><td>1.45</td><td>40</td></tr><tr><td>spd smith</td><td>1.45010183299389</td><td>491</td></tr><tr><td>pc valthaty</td><td>1.4522821576763485</td><td>241</td></tr><tr><td>tm head</td><td>1.4545454545454546</td><td>33</td></tr><tr><td>s chanderpaul</td><td>1.4545454545454546</td><td>11</td></tr><tr><td>pd collingwood</td><td>1.4545454545454546</td><td>99</td></tr><tr><td>m vohra</td><td>1.4548286604361371</td><td>321</td></tr><tr><td>rj harris</td><td>1.4583333333333333</td><td>24</td></tr><tr><td>ab mcdonald</td><td>1.4583333333333333</td><td>48</td></tr><tr><td>ba stokes</td><td>1.4609929078014185</td><td>141</td></tr><tr><td>aj finch</td><td>1.4744525547445255</td><td>548</td></tr><tr><td>kp pietersen</td><td>1.4829545454545454</td><td>352</td></tr><tr><td>jr hopes</td><td>1.4835164835164836</td><td>91</td></tr><tr><td>la pomersbach</td><td>1.4850746268656716</td><td>134</td></tr><tr><td>sp fleming</td><td>1.4918032786885247</td><td>61</td></tr><tr><td>pp chawla</td><td>1.4932432432432432</td><td>148</td></tr><tr><td>ms dhoni</td><td>1.4942837928715536</td><td>1487</td></tr><tr><td>sw billings</td><td>1.4943820224719102</td><td>89</td></tr><tr><td>ut yadav</td><td>1.5</td><td>6</td></tr><tr><td>shoaib malik</td><td>1.5</td><td>4</td></tr><tr><td>sj srivastava</td><td>1.5</td><td>2</td></tr><tr><td>b akhil</td><td>1.5</td><td>30</td></tr><tr><td>r rampaul</td><td>1.5</td><td>8</td></tr><tr><td>sr watson</td><td>1.5038022813688212</td><td>1052</td></tr><tr><td>rn ten doeschate</td><td>1.5056179775280898</td><td>89</td></tr><tr><td>oa shah</td><td>1.5130434782608695</td><td>115</td></tr><tr><td>ad mathews</td><td>1.5333333333333334</td><td>135</td></tr><tr><td>km jadhav</td><td>1.5459770114942528</td><td>174</td></tr><tr><td>ac gilchrist</td><td>1.546195652173913</td><td>736</td></tr><tr><td>kh pandya</td><td>1.5567567567567568</td><td>185</td></tr><tr><td>da miller</td><td>1.5568760611205432</td><td>589</td></tr><tr><td>ap tare</td><td>1.5596330275229358</td><td>109</td></tr><tr><td>yk pathan</td><td>1.5617173524150267</td><td>1118</td></tr><tr><td>da warner</td><td>1.562062380649268</td><td>1571</td></tr><tr><td>a mishra</td><td>1.5625</td><td>64</td></tr><tr><td>sunny singh</td><td>1.5625</td><td>16</td></tr><tr><td>ac voges</td><td>1.5692307692307692</td><td>65</td></tr><tr><td>ka pollard</td><td>1.5715800636267232</td><td>943</td></tr><tr><td>s vidyut</td><td>1.588235294117647</td><td>34</td></tr><tr><td>ac blizzard</td><td>1.5932203389830508</td><td>59</td></tr><tr><td>ab de villiers</td><td>1.6052227342549923</td><td>1302</td></tr><tr><td>mf maharoof</td><td>1.606060606060606</td><td>33</td></tr><tr><td>harbhajan singh</td><td>1.6136363636363635</td><td>176</td></tr><tr><td>mj lumb</td><td>1.621212121212121</td><td>132</td></tr><tr><td>sb jakati</td><td>1.625</td><td>8</td></tr><tr><td>jp faulkner</td><td>1.625</td><td>136</td></tr><tr><td>jc buttler</td><td>1.641350210970464</td><td>237</td></tr><tr><td>ch gayle</td><td>1.6428571428571428</td><td>1442</td></tr><tr><td>dj hooda</td><td>1.644736842105263</td><td>152</td></tr><tr><td>st jayasuriya</td><td>1.6453900709219857</td><td>282</td></tr><tr><td>p negi</td><td>1.6585365853658536</td><td>41</td></tr><tr><td>ja morkel</td><td>1.6650717703349283</td><td>209</td></tr><tr><td>j suchith</td><td>1.6666666666666667</td><td>6</td></tr><tr><td>rr pant</td><td>1.6869158878504673</td><td>214</td></tr><tr><td>cj anderson</td><td>1.6896551724137931</td><td>145</td></tr><tr><td>v sehwag</td><td>1.6907894736842106</td><td>1064</td></tr><tr><td>a flintoff</td><td>1.6923076923076923</td><td>13</td></tr><tr><td>hh pandya</td><td>1.695364238410596</td><td>151</td></tr><tr><td>ad russell</td><td>1.7142857142857142</td><td>147</td></tr><tr><td>tg southee</td><td>1.75</td><td>4</td></tr><tr><td>bipul sharma</td><td>1.775</td><td>40</td></tr><tr><td>auk pathan</td><td>1.7777777777777777</td><td>9</td></tr><tr><td>kk cooper</td><td>1.8148148148148149</td><td>27</td></tr><tr><td>lj wright</td><td>1.8181818181818181</td><td>22</td></tr><tr><td>ca lynn</td><td>1.8376068376068375</td><td>117</td></tr><tr><td>sp narine</td><td>1.8522727272727273</td><td>88</td></tr><tr><td>gj maxwell</td><td>1.8548387096774193</td><td>434</td></tr><tr><td>r tewatia</td><td>1.875</td><td>8</td></tr><tr><td>pj cummins</td><td>1.88</td><td>25</td></tr><tr><td>bcj cutting</td><td>1.934782608695652</td><td>46</td></tr><tr><td>ch morris</td><td>1.9607843137254901</td><td>51</td></tr><tr><td>cr brathwaite</td><td>1.9642857142857142</td><td>28</td></tr><tr><td>mj mcclenaghan</td><td>2.0</td><td>11</td></tr><tr><td>shivam sharma</td><td>2.0</td><td>2</td></tr><tr><td>pr shah</td><td>2.0</td><td>4</td></tr><tr><td>vrv singh</td><td>2.0</td><td>2</td></tr><tr><td>ds kulkarni</td><td>2.0</td><td>3</td></tr><tr><td>rs sodhi</td><td>2.0</td><td>2</td></tr><tr><td>ms gony</td><td>2.1379310344827585</td><td>29</td></tr><tr><td>sm pollock</td><td>2.2</td><td>15</td></tr><tr><td>umar gul</td><td>2.3076923076923075</td><td>13</td></tr><tr><td>harmeet singh</td><td>2.3333333333333335</td><td>6</td></tr><tr><td>sp jackson</td><td>2.4</td><td>5</td></tr><tr><td>sn khan</td><td>2.5789473684210527</td><td>19</td></tr><tr><td>an ahmed</td><td>3.0</td><td>3</td></tr><tr><td>ba bhatt</td><td>3.0</td><td>2</td></tr><tr><td>shahid afridi</td><td>3.3333333333333335</td><td>6</td></tr><tr><td>rashid khan</td><td>6.0</td><td>1</td></tr></tbody></table></div>"
      ]
     },
     "metadata": {
      "application/vnd.databricks.v1+output": {
       "addedWidgets": {},
       "aggData": [],
       "aggError": "",
       "aggOverflow": false,
       "aggSchema": [],
       "aggSeriesLimitReached": false,
       "aggType": "",
       "arguments": {},
       "columnCustomDisplayInfos": {},
       "data": [
        [
         "anirudh singh",
         0.0,
         1
        ],
        [
         "sn thakur",
         0.0,
         2
        ],
        [
         "j theron",
         0.0,
         1
        ],
        [
         "vr aaron",
         0.0,
         5
        ],
        [
         "a nehra",
         0.0,
         2
        ],
        [
         "jj bumrah",
         0.0,
         2
        ],
        [
         "i sharma",
         0.0,
         1
        ],
        [
         "kp appanna",
         0.0,
         1
        ],
        [
         "ts mills",
         0.0,
         3
        ],
        [
         "t thushara",
         0.2,
         5
        ],
        [
         "sa abbott",
         0.25,
         4
        ],
        [
         "yashpal singh",
         0.3157894736842105,
         19
        ],
        [
         "s sreesanth",
         0.3333333333333333,
         3
        ],
        [
         "kc cariappa",
         0.3333333333333333,
         3
        ],
        [
         "jd unadkat",
         0.4,
         5
        ],
        [
         "sm harwood",
         0.42857142857142855,
         7
        ],
        [
         "washington sundar",
         0.5,
         8
        ],
        [
         "m de lange",
         0.5,
         2
        ],
        [
         "b kumar",
         0.5,
         10
        ],
        [
         "r shukla",
         0.5,
         2
        ],
        [
         "sandeep sharma",
         0.5,
         6
        ],
        [
         "jm kemp",
         0.5,
         8
        ],
        [
         "kuldeep yadav",
         0.5714285714285714,
         7
        ],
        [
         "rr rossouw",
         0.6086956521739131,
         23
        ],
        [
         "l balaji",
         0.6153846153846154,
         13
        ],
        [
         "ma starc",
         0.625,
         8
        ],
        [
         "wd parnell",
         0.631578947368421,
         19
        ],
        [
         "pp ojha",
         0.6666666666666666,
         6
        ],
        [
         "mohammad nabi",
         0.6666666666666666,
         3
        ],
        [
         "nm coulternile",
         0.6666666666666666,
         3
        ],
        [
         "wa mota",
         0.6774193548387096,
         31
        ],
        [
         "aa bilakhia",
         0.6829268292682927,
         41
        ],
        [
         "p dogra",
         0.7142857142857143,
         21
        ],
        [
         "m rawat",
         0.7272727272727273,
         11
        ],
        [
         "jds neesham",
         0.7272727272727273,
         11
        ],
        [
         "rt ponting",
         0.7407407407407407,
         54
        ],
        [
         "a kumble",
         0.75,
         4
        ],
        [
         "ms wade",
         0.75,
         4
        ],
        [
         "tm srivastava",
         0.7777777777777778,
         9
        ],
        [
         "c madan",
         0.7777777777777778,
         18
        ],
        [
         "sl malinga",
         0.7894736842105263,
         19
        ],
        [
         "mr marsh",
         0.8,
         40
        ],
        [
         "m muralitharan",
         0.8,
         5
        ],
        [
         "fh edwards",
         0.8,
         5
        ],
        [
         "z khan",
         0.8,
         5
        ],
        [
         "yv takawale",
         0.8070175438596491,
         57
        ],
        [
         "dj thornely",
         0.8125,
         48
        ],
        [
         "cr woakes",
         0.8148148148148148,
         27
        ],
        [
         "jdp oram",
         0.8541666666666666,
         48
        ],
        [
         "a chopra",
         0.8541666666666666,
         48
        ],
        [
         "mohammed shami",
         0.8571428571428571,
         7
        ],
        [
         "vishnu vinod",
         0.8571428571428571,
         14
        ],
        [
         "ss shaikh",
         0.8571428571428571,
         7
        ],
        [
         "cj ferguson",
         0.8780487804878049,
         41
        ],
        [
         "rr powar",
         0.8823529411764706,
         17
        ],
        [
         "ck kapugedera",
         0.8888888888888888,
         9
        ],
        [
         "sd chitnis",
         0.8947368421052632,
         38
        ],
        [
         "k goel",
         0.9032258064516129,
         62
        ],
        [
         "gh vihari",
         0.9090909090909091,
         220
        ],
        [
         "dt christian",
         0.9108910891089109,
         101
        ],
        [
         "s sriram",
         0.9310344827586207,
         29
        ],
        [
         "mm sharma",
         0.9375,
         16
        ],
        [
         "gr napier",
         0.9375,
         16
        ],
        [
         "c de grandhomme",
         0.9411764705882353,
         34
        ],
        [
         "sp goswami",
         0.95,
         120
        ],
        [
         "ab agarkar",
         0.9545454545454546,
         22
        ],
        [
         "ca pujara",
         0.956140350877193,
         228
        ],
        [
         "r mclaren",
         0.9571428571428572,
         70
        ],
        [
         "ag paunikar",
         0.96,
         25
        ],
        [
         "kb arun karthik",
         0.9615384615384616,
         26
        ],
        [
         "pa reddy",
         0.9618320610687023,
         131
        ],
        [
         "r ashwin",
         0.9625,
         80
        ],
        [
         "ad mascarenhas",
         0.972972972972973,
         37
        ],
        [
         "dl vettori",
         0.9767441860465116,
         43
        ],
        [
         "swapnil singh",
         1.0,
         2
        ],
        [
         "b sumanth",
         1.0,
         19
        ],
        [
         "t kohli",
         1.0,
         3
        ],
        [
         "s rana",
         1.0,
         16
        ],
        [
         "jaskaran singh",
         1.0,
         3
        ],
        [
         "sw tait",
         1.0,
         1
        ],
        [
         "s narwal",
         1.0,
         2
        ],
        [
         "d salunkhe",
         1.0,
         1
        ],
        [
         "rr sarwan",
         1.0,
         53
        ],
        [
         "ir jaggi",
         1.0,
         15
        ],
        [
         "rr raje",
         1.0,
         7
        ],
        [
         "jo holder",
         1.0,
         3
        ],
        [
         "bb sran",
         1.0,
         1
        ],
        [
         "m morkel",
         1.0,
         7
        ],
        [
         "ap dole",
         1.0,
         4
        ],
        [
         "gb hogg",
         1.0,
         5
        ],
        [
         "ishan kishan",
         1.0333333333333334,
         60
        ],
        [
         "mn samuels",
         1.036144578313253,
         83
        ],
        [
         "m klinger",
         1.0454545454545454,
         44
        ],
        [
         "misbahulhaq",
         1.0512820512820513,
         39
        ],
        [
         "jec franklin",
         1.0542168674698795,
         166
        ],
        [
         "db das",
         1.0555555555555556,
         36
        ],
        [
         "kv sharma",
         1.056338028169014,
         71
        ],
        [
         "ds lehmann",
         1.0625,
         16
        ],
        [
         "rj peterson",
         1.0714285714285714,
         28
        ],
        [
         "sb styris",
         1.0784313725490196,
         51
        ],
        [
         "ubt chand",
         1.0802919708029197,
         137
        ],
        [
         "cm gautam",
         1.0847457627118644,
         59
        ],
        [
         "bb samantray",
         1.09,
         100
        ],
        [
         "ad nath",
         1.0909090909090908,
         11
        ],
        [
         "ab barath",
         1.09375,
         32
        ],
        [
         "nk patel",
         1.0952380952380953,
         42
        ],
        [
         "m manhas",
         1.0986842105263157,
         152
        ],
        [
         "s gopal",
         1.1,
         10
        ],
        [
         "rs bopara",
         1.104,
         125
        ],
        [
         "n saini",
         1.108433734939759,
         83
        ],
        [
         "br dunk",
         1.1111111111111112,
         18
        ],
        [
         "vvs laxman",
         1.1142857142857143,
         70
        ],
        [
         "jh kallis",
         1.115036976170912,
         1217
        ],
        [
         "w jaffer",
         1.12,
         50
        ],
        [
         "r dhawan",
         1.1228070175438596,
         57
        ],
        [
         "sk warne",
         1.123076923076923,
         65
        ],
        [
         "mohammad hafeez",
         1.125,
         16
        ],
        [
         "sachin baby",
         1.125,
         40
        ],
        [
         "salman butt",
         1.1343283582089552,
         67
        ],
        [
         "r dravid",
         1.1356993736951984,
         958
        ],
        [
         "y nagar",
         1.1379310344827587,
         87
        ],
        [
         "m kaif",
         1.1412429378531073,
         177
        ],
        [
         "ms bisla",
         1.1415094339622642,
         318
        ],
        [
         "y venugopal rao",
         1.1418439716312057,
         141
        ],
        [
         "nj maddinson",
         1.1428571428571428,
         14
        ],
        [
         "ut khawaja",
         1.144927536231884,
         69
        ],
        [
         "djg sammy",
         1.1466666666666667,
         75
        ],
        [
         "s sohal",
         1.150259067357513,
         193
        ],
        [
         "iqbal abdulla",
         1.1515151515151516,
         33
        ],
        [
         "lr shukla",
         1.1568627450980393,
         102
        ],
        [
         "fy fazal",
         1.1610169491525424,
         118
        ],
        [
         "hh gibbs",
         1.1615384615384616,
         390
        ],
        [
         "mj guptill",
         1.1647058823529413,
         85
        ],
        [
         "mdkj perera",
         1.1666666666666667,
         12
        ],
        [
         "mg johnson",
         1.1688311688311688,
         77
        ],
        [
         "pa patel",
         1.1779816513761467,
         1090
        ],
        [
         "al menaria",
         1.1805555555555556,
         144
        ],
        [
         "gc smith",
         1.189753320683112,
         527
        ],
        [
         "am nayar",
         1.1911764705882353,
         136
        ],
        [
         "t taibu",
         1.1923076923076923,
         26
        ],
        [
         "rj quiney",
         1.196078431372549,
         51
        ],
        [
         "a mithun",
         1.2,
         5
        ],
        [
         "wpujc vaas",
         1.2,
         35
        ],
        [
         "tr birt",
         1.2,
         20
        ],
        [
         "dm bravo",
         1.2,
         5
        ],
        [
         "ik pathan",
         1.2043343653250773,
         323
        ],
        [
         "cl white",
         1.2116788321167884,
         274
        ],
        [
         "tm dilshan",
         1.212962962962963,
         648
        ],
        [
         "re van der merwe",
         1.2131147540983607,
         61
        ],
        [
         "dj hussey",
         1.2234513274336283,
         452
        ],
        [
         "re levi",
         1.2238805970149254,
         67
        ],
        [
         "s badrinath",
         1.2274011299435028,
         708
        ],
        [
         "ss tiwary",
         1.2280071813285458,
         557
        ],
        [
         "mp stoinis",
         1.2285714285714286,
         70
        ],
        [
         "mk tiwary",
         1.2296296296296296,
         675
        ],
        [
         "sv samson",
         1.232258064516129,
         620
        ],
        [
         "sc ganguly",
         1.2327272727272727,
         550
        ],
        [
         "sr tendulkar",
         1.2358258011503698,
         1217
        ],
        [
         "lrpl taylor",
         1.2375366568914956,
         341
        ],
        [
         "dw steyn",
         1.2380952380952381,
         21
        ],
        [
         "f du plessis",
         1.2434108527131782,
         645
        ],
        [
         "md mishra",
         1.2439024390243902,
         123
        ],
        [
         "am rahane",
         1.246719160104987,
         1524
        ],
        [
         "kc sangakkara",
         1.2490322580645161,
         775
        ],
        [
         "s dhawan",
         1.2491803278688525,
         1525
        ],
        [
         "c munro",
         1.25,
         8
        ],
        [
         "rv gomez",
         1.25,
         12
        ],
        [
         "dj jacobs",
         1.25,
         52
        ],
        [
         "sk trivedi",
         1.25,
         8
        ],
        [
         "mk pandey",
         1.250251256281407,
         995
        ],
        [
         "q de kock",
         1.2554112554112553,
         231
        ],
        [
         "g gambhir",
         1.2598743267504489,
         2228
        ],
        [
         "r sharma",
         1.263157894736842,
         19
        ],
        [
         "r vinay kumar",
         1.263157894736842,
         38
        ],
        [
         "nv ojha",
         1.2776801405975395,
         569
        ],
        [
         "rp singh",
         1.2857142857142858,
         7
        ],
        [
         "d wiese",
         1.2857142857142858,
         7
        ],
        [
         "r bishnoi",
         1.2857142857142858,
         14
        ],
        [
         "aa jhunjhunwala",
         1.2884615384615385,
         52
        ],
        [
         "p kumar",
         1.2884615384615385,
         52
        ],
        [
         "shakib al hasan",
         1.2908163265306123,
         196
        ],
        [
         "ma agarwal",
         1.29296875,
         256
        ],
        [
         "m vijay",
         1.2937956204379562,
         1096
        ],
        [
         "tl suman",
         1.295031055900621,
         322
        ],
        [
         "gurkeerat singh",
         1.2954545454545454,
         44
        ],
        [
         "hm amla",
         1.2966101694915255,
         118
        ],
        [
         "dpmd jayawardene",
         1.2982195845697329,
         674
        ],
        [
         "jp duminy",
         1.2984293193717278,
         573
        ],
        [
         "mc henriques",
         1.3011494252873563,
         435
        ],
        [
         "lmp simmons",
         1.3045602605863191,
         614
        ],
        [
         "sm katich",
         1.309090909090909,
         110
        ],
        [
         "ra jadeja",
         1.312829525483304,
         569
        ],
        [
         "sohail tanvir",
         1.3181818181818181,
         22
        ],
        [
         "mek hussey",
         1.322502030869212,
         1231
        ],
        [
         "kl rahul",
         1.325358851674641,
         209
        ],
        [
         "at rayudu",
         1.3313407344150299,
         1171
        ],
        [
         "n rana",
         1.3316582914572865,
         199
        ],
        [
         "r sathish",
         1.3333333333333333,
         93
        ],
        [
         "pankaj singh",
         1.3333333333333333,
         3
        ],
        [
         "b lee",
         1.3333333333333333,
         30
        ],
        [
         "mm patel",
         1.3333333333333333,
         3
        ],
        [
         "str binny",
         1.337837837837838,
         222
        ],
        [
         "mandeep singh",
         1.3386773547094188,
         499
        ],
        [
         "la carseldine",
         1.3404255319148937,
         47
        ],
        [
         "jd ryder",
         1.3443396226415094,
         212
        ],
        [
         "ml hayden",
         1.3457943925233644,
         535
        ],
        [
         "kd karthik",
         1.3493493493493494,
         999
        ],
        [
         "j botha",
         1.3535911602209945,
         181
        ],
        [
         "b chipli",
         1.3571428571428572,
         70
        ],
        [
         "se marsh",
         1.3581780538302277,
         966
        ],
        [
         "kk nair",
         1.3612774451097804,
         501
        ],
        [
         "rg sharma",
         1.3657482441923285,
         1851
        ],
        [
         "gj bailey",
         1.3692307692307693,
         195
        ],
        [
         "yuvraj singh",
         1.3751600512163893,
         781
        ],
        [
         "v kohli",
         1.3827667057444315,
         1706
        ],
        [
         "j syed mohammad",
         1.3846153846153846,
         13
        ],
        [
         "sa asnodkar",
         1.3872549019607843,
         204
        ],
        [
         "bb mccullum",
         1.3884034948371724,
         1259
        ],
        [
         "ks williamson",
         1.39,
         200
        ],
        [
         "a symonds",
         1.3905817174515236,
         361
        ],
        [
         "v shankar",
         1.3928571428571428,
         56
        ],
        [
         "mv boucher",
         1.3936170212765957,
         94
        ],
        [
         "rv uthappa",
         1.3964886613021215,
         1367
        ],
        [
         "ss iyer",
         1.4,
         330
        ],
        [
         "r bhatia",
         1.4,
         50
        ],
        [
         "s anirudha",
         1.4022988505747127,
         87
        ],
        [
         "dr smith",
         1.4073059360730593,
         1095
        ],
        [
         "db ravi teja",
         1.408450704225352,
         71
        ],
        [
         "m kartik",
         1.4090909090909092,
         22
        ],
        [
         "wp saha",
         1.41010101010101,
         495
        ],
        [
         "ejg morgan",
         1.4115226337448559,
         243
        ],
        [
         "ar patel",
         1.412121212121212,
         165
        ],
        [
         "nltc perera",
         1.4128440366972477,
         109
        ],
        [
         "sk raina",
         1.4242723236309818,
         2027
        ],
        [
         "sa yadav",
         1.4272300469483568,
         213
        ],
        [
         "hv patel",
         1.4285714285714286,
         7
        ],
        [
         "a ashish reddy",
         1.435897435897436,
         78
        ],
        [
         "bj hodge",
         1.4373576309794989,
         439
        ],
        [
         "bj rohrer",
         1.4375,
         16
        ],
        [
         "dj bravo",
         1.4395886889460154,
         389
        ],
        [
         "ra tripathi",
         1.4423076923076923,
         208
        ],
        [
         "azhar mahmood",
         1.4444444444444444,
         162
        ],
        [
         "kamran akmal",
         1.4492753623188406,
         69
        ],
        [
         "as raut",
         1.45,
         40
        ],
        [
         "dh yagnik",
         1.45,
         40
        ],
        [
         "spd smith",
         1.45010183299389,
         491
        ],
        [
         "pc valthaty",
         1.4522821576763485,
         241
        ],
        [
         "tm head",
         1.4545454545454546,
         33
        ],
        [
         "s chanderpaul",
         1.4545454545454546,
         11
        ],
        [
         "pd collingwood",
         1.4545454545454546,
         99
        ],
        [
         "m vohra",
         1.4548286604361371,
         321
        ],
        [
         "rj harris",
         1.4583333333333333,
         24
        ],
        [
         "ab mcdonald",
         1.4583333333333333,
         48
        ],
        [
         "ba stokes",
         1.4609929078014185,
         141
        ],
        [
         "aj finch",
         1.4744525547445255,
         548
        ],
        [
         "kp pietersen",
         1.4829545454545454,
         352
        ],
        [
         "jr hopes",
         1.4835164835164836,
         91
        ],
        [
         "la pomersbach",
         1.4850746268656716,
         134
        ],
        [
         "sp fleming",
         1.4918032786885247,
         61
        ],
        [
         "pp chawla",
         1.4932432432432432,
         148
        ],
        [
         "ms dhoni",
         1.4942837928715536,
         1487
        ],
        [
         "sw billings",
         1.4943820224719102,
         89
        ],
        [
         "ut yadav",
         1.5,
         6
        ],
        [
         "shoaib malik",
         1.5,
         4
        ],
        [
         "sj srivastava",
         1.5,
         2
        ],
        [
         "b akhil",
         1.5,
         30
        ],
        [
         "r rampaul",
         1.5,
         8
        ],
        [
         "sr watson",
         1.5038022813688212,
         1052
        ],
        [
         "rn ten doeschate",
         1.5056179775280898,
         89
        ],
        [
         "oa shah",
         1.5130434782608695,
         115
        ],
        [
         "ad mathews",
         1.5333333333333334,
         135
        ],
        [
         "km jadhav",
         1.5459770114942528,
         174
        ],
        [
         "ac gilchrist",
         1.546195652173913,
         736
        ],
        [
         "kh pandya",
         1.5567567567567568,
         185
        ],
        [
         "da miller",
         1.5568760611205432,
         589
        ],
        [
         "ap tare",
         1.5596330275229358,
         109
        ],
        [
         "yk pathan",
         1.5617173524150267,
         1118
        ],
        [
         "da warner",
         1.562062380649268,
         1571
        ],
        [
         "a mishra",
         1.5625,
         64
        ],
        [
         "sunny singh",
         1.5625,
         16
        ],
        [
         "ac voges",
         1.5692307692307692,
         65
        ],
        [
         "ka pollard",
         1.5715800636267232,
         943
        ],
        [
         "s vidyut",
         1.588235294117647,
         34
        ],
        [
         "ac blizzard",
         1.5932203389830508,
         59
        ],
        [
         "ab de villiers",
         1.6052227342549923,
         1302
        ],
        [
         "mf maharoof",
         1.606060606060606,
         33
        ],
        [
         "harbhajan singh",
         1.6136363636363635,
         176
        ],
        [
         "mj lumb",
         1.621212121212121,
         132
        ],
        [
         "sb jakati",
         1.625,
         8
        ],
        [
         "jp faulkner",
         1.625,
         136
        ],
        [
         "jc buttler",
         1.641350210970464,
         237
        ],
        [
         "ch gayle",
         1.6428571428571428,
         1442
        ],
        [
         "dj hooda",
         1.644736842105263,
         152
        ],
        [
         "st jayasuriya",
         1.6453900709219857,
         282
        ],
        [
         "p negi",
         1.6585365853658536,
         41
        ],
        [
         "ja morkel",
         1.6650717703349283,
         209
        ],
        [
         "j suchith",
         1.6666666666666667,
         6
        ],
        [
         "rr pant",
         1.6869158878504673,
         214
        ],
        [
         "cj anderson",
         1.6896551724137931,
         145
        ],
        [
         "v sehwag",
         1.6907894736842106,
         1064
        ],
        [
         "a flintoff",
         1.6923076923076923,
         13
        ],
        [
         "hh pandya",
         1.695364238410596,
         151
        ],
        [
         "ad russell",
         1.7142857142857142,
         147
        ],
        [
         "tg southee",
         1.75,
         4
        ],
        [
         "bipul sharma",
         1.775,
         40
        ],
        [
         "auk pathan",
         1.7777777777777777,
         9
        ],
        [
         "kk cooper",
         1.8148148148148149,
         27
        ],
        [
         "lj wright",
         1.8181818181818181,
         22
        ],
        [
         "ca lynn",
         1.8376068376068375,
         117
        ],
        [
         "sp narine",
         1.8522727272727273,
         88
        ],
        [
         "gj maxwell",
         1.8548387096774193,
         434
        ],
        [
         "r tewatia",
         1.875,
         8
        ],
        [
         "pj cummins",
         1.88,
         25
        ],
        [
         "bcj cutting",
         1.934782608695652,
         46
        ],
        [
         "ch morris",
         1.9607843137254901,
         51
        ],
        [
         "cr brathwaite",
         1.9642857142857142,
         28
        ],
        [
         "mj mcclenaghan",
         2.0,
         11
        ],
        [
         "shivam sharma",
         2.0,
         2
        ],
        [
         "pr shah",
         2.0,
         4
        ],
        [
         "vrv singh",
         2.0,
         2
        ],
        [
         "ds kulkarni",
         2.0,
         3
        ],
        [
         "rs sodhi",
         2.0,
         2
        ],
        [
         "ms gony",
         2.1379310344827585,
         29
        ],
        [
         "sm pollock",
         2.2,
         15
        ],
        [
         "umar gul",
         2.3076923076923075,
         13
        ],
        [
         "harmeet singh",
         2.3333333333333335,
         6
        ],
        [
         "sp jackson",
         2.4,
         5
        ],
        [
         "sn khan",
         2.5789473684210527,
         19
        ],
        [
         "an ahmed",
         3.0,
         3
        ],
        [
         "ba bhatt",
         3.0,
         2
        ],
        [
         "shahid afridi",
         3.3333333333333335,
         6
        ],
        [
         "rashid khan",
         6.0,
         1
        ]
       ],
       "datasetInfos": [],
       "dbfsResultPath": null,
       "isJsonSchema": true,
       "metadata": {},
       "overflow": false,
       "plotOptions": {
        "customPlotOptions": {},
        "displayType": "table",
        "pivotAggregation": null,
        "pivotColumns": null,
        "xColumns": null,
        "yColumns": null
       },
       "removedWidgets": [],
       "schema": [
        {
         "metadata": "{}",
         "name": "player_name",
         "type": "\"string\""
        },
        {
         "metadata": "{}",
         "name": "avg_runs_in_wins",
         "type": "\"double\""
        },
        {
         "metadata": "{}",
         "name": "innings_played",
         "type": "\"long\""
        }
       ],
       "type": "table"
      }
     },
     "output_type": "display_data"
    }
   ],
   "source": [
    "%sql\n",
    "---average_runs_in_wins\n",
    "SELECT \n",
    "    p.player_name, \n",
    "    AVG(b.runs_scored) AS avg_runs_in_wins, \n",
    "    COUNT(*) AS innings_played\n",
    "FROM \n",
    "    IPL_DATA_Warehouse.ball_by_ball b\n",
    "JOIN \n",
    "    IPL_DATA_Warehouse.player_match pm ON b.match_id = pm.match_id AND b.striker = pm.player_id\n",
    "JOIN \n",
    "    IPL_DATA_Warehouse.player p ON pm.player_id = p.player_id\n",
    "JOIN \n",
    "    IPL_DATA_Warehouse.match m ON pm.match_id = m.match_id\n",
    "WHERE \n",
    "    m.match_winner = pm.player_team\n",
    "GROUP BY \n",
    "    p.player_name\n",
    "ORDER BY \n",
    "    avg_runs_in_wins ASC;\n"
   ]
  }
 ],
 "metadata": {
  "application/vnd.databricks.v1+notebook": {
   "dashboards": [],
   "environmentMetadata": null,
   "language": "python",
   "notebookMetadata": {
    "mostRecentlyExecutedCommandWithImplicitDF": {
     "commandId": 3332102733560867,
     "dataframes": [
      "_sqldf"
     ]
    },
    "pythonIndentUnit": 4
   },
   "notebookName": "IPL_DATA_ANALYSIS",
   "widgets": {}
  }
 },
 "nbformat": 4,
 "nbformat_minor": 0
}
